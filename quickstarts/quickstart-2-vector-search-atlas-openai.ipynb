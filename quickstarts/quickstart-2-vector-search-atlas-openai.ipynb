{
  "cells": [
    {
      "cell_type": "markdown",
      "metadata": {
        "id": "RGqoVBVvyQBy"
      },
      "source": [
        "[![Open In Colab](https://colab.research.google.com/assets/colab-badge.svg)](https://colab.research.google.com/github/sujee/mongodb-atlas-vector-search/blob/main/quickstarts/quickstart-2-vector-search-atlas-openai.ipynb)\n",
        "\n",
        "# Lab: Vector Search on Mongo Atlas Using OpenAI Embeddings\n",
        "\n",
        "\n",
        "This is a companion notebook for this [TODO - Quick start guide](#)\n",
        "It will demonstrate the following:\n",
        "\n",
        "- 👉 Creating a vector index on Atlas\n",
        "- 👉 Performing vector search using OpenAI embeddings\n",
        "\n",
        "\n",
        "### What you need to run this notebook\n",
        "\n",
        "- a (free) MongoDB Atlas Account\n",
        "- An Atlas instance running in the cloud with sample data loaded\n",
        "- and connection credentials\n",
        "- OpenAI API key (optional, see below)\n",
        "\n",
        "Follow this [TODO quick start guide](#) to set this up before proceeding.\n",
        "\n",
        "### How to run\n",
        "\n",
        "This notebook can be run on Google Colab and stand alone python development environments.  Click here to run on colab.\n",
        "\n",
        "[![Open In Colab](https://colab.research.google.com/assets/colab-badge.svg)](https://colab.research.google.com/github/sujee/mongodb-atlas-vector-search/blob/main/quickstarts/quickstart-2-vector-search-atlas-openai.ipynb)\n",
        "\n",
        "\n",
        "References\n",
        "\n",
        "- https://cookbook.openai.com/examples/vector_databases/mongodb_atlas/semantic_search_using_mongodb_atlas_vector_search"
      ]
    },
    {
      "cell_type": "markdown",
      "metadata": {
        "id": "JmH5PnLA6U8e"
      },
      "source": [
        "## Big Picture\n",
        "\n",
        "\n",
        "![image missing](https://raw.githubusercontent.com/sujee/mongodb-atlas-vector-search/main/images/vector-search-1.png)"
      ]
    },
    {
      "cell_type": "markdown",
      "metadata": {
        "id": "Q3x_d4lCyQBz"
      },
      "source": [
        "## Step-1: Setup Atlas\n",
        "\n",
        "We will need to have Atlas setup.\n",
        "\n",
        "Follow [instructions here](https://github.com/sujee/mongodb-atlas-vector-search/blob/main/lab-1-atlas-setup/setup-atlas.md)\n",
        "\n",
        "Also the [TODO quick start guide](#) has more information."
      ]
    },
    {
      "cell_type": "markdown",
      "metadata": {
        "id": "MnG7h5jVyQB0"
      },
      "source": [
        "## Step-2: Create an Alas Index\n",
        "\n",
        "Refer to the [TODO quickstart guide](#) for more details\n",
        "\n",
        "Index name: `idx_plot_embedding`\n",
        "\n",
        "Index definition\n",
        "\n",
        "```json\n",
        "{\n",
        "  \"fields\": [\n",
        "    {\n",
        "      \"type\": \"vector\",\n",
        "      \"path\": \"plot_embedding\",\n",
        "      \"numDimensions\": 1536,\n",
        "      \"similarity\": \"dotProduct\"\n",
        "    }\n",
        "  ]\n",
        "}\n",
        "```\n",
        "\n"
      ]
    },
    {
      "cell_type": "markdown",
      "metadata": {
        "id": "dQ-I0MYkyQB0"
      },
      "source": [
        "## Step-3: Configuration\n",
        "\n",
        "We need the following settings\n",
        "- Atlas connection credentials\n",
        "- openAI API key\n",
        "\n",
        "**Note: we are keeping this very simple for the purpose of this quick start.  For production systems, consider using libraries like [python dotenv](https://pypi.org/project/python-dotenv/) to get configuration settings**"
      ]
    },
    {
      "cell_type": "code",
      "execution_count": 3,
      "metadata": {
        "id": "zS2OCRx_yQB0"
      },
      "outputs": [],
      "source": [
        "# We will keep all global variables in an object to not pollute the global namespace.\n",
        "class MyConfig(object):\n",
        "    pass\n",
        "\n",
        "MY_CONFIG = MyConfig()\n",
        "\n",
        "MY_CONFIG.ATLAS_URI = \"Enter your ATLAS URI string\"  ## TODO\n",
        "MY_CONFIG.OPENAI_API_KEY = \"Enter your OpenAI API key\"  ## TODO\n"
      ]
    },
    {
      "cell_type": "markdown",
      "metadata": {
        "id": "Vdjxt1YqyQB1"
      },
      "source": [
        "## Step-4: Install dependencies\n",
        "\n",
        "We will install required libraries."
      ]
    },
    {
      "cell_type": "code",
      "execution_count": 2,
      "metadata": {
        "colab": {
          "base_uri": "https://localhost:8080/"
        },
        "id": "QlfdidxiyQB1",
        "outputId": "ea641fe1-d489-4c60-b4d6-3ffe24a41329"
      },
      "outputs": [
        {
          "name": "stdout",
          "output_type": "stream",
          "text": [
            "Collecting openai==1.13.3\n",
            "  Downloading openai-1.13.3-py3-none-any.whl (227 kB)\n",
            "\u001b[2K     \u001b[90m━━━━━━━━━━━━━━━━━━━━━━━━━━━━━━━━━━━━━━━━\u001b[0m \u001b[32m227.4/227.4 kB\u001b[0m \u001b[31m3.8 MB/s\u001b[0m eta \u001b[36m0:00:00\u001b[0m\n",
            "\u001b[?25hCollecting pymongo==4.6.2\n",
            "  Downloading pymongo-4.6.2-cp310-cp310-manylinux_2_17_x86_64.manylinux2014_x86_64.whl (677 kB)\n",
            "\u001b[2K     \u001b[90m━━━━━━━━━━━━━━━━━━━━━━━━━━━━━━━━━━━━━━━━\u001b[0m \u001b[32m677.2/677.2 kB\u001b[0m \u001b[31m14.5 MB/s\u001b[0m eta \u001b[36m0:00:00\u001b[0m\n",
            "\u001b[?25hRequirement already satisfied: anyio<5,>=3.5.0 in /usr/local/lib/python3.10/dist-packages (from openai==1.13.3) (3.7.1)\n",
            "Requirement already satisfied: distro<2,>=1.7.0 in /usr/lib/python3/dist-packages (from openai==1.13.3) (1.7.0)\n",
            "Collecting httpx<1,>=0.23.0 (from openai==1.13.3)\n",
            "  Downloading httpx-0.27.0-py3-none-any.whl (75 kB)\n",
            "\u001b[2K     \u001b[90m━━━━━━━━━━━━━━━━━━━━━━━━━━━━━━━━━━━━━━━━\u001b[0m \u001b[32m75.6/75.6 kB\u001b[0m \u001b[31m10.7 MB/s\u001b[0m eta \u001b[36m0:00:00\u001b[0m\n",
            "\u001b[?25hRequirement already satisfied: pydantic<3,>=1.9.0 in /usr/local/lib/python3.10/dist-packages (from openai==1.13.3) (2.6.4)\n",
            "Requirement already satisfied: sniffio in /usr/local/lib/python3.10/dist-packages (from openai==1.13.3) (1.3.1)\n",
            "Requirement already satisfied: tqdm>4 in /usr/local/lib/python3.10/dist-packages (from openai==1.13.3) (4.66.2)\n",
            "Requirement already satisfied: typing-extensions<5,>=4.7 in /usr/local/lib/python3.10/dist-packages (from openai==1.13.3) (4.10.0)\n",
            "Collecting dnspython<3.0.0,>=1.16.0 (from pymongo==4.6.2)\n",
            "  Downloading dnspython-2.6.1-py3-none-any.whl (307 kB)\n",
            "\u001b[2K     \u001b[90m━━━━━━━━━━━━━━━━━━━━━━━━━━━━━━━━━━━━━━━━\u001b[0m \u001b[32m307.7/307.7 kB\u001b[0m \u001b[31m14.7 MB/s\u001b[0m eta \u001b[36m0:00:00\u001b[0m\n",
            "\u001b[?25hRequirement already satisfied: idna>=2.8 in /usr/local/lib/python3.10/dist-packages (from anyio<5,>=3.5.0->openai==1.13.3) (3.6)\n",
            "Requirement already satisfied: exceptiongroup in /usr/local/lib/python3.10/dist-packages (from anyio<5,>=3.5.0->openai==1.13.3) (1.2.0)\n",
            "Requirement already satisfied: certifi in /usr/local/lib/python3.10/dist-packages (from httpx<1,>=0.23.0->openai==1.13.3) (2024.2.2)\n",
            "Collecting httpcore==1.* (from httpx<1,>=0.23.0->openai==1.13.3)\n",
            "  Downloading httpcore-1.0.5-py3-none-any.whl (77 kB)\n",
            "\u001b[2K     \u001b[90m━━━━━━━━━━━━━━━━━━━━━━━━━━━━━━━━━━━━━━━━\u001b[0m \u001b[32m77.9/77.9 kB\u001b[0m \u001b[31m9.6 MB/s\u001b[0m eta \u001b[36m0:00:00\u001b[0m\n",
            "\u001b[?25hCollecting h11<0.15,>=0.13 (from httpcore==1.*->httpx<1,>=0.23.0->openai==1.13.3)\n",
            "  Downloading h11-0.14.0-py3-none-any.whl (58 kB)\n",
            "\u001b[2K     \u001b[90m━━━━━━━━━━━━━━━━━━━━━━━━━━━━━━━━━━━━━━━━\u001b[0m \u001b[32m58.3/58.3 kB\u001b[0m \u001b[31m6.8 MB/s\u001b[0m eta \u001b[36m0:00:00\u001b[0m\n",
            "\u001b[?25hRequirement already satisfied: annotated-types>=0.4.0 in /usr/local/lib/python3.10/dist-packages (from pydantic<3,>=1.9.0->openai==1.13.3) (0.6.0)\n",
            "Requirement already satisfied: pydantic-core==2.16.3 in /usr/local/lib/python3.10/dist-packages (from pydantic<3,>=1.9.0->openai==1.13.3) (2.16.3)\n",
            "Installing collected packages: h11, dnspython, pymongo, httpcore, httpx, openai\n",
            "Successfully installed dnspython-2.6.1 h11-0.14.0 httpcore-1.0.5 httpx-0.27.0 openai-1.13.3 pymongo-4.6.2\n"
          ]
        }
      ],
      "source": [
        "!pip install \\\n",
        "                openai==1.13.3 \\\n",
        "                pymongo==4.6.2"
      ]
    },
    {
      "cell_type": "markdown",
      "metadata": {
        "id": "qZzS8Th2yQB2"
      },
      "source": [
        "## Step-5: AtlasClient and OpenAIClient\n",
        "\n",
        "Here are couple of handy classes.\n",
        "\n",
        "For full implementation see here:\n",
        "\n",
        "- [AtlasClient.py](https://github.com/sujee/mongodb-atlas-vector-search/blob/main/AtlasClient.py) - a handy class to interact with Atlas\n",
        "- [OpenAIClient.py](https://github.com/sujee/mongodb-atlas-vector-search/blob/main/OpenAIClient.py) - a handy class to intereact with openAI"
      ]
    },
    {
      "cell_type": "code",
      "execution_count": 4,
      "metadata": {
        "id": "2xtu_fh_yQB2"
      },
      "outputs": [],
      "source": [
        "from pymongo import MongoClient\n",
        "\n",
        "class AtlasClient ():\n",
        "\n",
        "    def __init__ (self, altas_uri, dbname):\n",
        "        self.mongodb_client = MongoClient(altas_uri)\n",
        "        self.database = self.mongodb_client[dbname]\n",
        "\n",
        "    ## A quick way to test if we can connect to Atlas instance\n",
        "    def ping (self):\n",
        "        self.mongodb_client.admin.command('ping')\n",
        "\n",
        "    def get_collection (self, collection_name):\n",
        "        collection = self.database[collection_name]\n",
        "        return collection\n",
        "\n",
        "    def find (self, collection_name, filter = {}, limit=10):\n",
        "        collection = self.database[collection_name]\n",
        "        items = list(collection.find(filter=filter, limit=limit))\n",
        "        return items\n",
        "\n",
        "    # https://www.mongodb.com/docs/atlas/atlas-vector-search/vector-search-stage/\n",
        "    def vector_search(self, collection_name, index_name, attr_name, embedding_vector, limit=5):\n",
        "        collection = self.database[collection_name]\n",
        "        results = collection.aggregate([\n",
        "            {\n",
        "                '$vectorSearch': {\n",
        "                    \"index\": index_name,\n",
        "                    \"path\": attr_name,\n",
        "                    \"queryVector\": embedding_vector,\n",
        "                    \"numCandidates\": 50,\n",
        "                    \"limit\": limit,\n",
        "                }\n",
        "            },\n",
        "            ## We are extracting 'vectorSearchScore' here\n",
        "            ## columns with 1 are included, columns with 0 are excluded\n",
        "            {\n",
        "                \"$project\": {\n",
        "                    '_id' : 1,\n",
        "                    'title' : 1,\n",
        "                    'plot' : 1,\n",
        "                    'year' : 1,\n",
        "                    \"search_score\": { \"$meta\": \"vectorSearchScore\" }\n",
        "            }\n",
        "            }\n",
        "            ])\n",
        "        return list(results)\n",
        "\n",
        "    def close_connection(self):\n",
        "        self.mongodb_client.close()\n"
      ]
    },
    {
      "cell_type": "code",
      "execution_count": 5,
      "metadata": {
        "id": "HZ_8ZEe1yQB3"
      },
      "outputs": [],
      "source": [
        "from openai import OpenAI\n",
        "\n",
        "class OpenAIClient():\n",
        "    def __init__(self, api_key) -> None:\n",
        "        self.client = OpenAI(\n",
        "            api_key= api_key,  # defaults to os.environ.get(\"OPENAI_API_KEY\")\n",
        "        )\n",
        "        # print (\"OpenAI Client initialized!\")\n",
        "\n",
        "\n",
        "    def chat (self, messages, model=\"gpt-3.5-turbo\"):\n",
        "        chat_completion = self.client.chat.completions.create(\n",
        "                        messages=messages, model=model,)\n",
        "        return chat_completion\n",
        "\n",
        "    def get_embedding(self, text: str,  model=\"text-embedding-ada-002\") -> list[float]:\n",
        "        text = text.replace(\"\\n\", \" \")\n",
        "        resp = self.client.embeddings.create (\n",
        "            input=[text],\n",
        "            model=model  )\n",
        "\n",
        "        return resp.data[0].embedding"
      ]
    },
    {
      "cell_type": "markdown",
      "metadata": {
        "id": "KEMJLBy9yQB3"
      },
      "source": [
        "## Step-6: Connect to Atals\n",
        "\n",
        "See if we can connect to our Atlas cloud instance.\n",
        "\n",
        "If this step fails, make sure 'connect from anywhere' is enabled on your Atlas network configuration (See [TODO quickstart guide](#))\n"
      ]
    },
    {
      "cell_type": "code",
      "execution_count": 6,
      "metadata": {
        "id": "S8BfuErXyQB3"
      },
      "outputs": [],
      "source": [
        "MY_CONFIG.DB_NAME = 'sample_mflix'\n",
        "MY_CONFIG.COLLECTION_NAME = 'embedded_movies'\n",
        "MY_CONFIG.INDEX_NAME = 'idx_plot_embedding'"
      ]
    },
    {
      "cell_type": "code",
      "execution_count": 7,
      "metadata": {
        "colab": {
          "base_uri": "https://localhost:8080/"
        },
        "id": "NZAdDhWiyQB3",
        "outputId": "81d4eff6-2d77-40f0-c368-65335a101d38"
      },
      "outputs": [
        {
          "name": "stdout",
          "output_type": "stream",
          "text": [
            "Connected to Atlas instance! We are good to go!\n"
          ]
        }
      ],
      "source": [
        "atlas_client = AtlasClient (MY_CONFIG.ATLAS_URI, MY_CONFIG.DB_NAME)\n",
        "atlas_client.ping()\n",
        "print ('Connected to Atlas instance! We are good to go!')"
      ]
    },
    {
      "cell_type": "markdown",
      "metadata": {
        "id": "EpgkcKtEyQB4"
      },
      "source": [
        "## Step-7: Initialize OpenAI Client"
      ]
    },
    {
      "cell_type": "code",
      "execution_count": 8,
      "metadata": {
        "colab": {
          "base_uri": "https://localhost:8080/"
        },
        "id": "xhpnA9UhyQB4",
        "outputId": "e092b95c-dbfa-48be-cbf6-0cef669de31f"
      },
      "outputs": [
        {
          "name": "stdout",
          "output_type": "stream",
          "text": [
            "OpenAI client initialized\n"
          ]
        }
      ],
      "source": [
        "openAI_client = OpenAIClient (api_key=MY_CONFIG.OPENAI_API_KEY)\n",
        "print (\"OpenAI client initialized\")"
      ]
    },
    {
      "cell_type": "markdown",
      "metadata": {
        "id": "wzPOU3mHyQB5"
      },
      "source": [
        "## Step-8: Do a Vector Search\n",
        "\n",
        "Now that we have every thing setup, this is the fun part!\n",
        "\n",
        "We are going to query movies, not just on plot keywords but 'meaning'.\n",
        "\n",
        "See the examples below.  And try your own!\n",
        "\n",
        "The process is as follows:\n",
        "\n",
        "- convert query into embeddings (using OpenAI API)\n",
        "- send the embeddings to Atlas and get results\n",
        "\n",
        "### Note the Score\n",
        "\n",
        "IN addition to movie attributes (title, year, plot ..etc) We are also dislaying `search_score`.  This is a meta attribute - not really part of movies collection, but generated as a result of vector search.\n",
        "\n",
        "This is a number between 0 and 1.  Closer to 1 values represent 'better match'.  And the results are sorted from best match down (closer to 1 first)\n",
        "\n",
        "[You can read more about search score here](https://www.mongodb.com/docs/atlas/atlas-vector-search/vector-search-stage/#atlas-vector-search-score)\n",
        "\n",
        "\n",
        "### Troubleshooting\n",
        "\n",
        "#### No search results?\n",
        "\n",
        "Make sure the vector search index is defined and active! (Step-2)"
      ]
    },
    {
      "cell_type": "code",
      "execution_count": 9,
      "metadata": {
        "id": "v1fwfCEByQB5"
      },
      "outputs": [],
      "source": [
        "import time\n",
        "\n",
        "# Handy function\n",
        "def do_vector_search (query:str) -> None:\n",
        "    # cleanup query\n",
        "    query = query.lower().strip()\n",
        "    print ('query: ', query)\n",
        "\n",
        "    # use openAI API to get embeddings for query text\n",
        "    t1a = time.perf_counter()\n",
        "    embedding = openAI_client.get_embedding(query)\n",
        "    t1b = time.perf_counter()\n",
        "    print (f\"Getting embeddings from OpenAI took {(t1b-t1a)*1000:,.0f} ms\")\n",
        "\n",
        "    # And use the returned embeddings to perform vector search in Atlas\n",
        "    t2a = time.perf_counter()\n",
        "    movies = atlas_client.vector_search(collection_name=MY_CONFIG.COLLECTION_NAME, index_name=MY_CONFIG.INDEX_NAME, attr_name='plot_embedding', embedding_vector=embedding,limit=10 )\n",
        "    t2b = time.perf_counter()\n",
        "\n",
        "    # print out the results\n",
        "    print (f\"Altas query returned {len (movies)} movies in {(t2b-t2a)*1000:,.0f} ms\")\n",
        "    print()\n",
        "\n",
        "    for idx, movie in enumerate (movies):\n",
        "        print(f'{idx+1}\\nid: {movie[\"_id\"]}\\ntitle: {movie[\"title\"]},\\nyear: {movie[\"year\"]}' +\n",
        "            f'\\nsearch_score(meta):{movie[\"search_score\"]}\\nplot: {movie[\"plot\"]}\\n')"
      ]
    },
    {
      "cell_type": "code",
      "execution_count": 10,
      "metadata": {
        "colab": {
          "base_uri": "https://localhost:8080/"
        },
        "id": "3xWw_FZ0yQB5",
        "outputId": "6cc3742e-4fa2-468e-a610-90497316f8f9"
      },
      "outputs": [
        {
          "name": "stdout",
          "output_type": "stream",
          "text": [
            "query:  humans fighting aliens\n",
            "Getting embeddings from OpenAI took 430 ms\n",
            "Altas query returned 10 movies in 474 ms\n",
            "\n",
            "1\n",
            "id: 573a1398f29313caabce8f83\n",
            "title: V: The Final Battle,\n",
            "year: 1984\n",
            "search_score(meta):0.9573380947113037\n",
            "plot: A small group of human resistance fighters fight a desperate guerilla war against the genocidal extra-terrestrials who dominate Earth.\n",
            "\n",
            "2\n",
            "id: 573a13c7f29313caabd75324\n",
            "title: Falling Skies,\n",
            "year: 2011è\n",
            "search_score(meta):0.955032467842102\n",
            "plot: Survivors of an alien attack on earth gather together to fight for their lives and fight back.\n",
            "\n",
            "3\n",
            "id: 573a139af29313caabcf0cff\n",
            "title: Starship Troopers,\n",
            "year: 1997\n",
            "search_score(meta):0.952342689037323\n",
            "plot: Humans in a fascistic, militaristic future do battle with giant alien bugs in a fight for survival.\n",
            "\n",
            "4\n",
            "id: 573a139ff29313caabd000f6\n",
            "title: Battlefield Earth,\n",
            "year: 2000\n",
            "search_score(meta):0.9512579441070557\n",
            "plot: After enslavement & near extermination by an alien race in the year 3000, humanity begins to fight back.\n",
            "\n",
            "5\n",
            "id: 573a139af29313caabceffbf\n",
            "title: Independence Day,\n",
            "year: 1996\n",
            "search_score(meta):0.9497839212417603\n",
            "plot: The aliens are coming and their goal is to invade and destroy Earth. Fighting superior technology, mankind's best weapon is the will to survive.\n",
            "\n",
            "6\n",
            "id: 573a13b7f29313caabd49fe5\n",
            "title: Aliens vs. Predator: Requiem,\n",
            "year: 2007\n",
            "search_score(meta):0.9430510997772217\n",
            "plot: Warring alien and predator races descend on a small town, where unsuspecting residents must band together for any chance of survival.\n",
            "\n",
            "7\n",
            "id: 573a1398f29313caabce97bd\n",
            "title: Enemy Mine,\n",
            "year: 1985\n",
            "search_score(meta):0.9389371871948242\n",
            "plot: A soldier from Earth crash-lands on an alien world after sustaining battle damage. Eventually he encounters another survivor, but from the enemy species he was fighting; they band together ...\n",
            "\n",
            "8\n",
            "id: 573a13bff29313caabd5fcd1\n",
            "title: District 9,\n",
            "year: 2009\n",
            "search_score(meta):0.9382224082946777\n",
            "plot: An extraterrestrial race forced to live in slum-like conditions on Earth suddenly finds a kindred spirit in a government agent who is exposed to their biotechnology.\n",
            "\n",
            "9\n",
            "id: 573a1398f29313caabcea963\n",
            "title: Predator,\n",
            "year: 1987\n",
            "search_score(meta):0.9375231266021729\n",
            "plot: A team of commandos on a mission in a Central American jungle find themselves hunted by an extra-terrestrial warrior.\n",
            "\n",
            "10\n",
            "id: 573a13abf29313caabd24627\n",
            "title: Returner,\n",
            "year: 2002\n",
            "search_score(meta):0.9371716976165771\n",
            "plot: A young woman from the future forces a local gunman to help her stop an impending alien invasion which will wipe out the human race.\n",
            "\n"
          ]
        }
      ],
      "source": [
        "query=\"humans fighting aliens\"\n",
        "\n",
        "do_vector_search (query=query)"
      ]
    },
    {
      "cell_type": "code",
      "execution_count": 11,
      "metadata": {
        "colab": {
          "base_uri": "https://localhost:8080/"
        },
        "id": "PPRVraIgyQB5",
        "outputId": "74b1ff9d-3052-4b55-ae33-7d27b97a494a"
      },
      "outputs": [
        {
          "name": "stdout",
          "output_type": "stream",
          "text": [
            "query:  relationship drama between two good friends\n",
            "Getting embeddings from OpenAI took 432 ms\n",
            "Altas query returned 10 movies in 197 ms\n",
            "\n",
            "1\n",
            "id: 573a13a3f29313caabd0dfe2\n",
            "title: Dark Blue World,\n",
            "year: 2001\n",
            "search_score(meta):0.9380691051483154\n",
            "plot: The friendship of two men becomes tested when they both fall for the same woman.\n",
            "\n",
            "2\n",
            "id: 573a13a3f29313caabd0e14b\n",
            "title: Dark Blue World,\n",
            "year: 2001\n",
            "search_score(meta):0.9380691051483154\n",
            "plot: The friendship of two men becomes tested when they both fall for the same woman.\n",
            "\n",
            "3\n",
            "id: 573a1399f29313caabcec488\n",
            "title: Once a Thief,\n",
            "year: 1991\n",
            "search_score(meta):0.9260262250900269\n",
            "plot: A romantic and action packed story of three best friends, a group of high end art thieves, who come into trouble when a love-triangle forms between them.\n",
            "\n",
            "4\n",
            "id: 573a13b3f29313caabd3b197\n",
            "title: Hulchul,\n",
            "year: 2004\n",
            "search_score(meta):0.9249671697616577\n",
            "plot: A man and woman from feuding families each pretend to fall in love, as part of a revenge plot. Chaos ensues when their fake romance becomes a reality.\n",
            "\n",
            "5\n",
            "id: 573a13d0f29313caabd8b8d6\n",
            "title: Styria,\n",
            "year: 2014\n",
            "search_score(meta):0.9248532652854919\n",
            "plot: Depicts the intense and fractured relationship between a lonely teenager and a beautiful stranger.\n",
            "\n",
            "6\n",
            "id: 573a13b8f29313caabd4c351\n",
            "title: Exiled,\n",
            "year: 2006\n",
            "search_score(meta):0.9222780466079712\n",
            "plot: A friendship is formed between an ex-gangster, and two groups of hitmen - those who want to protect him and those who were sent to kill him.\n",
            "\n",
            "7\n",
            "id: 573a13b3f29313caabd3c69a\n",
            "title: Varalaaru,\n",
            "year: 2006\n",
            "search_score(meta):0.9209167957305908\n",
            "plot: Relationships become entangled in an emotional web.\n",
            "\n",
            "8\n",
            "id: 573a13b2f29313caabd3a2ff\n",
            "title: Harsh Times,\n",
            "year: 2005\n",
            "search_score(meta):0.9205710887908936\n",
            "plot: A tough-minded drama about two friends in South Central Los Angeles and the violence that comes between them.\n",
            "\n",
            "9\n",
            "id: 573a13c9f29313caabd79c6a\n",
            "title: Arya 2,\n",
            "year: 2009\n",
            "search_score(meta):0.920026421546936\n",
            "plot: An unstable and unpredictable male causes havoc for his 'best friend' and lover.\n",
            "\n",
            "10\n",
            "id: 573a1398f29313caabcea595\n",
            "title: China Girl,\n",
            "year: 1987\n",
            "search_score(meta):0.9181579351425171\n",
            "plot: A modern day Romeo & Juliet story is told in New York when an Italian boy and a Chinese girl become lovers, causing a tragic conflict between ethnic gangs.\n",
            "\n"
          ]
        }
      ],
      "source": [
        "query=\"relationship drama between two good friends\"\n",
        "\n",
        "do_vector_search (query=query)"
      ]
    },
    {
      "cell_type": "markdown",
      "metadata": {
        "id": "3SH07TS3yQB5"
      },
      "source": [
        "### Try your own searches!\n",
        "\n",
        "Update the query string to what ever you like, and run it.\n",
        "\n",
        "Remember, if you want to try different queries, than what we cached, you will need your OPENAI_API_KEY"
      ]
    },
    {
      "cell_type": "code",
      "execution_count": 12,
      "metadata": {
        "id": "4lwpriUSyQB6"
      },
      "outputs": [],
      "source": [
        "## TODO: enter your query here\n",
        "# query=\"technology gone wrong\"\n",
        "\n",
        "# do_vector_search (query=query)\n"
      ]
    },
    {
      "cell_type": "code",
      "execution_count": 13,
      "metadata": {
        "id": "VMsq4SWCyQB6"
      },
      "outputs": [],
      "source": [
        "## Close connection\n",
        "\n",
        "# atlas_client.close_connection()"
      ]
    }
  ],
  "metadata": {
    "colab": {
      "provenance": []
    },
    "kernelspec": {
      "display_name": "Python 3",
      "name": "python3"
    },
    "language_info": {
      "codemirror_mode": {
        "name": "ipython",
        "version": 3
      },
      "file_extension": ".py",
      "mimetype": "text/x-python",
      "name": "python",
      "nbconvert_exporter": "python",
      "pygments_lexer": "ipython3",
      "version": "3.11.8"
    }
  },
  "nbformat": 4,
  "nbformat_minor": 0
}
