{
  "cells": [
    {
      "cell_type": "markdown",
      "metadata": {
        "id": "ZGW_52CMTxB7"
      },
      "source": [
        "3![Open In Colab](https://colab.research.google.com/assets/colab-badge.svg)](https://colab.research.google.com/github/sujee/mongodb-atlas-vector-search/blob/main/lab-4-rag/rag-10k-b-query-open-embeddings-mistral-llm.ipynb)\n",
        "\n",
        "#  RAG 10k Query: Open Embeddings with Mistral LLM\n",
        "\n",
        "Here is the overall RAG pipeline.   In this notebook, we will do steps  (3), (4), (5), (6) and (7)\n",
        "\n",
        "- Steps 1 & 2: populating embeddings.  It is already done in this notebook [rag-10k-a-populate-embeddings-open.ipynb](https://github.com/sujee/mongodb-atlas-vector-search/blob/main/lab-4-rag/rag-10k-a-populate-embeddings-open.ipynb)\n",
        "- 👉 Step 3: Calculate embedding for user query\n",
        "- 👉 Steps 4 & 5: Send the query to Atlas to retrieve relevant documents\n",
        "- 👉 Steps 6 & 7 : Send the query and relevant documents (returned above step) to LLM and get answers to our query\n",
        "\n",
        "![image missing](https://raw.githubusercontent.com/sujee/mongodb-atlas-vector-search/main/images/rag-overview-3-mistral.png)\n",
        "\n",
        "### What you need to run this notebook\n",
        "\n",
        "- a (free) MongoDB Atlas Account\n",
        "- and connection credentials\n",
        "- a Mistral API Key\n",
        "\n",
        "### This lab depends on:\n",
        "\n",
        "- We assume we have processed PDF documents, calculated embeddings and loaded them into Atlas.  Refer to this notebook : [rag-10k-a-populate-embeddings-open.ipynb](https://github.com/sujee/mongodb-atlas-vector-search/blob/main/lab-4-rag/rag-10k-a-populate-embeddings-open.ipynb)\n",
        "\n",
        "### The Stack\n",
        "\n",
        "- Langugage : Python\n",
        "- Vector database: Atlas\n",
        "- Embedding Model: open source embedding model (runs locally)\n",
        "- LLM: Mistral (access via API)\n",
        "\n",
        "\n",
        "### How to run\n",
        "\n",
        "This notebook can be run on Google Colab and stand alone python development environments.  Click here to run on colab.\n",
        "\n",
        "[![Open In Colab](https://colab.research.google.com/assets/colab-badge.svg)](https://colab.research.google.com/github/sujee/mongodb-atlas-vector-search/blob/main/lab-4-rag/rag-10k-b-query-open-embeddings-mistral-llm.ipynb)\n",
        "\n"
      ]
    },
    {
      "cell_type": "markdown",
      "metadata": {
        "id": "WSyvFqhAbvHQ"
      },
      "source": [
        "## Step-1: Make sure documents is loaded in Atlas\n",
        "\n",
        "This is done in this notebook: [rag-10k-a-populate-embeddings-local.ipynb](https://github.com/sujee/mongodb-atlas-vector-search/blob/main/lab-4-rag/rag-10k-a-populate-embeddings-local.ipynb)\n",
        "\n",
        "Please complete this first."
      ]
    },
    {
      "cell_type": "markdown",
      "metadata": {
        "id": "q4lWoy_5cEA-"
      },
      "source": [
        "## Step-2: Configuration\n",
        "\n",
        "We will setup some common configurations here"
      ]
    },
    {
      "cell_type": "code",
      "execution_count": 1,
      "metadata": {
        "id": "XudGfn_YcGTX"
      },
      "outputs": [],
      "source": [
        "# We will keep all global variables in an object to not pollute the global namespace.\n",
        "class MyConfig(object):\n",
        "    pass\n",
        "\n",
        "MY_CONFIG = MyConfig()\n",
        "\n",
        "MY_CONFIG.DB_NAME = 'rag1'\n",
        "MY_CONFIG.COLLECTION_NAME = '10k_local'\n",
        "MY_CONFIG.EMBEDDING_ATTRIBUTE = 'embedding_local'\n",
        "MY_CONFIG.INDEX_NAME = 'idx_embedding_local'\n",
        "\n",
        "## Embedding settings\n",
        "## Option 1 : small model - about 133 MB size\n",
        "## Option 2 : large model - about 1.34 GB\n",
        "## See Step-12 for more details\n",
        "\n",
        "MY_CONFIG.EMBEDDING_MODEL = \"BAAI/bge-small-en-v1.5\"\n"
      ]
    },
    {
      "cell_type": "markdown",
      "metadata": {
        "id": "7_OK9xk-cKbF"
      },
      "source": [
        "## Step-3: Load Configuration\n",
        "\n",
        "We need to configure the following\n",
        "- Atlas connection credentials\n",
        "\n",
        "### Option 3A - If running on Colab\n",
        "\n",
        "- Click on 'Colab secrets' icon (🔑) on left pane, and crate the following secrets.\n",
        "   - `ATLAS_URI`\n",
        "   - `MISTRAL_API_KEY`\n",
        "-  Make sure the `notebook access` button is checked on for all\n",
        "- See screenshot below for example\n",
        "\n",
        "<!-- ![](../images/colab-secret-2.png) -->\n",
        "\n",
        "![](https://raw.githubusercontent.com/sujee/mongodb-atlas-vector-search/main/images/colab-secret-3.png)\n",
        "\n",
        "\n",
        "### Option 3B - If running on local python environment\n",
        "\n",
        "- setup your local python env following this [setup guide](https://github.com/sujee/mongodb-atlas-vector-search/blob/main/setup-python-env.md)\n",
        "- Create a file named `.env` in the same location as notebook\n",
        "- And add the following settings\n",
        "\n",
        "```text\n",
        "ATLAS_URI=mongodb+srv://<username>:<password>@sandbox.....\n",
        "MISTRAL_API_KEY=xyz\n",
        "```\n"
      ]
    },
    {
      "cell_type": "markdown",
      "metadata": {
        "id": "EzjYHYgNcRda"
      },
      "source": [
        "## Step-4: Determine Runtime Environment\n",
        "\n",
        "This code will figure out if we are running on Google Colab environment or local environment.  We use it to install relevant packages later."
      ]
    },
    {
      "cell_type": "code",
      "execution_count": 2,
      "metadata": {
        "colab": {
          "base_uri": "https://localhost:8080/"
        },
        "id": "tBbQhBKYcS2_",
        "outputId": "0985f42b-34ff-4021-a2a0-faaa087cf25d"
      },
      "outputs": [
        {
          "name": "stdout",
          "output_type": "stream",
          "text": [
            "NOT running in Colab\n"
          ]
        }
      ],
      "source": [
        "# are we running in Colab?\n",
        "import os\n",
        "\n",
        "if os.getenv(\"COLAB_RELEASE_TAG\"):\n",
        "    print(\"Running in Colab\")\n",
        "    MY_CONFIG.RUNNING_IN_COLAB = True\n",
        "else:\n",
        "    print(\"NOT running in Colab\")\n",
        "    MY_CONFIG.RUNNING_IN_COLAB = False"
      ]
    },
    {
      "cell_type": "markdown",
      "metadata": {
        "id": "Jn_sqd1KcWbu"
      },
      "source": [
        "## Step-5: Install dependencies (if necessary)\n",
        "\n",
        "We will install required libraries in cloud environments like Google Colab.  For local environments, we assume the dependencies are already setup."
      ]
    },
    {
      "cell_type": "code",
      "execution_count": 3,
      "metadata": {
        "colab": {
          "base_uri": "https://localhost:8080/"
        },
        "id": "A16KpOc8cYCI",
        "outputId": "2e11ac28-6d8f-4f79-973d-1a06353cb4fb"
      },
      "outputs": [],
      "source": [
        "if MY_CONFIG.RUNNING_IN_COLAB:\n",
        "    !pip install \\\n",
        "                pymongo==4.6.2 \\\n",
        "                llama-index \\\n",
        "                llama-index-embeddings-huggingface \\\n",
        "                llama-index-llms-mistralai \\\n",
        "                llama-index-vector-stores-mongodb \\\n",
        "                transformers==4.38.2 \\\n",
        "                torch==2.2.1"
      ]
    },
    {
      "cell_type": "markdown",
      "metadata": {
        "id": "sPAdHF6-TxB9"
      },
      "source": [
        "## Step-6: Basic Setup"
      ]
    },
    {
      "cell_type": "markdown",
      "metadata": {
        "id": "Lr7iMIRbchXG"
      },
      "source": [
        "### 6.1 - Check if we have GPU"
      ]
    },
    {
      "cell_type": "code",
      "execution_count": 4,
      "metadata": {
        "colab": {
          "base_uri": "https://localhost:8080/"
        },
        "id": "LC7YZN-6TxB9",
        "outputId": "07ae63ba-c7c6-47f7-8c7f-100c20701a1a"
      },
      "outputs": [
        {
          "name": "stdout",
          "output_type": "stream",
          "text": [
            "using CUDA/GPU:  True\n",
            "device  0 NVIDIA GeForce RTX 2070\n"
          ]
        }
      ],
      "source": [
        "## Check if GPU is enabled\n",
        "import os\n",
        "import torch\n",
        "\n",
        "## To disable GPU and experiment, uncomment the following line\n",
        "## Normally, you would want to use GPU, if one is available.\n",
        "# os.environ[\"CUDA_VISIBLE_DEVICES\"]=\"\"\n",
        "\n",
        "print (\"using CUDA/GPU: \", torch.cuda.is_available())\n",
        "\n",
        "for i in range(torch.cuda.device_count()):\n",
        "   print(\"device \", i , torch.cuda.get_device_properties(i).name)"
      ]
    },
    {
      "cell_type": "markdown",
      "metadata": {
        "id": "wzVQ6O5qclhV"
      },
      "source": [
        "### 6.2 - Logging"
      ]
    },
    {
      "cell_type": "code",
      "execution_count": 5,
      "metadata": {
        "id": "GNfn9TeHTxB_"
      },
      "outputs": [],
      "source": [
        "## Setup logging.  To see more loging set the level to DEBUG\n",
        "\n",
        "import sys\n",
        "import logging\n",
        "\n",
        "# logging.basicConfig(stream=sys.stdout, level=logging.DEBUG)\n",
        "logging.basicConfig(stream=sys.stdout, level=logging.WARN)\n",
        "logging.getLogger().addHandler(logging.StreamHandler(stream=sys.stdout))"
      ]
    },
    {
      "cell_type": "markdown",
      "metadata": {
        "id": "4Mgy9rGaTxB_"
      },
      "source": [
        "## Step-7: Load Configurations"
      ]
    },
    {
      "cell_type": "code",
      "execution_count": 6,
      "metadata": {
        "colab": {
          "base_uri": "https://localhost:8080/"
        },
        "id": "bo7jEvBfTxB_",
        "outputId": "95c0f665-876d-46ad-8c24-865bd87c6ac8"
      },
      "outputs": [
        {
          "name": "stdout",
          "output_type": "stream",
          "text": [
            "✅ config ATLAS_URI found\n",
            "✅ config MISTRAL_API_KEY found\n"
          ]
        }
      ],
      "source": [
        "## Load settings based on where we are running\n",
        "##  - if runninning on google Colab, load from secrets\n",
        "##  - if running locally use dotenv\n",
        "\n",
        "if MY_CONFIG.RUNNING_IN_COLAB:\n",
        "    from google.colab import userdata\n",
        "    MY_CONFIG.ATLAS_URI = userdata.get('ATLAS_URI')\n",
        "    MY_CONFIG.MISTRAL_API_KEY = userdata.get('MISTRAL_API_KEY')\n",
        "    # MY_CONFIG.OPENAI_API_KEY = userdata.get('OPENAI_API_KEY')\n",
        "else:\n",
        "    import os, sys\n",
        "    from dotenv import find_dotenv, dotenv_values\n",
        "\n",
        "    this_dir = os.path.abspath('')\n",
        "    parent_dir = os.path.dirname(this_dir)\n",
        "    sys.path.append (os.path.abspath (parent_dir))\n",
        "\n",
        "    config = dotenv_values(find_dotenv())\n",
        "    # debug\n",
        "    # print (config)\n",
        "    MY_CONFIG.ATLAS_URI = config.get('ATLAS_URI')\n",
        "    MY_CONFIG.MISTRAL_API_KEY = config.get(\"MISTRAL_API_KEY\")\n",
        "## --- end load config\n",
        "\n",
        "## If you just want to quickly set the config manually, you can do so here.\n",
        "# MY_CONFIG.ATLAS_URI = ''\n",
        "# MY_CONFIG.MISTRAL_API_KEY = ''\n",
        "\n",
        "if  MY_CONFIG.ATLAS_URI:\n",
        "    print (\"✅ config ATLAS_URI found\")\n",
        "else:\n",
        "    raise Exception (\"'❌ ATLAS_URI' is not set.  Please set it above to continue...\")\n",
        "\n",
        "\n",
        "if MY_CONFIG.MISTRAL_API_KEY:\n",
        "   print (\"✅ config MISTRAL_API_KEY found\")\n",
        "else:\n",
        "    raise Exception (\"❌'MISTRAL_API_KEY' is not set.  Please set it above to continue...\")"
      ]
    },
    {
      "cell_type": "markdown",
      "metadata": {
        "id": "VloMT8vzd0Va"
      },
      "source": [
        "## Step-8: Initialize Atlas Client\n",
        "\n",
        "If this step fails, make sure 'connect from anywhere' is enabled on your Atlas network configuration\n",
        "\n",
        "![](https://raw.githubusercontent.com/sujee/mongodb-atlas-vector-search/main/images/atlas-connect-2.png)"
      ]
    },
    {
      "cell_type": "code",
      "execution_count": 7,
      "metadata": {
        "colab": {
          "base_uri": "https://localhost:8080/"
        },
        "id": "AmlSpDuqTxCA",
        "outputId": "ff89bb2f-4153-409d-ccb7-01ad2b26ef9f"
      },
      "outputs": [
        {
          "name": "stdout",
          "output_type": "stream",
          "text": [
            "✅ Connected to Atlas instance!\n"
          ]
        }
      ],
      "source": [
        "import pymongo\n",
        "\n",
        "mongodb_client = pymongo.MongoClient(MY_CONFIG.ATLAS_URI)\n",
        "print ('✅ Connected to Atlas instance!')"
      ]
    },
    {
      "cell_type": "markdown",
      "metadata": {
        "id": "DbouzkPQTxCA"
      },
      "source": [
        "## Step-9 : Setup Embeddings Model\n",
        "\n",
        "We will use Mistral embedding"
      ]
    },
    {
      "cell_type": "code",
      "execution_count": 8,
      "metadata": {
        "colab": {
          "base_uri": "https://localhost:8080/",
          "height": 333,
          "referenced_widgets": [
            "a8cf51363bbc4585952797e24a800898",
            "2910084ef45b467f813ac6011b92ae41",
            "faaeb6ca26194072a26f93569b88aae0",
            "55563a00742b43ba9c636d454ce6c4f3",
            "f6931aac2195493fbd33690abd8fc293",
            "da23fe6fe1b9435fa826cba60cdfe133",
            "63e1ef12330e4999857c91c057b51d4e",
            "8492eb82f08c4329a7b14118aab55c72",
            "6f56ec6cc4664bf9a70759611eea5a27",
            "3deaccdf58aa487dbb937d5ec8ac3c12",
            "9633c91948d94762b931d27175abac48",
            "34e8130acd3041209b8d5b3c2f4b1c3f",
            "5b6507dd9c6d4f249d2c029fb165e0c5",
            "ad1d75c8eee34d028282e73b464e4a41",
            "16a4f3ca5905489c868c24f80e5996d4",
            "89f7e955ae4a4d5f88f2e85cbcef8f24",
            "911df34c9da4418dbcf133086c89c44d",
            "b3fbf83f5bbf46aaa8da26772fc06468",
            "27c003bb6fc14d8582e09b7120aa9412",
            "658badd98edc40ce8ecd377d645e2e74",
            "498ec15a512d4b238439a863f8d53a05",
            "5f150d25ced94a1b940fa1bd3f7e1f74",
            "2c8465729c854686a13211907b5c194d",
            "7c071381921947589bfa2dbfeb4f885c",
            "2f2043f6e96d4bfb88dbd83fb8e8b263",
            "c1193881b2aa4d35a172a2c14db7fad9",
            "80345bc11c574d00b0cc864ab9ea37bd",
            "0640caea921543759c580c576a1dedff",
            "64041f7e5eeb4110a2b9e38956067595",
            "2e1fc8485eb2450fbdf1c30a001baaca",
            "d36d1f79f65d4b94909b1c088262c3dc",
            "9b1eb3e3cea04e7a935708b069170e71",
            "4266936a12964c4d9bd16230e738084f",
            "29b9afa5317b42bea0ad03c3610ba9b8",
            "412075dd17204c29800086cd2bc27cf3",
            "b27c8e54e5714da1a5e20895279d2fc7",
            "425a95abfc6a4853be3b224ce144a8f9",
            "4a18fae7bf1048b99270f489b93a7e9c",
            "4d1df121794e4a1fab3a20b5740e43ee",
            "60a0da78901249d5810a6d0f31a39a9a",
            "38dfe26b4d3943049e602a19ab95c7a6",
            "acf52bcbe3b14b11851595a76a0795fb",
            "145eda7fe1344236a67cb6995d4882b8",
            "ab587756ec9e478fa285fa4c0fe17864",
            "a48967e601594aeea9aab3f2fca49454",
            "46e292b4e26f401c9ecfffe052ecfba1",
            "cf3590b6d75d4353a0d2765b8feee4ad",
            "e5839152bedf470889cbdcee5b441603",
            "03307bfcb6fe4d20a2fba74737ceb3e1",
            "a9eedb4bea3f446f8d925e2d7a876695",
            "19cbff7205b84a1688c1ee066f9cfd3d",
            "7052ca1c9e904b119f556ddeeea58c69",
            "bfe773e3e6b547b8ae42db2796c682b6",
            "4e98f874edd04a4e98e801ee759eb7d4",
            "9966a67e6b514eae8357ba60a4a2b5ff",
            "71ce1dee31424e25bcbf87800ad66146",
            "72e02d828be241aba335bf50d1904402",
            "fadea91e8cdc44c7ae3be8339fd8daaf",
            "0fe0d864248c488f93dfc30c1df75902",
            "63e73a18b4d540c1b480a1e3cf71f486",
            "482c876cb714424d81d9ee3b3b4221a9",
            "c9135ffb6db64cae87322952ad095214",
            "1b2618dfe7b54d109c91dad999eb4e2f",
            "6644ec035ac44554b831d07e53a286ba",
            "5f154d31a4d54aa1b9b7d8c8696e4b4f",
            "99c472139fb3461d8de0481f5b51bc46"
          ]
        },
        "id": "ENDJmHNATxCB",
        "outputId": "0c08adce-6427-4704-bb88-3ee0d4c3db9b"
      },
      "outputs": [
        {
          "name": "stderr",
          "output_type": "stream",
          "text": [
            "/home/sujee/anaconda3/envs/atlas2/lib/python3.11/site-packages/tqdm/auto.py:21: TqdmWarning: IProgress not found. Please update jupyter and ipywidgets. See https://ipywidgets.readthedocs.io/en/stable/user_install.html\n",
            "  from .autonotebook import tqdm as notebook_tqdm\n"
          ]
        }
      ],
      "source": [
        "from llama_index.embeddings.huggingface import HuggingFaceEmbedding\n",
        "from llama_index.core import Settings\n",
        "\n",
        "Settings.embed_model = HuggingFaceEmbedding(\n",
        "    model_name = MY_CONFIG.EMBEDDING_MODEL\n",
        ")"
      ]
    },
    {
      "cell_type": "code",
      "execution_count": 9,
      "metadata": {
        "colab": {
          "base_uri": "https://localhost:8080/"
        },
        "id": "MZbLCFdUeUoV",
        "outputId": "1f2ec0ee-904d-43a4-9a2b-389b27ad54da"
      },
      "outputs": [
        {
          "name": "stdout",
          "output_type": "stream",
          "text": [
            "embedding len :  384\n",
            "first few embeddings :  [-0.0032757227309048176, -0.011690807528793812, 0.041559189558029175, -0.03814816102385521, 0.024183066561818123, 0.01364425290375948, 0.011117850430309772, 0.04811973124742508, 0.02140951342880726, 0.01417492888867855]\n"
          ]
        }
      ],
      "source": [
        "## testing\n",
        "embeddings = Settings.embed_model.get_text_embedding(\"Hello world!\")\n",
        "print ('embedding len : ', len(embeddings))\n",
        "print ('first few embeddings : ', embeddings[:10])"
      ]
    },
    {
      "cell_type": "markdown",
      "metadata": {
        "id": "vBlinZDWejzP"
      },
      "source": [
        "## Step-10: Setup LLM\n",
        "\n",
        "Our LLM of choice is Mistral\n",
        "\n",
        "Here are the available models from https://docs.mistral.ai/guides/model-selection/\n",
        "\n",
        "- open-mistral-7b (aka mistral-tiny-2312)\n",
        "- open-mixtral-8x7b (aka mistral-small-2312)\n",
        "- mistral-small-latest (aka mistral-small-2402)\n",
        "- mistral-medium-latest (aka mistral-medium-2312)\n",
        "- mistral-large-latest (aka mistral-large-2402)"
      ]
    },
    {
      "cell_type": "code",
      "execution_count": 10,
      "metadata": {
        "id": "Uz2oD15pen21"
      },
      "outputs": [],
      "source": [
        "from llama_index.llms.mistralai import MistralAI\n",
        "from llama_index.core import Settings\n",
        "\n",
        "llm = MistralAI(model=\"mistral-large-latest\", temperature=0.1, api_key=MY_CONFIG.MISTRAL_API_KEY)\n",
        "\n",
        "Settings.llm = llm"
      ]
    },
    {
      "cell_type": "markdown",
      "metadata": {},
      "source": [
        "## Step-11: Setup Tokenizers\n",
        "\n",
        "Setup tokenizers to match LLM for best results"
      ]
    },
    {
      "cell_type": "code",
      "execution_count": 11,
      "metadata": {},
      "outputs": [],
      "source": [
        "from transformers import AutoTokenizer\n",
        "from llama_index.core import Settings\n",
        "\n",
        "tokenizer = AutoTokenizer.from_pretrained(\n",
        "    \"mistralai/Mistral-7B-Instruct-v0.2\"\n",
        ")\n",
        "\n",
        "# set tokienizer for llama-index : https://docs.llamaindex.ai/en/stable/module_guides/supporting_modules/settings/#tokenizer\n",
        "Settings.tokenzier = tokenizer #typo?\n",
        "Settings.tokenizer = tokenizer\n"
      ]
    },
    {
      "cell_type": "code",
      "execution_count": 12,
      "metadata": {},
      "outputs": [
        {
          "name": "stdout",
          "output_type": "stream",
          "text": [
            "Text words count :  7\n",
            "tokens count:  9\n",
            "Tokens: ['▁Token', 'izers', '▁are', '▁essential', '▁for', '▁natural', '▁language', '▁processing', '.']\n"
          ]
        }
      ],
      "source": [
        "## test tokenizer\n",
        "text = \"Tokenizers are essential for natural language processing.\"\n",
        "tokens = tokenizer.tokenize(text)\n",
        "print (\"Text words count : \", len (text.split()))\n",
        "print ('tokens count: ', len(tokens))\n",
        "print(\"Tokens:\", tokens)"
      ]
    },
    {
      "cell_type": "markdown",
      "metadata": {},
      "source": [
        "## Step-12 - Quick testing"
      ]
    },
    {
      "cell_type": "code",
      "execution_count": 13,
      "metadata": {
        "colab": {
          "base_uri": "https://localhost:8080/"
        },
        "id": "C56QJtLCfZDT",
        "outputId": "5e8e615e-c389-4faa-daa3-34773ba7d283"
      },
      "outputs": [
        {
          "name": "stdout",
          "output_type": "stream",
          "text": [
            "The capital of the United States is Washington, D.C. It was founded on July 16, 1790, and is located on the east coast of the country, near the states of Maryland and Virginia. The city was named after George Washington, the first president of the United States. It is known for its iconic landmarks, such as the White House, the Capitol Building, and the Lincoln Memorial.\n"
          ]
        }
      ],
      "source": [
        "## Testing\n",
        "resp = llm.complete(\"The capital of the United States is \")\n",
        "print (resp)"
      ]
    },
    {
      "cell_type": "markdown",
      "metadata": {
        "id": "_q-paoFhfGsl"
      },
      "source": []
    },
    {
      "cell_type": "markdown",
      "metadata": {
        "id": "ug5vwMnOTxCB"
      },
      "source": [
        "## Step-13: Connect Illama-Index and MongoDB Atlas\n",
        "\n",
        "Let's define MongoDB Atlas as our vector storage. This is critical to stored indexed data and then query"
      ]
    },
    {
      "cell_type": "code",
      "execution_count": 14,
      "metadata": {
        "id": "ard50bRGhHkW"
      },
      "outputs": [],
      "source": [
        "from llama_index.vector_stores.mongodb import MongoDBAtlasVectorSearch\n",
        "from llama_index.core import StorageContext\n",
        "from llama_index.core import VectorStoreIndex\n",
        "\n",
        "\n",
        "vector_store = MongoDBAtlasVectorSearch(mongodb_client = mongodb_client,\n",
        "                                        db_name = MY_CONFIG.DB_NAME,\n",
        "                                        collection_name = MY_CONFIG.COLLECTION_NAME,\n",
        "                                        index_name  = MY_CONFIG.INDEX_NAME,\n",
        "                                        embedding_key = MY_CONFIG.EMBEDDING_ATTRIBUTE,\n",
        "                                        ## the following columns are set to default values\n",
        "                                       # text_key = 'text', metadata_= 'metadata',\n",
        "                                 )\n",
        "storage_context = StorageContext.from_defaults(vector_store=vector_store)\n",
        "\n",
        "index = VectorStoreIndex.from_vector_store(vector_store=vector_store, storage_context=storage_context)"
      ]
    },
    {
      "cell_type": "markdown",
      "metadata": {
        "id": "UY-mzO11TxCB"
      },
      "source": [
        "## Step-14: Query Data / Ask Questions\n",
        "\n",
        "Now that we have every thing setup, let's ask some questions\n",
        "\n",
        "These are the PDF documents we have loaded into Atlas, you can download them and inspect them.\n",
        "\n",
        "- [10k/lyft_2021.pdf](https://raw.githubusercontent.com/sujee/mongodb-atlas-vector-search/main/data/10k/lyft_2021.pdf)\n",
        "- [10k/uber_2021.pdf](https://raw.githubusercontent.com/sujee/mongodb-atlas-vector-search/main/data/10k/uber_2021.pdf)"
      ]
    },
    {
      "cell_type": "code",
      "execution_count": 15,
      "metadata": {
        "colab": {
          "base_uri": "https://localhost:8080/"
        },
        "id": "kyPsv-pZTxCB",
        "outputId": "3de7ad18-6ce6-48cb-d852-4cd523914a87"
      },
      "outputs": [
        {
          "name": "stdout",
          "output_type": "stream",
          "text": [
            "Uber's total revenue for the year ended December 31, 2021, was $17,455 million. This revenue is disaggregated into various offerings and geographical regions. The revenue from Mobility was $6,953 million, Delivery revenue was $8,362 million, Freight revenue was $2,132 million, and All Other revenue was $8 million for the same period. The revenue is recognized based on the location where the transaction occurred.\n",
            "\n",
            "Response(response=\"Uber's total revenue for the year ended December 31, 2021, \"\n",
            "                  'was $17,455 million. This revenue is disaggregated into '\n",
            "                  'various offerings and geographical regions. The revenue '\n",
            "                  'from Mobility was $6,953 million, Delivery revenue was '\n",
            "                  '$8,362 million, Freight revenue was $2,132 million, and All '\n",
            "                  'Other revenue was $8 million for the same period. The '\n",
            "                  'revenue is recognized based on the location where the '\n",
            "                  'transaction occurred.',\n",
            "         source_nodes=[   NodeWithScore(node=TextNode(id_='64efaa14-95ef-42d3-955d-d5bd75218857', embedding=None, metadata={'page_label': '54', 'file_name': 'uber_2021.pdf', 'file_path': '/content/data/10k/uber_2021.pdf', 'file_type': 'application/pdf', 'file_size': 1880483, 'creation_date': '2024-03-22', 'last_modified_date': '2024-03-22'}, excluded_embed_metadata_keys=['file_name', 'file_type', 'file_size', 'creation_date', 'last_modified_date', 'last_accessed_date'], excluded_llm_metadata_keys=['file_name', 'file_type', 'file_size', 'creation_date', 'last_modified_date', 'last_accessed_date'], relationships={<NodeRelationship.SOURCE: '1'>: RelatedNodeInfo(node_id='b72aeb64-1e78-48ec-931d-596729e4434f', node_type=<ObjectType.DOCUMENT: '4'>, metadata={'page_label': '54', 'file_name': 'uber_2021.pdf', 'file_path': '/content/data/10k/uber_2021.pdf', 'file_type': 'application/pdf', 'file_size': 1880483, 'creation_date': '2024-03-22', 'last_modified_date': '2024-03-22'}, hash='5f6f998c501d96ba7df018ecacc72d4f5822c838179f05a207ef0dd56cff6417'), <NodeRelationship.PREVIOUS: '2'>: RelatedNodeInfo(node_id='ff25508d-2505-4ecd-8d8c-6878d5576615', node_type=<ObjectType.TEXT: '1'>, metadata={'page_label': '54', 'file_name': 'uber_2021.pdf', 'file_path': '/content/data/10k/uber_2021.pdf', 'file_type': 'application/pdf', 'file_size': 1880483, 'creation_date': '2024-03-22', 'last_modified_date': '2024-03-22'}, hash='33bc20d7f48863173d8f7a40423e732b7c78ea04ea33a58f6668a0378ef25e84'), <NodeRelationship.NEXT: '3'>: RelatedNodeInfo(node_id='689ed10e-bcb0-4041-9a65-3f23bfa269cb', node_type=<ObjectType.TEXT: '1'>, metadata={}, hash='377b9b7611d291fc86ae258e33ab16bbda809dd44a7fb53c6ff0cb71b370205b')}, text='We have concluded that we are an agent in thesearrangements\\n as we arrange for other parties to provide the service to the end-user. Under this model, revenue is net of Driver and Merchant earnings and Driverincentives. We act as an a\\ngent in these transactions by connecting consumers to Drivers and Merchants to facilitate a Trip, meal or grocery delivery service.For\\n additional  discussion  related  to  our  revenue,  see  the  section  titled  “Management’s  Discussion  and  Analysis  of  Financial  Condition  and  Results  ofOperations\\n - Critical Accounting Estimates - Revenue Recognition,” “Note 1 – Description of Business and Summary of Significant Accounting Policies,” and“Note 2\\n – Revenue” to our consolidated financial statements included in Part II, Item 8, “Financial Statements and Supplementary Data,” of this Annual Report onForm 10-K.\\nCost of Revenue, Exclusive of Depreciation and Amortizat\\nionCost of\\n revenue, exclusive of depreciation and amortization, primarily consists of certain insurance costs related to our Mobility and Delivery offerings, creditcard\\n processing fees, bank fees, data center and networking expenses, mobile device and service costs, costs incurred for certain Delivery transactions where weare primarily respons\\nible for delivery services and pay Couriers for services provided, costs incurred with carriers for Uber Freight transportation services, amountsrelated to fare chargebacks an\\nd other credit card losses.We expect that cost of \\nrevenue, exclusive of depreciation and amortization, will fluctuate on an absolute dollar basis for the foreseeable future in line with Tripvolume\\n changes on the platform. As Trips increase or decrease, we expect related changes for insurance costs, credit card processing fees, hosting and co-locateddata center expenses, m\\naps license fees, and other cost of revenue, exclusive of depreciation and amortization.52', start_char_idx=3110, end_char_idx=5018, text_template='{metadata_str}\\n\\n{content}', metadata_template='{key}: {value}', metadata_seperator='\\n'), score=0.8949576020240784),\n",
            "                          NodeWithScore(node=TextNode(id_='fc43f23b-ec78-4cc8-8a7f-4f1e03586ce6', embedding=None, metadata={'page_label': '98', 'file_name': 'uber_2021.pdf', 'file_path': '/content/data/10k/uber_2021.pdf', 'file_type': 'application/pdf', 'file_size': 1880483, 'creation_date': '2024-03-22', 'last_modified_date': '2024-03-22'}, excluded_embed_metadata_keys=['file_name', 'file_type', 'file_size', 'creation_date', 'last_modified_date', 'last_accessed_date'], excluded_llm_metadata_keys=['file_name', 'file_type', 'file_size', 'creation_date', 'last_modified_date', 'last_accessed_date'], relationships={<NodeRelationship.SOURCE: '1'>: RelatedNodeInfo(node_id='3faffee1-aae9-4616-b121-a5466c375472', node_type=<ObjectType.DOCUMENT: '4'>, metadata={'page_label': '98', 'file_name': 'uber_2021.pdf', 'file_path': '/content/data/10k/uber_2021.pdf', 'file_type': 'application/pdf', 'file_size': 1880483, 'creation_date': '2024-03-22', 'last_modified_date': '2024-03-22'}, hash='49c2c624862fa9f3ca36bec2fa4dc8c63b16743b2f1225aa5d555b51653f6205'), <NodeRelationship.PREVIOUS: '2'>: RelatedNodeInfo(node_id='433a2a86-b72d-45e0-9a34-1c34c4526261', node_type=<ObjectType.TEXT: '1'>, metadata={'page_label': '97', 'file_name': 'uber_2021.pdf', 'file_path': '/content/data/10k/uber_2021.pdf', 'file_type': 'application/pdf', 'file_size': 1880483, 'creation_date': '2024-03-22', 'last_modified_date': '2024-03-22'}, hash='a89dabbf2e866d128a665efe783b515dc5a1cc779e7795d32abec9f3fa0b53bd'), <NodeRelationship.NEXT: '3'>: RelatedNodeInfo(node_id='723aee41-93f4-4e32-9fdb-d393064d1383', node_type=<ObjectType.TEXT: '1'>, metadata={}, hash='dcd587e68cf25c5aea109c9985a341f6800db75fac8ff3f6629e3b6fb21d848c')}, text='Note 2 – RevenueThe\\n following  tables  present  our  revenues  disaggregated  by  offering  and  geographical  region.  Revenue  by  geographical  region  is  based  on  where  thetransaction\\n occurred. This level of disaggregation takes into consideration how the nature, amount, timing, and uncertainty of revenue and cash flows are affectedby economic factors. Revenue \\nis presented in the following tables for the years ended December 31, 2019, 2020 and 2021, respectively (in millions):Year Ended December 31,\\n2019\\n2020 2021 Mobility revenue \\n$ 10,707 $ 6,089 $ 6,953 Delivery revenue \\n1,401 3,904 8,362 Freight revenue\\n731 1,011 2,132 All Other revenue\\n161 135 8 Total revenue\\n$ 13,000 $ 11,139 $ 17,455  We\\n offer subscription memberships to end-users including Uber One, Uber Pass, Rides Pass, and Eats Pass (“Subscription”). We recognize Subscriptionfees\\n ratably over the life of the pass. We allocate Subscription fees earned to Mobility and Delivery revenue on a proportional basis, based on usage for eachoffering during the respe\\nctive period.Year Ended December 31,\\n2019\\n2020 2021 United States and Canada\\n$ 8,465 $ 6,611 $ 10,094 Latin America (\"LatAm\")\\n1,862 1,295 1,417 Europe, Middle East and Africa \\n(\"EMEA\")1,852 2,086 3,213 Asia Pacific (\"APAC\")\\n821 1,147 2,731 Total revenue\\n$ 13,000 $ 11,139 $ 17,455 Revenue\\nMobility Revenue\\nWe derive\\n revenue primarily from fees paid by Mobility Drivers for the use of our platform(s) and related services to facilitate and complete Mobility servicesand,\\n in certain markets, revenue from fees paid by end-users for connection services obtained via the platform. Mobility revenue also includes immaterial revenuestreams\\n such as our financial partnerships products and Vehicle Solutions. Vehicle Solutions revenue is accounted for as an operating lease as defined under ASC842.\\nDelivery Revenue\\nWe\\n derive  revenue  for  Delivery  from  Merchants’  and  Couriers’  use  of  the  Delivery  platform  and  related  service  to  facilitate  and  complete  Deliverytransactions. Additionally,\\n in certain markets where we are responsible for delivery services, delivery fees charged to end-users are also included in revenue, whilepayments\\n to Couriers in exchange for delivery services are recognized in cost of revenue. Delivery also includes advertising revenue from sponsored listing feespaid by merchants and brands in \\nexchange for advertising services.Freight Revenue\\nFreight\\n revenue consists of revenue from freight transportation services provided to shippers. During the fourth quarter of 2021, we completed the acquisitionof\\n Transplace, and our Freight revenue also includes revenue from transportation management. Refer to Note 18 – Business Combinations for further informationon the Transplace acquisi\\ntion.All Other Revenue\\nAll Other revenue primar\\nily includes collaboration revenue related to our ATG business and revenue from our New Mobility offerings and products.ATG\\n collaboration revenue was related to a three-year joint collaboration agreement we entered into in 2019. During the first quarter of 2021, we completedthe sale of Apparate USA LLC (“Apparate\\n” or the “ATG Business”) to Aurora Innovation, Inc. (“Aurora”). Refer to Note 19 – Divestitures for further information.New\\n Mobility offerings and products provided users access to rides through a variety of modes, including dockless e-bikes and e-scooters (“New Mobility”),platform\\n incubator group offerings and other immaterial revenue streams. New Mobility revenue is accounted for as an operating lease as defined under ASC 842.After the JUMP divestiture during \\nthe second quarter of 2020, revenue from New Mobility products, including dockless e-bikes, was no longer material.(1)(1)\\n(1)\\n96', start_char_idx=0, end_char_idx=3736, text_template='{metadata_str}\\n\\n{content}', metadata_template='{key}: {value}', metadata_seperator='\\n'), score=0.8892978429794312)],\n",
            "         metadata={   '64efaa14-95ef-42d3-955d-d5bd75218857': {   'creation_date': '2024-03-22',\n",
            "                                                                  'file_name': 'uber_2021.pdf',\n",
            "                                                                  'file_path': '/content/data/10k/uber_2021.pdf',\n",
            "                                                                  'file_size': 1880483,\n",
            "                                                                  'file_type': 'application/pdf',\n",
            "                                                                  'last_modified_date': '2024-03-22',\n",
            "                                                                  'page_label': '54'},\n",
            "                      'fc43f23b-ec78-4cc8-8a7f-4f1e03586ce6': {   'creation_date': '2024-03-22',\n",
            "                                                                  'file_name': 'uber_2021.pdf',\n",
            "                                                                  'file_path': '/content/data/10k/uber_2021.pdf',\n",
            "                                                                  'file_size': 1880483,\n",
            "                                                                  'file_type': 'application/pdf',\n",
            "                                                                  'last_modified_date': '2024-03-22',\n",
            "                                                                  'page_label': '98'}})\n",
            "CPU times: user 72.6 ms, sys: 4.76 ms, total: 77.4 ms\n",
            "Wall time: 3.63 s\n"
          ]
        }
      ],
      "source": [
        "%%time\n",
        "\n",
        "from IPython.display import Markdown\n",
        "from pprint import pprint\n",
        "\n",
        "response = index.as_query_engine().query(\"What was Uber's revenue?\")\n",
        "print (response)\n",
        "print()\n",
        "pprint(response, indent=4)"
      ]
    },
    {
      "cell_type": "code",
      "execution_count": 16,
      "metadata": {
        "colab": {
          "base_uri": "https://localhost:8080/"
        },
        "id": "2MbPbmegTxCC",
        "outputId": "4b3b00c0-ad34-448d-9a66-b6ad05ce5367"
      },
      "outputs": [
        {
          "name": "stdout",
          "output_type": "stream",
          "text": [
            "Lyft made $2,364,681 in the year ended December 31, 2020.\n",
            "\n",
            "Response(response='Lyft made $2,364,681 in the year ended December 31, 2020.',\n",
            "         source_nodes=[   NodeWithScore(node=TextNode(id_='fd763dfb-8f15-42e2-ae92-f6fc96fdef02', embedding=None, metadata={'page_label': '58', 'file_name': 'lyft_2021.pdf', 'file_path': '/content/data/10k/lyft_2021.pdf', 'file_type': 'application/pdf', 'file_size': 1440303, 'creation_date': '2024-03-22', 'last_modified_date': '2024-03-22'}, excluded_embed_metadata_keys=['file_name', 'file_type', 'file_size', 'creation_date', 'last_modified_date', 'last_accessed_date'], excluded_llm_metadata_keys=['file_name', 'file_type', 'file_size', 'creation_date', 'last_modified_date', 'last_accessed_date'], relationships={<NodeRelationship.SOURCE: '1'>: RelatedNodeInfo(node_id='dc3466c6-68d8-484c-a14e-e49f734741af', node_type=<ObjectType.DOCUMENT: '4'>, metadata={'page_label': '58', 'file_name': 'lyft_2021.pdf', 'file_path': '/content/data/10k/lyft_2021.pdf', 'file_type': 'application/pdf', 'file_size': 1440303, 'creation_date': '2024-03-22', 'last_modified_date': '2024-03-22'}, hash='357c0eb1b5e90ee2aae621350ebd22b8bbee6e36c1df7b64c0a5c59f3936f186'), <NodeRelationship.PREVIOUS: '2'>: RelatedNodeInfo(node_id='c41d19f9-9ed7-417c-8f8c-16c8463d6382', node_type=<ObjectType.TEXT: '1'>, metadata={'page_label': '57', 'file_name': 'lyft_2021.pdf', 'file_path': '/content/data/10k/lyft_2021.pdf', 'file_type': 'application/pdf', 'file_size': 1440303, 'creation_date': '2024-03-22', 'last_modified_date': '2024-03-22'}, hash='85d04b2b62b6ea19102e9bf2840b6fc750c0a207f782bf456efddf21a7451f43'), <NodeRelationship.NEXT: '3'>: RelatedNodeInfo(node_id='7b9763f5-20ce-49de-ab6d-5ff63ff87bb4', node_type=<ObjectType.TEXT: '1'>, metadata={}, hash='5d039a8bdbb492ba8cdfaead89eccd791262e9ee34818fc07833fa938b408704')}, text=\"Revenue per Active Rider2021\\n2020 2019 2020 to 2021 %Change\\n2019 to 2020 %Change\\nThree Months Ended March 31\\n$45.13 $45.06 $37.86 0.2% 19.0% Three Months Ended June 30\\n$44.63 $39.06 $39.77 14.3% (1.8)% Three Months Ended September 30\\n$45.63 $39.94 $42.82 14.2% (6.7)% Three Months Ended December 31\\n$51.79 $45.40 $44.40 14.1% 2.3% We define Active Riders as \\nall riders who take at least one ride during a quarter where the Lyft Platform processes the transaction. An Active Rider is identified bya\\n unique phone number. If a rider has two mobile phone numbers or changed their phone number and such rider took rides using both phone numbers during the quarter,that person would count\\n as two Active Riders. If a rider has a personal and business profile tied to the same mobile phone number, that person would be considered a singleActive Rider. If a ride has been requested by an\\n organization using our Concierge offering for the benefit of a rider, we exclude this rider in the calculation of Active Ridersunless the ride is access\\nible in the Lyft App. Revenue per Active Rider is calculated by dividing revenue for a period by Active Riders for the same period.Beginning\\n in the fourth quarter of 2020, some riders were able to access their Concierge rides in the Lyft App if they already had a Lyft account. Accordingly,Lyft\\n updated the definition of Active Riders to include Concierge riders if the rider’s phone number matches that of a verified Lyft account, allowing the rider to accesstheir\\n ride in the Lyft App. This update resulted in a 0.01% increase, or an additional 927 Active Riders in the fourth quarter of 2020. Prior to the fourth quarter of 2020, allConcierge riders were exc\\nluded from the calculation of Active Riders as Concierge rides could not be matched with verified rider accounts.With\\n the exception of the three months ended March 31, 2021 as compared to the three months ended March 31, 2020, Active Riders in each of the three monthperiods\\n ended  June  30,  September  30,  and  December  31,  2021  increased  compared  to  the  same  period  in  2020  as  vaccines  were  more  widely  distributed  and  morecommunities\\n fully reopened. Active Riders in the three months periods ended June 30, September 30, and December 31, 2020 represented significantly lower Active Ridercounts\\n since shelter-in-place orders and other travel restrictions were first implemented across North America in response to the COVID-19 pandemic in March 2020. Theslight decrease in the number of Active Riders in the three months ended \\nDecember 31, 2021 as compared to the three months ended September 30, 2021 was due primarilyto the increasing COVID-19 case counts \\nfrom COVID-19 variants and their impact on demand as well as the seasonality we typically experience in the winter months.Revenue per Active Rider increased in each of the three months period\\ns ended March 31, June 30, September 30, and December 31, 2021 as compared to the sameperiods\\n in  2020,  primarily  reflecting  the  improvement  in  demand  on  our  platform  compared  to  earlier  periods  during  the  COVID-19  pandemic,  which  had  materiallylimited\\n people's mobility and severely reduced Active Riders. Revenue per Active Rider reached an all-time high in the three months ended December 31, 2021, increasingcompared\\n to the three months ended September 30, 2021. This was driven by an increase in ride frequency as well as a shift toward higher revenue rides such as airportrides,\\n reflecting the increased travel experienced in the fourth quarter in 2021 nationwide. Revenue per Active Rider also benefited from revenues from licensing and dataaccess agreements, beg\\ninning in the second quarter of 2021.Critical Accounting Policies and Estimates\\nOur\\n consolidated  financial  statements  and  the  related  notes  thereto  included  elsewhere  in  this  Annual  Report  on  Form  10-K  are  prepared  in  accordance  withGAAP.\", start_char_idx=0, end_char_idx=3934, text_template='{metadata_str}\\n\\n{content}', metadata_template='{key}: {value}', metadata_seperator='\\n'), score=0.8824061155319214),\n",
            "                          NodeWithScore(node=TextNode(id_='137b16f7-f107-43db-817c-85f00dac12a7', embedding=None, metadata={'page_label': '79', 'file_name': 'lyft_2021.pdf', 'file_path': '/content/data/10k/lyft_2021.pdf', 'file_type': 'application/pdf', 'file_size': 1440303, 'creation_date': '2024-03-22', 'last_modified_date': '2024-03-22'}, excluded_embed_metadata_keys=['file_name', 'file_type', 'file_size', 'creation_date', 'last_modified_date', 'last_accessed_date'], excluded_llm_metadata_keys=['file_name', 'file_type', 'file_size', 'creation_date', 'last_modified_date', 'last_accessed_date'], relationships={<NodeRelationship.SOURCE: '1'>: RelatedNodeInfo(node_id='2fff5a38-9c6a-49f3-a7ad-1b42d1d63689', node_type=<ObjectType.DOCUMENT: '4'>, metadata={'page_label': '79', 'file_name': 'lyft_2021.pdf', 'file_path': '/content/data/10k/lyft_2021.pdf', 'file_type': 'application/pdf', 'file_size': 1440303, 'creation_date': '2024-03-22', 'last_modified_date': '2024-03-22'}, hash='3f72ccfafccd54332b69dfe84e161a9f8ef43cac5d8b4cca974a862406284acd'), <NodeRelationship.PREVIOUS: '2'>: RelatedNodeInfo(node_id='72f7ea65-1693-4715-a480-da3ecf84753d', node_type=<ObjectType.TEXT: '1'>, metadata={'page_label': '78', 'file_name': 'lyft_2021.pdf', 'file_path': '/content/data/10k/lyft_2021.pdf', 'file_type': 'application/pdf', 'file_size': 1440303, 'creation_date': '2024-03-22', 'last_modified_date': '2024-03-22'}, hash='f6f112173523527749c0a860e644ad06cc87375b67c25487914f941fa61da294'), <NodeRelationship.NEXT: '3'>: RelatedNodeInfo(node_id='2322ac62-ed7e-4d0a-97f6-e2b4691e5a91', node_type=<ObjectType.TEXT: '1'>, metadata={}, hash='8949c39ee85f566ef2203d53cc8e9708d1f4650ef0b85f9b0e1588938150f3ab')}, text='Lyft, Inc.Consolidated Statements of Operations\\n(in thousands, except for per share data\\n) Year Ended December 31,\\n2021\\n2020 2019 Revenue\\n$ 3,208,323 $ 2,364,681 $ 3,615,960 Costs and expenses\\nCost of revenue\\n1,649,532 1,447,516 2,176,469 Operations and support\\n402,233 453,963 636,116 Research and development\\n911,946 909,126 1,505,640 Sales and marketing\\n411,406 416,331 814,122 General and administrative\\n915,638 946,127 1,186,093 Total costs and expenses\\n4,290,755 4,173,063 6,318,440 Loss from operations\\n(1,082,432) (1,808,382) (2,702,480) Interest expense\\n(51,635) (32,678) — Other income, net\\n135,933 43,669 102,595 Loss before income taxes\\n(998,134) (1,797,391) (2,599,885) Provision for (benefit fro\\nm) income taxes11,225 (44,534) 2,356 Net loss\\n$ (1,009,359) $ (1,752,857) $ (2,602,241) Net loss per share, basic and di\\nluted$ (3.02) $ (5.61) $ (11.44) Weighted-average numb\\ner of shares outstanding used to compute net loss per share, basic and diluted334,724 312,175 227,498 Stock-based compensation included in costs and expenses:\\nCost of revenue\\n$ 39,491 $ 28,743 $ 81,321 Operations and support\\n24,083 15,829 75,212 Research and development\\n414,324 325,624 971,941 Sales and marketing\\n38,243 23,385 72,046 General and administrative\\n208,419 172,226 398,791 The accompanying notes are \\nan integral part of these consolidated financial statements.79', start_char_idx=0, end_char_idx=1363, text_template='{metadata_str}\\n\\n{content}', metadata_template='{key}: {value}', metadata_seperator='\\n'), score=0.880866289138794)],\n",
            "         metadata={   '137b16f7-f107-43db-817c-85f00dac12a7': {   'creation_date': '2024-03-22',\n",
            "                                                                  'file_name': 'lyft_2021.pdf',\n",
            "                                                                  'file_path': '/content/data/10k/lyft_2021.pdf',\n",
            "                                                                  'file_size': 1440303,\n",
            "                                                                  'file_type': 'application/pdf',\n",
            "                                                                  'last_modified_date': '2024-03-22',\n",
            "                                                                  'page_label': '79'},\n",
            "                      'fd763dfb-8f15-42e2-ae92-f6fc96fdef02': {   'creation_date': '2024-03-22',\n",
            "                                                                  'file_name': 'lyft_2021.pdf',\n",
            "                                                                  'file_path': '/content/data/10k/lyft_2021.pdf',\n",
            "                                                                  'file_size': 1440303,\n",
            "                                                                  'file_type': 'application/pdf',\n",
            "                                                                  'last_modified_date': '2024-03-22',\n",
            "                                                                  'page_label': '58'}})\n",
            "CPU times: user 33.3 ms, sys: 589 µs, total: 33.9 ms\n",
            "Wall time: 1.58 s\n"
          ]
        }
      ],
      "source": [
        "%%time\n",
        "\n",
        "response = index.as_query_engine().query(\"How much money did Lyft make in 2020?\")\n",
        "print (response)\n",
        "print()\n",
        "pprint(response, indent=4)"
      ]
    },
    {
      "cell_type": "code",
      "execution_count": 17,
      "metadata": {
        "colab": {
          "base_uri": "https://localhost:8080/"
        },
        "id": "rrv_m45gTxCC",
        "outputId": "7b9c5cba-9d1b-43dd-e908-ea7a85e040b3"
      },
      "outputs": [
        {
          "name": "stdout",
          "output_type": "stream",
          "text": [
            "The provided context does not include financial data for Lyft in 2018.\n",
            "\n",
            "Response(response='The provided context does not include financial data for '\n",
            "                  'Lyft in 2018.',\n",
            "         source_nodes=[   NodeWithScore(node=TextNode(id_='137b16f7-f107-43db-817c-85f00dac12a7', embedding=None, metadata={'page_label': '79', 'file_name': 'lyft_2021.pdf', 'file_path': '/content/data/10k/lyft_2021.pdf', 'file_type': 'application/pdf', 'file_size': 1440303, 'creation_date': '2024-03-22', 'last_modified_date': '2024-03-22'}, excluded_embed_metadata_keys=['file_name', 'file_type', 'file_size', 'creation_date', 'last_modified_date', 'last_accessed_date'], excluded_llm_metadata_keys=['file_name', 'file_type', 'file_size', 'creation_date', 'last_modified_date', 'last_accessed_date'], relationships={<NodeRelationship.SOURCE: '1'>: RelatedNodeInfo(node_id='2fff5a38-9c6a-49f3-a7ad-1b42d1d63689', node_type=<ObjectType.DOCUMENT: '4'>, metadata={'page_label': '79', 'file_name': 'lyft_2021.pdf', 'file_path': '/content/data/10k/lyft_2021.pdf', 'file_type': 'application/pdf', 'file_size': 1440303, 'creation_date': '2024-03-22', 'last_modified_date': '2024-03-22'}, hash='3f72ccfafccd54332b69dfe84e161a9f8ef43cac5d8b4cca974a862406284acd'), <NodeRelationship.PREVIOUS: '2'>: RelatedNodeInfo(node_id='72f7ea65-1693-4715-a480-da3ecf84753d', node_type=<ObjectType.TEXT: '1'>, metadata={'page_label': '78', 'file_name': 'lyft_2021.pdf', 'file_path': '/content/data/10k/lyft_2021.pdf', 'file_type': 'application/pdf', 'file_size': 1440303, 'creation_date': '2024-03-22', 'last_modified_date': '2024-03-22'}, hash='f6f112173523527749c0a860e644ad06cc87375b67c25487914f941fa61da294'), <NodeRelationship.NEXT: '3'>: RelatedNodeInfo(node_id='2322ac62-ed7e-4d0a-97f6-e2b4691e5a91', node_type=<ObjectType.TEXT: '1'>, metadata={}, hash='8949c39ee85f566ef2203d53cc8e9708d1f4650ef0b85f9b0e1588938150f3ab')}, text='Lyft, Inc.Consolidated Statements of Operations\\n(in thousands, except for per share data\\n) Year Ended December 31,\\n2021\\n2020 2019 Revenue\\n$ 3,208,323 $ 2,364,681 $ 3,615,960 Costs and expenses\\nCost of revenue\\n1,649,532 1,447,516 2,176,469 Operations and support\\n402,233 453,963 636,116 Research and development\\n911,946 909,126 1,505,640 Sales and marketing\\n411,406 416,331 814,122 General and administrative\\n915,638 946,127 1,186,093 Total costs and expenses\\n4,290,755 4,173,063 6,318,440 Loss from operations\\n(1,082,432) (1,808,382) (2,702,480) Interest expense\\n(51,635) (32,678) — Other income, net\\n135,933 43,669 102,595 Loss before income taxes\\n(998,134) (1,797,391) (2,599,885) Provision for (benefit fro\\nm) income taxes11,225 (44,534) 2,356 Net loss\\n$ (1,009,359) $ (1,752,857) $ (2,602,241) Net loss per share, basic and di\\nluted$ (3.02) $ (5.61) $ (11.44) Weighted-average numb\\ner of shares outstanding used to compute net loss per share, basic and diluted334,724 312,175 227,498 Stock-based compensation included in costs and expenses:\\nCost of revenue\\n$ 39,491 $ 28,743 $ 81,321 Operations and support\\n24,083 15,829 75,212 Research and development\\n414,324 325,624 971,941 Sales and marketing\\n38,243 23,385 72,046 General and administrative\\n208,419 172,226 398,791 The accompanying notes are \\nan integral part of these consolidated financial statements.79', start_char_idx=0, end_char_idx=1363, text_template='{metadata_str}\\n\\n{content}', metadata_template='{key}: {value}', metadata_seperator='\\n'), score=0.8773592710494995),\n",
            "                          NodeWithScore(node=TextNode(id_='e2fe4934-168e-4d22-8d99-87bddfc60d56', embedding=None, metadata={'page_label': '5', 'file_name': 'lyft_2021.pdf', 'file_path': '/content/data/10k/lyft_2021.pdf', 'file_type': 'application/pdf', 'file_size': 1440303, 'creation_date': '2024-03-22', 'last_modified_date': '2024-03-22'}, excluded_embed_metadata_keys=['file_name', 'file_type', 'file_size', 'creation_date', 'last_modified_date', 'last_accessed_date'], excluded_llm_metadata_keys=['file_name', 'file_type', 'file_size', 'creation_date', 'last_modified_date', 'last_accessed_date'], relationships={<NodeRelationship.SOURCE: '1'>: RelatedNodeInfo(node_id='9d649c88-363f-4516-9100-85df4143f0be', node_type=<ObjectType.DOCUMENT: '4'>, metadata={'page_label': '5', 'file_name': 'lyft_2021.pdf', 'file_path': '/content/data/10k/lyft_2021.pdf', 'file_type': 'application/pdf', 'file_size': 1440303, 'creation_date': '2024-03-22', 'last_modified_date': '2024-03-22'}, hash='b893da493fc2fd61d36e719e6992653216f5f66635a0a6aca71f9e4abf6f0a92'), <NodeRelationship.PREVIOUS: '2'>: RelatedNodeInfo(node_id='2f8a8b04-a175-4fba-9dc0-c87aa1f8c679', node_type=<ObjectType.TEXT: '1'>, metadata={'page_label': '4', 'file_name': 'lyft_2021.pdf', 'file_path': '/content/data/10k/lyft_2021.pdf', 'file_type': 'application/pdf', 'file_size': 1440303, 'creation_date': '2024-03-22', 'last_modified_date': '2024-03-22'}, hash='484054893c06e07422585a5deeae974da1ef6f64b3b0f49b5929543686610708'), <NodeRelationship.NEXT: '3'>: RelatedNodeInfo(node_id='e16ce77e-4cae-4cbc-a05e-893f8f7a4157', node_type=<ObjectType.TEXT: '1'>, metadata={}, hash='5b5c36fd902f0c8ebe1859fb2207fab14d769e2774b425b5cd13669c8d41558e')}, text='PART IItem 1. Business.\\nOur Mission\\nImprove people’s lives with \\nthe world’s best transportation.Overview\\nLyft,\\n Inc  (the  “Company”  or  “Lyft”)  started  a  movement  to  revolutionize  transportation.  In  2012,  we  launched  our  peer-to-peer  marketplace  for  on-demandridesharing\\n and have continued to pioneer innovations aligned with our mission. Today, Lyft is one of the largest multimodal transportation networks in the United Statesand Canada.\\nWe\\n believe that the world is at the beginning of a shift away from car ownership to Transportation-as-a-Service (“TaaS”). Lyft is at the forefront of this massivesocietal\\n change. Our ridesharing marketplace connects drivers with riders via the Lyft mobile application (the “Lyft App”) in cities across the United States and in selectcities\\n in Canada. We believe that our ridesharing marketplace allows riders to use their cars less and offers a viable alternative to car ownership while providing driversusing\\n our platform the freedom and independence to choose when, where, how long and on what platforms they work. As this evolution continues, we believe there is amassive opportunity for us to i\\nmprove the lives of riders by connecting them to more affordable and convenient transportation options.We\\n are laser-focused on revolutionizing transportation. We have established a scaled network of users brought together by our robust technology platform (the“Lyft\\n Platform”)  that  powers  rides  and  connections  every  day.  We  leverage  our  technology  platform,  the  scale  and  density  of  our  user  network  and  insights  from  asignificant\\n number of rides to continuously improve our ridesharing marketplace efficiency and develop new offerings. We’ve also taken steps to ensure our network iswell positioned to benefit \\nfrom technological innovation in mobility.Today,\\n our offerings include an expanded set of transportation modes in select cities, such as access to a network of shared bikes and scooters (“Light Vehicles”)for\\n shorter rides and first-mile and last-mile legs of multimodal trips, information about nearby public transit routes, and Lyft Rentals, an offering for renters who want torent a car for a fix\\ned period of time for personal use. We believe our transportation network offers a viable alternative to car ownership.We\\n generate substantially all of our revenue from our ridesharing marketplace that connects drivers and riders. We collect service fees and commissions fromdrivers\\n for their use of our ridesharing marketplace. As drivers accept more rider leads and complete more rides, we earn more revenue. We also generate revenue fromriders\\n renting  Light  Vehicles,  drivers  renting  vehicles  through  Express  Drive,  Lyft  Rentals  renters,  Lyft  Driver  Center  and  Lyft  Auto  Care  users,  and  by  making  ourridesharing\\n marketplace available to organizations through our Lyft Business offerings, such as our Concierge and Corporate Business Travel programs. In the secondquarter of 2021, we began genera\\nting revenues from licensing and data access agreements, primarily with third-party autonomous vehicle companies.We\\n have made focused and substantial  investments  in support of our mission. For example,  to continually  launch new innovations on our platform,  we haveinvested\\n heavily in research and development and have completed multiple strategic acquisitions. We have also invested in sales and marketing to grow our community,cultivate a diffe\\nrentiated brand that resonates with drivers and riders and promote further brand awareness. Together, these investments have enabled us to create a powerfulmultimodal platfor\\nm and scaled user network.Notwithstanding\\n the impact of COVID-19, we are continuing to invest in the future, both organically and through acquisitions of complementary businesses. Wealso\\n continue to invest in the expansion of our network of Light Vehicles and Lyft Autonomous, which focuses on the deployment and scaling of third-party self-drivingtechnology\\n on the Lyft network. Our strategy is to always be at the forefront of transportation innovation, and we believe that through these investments, we will continueto be well positioned as a le\\nader in TaaS. Even as we invest in the business, we also remain focused on finding ways to operate more efficiently.To advance our mission, we aim\\n to build the defining brand of our generation and to advocate through our commitment to social and environmental responsibility.We\\n believe  that  our  brand  represents  freedom  at  your  fingertips:  freedom  from  the  stresses  of  car  ownership  and  freedom  to  do  and  see  more.', start_char_idx=0, end_char_idx=4647, text_template='{metadata_str}\\n\\n{content}', metadata_template='{key}: {value}', metadata_seperator='\\n'), score=0.8759779930114746)],\n",
            "         metadata={   '137b16f7-f107-43db-817c-85f00dac12a7': {   'creation_date': '2024-03-22',\n",
            "                                                                  'file_name': 'lyft_2021.pdf',\n",
            "                                                                  'file_path': '/content/data/10k/lyft_2021.pdf',\n",
            "                                                                  'file_size': 1440303,\n",
            "                                                                  'file_type': 'application/pdf',\n",
            "                                                                  'last_modified_date': '2024-03-22',\n",
            "                                                                  'page_label': '79'},\n",
            "                      'e2fe4934-168e-4d22-8d99-87bddfc60d56': {   'creation_date': '2024-03-22',\n",
            "                                                                  'file_name': 'lyft_2021.pdf',\n",
            "                                                                  'file_path': '/content/data/10k/lyft_2021.pdf',\n",
            "                                                                  'file_size': 1440303,\n",
            "                                                                  'file_type': 'application/pdf',\n",
            "                                                                  'last_modified_date': '2024-03-22',\n",
            "                                                                  'page_label': '5'}})\n",
            "CPU times: user 27.4 ms, sys: 2.08 ms, total: 29.5 ms\n",
            "Wall time: 1 s\n"
          ]
        }
      ],
      "source": [
        "%%time\n",
        "\n",
        "## The answer to this question doesn't exist in the Lyft_10k filing!\n",
        "## Let's see what we get back\n",
        "response = index.as_query_engine().query(\"How much money did Lyft make in 2018?\")\n",
        "print (response)\n",
        "print()\n",
        "pprint(response, indent=4)"
      ]
    },
    {
      "cell_type": "code",
      "execution_count": 18,
      "metadata": {
        "colab": {
          "base_uri": "https://localhost:8080/"
        },
        "id": "JJz4thgWTxCC",
        "outputId": "c7721c3f-e915-46e2-9fdb-fc3012cf5cd8"
      },
      "outputs": [
        {
          "name": "stdout",
          "output_type": "stream",
          "text": [
            "Uber went public on May 14, 2019.\n",
            "\n",
            "Response(response='Uber went public on May 14, 2019.',\n",
            "         source_nodes=[   NodeWithScore(node=TextNode(id_='8b94e298-1153-4b99-bcd5-f0d7e7ce9d4e', embedding=None, metadata={'page_label': '119', 'file_name': 'uber_2021.pdf', 'file_path': '/content/data/10k/uber_2021.pdf', 'file_type': 'application/pdf', 'file_size': 1880483, 'creation_date': '2024-03-22', 'last_modified_date': '2024-03-22'}, excluded_embed_metadata_keys=['file_name', 'file_type', 'file_size', 'creation_date', 'last_modified_date', 'last_accessed_date'], excluded_llm_metadata_keys=['file_name', 'file_type', 'file_size', 'creation_date', 'last_modified_date', 'last_accessed_date'], relationships={<NodeRelationship.SOURCE: '1'>: RelatedNodeInfo(node_id='6c43260d-f702-46de-a9d9-027090556f09', node_type=<ObjectType.DOCUMENT: '4'>, metadata={'page_label': '119', 'file_name': 'uber_2021.pdf', 'file_path': '/content/data/10k/uber_2021.pdf', 'file_type': 'application/pdf', 'file_size': 1880483, 'creation_date': '2024-03-22', 'last_modified_date': '2024-03-22'}, hash='e08881bd16e58b688a1d9d3810e0658891d9685893245428382fd772fb92c97a'), <NodeRelationship.PREVIOUS: '2'>: RelatedNodeInfo(node_id='c5e7f4b0-1072-4a18-a20c-794ae19ad6de', node_type=<ObjectType.TEXT: '1'>, metadata={'page_label': '118', 'file_name': 'uber_2021.pdf', 'file_path': '/content/data/10k/uber_2021.pdf', 'file_type': 'application/pdf', 'file_size': 1880483, 'creation_date': '2024-03-22', 'last_modified_date': '2024-03-22'}, hash='b9498a70535e17a46435906465d06862f2865605ec4f1c5e8bd9ea90db984a7c'), <NodeRelationship.NEXT: '3'>: RelatedNodeInfo(node_id='54067c06-484c-4ea6-a1a9-ba93552ba744', node_type=<ObjectType.TEXT: '1'>, metadata={}, hash='c0eb60fc678612f883149c9effb1bd9d21228259e6d93bffc0824cea289c8270')}, text=\"Note 11 – Stockholders' EquityInitial Public Offering\\nOn\\n May 14, 2019, we closed our IPO, in which we issued and sold 180 million shares of our common stock. The price was $45.00 per share. We received netproceeds of\\n approximately $8.0 billion from the IPO after deducting underwriting discounts and commissions of $106 million and offering expenses. Upon closingof\\n the IPO: (i) all shares of our outstanding redeemable convertible preferred stock automatically converted into 905 million shares of common stock; (ii) holdersof\\n the 2021 and 2022 Convertible Notes elected to convert all outstanding notes into 94 million shares of common stock; and, (iii) an outstanding warrant whichbecame\\n exercisable upon the closing of the IPO was exercised to purchase 0.2 million shares of common stock. In addition, we recognized a net gain of $327million\\n in other income (expense), net in the consolidated statement of operations upon conversion of the 2021 and 2022 Convertible Notes during the secondquarter\\n of  2019,  which  consisted  of  $444  million  gain  on  extinguishment  of  debt  and  settlement  of  derivatives,  partially  offset  by  $117  million  loss  from  thechange in\\n fair value of embedded derivatives prior to settlement. The extinguishment of debt resulted in the derecognition of the carrying value of the debt balanceand settlement of emb\\nedded derivatives.We\\n had granted RSAs, RSUs, SARs, and stock options that vest only upon the satisfaction of both time-based service and performance-based conditions.Through\\n May 9, 2019, no stock-based compensation expense had been recognized for such awards with a performance condition based on the occurrence of aqualifying\\n event (such as an IPO), as such qualifying event was not probable. Upon our IPO, we recognized $3.6 billion of stock-based compensation expense.Upon\\n the IPO, shares were issued to satisfy the vesting of RSUs with a performance condition. To meet the related tax withholding requirements, we withheld 29million\\n of the 76 million shares of common stock issued. Based on the IPO public offering price of $45.00 per share, the tax withholding obligation was $1.3billion.\\nAs\\n a  result  of  stock-based  compensation  expense  for  vested  and  unvested  RSUs  upon  the  IPO,  we  recorded  an  additional  deferred  tax  assetof approximately $1.1 bill\\nion that was offset by a full valuation allowance.PayPal, Inc. (“PayPal”) Private Plac\\nementOn\\n May 16, 2019, we closed a private placement by PayPal, Inc. in which we issued and sold 11 million shares of our common stock at a purchase price of$45.00 per share and received \\naggregate proceeds of $500 million.Redeemable Convertible Preferr\\ned StockUpon\\n closing of the IPO, all shares of our outstanding redeemable convertible preferred stock automatically converted into 905 million shares of commonstock.\\nDuring\\n 2019, the warrant to purchase 922,655 Series G redeemable convertible preferred stock was exercised in full and the fair value of the warrant wasreclassified\\n to redeemable convertible preferred stock. Also during 2019, the warrant to purchase 150,071 Series E redeemable convertible preferred stock wasexercised. As a\\n result of the IPO, both the Series G and Series E warrants automatically converted to shares of common stock. For additional information related toour IPO, refer to section above \\ntitled “Initial Public Offering.”Preferred Stock\\nAfter\\n conversion of the above mentioned redeemable convertible preferred stock into common stock upon closing of our IPO, our board of directors wasgranted\\n the authority to issue up to 10 million shares of preferred stock and to determine the price, rights, preferences, privileges and restrictions, including votingrights,\\n of  those  shares  without  any  further  vote  or  action  by  the  stockholders.  As  of  December  31,  2020  and  2021,  there  was  no  preferred  stock  issued  andoutstanding.\\nCommon Stock\\nAs of December 31, 2021, we have the authority to\\n issue 5.0 billion shares of common stock with a par value of $0.00001 per share. Holders of common stockare\\n entitled to dividends when and if declared by the board of directors, subject to the rights of the holders of all classes of stock outstanding having priority rightsto dividends.\", start_char_idx=0, end_char_idx=4275, text_template='{metadata_str}\\n\\n{content}', metadata_template='{key}: {value}', metadata_seperator='\\n'), score=0.8586763143539429),\n",
            "                          NodeWithScore(node=TextNode(id_='c83df850-6951-4079-84ad-857e55fcac8d', embedding=None, metadata={'page_label': '82', 'file_name': 'uber_2021.pdf', 'file_path': '/content/data/10k/uber_2021.pdf', 'file_type': 'application/pdf', 'file_size': 1880483, 'creation_date': '2024-03-22', 'last_modified_date': '2024-03-22'}, excluded_embed_metadata_keys=['file_name', 'file_type', 'file_size', 'creation_date', 'last_modified_date', 'last_accessed_date'], excluded_llm_metadata_keys=['file_name', 'file_type', 'file_size', 'creation_date', 'last_modified_date', 'last_accessed_date'], relationships={<NodeRelationship.SOURCE: '1'>: RelatedNodeInfo(node_id='fe0e3114-8401-43ba-8260-e40511576d15', node_type=<ObjectType.DOCUMENT: '4'>, metadata={'page_label': '82', 'file_name': 'uber_2021.pdf', 'file_path': '/content/data/10k/uber_2021.pdf', 'file_type': 'application/pdf', 'file_size': 1880483, 'creation_date': '2024-03-22', 'last_modified_date': '2024-03-22'}, hash='136233409ff48057dcc1bc997ac1fb66f3ed3c3adf85d1180f1c1ac72371402b'), <NodeRelationship.PREVIOUS: '2'>: RelatedNodeInfo(node_id='ffdb81fa-4b3c-47e8-8afa-e19e580bc6a3', node_type=<ObjectType.TEXT: '1'>, metadata={'page_label': '81', 'file_name': 'uber_2021.pdf', 'file_path': '/content/data/10k/uber_2021.pdf', 'file_type': 'application/pdf', 'file_size': 1880483, 'creation_date': '2024-03-22', 'last_modified_date': '2024-03-22'}, hash='3d5da8c82f7a7ef1ded6a235cb181ed4bcff43af648ac8582a83fe529336eb57'), <NodeRelationship.NEXT: '3'>: RelatedNodeInfo(node_id='24023f81-a251-4066-88fc-0338f0139106', node_type=<ObjectType.TEXT: '1'>, metadata={}, hash='a675f9058febe3d50dca7313a4701a97de9d98164c4ccf8e6b04598a1ccdafed')}, text='UBER TECHNOLOGIES, INC.CONSOLIDATED STATEMENTS OF\\n CASH FLOWS(In millions)\\nYear Ended December 31,\\n2019\\n2020 2021 Cash flows from operating activities\\nNet loss including non-controll\\ning interests$ (8,512) $ (6,788) $ (570) Adjustments to reconcile n\\net loss to net cash used in operating activities:Depreciation and amortization\\n472 575 902 Bad debt expense\\n92 76 109 Stock-based compensation\\n4,596 827 1,168 Gain on extinguishment of conver\\ntible notes and settlement of derivatives(444) — — Gain from sale of investm\\nents— — (413) Gain on business divestitures, net\\n— (204) (1,684) Deferred income taxes\\n(88) (266) (692) Impairment of debt and \\nequity securities— 1,690 — Impairments of goodwill, long\\n-lived assets and other assets— 404 116 Loss from equity method invest\\nments34 34 37 Unrealized (gain) loss on deb\\nt and equity securities, net(2) 125 (1,142) Unrealized foreign cur\\nrency transactions16 48 38 Other\\n15 2 4 Change in assets and liabili\\nties, net of impact of business acquisitions and disposals:Accounts receivable\\n(407) 142 (597) Prepaid expenses and other asse\\nts(478) 94 (236) Collateral held by insurer\\n(1,199) 339 860 Operating lease right-o\\nf-use assets201 341 165 Accounts payable\\n95 (133) 90 Accrued insurance reserves\\n481 (3) 516 Accrued expenses and other li\\nabilities960 83 1,068 Operating lease liabilities\\n(153) (131) (184) Net cash used in operating ac\\ntivities(4,321) (2,745) (445) Cash flows from investing activities\\nPurchases of property and equipm\\nent(588) (616) (298) Purchases of non-marketabl\\ne equity securities(100) (10) (982) Purchases of marketable s\\necurities(441) (2,101) (1,113) Proceeds from maturities an\\nd sales of marketable securities2 1,360 2,291 Proceeds from sale of \\nnon-marketable equity securities— — 500 Proceeds from sale of equi\\nty method investments— — 1,000 Proceeds from business disposal, ne\\nt of cash divested293 — — Acquisition of businesses, net of c\\nash acquired(7) (1,471) (2,314) Return of capital from \\nequity method investee— 91 — Purchase of notes receivab\\nles— (185) (297) Other investing activities\\n51 63 12 Net cash used in investing act\\nivities(790) (2,869) (1,201) Cash flows from financing activities\\nProceeds from issuance of co\\nmmon stock upon initial public offering, net of offering costs7,973 — — Taxes paid related to ne\\nt share settlement of equity awards(1,573) (17) (27) Proceeds from issuance of co\\nmmon stock related to private placement500 — — 80', start_char_idx=0, end_char_idx=2440, text_template='{metadata_str}\\n\\n{content}', metadata_template='{key}: {value}', metadata_seperator='\\n'), score=0.8582104444503784)],\n",
            "         metadata={   '8b94e298-1153-4b99-bcd5-f0d7e7ce9d4e': {   'creation_date': '2024-03-22',\n",
            "                                                                  'file_name': 'uber_2021.pdf',\n",
            "                                                                  'file_path': '/content/data/10k/uber_2021.pdf',\n",
            "                                                                  'file_size': 1880483,\n",
            "                                                                  'file_type': 'application/pdf',\n",
            "                                                                  'last_modified_date': '2024-03-22',\n",
            "                                                                  'page_label': '119'},\n",
            "                      'c83df850-6951-4079-84ad-857e55fcac8d': {   'creation_date': '2024-03-22',\n",
            "                                                                  'file_name': 'uber_2021.pdf',\n",
            "                                                                  'file_path': '/content/data/10k/uber_2021.pdf',\n",
            "                                                                  'file_size': 1880483,\n",
            "                                                                  'file_type': 'application/pdf',\n",
            "                                                                  'last_modified_date': '2024-03-22',\n",
            "                                                                  'page_label': '82'}})\n",
            "CPU times: user 39.8 ms, sys: 3.76 ms, total: 43.5 ms\n",
            "Wall time: 1.2 s\n"
          ]
        }
      ],
      "source": [
        "%%time\n",
        "\n",
        "response = index.as_query_engine().query(\"When did Uber go IPO?\")\n",
        "print (response)\n",
        "print()\n",
        "pprint(response, indent=4)"
      ]
    },
    {
      "cell_type": "code",
      "execution_count": 19,
      "metadata": {
        "colab": {
          "base_uri": "https://localhost:8080/"
        },
        "id": "5b6ezv1QTxCC",
        "outputId": "999f4024-373b-40bf-adb5-2e6e6cdc7a03"
      },
      "outputs": [
        {
          "name": "stdout",
          "output_type": "stream",
          "text": [
            "In the year ending December 31, 2021, the stock-based compensation for Lyft was $721,710. For the year ending December 31, 2020, it was $565,807. And in the year ending December 31, 2019, it was $1,599,311.\n",
            "\n",
            "Response(response='In the year ending December 31, 2021, the stock-based '\n",
            "                  'compensation for Lyft was $721,710. For the year ending '\n",
            "                  'December 31, 2020, it was $565,807. And in the year ending '\n",
            "                  'December 31, 2019, it was $1,599,311.',\n",
            "         source_nodes=[   NodeWithScore(node=TextNode(id_='40cefe84-7a2c-4a04-9bfa-7bf13b18c0e4', embedding=None, metadata={'page_label': '82', 'file_name': 'lyft_2021.pdf', 'file_path': '/content/data/10k/lyft_2021.pdf', 'file_type': 'application/pdf', 'file_size': 1440303, 'creation_date': '2024-03-22', 'last_modified_date': '2024-03-22'}, excluded_embed_metadata_keys=['file_name', 'file_type', 'file_size', 'creation_date', 'last_modified_date', 'last_accessed_date'], excluded_llm_metadata_keys=['file_name', 'file_type', 'file_size', 'creation_date', 'last_modified_date', 'last_accessed_date'], relationships={<NodeRelationship.SOURCE: '1'>: RelatedNodeInfo(node_id='70f011b7-fbc1-4067-b7fe-f16d09bde3c9', node_type=<ObjectType.DOCUMENT: '4'>, metadata={'page_label': '82', 'file_name': 'lyft_2021.pdf', 'file_path': '/content/data/10k/lyft_2021.pdf', 'file_type': 'application/pdf', 'file_size': 1440303, 'creation_date': '2024-03-22', 'last_modified_date': '2024-03-22'}, hash='5b9c53e71e916badc71671607e73fa952fe18739c86af25d4c70a12a69df9344'), <NodeRelationship.PREVIOUS: '2'>: RelatedNodeInfo(node_id='efd3b5be-ec2a-4b30-8205-378039005e7b', node_type=<ObjectType.TEXT: '1'>, metadata={'page_label': '81', 'file_name': 'lyft_2021.pdf', 'file_path': '/content/data/10k/lyft_2021.pdf', 'file_type': 'application/pdf', 'file_size': 1440303, 'creation_date': '2024-03-22', 'last_modified_date': '2024-03-22'}, hash='758a82bbe562cb32c40f92f65ec20810db7135817418684bd11ccf3c37f8867b'), <NodeRelationship.NEXT: '3'>: RelatedNodeInfo(node_id='72cb7b6c-6a96-4650-a0d6-5fa4154886e5', node_type=<ObjectType.TEXT: '1'>, metadata={}, hash='76dea001e490725d0212811e2e46c354bbbd396830e7b9426912cc8c58c53f1b')}, text='Lyft, Inc.Consolidated Statements of Redeemable Convertible Pr\\neferred Stock and Stockholders’ Equity (Deficit)(in thousands)\\nRedeemable\\nConvertible\\nPreferred Stock\\nClass A and Class BCommon Stock\\nAdditionalPaid-in Capital\\nAccumulatedDeficit\\nAccumulatedOther\\nComprehensive\\nIncome (Loss)\\nTotalStockholders’\\nEquity (Deficit)\\nShares Amount Shares Amount Balance as of December 31, 2020\\n— — 323,737 $ 3 $8,977,061 $ (7,300,428)$ (473) $ 1,676,163 Issuance of common stock upon exercise of stock\\noptions\\n— — 812 — 5,184 — — 5,184 Issuance of common stock upon settlement of restricted\\nstock units\\n— — 19,926 — — — — — Shares withheld related to net share settlement\\n— — (509) — (26,298) — — (26,298) Issuance of common stock under employee stock\\npurchase plan\\n— — 972 — 28,637 — — 28,637 Settlement of convertible senior notes\\n— — — — (1) — — (1) Stock-based compensation\\n— — — — 721,710 — — 721,710 Other comprehensive loss\\n— — — — — — (2,038) (2,038) Net loss\\n— — — — — (1,009,359) — (1,009,359) Balance as of December 31, 2021\\n— $ — 344,938 $ 3 $9,706,293 $ (8,309,787)$ (2,511) $ 1,393,998 The accompanying notes are \\nan integral part of these consolidated financial statements.82', start_char_idx=0, end_char_idx=1179, text_template='{metadata_str}\\n\\n{content}', metadata_template='{key}: {value}', metadata_seperator='\\n'), score=0.8933535814285278),\n",
            "                          NodeWithScore(node=TextNode(id_='efd3b5be-ec2a-4b30-8205-378039005e7b', embedding=None, metadata={'page_label': '81', 'file_name': 'lyft_2021.pdf', 'file_path': '/content/data/10k/lyft_2021.pdf', 'file_type': 'application/pdf', 'file_size': 1440303, 'creation_date': '2024-03-22', 'last_modified_date': '2024-03-22'}, excluded_embed_metadata_keys=['file_name', 'file_type', 'file_size', 'creation_date', 'last_modified_date', 'last_accessed_date'], excluded_llm_metadata_keys=['file_name', 'file_type', 'file_size', 'creation_date', 'last_modified_date', 'last_accessed_date'], relationships={<NodeRelationship.SOURCE: '1'>: RelatedNodeInfo(node_id='11348c9d-ddfd-4b21-ab00-052dd12a5418', node_type=<ObjectType.DOCUMENT: '4'>, metadata={'page_label': '81', 'file_name': 'lyft_2021.pdf', 'file_path': '/content/data/10k/lyft_2021.pdf', 'file_type': 'application/pdf', 'file_size': 1440303, 'creation_date': '2024-03-22', 'last_modified_date': '2024-03-22'}, hash='1733b9200655d7cb7258c01bde93190045c948ec4463d7d1631887affc28e1b8'), <NodeRelationship.PREVIOUS: '2'>: RelatedNodeInfo(node_id='2322ac62-ed7e-4d0a-97f6-e2b4691e5a91', node_type=<ObjectType.TEXT: '1'>, metadata={'page_label': '80', 'file_name': 'lyft_2021.pdf', 'file_path': '/content/data/10k/lyft_2021.pdf', 'file_type': 'application/pdf', 'file_size': 1440303, 'creation_date': '2024-03-22', 'last_modified_date': '2024-03-22'}, hash='991dfc67e7dd17442f4c02a684ab6140fa87bba3dab6c365c915bf4408ee480d'), <NodeRelationship.NEXT: '3'>: RelatedNodeInfo(node_id='40cefe84-7a2c-4a04-9bfa-7bf13b18c0e4', node_type=<ObjectType.TEXT: '1'>, metadata={}, hash='0e7364308c583d9ffda947bd7713db5ceb0d2c36ebb73211ca72561b41706da8')}, text='Lyft, Inc.Consolidated Statements of Redeemable Convertible Pr\\neferred Stock and Stockholders’ Equity (Deficit)(in thousands)\\nRedeemable\\nConvertible\\nPreferred Stock\\nClass A and Class BCommon Stock\\nAdditionalPaid-in\\nCapital\\nAccumulatedDeficit\\nAccumulatedOther\\nComprehensive\\nIncome (Loss)\\nTotalStockholders’\\nEquity (Deficit)\\nShares Amount Shares Amount Balance as of December 31, 2018\\n219,176 $ 5,152,047 22,438 $ — $ 73,916 $ (2,945,330)$ 133 $ (2,871,281)Issuance of common stock upon exercise of stock\\noptions\\n— — 10,855 — 18,336 — — 18,336 Issuance of common stock upon settlement of RSUs\\n— — 28,622 — — — — — Issuance of common stock under employee stock\\npurchase plan\\n— — 404 — 14,767 — — 14,767 Shares withheld related to net share settlement\\n— — (14,394) — (942,982) — — (942,982) Issuance of common in connection with initial public\\noffering, net of offering costs, underwriting discounts\\nand commissions\\n— — 35,497 1 2,483,622 — — 2,483,623 Conversion of redeemable convertible preferred stock\\nto common stock in connection with initia\\nl publicoffering\\n(219,176)(5,152,047) 219,176 2 5,152,045 — — 5,152,047 Cancelled escrow shares related to business\\ncombination\\n— — (2) — (90) — — (90) Vesting of early exercised stock options\\n— — — — 2 — — 2 Stock-based compensation\\n— — — — 1,599,311 — — 1,599,311 Other comprehensive income\\n— — — — — — 2,592 2,592 Net loss\\n— — — — — (2,602,241) — (2,602,241) Balance as of December 31, 2019\\n— $ — 302,596 $ 3 $8,398,927 $ (5,547,571)$ 2,725 $ 2,854,084 Issuance of common stock upon exercise of stock\\noptions\\n— — 1,039 — 4,673 — — 4,673 Issuance of common stock upon settlement of\\nrestricted stock units\\n— — 19,762 — — — — — Shares withheld related to net share settlement\\n— — (552) — (20,240) — — (20,240) Issuance of common stock under employee stock\\npurchase plan\\n— — 892 — 21,351 — — 21,351 Equity component of the convertible senior notes\\nissued, net of tax and offering costs\\n— — — — 139,224 — — 139,224 Purchase of capped call\\n— — — — (132,681) — — (132,681) Stock-based compensation\\n— — — — 565,807 — — 565,807 Other comprehensive loss\\n— — — — — — (3,198) (3,198) Net loss\\n— — — — — (1,752,857) — (1,752,857) Balance as of December 31, 2020\\n— $ — 323,737 $ 3 $8,977,061 $ (7,300,428)$ (473) $ 1,676,163 The accompanying notes are \\nan integral part of these consolidated financial statements.81', start_char_idx=0, end_char_idx=2348, text_template='{metadata_str}\\n\\n{content}', metadata_template='{key}: {value}', metadata_seperator='\\n'), score=0.8912490010261536)],\n",
            "         metadata={   '40cefe84-7a2c-4a04-9bfa-7bf13b18c0e4': {   'creation_date': '2024-03-22',\n",
            "                                                                  'file_name': 'lyft_2021.pdf',\n",
            "                                                                  'file_path': '/content/data/10k/lyft_2021.pdf',\n",
            "                                                                  'file_size': 1440303,\n",
            "                                                                  'file_type': 'application/pdf',\n",
            "                                                                  'last_modified_date': '2024-03-22',\n",
            "                                                                  'page_label': '82'},\n",
            "                      'efd3b5be-ec2a-4b30-8205-378039005e7b': {   'creation_date': '2024-03-22',\n",
            "                                                                  'file_name': 'lyft_2021.pdf',\n",
            "                                                                  'file_path': '/content/data/10k/lyft_2021.pdf',\n",
            "                                                                  'file_size': 1440303,\n",
            "                                                                  'file_type': 'application/pdf',\n",
            "                                                                  'last_modified_date': '2024-03-22',\n",
            "                                                                  'page_label': '81'}})\n",
            "CPU times: user 43.7 ms, sys: 3.91 ms, total: 47.6 ms\n",
            "Wall time: 2.59 s\n"
          ]
        }
      ],
      "source": [
        "%%time\n",
        "\n",
        "response = index.as_query_engine().query(\"What were the Stock-based compensation for Lyft?\")\n",
        "print (response)\n",
        "print()\n",
        "pprint(response, indent=4)"
      ]
    },
    {
      "cell_type": "markdown",
      "metadata": {
        "id": "FtCYYaPYlYls"
      },
      "source": [
        "## Try your own queries\n",
        "\n",
        "Inspect the PDFs, and ask away.\n",
        "\n",
        "Here are few things to try\n",
        "\n",
        "- ask question about data in tables.  Are we getting accurate answers?\n",
        "- Ask vague questions, e.g \"which company is more environmentally friendly\".  What do we get back?"
      ]
    },
    {
      "cell_type": "code",
      "execution_count": 20,
      "metadata": {
        "colab": {
          "base_uri": "https://localhost:8080/"
        },
        "id": "ozjgTko9kIOI",
        "outputId": "ff1cf643-36c4-4e10-cf8c-2f90f00e9562"
      },
      "outputs": [
        {
          "name": "stdout",
          "output_type": "stream",
          "text": [
            "CPU times: user 24 µs, sys: 0 ns, total: 24 µs\n",
            "Wall time: 48.4 µs\n"
          ]
        }
      ],
      "source": [
        "\n",
        "\n",
        "%%time\n",
        "\n",
        "# response = index.as_query_engine().query(\"YOUR QUERY GOES HERE\")\n",
        "# print (response)\n",
        "# print()\n",
        "# pprint(response, indent=4)"
      ]
    }
  ],
  "metadata": {
    "accelerator": "GPU",
    "colab": {
      "gpuType": "T4",
      "provenance": []
    },
    "kernelspec": {
      "display_name": "Python 3",
      "name": "python3"
    },
    "language_info": {
      "codemirror_mode": {
        "name": "ipython",
        "version": 3
      },
      "file_extension": ".py",
      "mimetype": "text/x-python",
      "name": "python",
      "nbconvert_exporter": "python",
      "pygments_lexer": "ipython3",
      "version": "3.11.8"
    },
    "widgets": {
      "application/vnd.jupyter.widget-state+json": {
        "03307bfcb6fe4d20a2fba74737ceb3e1": {
          "model_module": "@jupyter-widgets/base",
          "model_module_version": "1.2.0",
          "model_name": "LayoutModel",
          "state": {
            "_model_module": "@jupyter-widgets/base",
            "_model_module_version": "1.2.0",
            "_model_name": "LayoutModel",
            "_view_count": null,
            "_view_module": "@jupyter-widgets/base",
            "_view_module_version": "1.2.0",
            "_view_name": "LayoutView",
            "align_content": null,
            "align_items": null,
            "align_self": null,
            "border": null,
            "bottom": null,
            "display": null,
            "flex": null,
            "flex_flow": null,
            "grid_area": null,
            "grid_auto_columns": null,
            "grid_auto_flow": null,
            "grid_auto_rows": null,
            "grid_column": null,
            "grid_gap": null,
            "grid_row": null,
            "grid_template_areas": null,
            "grid_template_columns": null,
            "grid_template_rows": null,
            "height": null,
            "justify_content": null,
            "justify_items": null,
            "left": null,
            "margin": null,
            "max_height": null,
            "max_width": null,
            "min_height": null,
            "min_width": null,
            "object_fit": null,
            "object_position": null,
            "order": null,
            "overflow": null,
            "overflow_x": null,
            "overflow_y": null,
            "padding": null,
            "right": null,
            "top": null,
            "visibility": null,
            "width": null
          }
        },
        "0640caea921543759c580c576a1dedff": {
          "model_module": "@jupyter-widgets/base",
          "model_module_version": "1.2.0",
          "model_name": "LayoutModel",
          "state": {
            "_model_module": "@jupyter-widgets/base",
            "_model_module_version": "1.2.0",
            "_model_name": "LayoutModel",
            "_view_count": null,
            "_view_module": "@jupyter-widgets/base",
            "_view_module_version": "1.2.0",
            "_view_name": "LayoutView",
            "align_content": null,
            "align_items": null,
            "align_self": null,
            "border": null,
            "bottom": null,
            "display": null,
            "flex": null,
            "flex_flow": null,
            "grid_area": null,
            "grid_auto_columns": null,
            "grid_auto_flow": null,
            "grid_auto_rows": null,
            "grid_column": null,
            "grid_gap": null,
            "grid_row": null,
            "grid_template_areas": null,
            "grid_template_columns": null,
            "grid_template_rows": null,
            "height": null,
            "justify_content": null,
            "justify_items": null,
            "left": null,
            "margin": null,
            "max_height": null,
            "max_width": null,
            "min_height": null,
            "min_width": null,
            "object_fit": null,
            "object_position": null,
            "order": null,
            "overflow": null,
            "overflow_x": null,
            "overflow_y": null,
            "padding": null,
            "right": null,
            "top": null,
            "visibility": null,
            "width": null
          }
        },
        "0fe0d864248c488f93dfc30c1df75902": {
          "model_module": "@jupyter-widgets/controls",
          "model_module_version": "1.5.0",
          "model_name": "HTMLModel",
          "state": {
            "_dom_classes": [],
            "_model_module": "@jupyter-widgets/controls",
            "_model_module_version": "1.5.0",
            "_model_name": "HTMLModel",
            "_view_count": null,
            "_view_module": "@jupyter-widgets/controls",
            "_view_module_version": "1.5.0",
            "_view_name": "HTMLView",
            "description": "",
            "description_tooltip": null,
            "layout": "IPY_MODEL_5f154d31a4d54aa1b9b7d8c8696e4b4f",
            "placeholder": "​",
            "style": "IPY_MODEL_99c472139fb3461d8de0481f5b51bc46",
            "value": " 125/125 [00:00&lt;00:00, 8.18kB/s]"
          }
        },
        "145eda7fe1344236a67cb6995d4882b8": {
          "model_module": "@jupyter-widgets/base",
          "model_module_version": "1.2.0",
          "model_name": "LayoutModel",
          "state": {
            "_model_module": "@jupyter-widgets/base",
            "_model_module_version": "1.2.0",
            "_model_name": "LayoutModel",
            "_view_count": null,
            "_view_module": "@jupyter-widgets/base",
            "_view_module_version": "1.2.0",
            "_view_name": "LayoutView",
            "align_content": null,
            "align_items": null,
            "align_self": null,
            "border": null,
            "bottom": null,
            "display": null,
            "flex": null,
            "flex_flow": null,
            "grid_area": null,
            "grid_auto_columns": null,
            "grid_auto_flow": null,
            "grid_auto_rows": null,
            "grid_column": null,
            "grid_gap": null,
            "grid_row": null,
            "grid_template_areas": null,
            "grid_template_columns": null,
            "grid_template_rows": null,
            "height": null,
            "justify_content": null,
            "justify_items": null,
            "left": null,
            "margin": null,
            "max_height": null,
            "max_width": null,
            "min_height": null,
            "min_width": null,
            "object_fit": null,
            "object_position": null,
            "order": null,
            "overflow": null,
            "overflow_x": null,
            "overflow_y": null,
            "padding": null,
            "right": null,
            "top": null,
            "visibility": null,
            "width": null
          }
        },
        "16a4f3ca5905489c868c24f80e5996d4": {
          "model_module": "@jupyter-widgets/controls",
          "model_module_version": "1.5.0",
          "model_name": "HTMLModel",
          "state": {
            "_dom_classes": [],
            "_model_module": "@jupyter-widgets/controls",
            "_model_module_version": "1.5.0",
            "_model_name": "HTMLModel",
            "_view_count": null,
            "_view_module": "@jupyter-widgets/controls",
            "_view_module_version": "1.5.0",
            "_view_name": "HTMLView",
            "description": "",
            "description_tooltip": null,
            "layout": "IPY_MODEL_498ec15a512d4b238439a863f8d53a05",
            "placeholder": "​",
            "style": "IPY_MODEL_5f150d25ced94a1b940fa1bd3f7e1f74",
            "value": " 133M/133M [00:00&lt;00:00, 245MB/s]"
          }
        },
        "19cbff7205b84a1688c1ee066f9cfd3d": {
          "model_module": "@jupyter-widgets/controls",
          "model_module_version": "1.5.0",
          "model_name": "DescriptionStyleModel",
          "state": {
            "_model_module": "@jupyter-widgets/controls",
            "_model_module_version": "1.5.0",
            "_model_name": "DescriptionStyleModel",
            "_view_count": null,
            "_view_module": "@jupyter-widgets/base",
            "_view_module_version": "1.2.0",
            "_view_name": "StyleView",
            "description_width": ""
          }
        },
        "1b2618dfe7b54d109c91dad999eb4e2f": {
          "model_module": "@jupyter-widgets/base",
          "model_module_version": "1.2.0",
          "model_name": "LayoutModel",
          "state": {
            "_model_module": "@jupyter-widgets/base",
            "_model_module_version": "1.2.0",
            "_model_name": "LayoutModel",
            "_view_count": null,
            "_view_module": "@jupyter-widgets/base",
            "_view_module_version": "1.2.0",
            "_view_name": "LayoutView",
            "align_content": null,
            "align_items": null,
            "align_self": null,
            "border": null,
            "bottom": null,
            "display": null,
            "flex": null,
            "flex_flow": null,
            "grid_area": null,
            "grid_auto_columns": null,
            "grid_auto_flow": null,
            "grid_auto_rows": null,
            "grid_column": null,
            "grid_gap": null,
            "grid_row": null,
            "grid_template_areas": null,
            "grid_template_columns": null,
            "grid_template_rows": null,
            "height": null,
            "justify_content": null,
            "justify_items": null,
            "left": null,
            "margin": null,
            "max_height": null,
            "max_width": null,
            "min_height": null,
            "min_width": null,
            "object_fit": null,
            "object_position": null,
            "order": null,
            "overflow": null,
            "overflow_x": null,
            "overflow_y": null,
            "padding": null,
            "right": null,
            "top": null,
            "visibility": null,
            "width": null
          }
        },
        "27c003bb6fc14d8582e09b7120aa9412": {
          "model_module": "@jupyter-widgets/base",
          "model_module_version": "1.2.0",
          "model_name": "LayoutModel",
          "state": {
            "_model_module": "@jupyter-widgets/base",
            "_model_module_version": "1.2.0",
            "_model_name": "LayoutModel",
            "_view_count": null,
            "_view_module": "@jupyter-widgets/base",
            "_view_module_version": "1.2.0",
            "_view_name": "LayoutView",
            "align_content": null,
            "align_items": null,
            "align_self": null,
            "border": null,
            "bottom": null,
            "display": null,
            "flex": null,
            "flex_flow": null,
            "grid_area": null,
            "grid_auto_columns": null,
            "grid_auto_flow": null,
            "grid_auto_rows": null,
            "grid_column": null,
            "grid_gap": null,
            "grid_row": null,
            "grid_template_areas": null,
            "grid_template_columns": null,
            "grid_template_rows": null,
            "height": null,
            "justify_content": null,
            "justify_items": null,
            "left": null,
            "margin": null,
            "max_height": null,
            "max_width": null,
            "min_height": null,
            "min_width": null,
            "object_fit": null,
            "object_position": null,
            "order": null,
            "overflow": null,
            "overflow_x": null,
            "overflow_y": null,
            "padding": null,
            "right": null,
            "top": null,
            "visibility": null,
            "width": null
          }
        },
        "2910084ef45b467f813ac6011b92ae41": {
          "model_module": "@jupyter-widgets/controls",
          "model_module_version": "1.5.0",
          "model_name": "HTMLModel",
          "state": {
            "_dom_classes": [],
            "_model_module": "@jupyter-widgets/controls",
            "_model_module_version": "1.5.0",
            "_model_name": "HTMLModel",
            "_view_count": null,
            "_view_module": "@jupyter-widgets/controls",
            "_view_module_version": "1.5.0",
            "_view_name": "HTMLView",
            "description": "",
            "description_tooltip": null,
            "layout": "IPY_MODEL_da23fe6fe1b9435fa826cba60cdfe133",
            "placeholder": "​",
            "style": "IPY_MODEL_63e1ef12330e4999857c91c057b51d4e",
            "value": "config.json: 100%"
          }
        },
        "29b9afa5317b42bea0ad03c3610ba9b8": {
          "model_module": "@jupyter-widgets/controls",
          "model_module_version": "1.5.0",
          "model_name": "HBoxModel",
          "state": {
            "_dom_classes": [],
            "_model_module": "@jupyter-widgets/controls",
            "_model_module_version": "1.5.0",
            "_model_name": "HBoxModel",
            "_view_count": null,
            "_view_module": "@jupyter-widgets/controls",
            "_view_module_version": "1.5.0",
            "_view_name": "HBoxView",
            "box_style": "",
            "children": [
              "IPY_MODEL_412075dd17204c29800086cd2bc27cf3",
              "IPY_MODEL_b27c8e54e5714da1a5e20895279d2fc7",
              "IPY_MODEL_425a95abfc6a4853be3b224ce144a8f9"
            ],
            "layout": "IPY_MODEL_4a18fae7bf1048b99270f489b93a7e9c"
          }
        },
        "2c8465729c854686a13211907b5c194d": {
          "model_module": "@jupyter-widgets/controls",
          "model_module_version": "1.5.0",
          "model_name": "HBoxModel",
          "state": {
            "_dom_classes": [],
            "_model_module": "@jupyter-widgets/controls",
            "_model_module_version": "1.5.0",
            "_model_name": "HBoxModel",
            "_view_count": null,
            "_view_module": "@jupyter-widgets/controls",
            "_view_module_version": "1.5.0",
            "_view_name": "HBoxView",
            "box_style": "",
            "children": [
              "IPY_MODEL_7c071381921947589bfa2dbfeb4f885c",
              "IPY_MODEL_2f2043f6e96d4bfb88dbd83fb8e8b263",
              "IPY_MODEL_c1193881b2aa4d35a172a2c14db7fad9"
            ],
            "layout": "IPY_MODEL_80345bc11c574d00b0cc864ab9ea37bd"
          }
        },
        "2e1fc8485eb2450fbdf1c30a001baaca": {
          "model_module": "@jupyter-widgets/base",
          "model_module_version": "1.2.0",
          "model_name": "LayoutModel",
          "state": {
            "_model_module": "@jupyter-widgets/base",
            "_model_module_version": "1.2.0",
            "_model_name": "LayoutModel",
            "_view_count": null,
            "_view_module": "@jupyter-widgets/base",
            "_view_module_version": "1.2.0",
            "_view_name": "LayoutView",
            "align_content": null,
            "align_items": null,
            "align_self": null,
            "border": null,
            "bottom": null,
            "display": null,
            "flex": null,
            "flex_flow": null,
            "grid_area": null,
            "grid_auto_columns": null,
            "grid_auto_flow": null,
            "grid_auto_rows": null,
            "grid_column": null,
            "grid_gap": null,
            "grid_row": null,
            "grid_template_areas": null,
            "grid_template_columns": null,
            "grid_template_rows": null,
            "height": null,
            "justify_content": null,
            "justify_items": null,
            "left": null,
            "margin": null,
            "max_height": null,
            "max_width": null,
            "min_height": null,
            "min_width": null,
            "object_fit": null,
            "object_position": null,
            "order": null,
            "overflow": null,
            "overflow_x": null,
            "overflow_y": null,
            "padding": null,
            "right": null,
            "top": null,
            "visibility": null,
            "width": null
          }
        },
        "2f2043f6e96d4bfb88dbd83fb8e8b263": {
          "model_module": "@jupyter-widgets/controls",
          "model_module_version": "1.5.0",
          "model_name": "FloatProgressModel",
          "state": {
            "_dom_classes": [],
            "_model_module": "@jupyter-widgets/controls",
            "_model_module_version": "1.5.0",
            "_model_name": "FloatProgressModel",
            "_view_count": null,
            "_view_module": "@jupyter-widgets/controls",
            "_view_module_version": "1.5.0",
            "_view_name": "ProgressView",
            "bar_style": "success",
            "description": "",
            "description_tooltip": null,
            "layout": "IPY_MODEL_2e1fc8485eb2450fbdf1c30a001baaca",
            "max": 366,
            "min": 0,
            "orientation": "horizontal",
            "style": "IPY_MODEL_d36d1f79f65d4b94909b1c088262c3dc",
            "value": 366
          }
        },
        "34e8130acd3041209b8d5b3c2f4b1c3f": {
          "model_module": "@jupyter-widgets/controls",
          "model_module_version": "1.5.0",
          "model_name": "HBoxModel",
          "state": {
            "_dom_classes": [],
            "_model_module": "@jupyter-widgets/controls",
            "_model_module_version": "1.5.0",
            "_model_name": "HBoxModel",
            "_view_count": null,
            "_view_module": "@jupyter-widgets/controls",
            "_view_module_version": "1.5.0",
            "_view_name": "HBoxView",
            "box_style": "",
            "children": [
              "IPY_MODEL_5b6507dd9c6d4f249d2c029fb165e0c5",
              "IPY_MODEL_ad1d75c8eee34d028282e73b464e4a41",
              "IPY_MODEL_16a4f3ca5905489c868c24f80e5996d4"
            ],
            "layout": "IPY_MODEL_89f7e955ae4a4d5f88f2e85cbcef8f24"
          }
        },
        "38dfe26b4d3943049e602a19ab95c7a6": {
          "model_module": "@jupyter-widgets/base",
          "model_module_version": "1.2.0",
          "model_name": "LayoutModel",
          "state": {
            "_model_module": "@jupyter-widgets/base",
            "_model_module_version": "1.2.0",
            "_model_name": "LayoutModel",
            "_view_count": null,
            "_view_module": "@jupyter-widgets/base",
            "_view_module_version": "1.2.0",
            "_view_name": "LayoutView",
            "align_content": null,
            "align_items": null,
            "align_self": null,
            "border": null,
            "bottom": null,
            "display": null,
            "flex": null,
            "flex_flow": null,
            "grid_area": null,
            "grid_auto_columns": null,
            "grid_auto_flow": null,
            "grid_auto_rows": null,
            "grid_column": null,
            "grid_gap": null,
            "grid_row": null,
            "grid_template_areas": null,
            "grid_template_columns": null,
            "grid_template_rows": null,
            "height": null,
            "justify_content": null,
            "justify_items": null,
            "left": null,
            "margin": null,
            "max_height": null,
            "max_width": null,
            "min_height": null,
            "min_width": null,
            "object_fit": null,
            "object_position": null,
            "order": null,
            "overflow": null,
            "overflow_x": null,
            "overflow_y": null,
            "padding": null,
            "right": null,
            "top": null,
            "visibility": null,
            "width": null
          }
        },
        "3deaccdf58aa487dbb937d5ec8ac3c12": {
          "model_module": "@jupyter-widgets/base",
          "model_module_version": "1.2.0",
          "model_name": "LayoutModel",
          "state": {
            "_model_module": "@jupyter-widgets/base",
            "_model_module_version": "1.2.0",
            "_model_name": "LayoutModel",
            "_view_count": null,
            "_view_module": "@jupyter-widgets/base",
            "_view_module_version": "1.2.0",
            "_view_name": "LayoutView",
            "align_content": null,
            "align_items": null,
            "align_self": null,
            "border": null,
            "bottom": null,
            "display": null,
            "flex": null,
            "flex_flow": null,
            "grid_area": null,
            "grid_auto_columns": null,
            "grid_auto_flow": null,
            "grid_auto_rows": null,
            "grid_column": null,
            "grid_gap": null,
            "grid_row": null,
            "grid_template_areas": null,
            "grid_template_columns": null,
            "grid_template_rows": null,
            "height": null,
            "justify_content": null,
            "justify_items": null,
            "left": null,
            "margin": null,
            "max_height": null,
            "max_width": null,
            "min_height": null,
            "min_width": null,
            "object_fit": null,
            "object_position": null,
            "order": null,
            "overflow": null,
            "overflow_x": null,
            "overflow_y": null,
            "padding": null,
            "right": null,
            "top": null,
            "visibility": null,
            "width": null
          }
        },
        "412075dd17204c29800086cd2bc27cf3": {
          "model_module": "@jupyter-widgets/controls",
          "model_module_version": "1.5.0",
          "model_name": "HTMLModel",
          "state": {
            "_dom_classes": [],
            "_model_module": "@jupyter-widgets/controls",
            "_model_module_version": "1.5.0",
            "_model_name": "HTMLModel",
            "_view_count": null,
            "_view_module": "@jupyter-widgets/controls",
            "_view_module_version": "1.5.0",
            "_view_name": "HTMLView",
            "description": "",
            "description_tooltip": null,
            "layout": "IPY_MODEL_4d1df121794e4a1fab3a20b5740e43ee",
            "placeholder": "​",
            "style": "IPY_MODEL_60a0da78901249d5810a6d0f31a39a9a",
            "value": "vocab.txt: 100%"
          }
        },
        "425a95abfc6a4853be3b224ce144a8f9": {
          "model_module": "@jupyter-widgets/controls",
          "model_module_version": "1.5.0",
          "model_name": "HTMLModel",
          "state": {
            "_dom_classes": [],
            "_model_module": "@jupyter-widgets/controls",
            "_model_module_version": "1.5.0",
            "_model_name": "HTMLModel",
            "_view_count": null,
            "_view_module": "@jupyter-widgets/controls",
            "_view_module_version": "1.5.0",
            "_view_name": "HTMLView",
            "description": "",
            "description_tooltip": null,
            "layout": "IPY_MODEL_145eda7fe1344236a67cb6995d4882b8",
            "placeholder": "​",
            "style": "IPY_MODEL_ab587756ec9e478fa285fa4c0fe17864",
            "value": " 232k/232k [00:00&lt;00:00, 2.77MB/s]"
          }
        },
        "4266936a12964c4d9bd16230e738084f": {
          "model_module": "@jupyter-widgets/controls",
          "model_module_version": "1.5.0",
          "model_name": "DescriptionStyleModel",
          "state": {
            "_model_module": "@jupyter-widgets/controls",
            "_model_module_version": "1.5.0",
            "_model_name": "DescriptionStyleModel",
            "_view_count": null,
            "_view_module": "@jupyter-widgets/base",
            "_view_module_version": "1.2.0",
            "_view_name": "StyleView",
            "description_width": ""
          }
        },
        "46e292b4e26f401c9ecfffe052ecfba1": {
          "model_module": "@jupyter-widgets/controls",
          "model_module_version": "1.5.0",
          "model_name": "HTMLModel",
          "state": {
            "_dom_classes": [],
            "_model_module": "@jupyter-widgets/controls",
            "_model_module_version": "1.5.0",
            "_model_name": "HTMLModel",
            "_view_count": null,
            "_view_module": "@jupyter-widgets/controls",
            "_view_module_version": "1.5.0",
            "_view_name": "HTMLView",
            "description": "",
            "description_tooltip": null,
            "layout": "IPY_MODEL_a9eedb4bea3f446f8d925e2d7a876695",
            "placeholder": "​",
            "style": "IPY_MODEL_19cbff7205b84a1688c1ee066f9cfd3d",
            "value": "tokenizer.json: 100%"
          }
        },
        "482c876cb714424d81d9ee3b3b4221a9": {
          "model_module": "@jupyter-widgets/base",
          "model_module_version": "1.2.0",
          "model_name": "LayoutModel",
          "state": {
            "_model_module": "@jupyter-widgets/base",
            "_model_module_version": "1.2.0",
            "_model_name": "LayoutModel",
            "_view_count": null,
            "_view_module": "@jupyter-widgets/base",
            "_view_module_version": "1.2.0",
            "_view_name": "LayoutView",
            "align_content": null,
            "align_items": null,
            "align_self": null,
            "border": null,
            "bottom": null,
            "display": null,
            "flex": null,
            "flex_flow": null,
            "grid_area": null,
            "grid_auto_columns": null,
            "grid_auto_flow": null,
            "grid_auto_rows": null,
            "grid_column": null,
            "grid_gap": null,
            "grid_row": null,
            "grid_template_areas": null,
            "grid_template_columns": null,
            "grid_template_rows": null,
            "height": null,
            "justify_content": null,
            "justify_items": null,
            "left": null,
            "margin": null,
            "max_height": null,
            "max_width": null,
            "min_height": null,
            "min_width": null,
            "object_fit": null,
            "object_position": null,
            "order": null,
            "overflow": null,
            "overflow_x": null,
            "overflow_y": null,
            "padding": null,
            "right": null,
            "top": null,
            "visibility": null,
            "width": null
          }
        },
        "498ec15a512d4b238439a863f8d53a05": {
          "model_module": "@jupyter-widgets/base",
          "model_module_version": "1.2.0",
          "model_name": "LayoutModel",
          "state": {
            "_model_module": "@jupyter-widgets/base",
            "_model_module_version": "1.2.0",
            "_model_name": "LayoutModel",
            "_view_count": null,
            "_view_module": "@jupyter-widgets/base",
            "_view_module_version": "1.2.0",
            "_view_name": "LayoutView",
            "align_content": null,
            "align_items": null,
            "align_self": null,
            "border": null,
            "bottom": null,
            "display": null,
            "flex": null,
            "flex_flow": null,
            "grid_area": null,
            "grid_auto_columns": null,
            "grid_auto_flow": null,
            "grid_auto_rows": null,
            "grid_column": null,
            "grid_gap": null,
            "grid_row": null,
            "grid_template_areas": null,
            "grid_template_columns": null,
            "grid_template_rows": null,
            "height": null,
            "justify_content": null,
            "justify_items": null,
            "left": null,
            "margin": null,
            "max_height": null,
            "max_width": null,
            "min_height": null,
            "min_width": null,
            "object_fit": null,
            "object_position": null,
            "order": null,
            "overflow": null,
            "overflow_x": null,
            "overflow_y": null,
            "padding": null,
            "right": null,
            "top": null,
            "visibility": null,
            "width": null
          }
        },
        "4a18fae7bf1048b99270f489b93a7e9c": {
          "model_module": "@jupyter-widgets/base",
          "model_module_version": "1.2.0",
          "model_name": "LayoutModel",
          "state": {
            "_model_module": "@jupyter-widgets/base",
            "_model_module_version": "1.2.0",
            "_model_name": "LayoutModel",
            "_view_count": null,
            "_view_module": "@jupyter-widgets/base",
            "_view_module_version": "1.2.0",
            "_view_name": "LayoutView",
            "align_content": null,
            "align_items": null,
            "align_self": null,
            "border": null,
            "bottom": null,
            "display": null,
            "flex": null,
            "flex_flow": null,
            "grid_area": null,
            "grid_auto_columns": null,
            "grid_auto_flow": null,
            "grid_auto_rows": null,
            "grid_column": null,
            "grid_gap": null,
            "grid_row": null,
            "grid_template_areas": null,
            "grid_template_columns": null,
            "grid_template_rows": null,
            "height": null,
            "justify_content": null,
            "justify_items": null,
            "left": null,
            "margin": null,
            "max_height": null,
            "max_width": null,
            "min_height": null,
            "min_width": null,
            "object_fit": null,
            "object_position": null,
            "order": null,
            "overflow": null,
            "overflow_x": null,
            "overflow_y": null,
            "padding": null,
            "right": null,
            "top": null,
            "visibility": null,
            "width": null
          }
        },
        "4d1df121794e4a1fab3a20b5740e43ee": {
          "model_module": "@jupyter-widgets/base",
          "model_module_version": "1.2.0",
          "model_name": "LayoutModel",
          "state": {
            "_model_module": "@jupyter-widgets/base",
            "_model_module_version": "1.2.0",
            "_model_name": "LayoutModel",
            "_view_count": null,
            "_view_module": "@jupyter-widgets/base",
            "_view_module_version": "1.2.0",
            "_view_name": "LayoutView",
            "align_content": null,
            "align_items": null,
            "align_self": null,
            "border": null,
            "bottom": null,
            "display": null,
            "flex": null,
            "flex_flow": null,
            "grid_area": null,
            "grid_auto_columns": null,
            "grid_auto_flow": null,
            "grid_auto_rows": null,
            "grid_column": null,
            "grid_gap": null,
            "grid_row": null,
            "grid_template_areas": null,
            "grid_template_columns": null,
            "grid_template_rows": null,
            "height": null,
            "justify_content": null,
            "justify_items": null,
            "left": null,
            "margin": null,
            "max_height": null,
            "max_width": null,
            "min_height": null,
            "min_width": null,
            "object_fit": null,
            "object_position": null,
            "order": null,
            "overflow": null,
            "overflow_x": null,
            "overflow_y": null,
            "padding": null,
            "right": null,
            "top": null,
            "visibility": null,
            "width": null
          }
        },
        "4e98f874edd04a4e98e801ee759eb7d4": {
          "model_module": "@jupyter-widgets/base",
          "model_module_version": "1.2.0",
          "model_name": "LayoutModel",
          "state": {
            "_model_module": "@jupyter-widgets/base",
            "_model_module_version": "1.2.0",
            "_model_name": "LayoutModel",
            "_view_count": null,
            "_view_module": "@jupyter-widgets/base",
            "_view_module_version": "1.2.0",
            "_view_name": "LayoutView",
            "align_content": null,
            "align_items": null,
            "align_self": null,
            "border": null,
            "bottom": null,
            "display": null,
            "flex": null,
            "flex_flow": null,
            "grid_area": null,
            "grid_auto_columns": null,
            "grid_auto_flow": null,
            "grid_auto_rows": null,
            "grid_column": null,
            "grid_gap": null,
            "grid_row": null,
            "grid_template_areas": null,
            "grid_template_columns": null,
            "grid_template_rows": null,
            "height": null,
            "justify_content": null,
            "justify_items": null,
            "left": null,
            "margin": null,
            "max_height": null,
            "max_width": null,
            "min_height": null,
            "min_width": null,
            "object_fit": null,
            "object_position": null,
            "order": null,
            "overflow": null,
            "overflow_x": null,
            "overflow_y": null,
            "padding": null,
            "right": null,
            "top": null,
            "visibility": null,
            "width": null
          }
        },
        "55563a00742b43ba9c636d454ce6c4f3": {
          "model_module": "@jupyter-widgets/controls",
          "model_module_version": "1.5.0",
          "model_name": "HTMLModel",
          "state": {
            "_dom_classes": [],
            "_model_module": "@jupyter-widgets/controls",
            "_model_module_version": "1.5.0",
            "_model_name": "HTMLModel",
            "_view_count": null,
            "_view_module": "@jupyter-widgets/controls",
            "_view_module_version": "1.5.0",
            "_view_name": "HTMLView",
            "description": "",
            "description_tooltip": null,
            "layout": "IPY_MODEL_3deaccdf58aa487dbb937d5ec8ac3c12",
            "placeholder": "​",
            "style": "IPY_MODEL_9633c91948d94762b931d27175abac48",
            "value": " 743/743 [00:00&lt;00:00, 17.1kB/s]"
          }
        },
        "5b6507dd9c6d4f249d2c029fb165e0c5": {
          "model_module": "@jupyter-widgets/controls",
          "model_module_version": "1.5.0",
          "model_name": "HTMLModel",
          "state": {
            "_dom_classes": [],
            "_model_module": "@jupyter-widgets/controls",
            "_model_module_version": "1.5.0",
            "_model_name": "HTMLModel",
            "_view_count": null,
            "_view_module": "@jupyter-widgets/controls",
            "_view_module_version": "1.5.0",
            "_view_name": "HTMLView",
            "description": "",
            "description_tooltip": null,
            "layout": "IPY_MODEL_911df34c9da4418dbcf133086c89c44d",
            "placeholder": "​",
            "style": "IPY_MODEL_b3fbf83f5bbf46aaa8da26772fc06468",
            "value": "model.safetensors: 100%"
          }
        },
        "5f150d25ced94a1b940fa1bd3f7e1f74": {
          "model_module": "@jupyter-widgets/controls",
          "model_module_version": "1.5.0",
          "model_name": "DescriptionStyleModel",
          "state": {
            "_model_module": "@jupyter-widgets/controls",
            "_model_module_version": "1.5.0",
            "_model_name": "DescriptionStyleModel",
            "_view_count": null,
            "_view_module": "@jupyter-widgets/base",
            "_view_module_version": "1.2.0",
            "_view_name": "StyleView",
            "description_width": ""
          }
        },
        "5f154d31a4d54aa1b9b7d8c8696e4b4f": {
          "model_module": "@jupyter-widgets/base",
          "model_module_version": "1.2.0",
          "model_name": "LayoutModel",
          "state": {
            "_model_module": "@jupyter-widgets/base",
            "_model_module_version": "1.2.0",
            "_model_name": "LayoutModel",
            "_view_count": null,
            "_view_module": "@jupyter-widgets/base",
            "_view_module_version": "1.2.0",
            "_view_name": "LayoutView",
            "align_content": null,
            "align_items": null,
            "align_self": null,
            "border": null,
            "bottom": null,
            "display": null,
            "flex": null,
            "flex_flow": null,
            "grid_area": null,
            "grid_auto_columns": null,
            "grid_auto_flow": null,
            "grid_auto_rows": null,
            "grid_column": null,
            "grid_gap": null,
            "grid_row": null,
            "grid_template_areas": null,
            "grid_template_columns": null,
            "grid_template_rows": null,
            "height": null,
            "justify_content": null,
            "justify_items": null,
            "left": null,
            "margin": null,
            "max_height": null,
            "max_width": null,
            "min_height": null,
            "min_width": null,
            "object_fit": null,
            "object_position": null,
            "order": null,
            "overflow": null,
            "overflow_x": null,
            "overflow_y": null,
            "padding": null,
            "right": null,
            "top": null,
            "visibility": null,
            "width": null
          }
        },
        "60a0da78901249d5810a6d0f31a39a9a": {
          "model_module": "@jupyter-widgets/controls",
          "model_module_version": "1.5.0",
          "model_name": "DescriptionStyleModel",
          "state": {
            "_model_module": "@jupyter-widgets/controls",
            "_model_module_version": "1.5.0",
            "_model_name": "DescriptionStyleModel",
            "_view_count": null,
            "_view_module": "@jupyter-widgets/base",
            "_view_module_version": "1.2.0",
            "_view_name": "StyleView",
            "description_width": ""
          }
        },
        "63e1ef12330e4999857c91c057b51d4e": {
          "model_module": "@jupyter-widgets/controls",
          "model_module_version": "1.5.0",
          "model_name": "DescriptionStyleModel",
          "state": {
            "_model_module": "@jupyter-widgets/controls",
            "_model_module_version": "1.5.0",
            "_model_name": "DescriptionStyleModel",
            "_view_count": null,
            "_view_module": "@jupyter-widgets/base",
            "_view_module_version": "1.2.0",
            "_view_name": "StyleView",
            "description_width": ""
          }
        },
        "63e73a18b4d540c1b480a1e3cf71f486": {
          "model_module": "@jupyter-widgets/base",
          "model_module_version": "1.2.0",
          "model_name": "LayoutModel",
          "state": {
            "_model_module": "@jupyter-widgets/base",
            "_model_module_version": "1.2.0",
            "_model_name": "LayoutModel",
            "_view_count": null,
            "_view_module": "@jupyter-widgets/base",
            "_view_module_version": "1.2.0",
            "_view_name": "LayoutView",
            "align_content": null,
            "align_items": null,
            "align_self": null,
            "border": null,
            "bottom": null,
            "display": null,
            "flex": null,
            "flex_flow": null,
            "grid_area": null,
            "grid_auto_columns": null,
            "grid_auto_flow": null,
            "grid_auto_rows": null,
            "grid_column": null,
            "grid_gap": null,
            "grid_row": null,
            "grid_template_areas": null,
            "grid_template_columns": null,
            "grid_template_rows": null,
            "height": null,
            "justify_content": null,
            "justify_items": null,
            "left": null,
            "margin": null,
            "max_height": null,
            "max_width": null,
            "min_height": null,
            "min_width": null,
            "object_fit": null,
            "object_position": null,
            "order": null,
            "overflow": null,
            "overflow_x": null,
            "overflow_y": null,
            "padding": null,
            "right": null,
            "top": null,
            "visibility": null,
            "width": null
          }
        },
        "64041f7e5eeb4110a2b9e38956067595": {
          "model_module": "@jupyter-widgets/controls",
          "model_module_version": "1.5.0",
          "model_name": "DescriptionStyleModel",
          "state": {
            "_model_module": "@jupyter-widgets/controls",
            "_model_module_version": "1.5.0",
            "_model_name": "DescriptionStyleModel",
            "_view_count": null,
            "_view_module": "@jupyter-widgets/base",
            "_view_module_version": "1.2.0",
            "_view_name": "StyleView",
            "description_width": ""
          }
        },
        "658badd98edc40ce8ecd377d645e2e74": {
          "model_module": "@jupyter-widgets/controls",
          "model_module_version": "1.5.0",
          "model_name": "ProgressStyleModel",
          "state": {
            "_model_module": "@jupyter-widgets/controls",
            "_model_module_version": "1.5.0",
            "_model_name": "ProgressStyleModel",
            "_view_count": null,
            "_view_module": "@jupyter-widgets/base",
            "_view_module_version": "1.2.0",
            "_view_name": "StyleView",
            "bar_color": null,
            "description_width": ""
          }
        },
        "6644ec035ac44554b831d07e53a286ba": {
          "model_module": "@jupyter-widgets/controls",
          "model_module_version": "1.5.0",
          "model_name": "ProgressStyleModel",
          "state": {
            "_model_module": "@jupyter-widgets/controls",
            "_model_module_version": "1.5.0",
            "_model_name": "ProgressStyleModel",
            "_view_count": null,
            "_view_module": "@jupyter-widgets/base",
            "_view_module_version": "1.2.0",
            "_view_name": "StyleView",
            "bar_color": null,
            "description_width": ""
          }
        },
        "6f56ec6cc4664bf9a70759611eea5a27": {
          "model_module": "@jupyter-widgets/controls",
          "model_module_version": "1.5.0",
          "model_name": "ProgressStyleModel",
          "state": {
            "_model_module": "@jupyter-widgets/controls",
            "_model_module_version": "1.5.0",
            "_model_name": "ProgressStyleModel",
            "_view_count": null,
            "_view_module": "@jupyter-widgets/base",
            "_view_module_version": "1.2.0",
            "_view_name": "StyleView",
            "bar_color": null,
            "description_width": ""
          }
        },
        "7052ca1c9e904b119f556ddeeea58c69": {
          "model_module": "@jupyter-widgets/base",
          "model_module_version": "1.2.0",
          "model_name": "LayoutModel",
          "state": {
            "_model_module": "@jupyter-widgets/base",
            "_model_module_version": "1.2.0",
            "_model_name": "LayoutModel",
            "_view_count": null,
            "_view_module": "@jupyter-widgets/base",
            "_view_module_version": "1.2.0",
            "_view_name": "LayoutView",
            "align_content": null,
            "align_items": null,
            "align_self": null,
            "border": null,
            "bottom": null,
            "display": null,
            "flex": null,
            "flex_flow": null,
            "grid_area": null,
            "grid_auto_columns": null,
            "grid_auto_flow": null,
            "grid_auto_rows": null,
            "grid_column": null,
            "grid_gap": null,
            "grid_row": null,
            "grid_template_areas": null,
            "grid_template_columns": null,
            "grid_template_rows": null,
            "height": null,
            "justify_content": null,
            "justify_items": null,
            "left": null,
            "margin": null,
            "max_height": null,
            "max_width": null,
            "min_height": null,
            "min_width": null,
            "object_fit": null,
            "object_position": null,
            "order": null,
            "overflow": null,
            "overflow_x": null,
            "overflow_y": null,
            "padding": null,
            "right": null,
            "top": null,
            "visibility": null,
            "width": null
          }
        },
        "71ce1dee31424e25bcbf87800ad66146": {
          "model_module": "@jupyter-widgets/controls",
          "model_module_version": "1.5.0",
          "model_name": "HBoxModel",
          "state": {
            "_dom_classes": [],
            "_model_module": "@jupyter-widgets/controls",
            "_model_module_version": "1.5.0",
            "_model_name": "HBoxModel",
            "_view_count": null,
            "_view_module": "@jupyter-widgets/controls",
            "_view_module_version": "1.5.0",
            "_view_name": "HBoxView",
            "box_style": "",
            "children": [
              "IPY_MODEL_72e02d828be241aba335bf50d1904402",
              "IPY_MODEL_fadea91e8cdc44c7ae3be8339fd8daaf",
              "IPY_MODEL_0fe0d864248c488f93dfc30c1df75902"
            ],
            "layout": "IPY_MODEL_63e73a18b4d540c1b480a1e3cf71f486"
          }
        },
        "72e02d828be241aba335bf50d1904402": {
          "model_module": "@jupyter-widgets/controls",
          "model_module_version": "1.5.0",
          "model_name": "HTMLModel",
          "state": {
            "_dom_classes": [],
            "_model_module": "@jupyter-widgets/controls",
            "_model_module_version": "1.5.0",
            "_model_name": "HTMLModel",
            "_view_count": null,
            "_view_module": "@jupyter-widgets/controls",
            "_view_module_version": "1.5.0",
            "_view_name": "HTMLView",
            "description": "",
            "description_tooltip": null,
            "layout": "IPY_MODEL_482c876cb714424d81d9ee3b3b4221a9",
            "placeholder": "​",
            "style": "IPY_MODEL_c9135ffb6db64cae87322952ad095214",
            "value": "special_tokens_map.json: 100%"
          }
        },
        "7c071381921947589bfa2dbfeb4f885c": {
          "model_module": "@jupyter-widgets/controls",
          "model_module_version": "1.5.0",
          "model_name": "HTMLModel",
          "state": {
            "_dom_classes": [],
            "_model_module": "@jupyter-widgets/controls",
            "_model_module_version": "1.5.0",
            "_model_name": "HTMLModel",
            "_view_count": null,
            "_view_module": "@jupyter-widgets/controls",
            "_view_module_version": "1.5.0",
            "_view_name": "HTMLView",
            "description": "",
            "description_tooltip": null,
            "layout": "IPY_MODEL_0640caea921543759c580c576a1dedff",
            "placeholder": "​",
            "style": "IPY_MODEL_64041f7e5eeb4110a2b9e38956067595",
            "value": "tokenizer_config.json: 100%"
          }
        },
        "80345bc11c574d00b0cc864ab9ea37bd": {
          "model_module": "@jupyter-widgets/base",
          "model_module_version": "1.2.0",
          "model_name": "LayoutModel",
          "state": {
            "_model_module": "@jupyter-widgets/base",
            "_model_module_version": "1.2.0",
            "_model_name": "LayoutModel",
            "_view_count": null,
            "_view_module": "@jupyter-widgets/base",
            "_view_module_version": "1.2.0",
            "_view_name": "LayoutView",
            "align_content": null,
            "align_items": null,
            "align_self": null,
            "border": null,
            "bottom": null,
            "display": null,
            "flex": null,
            "flex_flow": null,
            "grid_area": null,
            "grid_auto_columns": null,
            "grid_auto_flow": null,
            "grid_auto_rows": null,
            "grid_column": null,
            "grid_gap": null,
            "grid_row": null,
            "grid_template_areas": null,
            "grid_template_columns": null,
            "grid_template_rows": null,
            "height": null,
            "justify_content": null,
            "justify_items": null,
            "left": null,
            "margin": null,
            "max_height": null,
            "max_width": null,
            "min_height": null,
            "min_width": null,
            "object_fit": null,
            "object_position": null,
            "order": null,
            "overflow": null,
            "overflow_x": null,
            "overflow_y": null,
            "padding": null,
            "right": null,
            "top": null,
            "visibility": null,
            "width": null
          }
        },
        "8492eb82f08c4329a7b14118aab55c72": {
          "model_module": "@jupyter-widgets/base",
          "model_module_version": "1.2.0",
          "model_name": "LayoutModel",
          "state": {
            "_model_module": "@jupyter-widgets/base",
            "_model_module_version": "1.2.0",
            "_model_name": "LayoutModel",
            "_view_count": null,
            "_view_module": "@jupyter-widgets/base",
            "_view_module_version": "1.2.0",
            "_view_name": "LayoutView",
            "align_content": null,
            "align_items": null,
            "align_self": null,
            "border": null,
            "bottom": null,
            "display": null,
            "flex": null,
            "flex_flow": null,
            "grid_area": null,
            "grid_auto_columns": null,
            "grid_auto_flow": null,
            "grid_auto_rows": null,
            "grid_column": null,
            "grid_gap": null,
            "grid_row": null,
            "grid_template_areas": null,
            "grid_template_columns": null,
            "grid_template_rows": null,
            "height": null,
            "justify_content": null,
            "justify_items": null,
            "left": null,
            "margin": null,
            "max_height": null,
            "max_width": null,
            "min_height": null,
            "min_width": null,
            "object_fit": null,
            "object_position": null,
            "order": null,
            "overflow": null,
            "overflow_x": null,
            "overflow_y": null,
            "padding": null,
            "right": null,
            "top": null,
            "visibility": null,
            "width": null
          }
        },
        "89f7e955ae4a4d5f88f2e85cbcef8f24": {
          "model_module": "@jupyter-widgets/base",
          "model_module_version": "1.2.0",
          "model_name": "LayoutModel",
          "state": {
            "_model_module": "@jupyter-widgets/base",
            "_model_module_version": "1.2.0",
            "_model_name": "LayoutModel",
            "_view_count": null,
            "_view_module": "@jupyter-widgets/base",
            "_view_module_version": "1.2.0",
            "_view_name": "LayoutView",
            "align_content": null,
            "align_items": null,
            "align_self": null,
            "border": null,
            "bottom": null,
            "display": null,
            "flex": null,
            "flex_flow": null,
            "grid_area": null,
            "grid_auto_columns": null,
            "grid_auto_flow": null,
            "grid_auto_rows": null,
            "grid_column": null,
            "grid_gap": null,
            "grid_row": null,
            "grid_template_areas": null,
            "grid_template_columns": null,
            "grid_template_rows": null,
            "height": null,
            "justify_content": null,
            "justify_items": null,
            "left": null,
            "margin": null,
            "max_height": null,
            "max_width": null,
            "min_height": null,
            "min_width": null,
            "object_fit": null,
            "object_position": null,
            "order": null,
            "overflow": null,
            "overflow_x": null,
            "overflow_y": null,
            "padding": null,
            "right": null,
            "top": null,
            "visibility": null,
            "width": null
          }
        },
        "911df34c9da4418dbcf133086c89c44d": {
          "model_module": "@jupyter-widgets/base",
          "model_module_version": "1.2.0",
          "model_name": "LayoutModel",
          "state": {
            "_model_module": "@jupyter-widgets/base",
            "_model_module_version": "1.2.0",
            "_model_name": "LayoutModel",
            "_view_count": null,
            "_view_module": "@jupyter-widgets/base",
            "_view_module_version": "1.2.0",
            "_view_name": "LayoutView",
            "align_content": null,
            "align_items": null,
            "align_self": null,
            "border": null,
            "bottom": null,
            "display": null,
            "flex": null,
            "flex_flow": null,
            "grid_area": null,
            "grid_auto_columns": null,
            "grid_auto_flow": null,
            "grid_auto_rows": null,
            "grid_column": null,
            "grid_gap": null,
            "grid_row": null,
            "grid_template_areas": null,
            "grid_template_columns": null,
            "grid_template_rows": null,
            "height": null,
            "justify_content": null,
            "justify_items": null,
            "left": null,
            "margin": null,
            "max_height": null,
            "max_width": null,
            "min_height": null,
            "min_width": null,
            "object_fit": null,
            "object_position": null,
            "order": null,
            "overflow": null,
            "overflow_x": null,
            "overflow_y": null,
            "padding": null,
            "right": null,
            "top": null,
            "visibility": null,
            "width": null
          }
        },
        "9633c91948d94762b931d27175abac48": {
          "model_module": "@jupyter-widgets/controls",
          "model_module_version": "1.5.0",
          "model_name": "DescriptionStyleModel",
          "state": {
            "_model_module": "@jupyter-widgets/controls",
            "_model_module_version": "1.5.0",
            "_model_name": "DescriptionStyleModel",
            "_view_count": null,
            "_view_module": "@jupyter-widgets/base",
            "_view_module_version": "1.2.0",
            "_view_name": "StyleView",
            "description_width": ""
          }
        },
        "9966a67e6b514eae8357ba60a4a2b5ff": {
          "model_module": "@jupyter-widgets/controls",
          "model_module_version": "1.5.0",
          "model_name": "DescriptionStyleModel",
          "state": {
            "_model_module": "@jupyter-widgets/controls",
            "_model_module_version": "1.5.0",
            "_model_name": "DescriptionStyleModel",
            "_view_count": null,
            "_view_module": "@jupyter-widgets/base",
            "_view_module_version": "1.2.0",
            "_view_name": "StyleView",
            "description_width": ""
          }
        },
        "99c472139fb3461d8de0481f5b51bc46": {
          "model_module": "@jupyter-widgets/controls",
          "model_module_version": "1.5.0",
          "model_name": "DescriptionStyleModel",
          "state": {
            "_model_module": "@jupyter-widgets/controls",
            "_model_module_version": "1.5.0",
            "_model_name": "DescriptionStyleModel",
            "_view_count": null,
            "_view_module": "@jupyter-widgets/base",
            "_view_module_version": "1.2.0",
            "_view_name": "StyleView",
            "description_width": ""
          }
        },
        "9b1eb3e3cea04e7a935708b069170e71": {
          "model_module": "@jupyter-widgets/base",
          "model_module_version": "1.2.0",
          "model_name": "LayoutModel",
          "state": {
            "_model_module": "@jupyter-widgets/base",
            "_model_module_version": "1.2.0",
            "_model_name": "LayoutModel",
            "_view_count": null,
            "_view_module": "@jupyter-widgets/base",
            "_view_module_version": "1.2.0",
            "_view_name": "LayoutView",
            "align_content": null,
            "align_items": null,
            "align_self": null,
            "border": null,
            "bottom": null,
            "display": null,
            "flex": null,
            "flex_flow": null,
            "grid_area": null,
            "grid_auto_columns": null,
            "grid_auto_flow": null,
            "grid_auto_rows": null,
            "grid_column": null,
            "grid_gap": null,
            "grid_row": null,
            "grid_template_areas": null,
            "grid_template_columns": null,
            "grid_template_rows": null,
            "height": null,
            "justify_content": null,
            "justify_items": null,
            "left": null,
            "margin": null,
            "max_height": null,
            "max_width": null,
            "min_height": null,
            "min_width": null,
            "object_fit": null,
            "object_position": null,
            "order": null,
            "overflow": null,
            "overflow_x": null,
            "overflow_y": null,
            "padding": null,
            "right": null,
            "top": null,
            "visibility": null,
            "width": null
          }
        },
        "a48967e601594aeea9aab3f2fca49454": {
          "model_module": "@jupyter-widgets/controls",
          "model_module_version": "1.5.0",
          "model_name": "HBoxModel",
          "state": {
            "_dom_classes": [],
            "_model_module": "@jupyter-widgets/controls",
            "_model_module_version": "1.5.0",
            "_model_name": "HBoxModel",
            "_view_count": null,
            "_view_module": "@jupyter-widgets/controls",
            "_view_module_version": "1.5.0",
            "_view_name": "HBoxView",
            "box_style": "",
            "children": [
              "IPY_MODEL_46e292b4e26f401c9ecfffe052ecfba1",
              "IPY_MODEL_cf3590b6d75d4353a0d2765b8feee4ad",
              "IPY_MODEL_e5839152bedf470889cbdcee5b441603"
            ],
            "layout": "IPY_MODEL_03307bfcb6fe4d20a2fba74737ceb3e1"
          }
        },
        "a8cf51363bbc4585952797e24a800898": {
          "model_module": "@jupyter-widgets/controls",
          "model_module_version": "1.5.0",
          "model_name": "HBoxModel",
          "state": {
            "_dom_classes": [],
            "_model_module": "@jupyter-widgets/controls",
            "_model_module_version": "1.5.0",
            "_model_name": "HBoxModel",
            "_view_count": null,
            "_view_module": "@jupyter-widgets/controls",
            "_view_module_version": "1.5.0",
            "_view_name": "HBoxView",
            "box_style": "",
            "children": [
              "IPY_MODEL_2910084ef45b467f813ac6011b92ae41",
              "IPY_MODEL_faaeb6ca26194072a26f93569b88aae0",
              "IPY_MODEL_55563a00742b43ba9c636d454ce6c4f3"
            ],
            "layout": "IPY_MODEL_f6931aac2195493fbd33690abd8fc293"
          }
        },
        "a9eedb4bea3f446f8d925e2d7a876695": {
          "model_module": "@jupyter-widgets/base",
          "model_module_version": "1.2.0",
          "model_name": "LayoutModel",
          "state": {
            "_model_module": "@jupyter-widgets/base",
            "_model_module_version": "1.2.0",
            "_model_name": "LayoutModel",
            "_view_count": null,
            "_view_module": "@jupyter-widgets/base",
            "_view_module_version": "1.2.0",
            "_view_name": "LayoutView",
            "align_content": null,
            "align_items": null,
            "align_self": null,
            "border": null,
            "bottom": null,
            "display": null,
            "flex": null,
            "flex_flow": null,
            "grid_area": null,
            "grid_auto_columns": null,
            "grid_auto_flow": null,
            "grid_auto_rows": null,
            "grid_column": null,
            "grid_gap": null,
            "grid_row": null,
            "grid_template_areas": null,
            "grid_template_columns": null,
            "grid_template_rows": null,
            "height": null,
            "justify_content": null,
            "justify_items": null,
            "left": null,
            "margin": null,
            "max_height": null,
            "max_width": null,
            "min_height": null,
            "min_width": null,
            "object_fit": null,
            "object_position": null,
            "order": null,
            "overflow": null,
            "overflow_x": null,
            "overflow_y": null,
            "padding": null,
            "right": null,
            "top": null,
            "visibility": null,
            "width": null
          }
        },
        "ab587756ec9e478fa285fa4c0fe17864": {
          "model_module": "@jupyter-widgets/controls",
          "model_module_version": "1.5.0",
          "model_name": "DescriptionStyleModel",
          "state": {
            "_model_module": "@jupyter-widgets/controls",
            "_model_module_version": "1.5.0",
            "_model_name": "DescriptionStyleModel",
            "_view_count": null,
            "_view_module": "@jupyter-widgets/base",
            "_view_module_version": "1.2.0",
            "_view_name": "StyleView",
            "description_width": ""
          }
        },
        "acf52bcbe3b14b11851595a76a0795fb": {
          "model_module": "@jupyter-widgets/controls",
          "model_module_version": "1.5.0",
          "model_name": "ProgressStyleModel",
          "state": {
            "_model_module": "@jupyter-widgets/controls",
            "_model_module_version": "1.5.0",
            "_model_name": "ProgressStyleModel",
            "_view_count": null,
            "_view_module": "@jupyter-widgets/base",
            "_view_module_version": "1.2.0",
            "_view_name": "StyleView",
            "bar_color": null,
            "description_width": ""
          }
        },
        "ad1d75c8eee34d028282e73b464e4a41": {
          "model_module": "@jupyter-widgets/controls",
          "model_module_version": "1.5.0",
          "model_name": "FloatProgressModel",
          "state": {
            "_dom_classes": [],
            "_model_module": "@jupyter-widgets/controls",
            "_model_module_version": "1.5.0",
            "_model_name": "FloatProgressModel",
            "_view_count": null,
            "_view_module": "@jupyter-widgets/controls",
            "_view_module_version": "1.5.0",
            "_view_name": "ProgressView",
            "bar_style": "success",
            "description": "",
            "description_tooltip": null,
            "layout": "IPY_MODEL_27c003bb6fc14d8582e09b7120aa9412",
            "max": 133466304,
            "min": 0,
            "orientation": "horizontal",
            "style": "IPY_MODEL_658badd98edc40ce8ecd377d645e2e74",
            "value": 133466304
          }
        },
        "b27c8e54e5714da1a5e20895279d2fc7": {
          "model_module": "@jupyter-widgets/controls",
          "model_module_version": "1.5.0",
          "model_name": "FloatProgressModel",
          "state": {
            "_dom_classes": [],
            "_model_module": "@jupyter-widgets/controls",
            "_model_module_version": "1.5.0",
            "_model_name": "FloatProgressModel",
            "_view_count": null,
            "_view_module": "@jupyter-widgets/controls",
            "_view_module_version": "1.5.0",
            "_view_name": "ProgressView",
            "bar_style": "success",
            "description": "",
            "description_tooltip": null,
            "layout": "IPY_MODEL_38dfe26b4d3943049e602a19ab95c7a6",
            "max": 231508,
            "min": 0,
            "orientation": "horizontal",
            "style": "IPY_MODEL_acf52bcbe3b14b11851595a76a0795fb",
            "value": 231508
          }
        },
        "b3fbf83f5bbf46aaa8da26772fc06468": {
          "model_module": "@jupyter-widgets/controls",
          "model_module_version": "1.5.0",
          "model_name": "DescriptionStyleModel",
          "state": {
            "_model_module": "@jupyter-widgets/controls",
            "_model_module_version": "1.5.0",
            "_model_name": "DescriptionStyleModel",
            "_view_count": null,
            "_view_module": "@jupyter-widgets/base",
            "_view_module_version": "1.2.0",
            "_view_name": "StyleView",
            "description_width": ""
          }
        },
        "bfe773e3e6b547b8ae42db2796c682b6": {
          "model_module": "@jupyter-widgets/controls",
          "model_module_version": "1.5.0",
          "model_name": "ProgressStyleModel",
          "state": {
            "_model_module": "@jupyter-widgets/controls",
            "_model_module_version": "1.5.0",
            "_model_name": "ProgressStyleModel",
            "_view_count": null,
            "_view_module": "@jupyter-widgets/base",
            "_view_module_version": "1.2.0",
            "_view_name": "StyleView",
            "bar_color": null,
            "description_width": ""
          }
        },
        "c1193881b2aa4d35a172a2c14db7fad9": {
          "model_module": "@jupyter-widgets/controls",
          "model_module_version": "1.5.0",
          "model_name": "HTMLModel",
          "state": {
            "_dom_classes": [],
            "_model_module": "@jupyter-widgets/controls",
            "_model_module_version": "1.5.0",
            "_model_name": "HTMLModel",
            "_view_count": null,
            "_view_module": "@jupyter-widgets/controls",
            "_view_module_version": "1.5.0",
            "_view_name": "HTMLView",
            "description": "",
            "description_tooltip": null,
            "layout": "IPY_MODEL_9b1eb3e3cea04e7a935708b069170e71",
            "placeholder": "​",
            "style": "IPY_MODEL_4266936a12964c4d9bd16230e738084f",
            "value": " 366/366 [00:00&lt;00:00, 15.0kB/s]"
          }
        },
        "c9135ffb6db64cae87322952ad095214": {
          "model_module": "@jupyter-widgets/controls",
          "model_module_version": "1.5.0",
          "model_name": "DescriptionStyleModel",
          "state": {
            "_model_module": "@jupyter-widgets/controls",
            "_model_module_version": "1.5.0",
            "_model_name": "DescriptionStyleModel",
            "_view_count": null,
            "_view_module": "@jupyter-widgets/base",
            "_view_module_version": "1.2.0",
            "_view_name": "StyleView",
            "description_width": ""
          }
        },
        "cf3590b6d75d4353a0d2765b8feee4ad": {
          "model_module": "@jupyter-widgets/controls",
          "model_module_version": "1.5.0",
          "model_name": "FloatProgressModel",
          "state": {
            "_dom_classes": [],
            "_model_module": "@jupyter-widgets/controls",
            "_model_module_version": "1.5.0",
            "_model_name": "FloatProgressModel",
            "_view_count": null,
            "_view_module": "@jupyter-widgets/controls",
            "_view_module_version": "1.5.0",
            "_view_name": "ProgressView",
            "bar_style": "success",
            "description": "",
            "description_tooltip": null,
            "layout": "IPY_MODEL_7052ca1c9e904b119f556ddeeea58c69",
            "max": 711396,
            "min": 0,
            "orientation": "horizontal",
            "style": "IPY_MODEL_bfe773e3e6b547b8ae42db2796c682b6",
            "value": 711396
          }
        },
        "d36d1f79f65d4b94909b1c088262c3dc": {
          "model_module": "@jupyter-widgets/controls",
          "model_module_version": "1.5.0",
          "model_name": "ProgressStyleModel",
          "state": {
            "_model_module": "@jupyter-widgets/controls",
            "_model_module_version": "1.5.0",
            "_model_name": "ProgressStyleModel",
            "_view_count": null,
            "_view_module": "@jupyter-widgets/base",
            "_view_module_version": "1.2.0",
            "_view_name": "StyleView",
            "bar_color": null,
            "description_width": ""
          }
        },
        "da23fe6fe1b9435fa826cba60cdfe133": {
          "model_module": "@jupyter-widgets/base",
          "model_module_version": "1.2.0",
          "model_name": "LayoutModel",
          "state": {
            "_model_module": "@jupyter-widgets/base",
            "_model_module_version": "1.2.0",
            "_model_name": "LayoutModel",
            "_view_count": null,
            "_view_module": "@jupyter-widgets/base",
            "_view_module_version": "1.2.0",
            "_view_name": "LayoutView",
            "align_content": null,
            "align_items": null,
            "align_self": null,
            "border": null,
            "bottom": null,
            "display": null,
            "flex": null,
            "flex_flow": null,
            "grid_area": null,
            "grid_auto_columns": null,
            "grid_auto_flow": null,
            "grid_auto_rows": null,
            "grid_column": null,
            "grid_gap": null,
            "grid_row": null,
            "grid_template_areas": null,
            "grid_template_columns": null,
            "grid_template_rows": null,
            "height": null,
            "justify_content": null,
            "justify_items": null,
            "left": null,
            "margin": null,
            "max_height": null,
            "max_width": null,
            "min_height": null,
            "min_width": null,
            "object_fit": null,
            "object_position": null,
            "order": null,
            "overflow": null,
            "overflow_x": null,
            "overflow_y": null,
            "padding": null,
            "right": null,
            "top": null,
            "visibility": null,
            "width": null
          }
        },
        "e5839152bedf470889cbdcee5b441603": {
          "model_module": "@jupyter-widgets/controls",
          "model_module_version": "1.5.0",
          "model_name": "HTMLModel",
          "state": {
            "_dom_classes": [],
            "_model_module": "@jupyter-widgets/controls",
            "_model_module_version": "1.5.0",
            "_model_name": "HTMLModel",
            "_view_count": null,
            "_view_module": "@jupyter-widgets/controls",
            "_view_module_version": "1.5.0",
            "_view_name": "HTMLView",
            "description": "",
            "description_tooltip": null,
            "layout": "IPY_MODEL_4e98f874edd04a4e98e801ee759eb7d4",
            "placeholder": "​",
            "style": "IPY_MODEL_9966a67e6b514eae8357ba60a4a2b5ff",
            "value": " 711k/711k [00:00&lt;00:00, 11.7MB/s]"
          }
        },
        "f6931aac2195493fbd33690abd8fc293": {
          "model_module": "@jupyter-widgets/base",
          "model_module_version": "1.2.0",
          "model_name": "LayoutModel",
          "state": {
            "_model_module": "@jupyter-widgets/base",
            "_model_module_version": "1.2.0",
            "_model_name": "LayoutModel",
            "_view_count": null,
            "_view_module": "@jupyter-widgets/base",
            "_view_module_version": "1.2.0",
            "_view_name": "LayoutView",
            "align_content": null,
            "align_items": null,
            "align_self": null,
            "border": null,
            "bottom": null,
            "display": null,
            "flex": null,
            "flex_flow": null,
            "grid_area": null,
            "grid_auto_columns": null,
            "grid_auto_flow": null,
            "grid_auto_rows": null,
            "grid_column": null,
            "grid_gap": null,
            "grid_row": null,
            "grid_template_areas": null,
            "grid_template_columns": null,
            "grid_template_rows": null,
            "height": null,
            "justify_content": null,
            "justify_items": null,
            "left": null,
            "margin": null,
            "max_height": null,
            "max_width": null,
            "min_height": null,
            "min_width": null,
            "object_fit": null,
            "object_position": null,
            "order": null,
            "overflow": null,
            "overflow_x": null,
            "overflow_y": null,
            "padding": null,
            "right": null,
            "top": null,
            "visibility": null,
            "width": null
          }
        },
        "faaeb6ca26194072a26f93569b88aae0": {
          "model_module": "@jupyter-widgets/controls",
          "model_module_version": "1.5.0",
          "model_name": "FloatProgressModel",
          "state": {
            "_dom_classes": [],
            "_model_module": "@jupyter-widgets/controls",
            "_model_module_version": "1.5.0",
            "_model_name": "FloatProgressModel",
            "_view_count": null,
            "_view_module": "@jupyter-widgets/controls",
            "_view_module_version": "1.5.0",
            "_view_name": "ProgressView",
            "bar_style": "success",
            "description": "",
            "description_tooltip": null,
            "layout": "IPY_MODEL_8492eb82f08c4329a7b14118aab55c72",
            "max": 743,
            "min": 0,
            "orientation": "horizontal",
            "style": "IPY_MODEL_6f56ec6cc4664bf9a70759611eea5a27",
            "value": 743
          }
        },
        "fadea91e8cdc44c7ae3be8339fd8daaf": {
          "model_module": "@jupyter-widgets/controls",
          "model_module_version": "1.5.0",
          "model_name": "FloatProgressModel",
          "state": {
            "_dom_classes": [],
            "_model_module": "@jupyter-widgets/controls",
            "_model_module_version": "1.5.0",
            "_model_name": "FloatProgressModel",
            "_view_count": null,
            "_view_module": "@jupyter-widgets/controls",
            "_view_module_version": "1.5.0",
            "_view_name": "ProgressView",
            "bar_style": "success",
            "description": "",
            "description_tooltip": null,
            "layout": "IPY_MODEL_1b2618dfe7b54d109c91dad999eb4e2f",
            "max": 125,
            "min": 0,
            "orientation": "horizontal",
            "style": "IPY_MODEL_6644ec035ac44554b831d07e53a286ba",
            "value": 125
          }
        }
      }
    }
  },
  "nbformat": 4,
  "nbformat_minor": 0
}
