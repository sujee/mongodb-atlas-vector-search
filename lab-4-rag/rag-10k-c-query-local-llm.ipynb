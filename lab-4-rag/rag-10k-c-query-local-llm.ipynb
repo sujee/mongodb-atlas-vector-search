{
 "cells": [
  {
   "cell_type": "markdown",
   "metadata": {},
   "source": [
    "#  RAG 10k Query Using Local LLMs\n",
    "\n",
    "![](../images/rag-1.svg)"
   ]
  },
  {
   "cell_type": "markdown",
   "metadata": {},
   "source": [
    "## CPU vs GPU\n",
    "\n",
    "### To ensure only CPU is used, use these settings\n",
    "\n",
    "```python\n",
    "os.environ[\"CUDA_VISIBLE_DEVICES\"]=\"\"\n",
    "```\n",
    "\n",
    "and you will see this output\n",
    "\n",
    "```text\n",
    "using CUDA/GPU:  False\n",
    "```\n",
    "\n",
    "And when initlalizing LLM, \n",
    "\n",
    "- set `n_gpu_layers\": 0`\n",
    "\n",
    "And when the model is running, \n",
    "- You should not see any mention of CUDA in the output\n",
    "- you should see CPU usage spike up (it will use most available CPU cores)\n",
    "- if you use a tools like `nvidia-smi` you will notice, GPU memory is not being used by Python process\n",
    "- You may typicall see `eval time =   ....   (  195.39 ms per token,     5.12 tokens per second)` . This is pretty slow.\n",
    "\n",
    "\n",
    "### To use GPU \n",
    "\n",
    "Make sure the following code is commented out\n",
    "\n",
    "```python\n",
    "# os.environ[\"CUDA_VISIBLE_DEVICES\"]=\"\"\n",
    "```\n",
    "\n",
    "and you will see this output\n",
    "\n",
    "```text\n",
    "using CUDA/GPU:  True\n",
    "device  0 NVIDIA GeForce RTX 2070\n",
    "```\n",
    "\n",
    "And when initlalizing LLM, \n",
    "\n",
    "- set `n_gpu_layers\": -1` - this will offload all layers to GPU.  You can specify a number 1, 10, 20 ... that your GPU can support.  Higher numbers required more GPU memory\n",
    "\n",
    "And when the model is running, \n",
    "- You should see CUDA being used\n",
    "- you should not see a lot CPU usage (GPU is doing the heavy lifting now)\n",
    "- if you use a tools like `nvidia-smi` you will notice, GPU memory is being used by Python process  (full offload can take about 6GB GPU memory)\n",
    "- You may typicall see `eval time =   ....   (   20.73 ms per token,    48.23 tokens per second)` . This is much faster than before!"
   ]
  },
  {
   "cell_type": "code",
   "execution_count": 1,
   "metadata": {},
   "outputs": [
    {
     "name": "stdout",
     "output_type": "stream",
     "text": [
      "using CUDA/GPU:  True\n",
      "device  0 NVIDIA GeForce RTX 2070\n"
     ]
    }
   ],
   "source": [
    "## Check if GPU is enabled\n",
    "import os\n",
    "import torch\n",
    "\n",
    "## To disable GPU and experiment, uncomment the following line\n",
    "## Normally, you would want to use GPU, if one is available.\n",
    "# os.environ[\"CUDA_VISIBLE_DEVICES\"]=\"\"\n",
    "\n",
    "print (\"using CUDA/GPU: \", torch.cuda.is_available())\n",
    "\n",
    "for i in range(torch.cuda.device_count()):\n",
    "   print(\"device \", i , torch.cuda.get_device_properties(i).name)"
   ]
  },
  {
   "cell_type": "code",
   "execution_count": 2,
   "metadata": {},
   "outputs": [],
   "source": [
    "## Setup logging.  To see more loging set the level to DEBUG\n",
    "\n",
    "import sys\n",
    "import logging\n",
    "\n",
    "# logging.basicConfig(stream=sys.stdout, level=logging.DEBUG)\n",
    "logging.basicConfig(stream=sys.stdout, level=logging.WARNING)\n",
    "logging.getLogger().addHandler(logging.StreamHandler(stream=sys.stdout))"
   ]
  },
  {
   "cell_type": "code",
   "execution_count": 3,
   "metadata": {},
   "outputs": [],
   "source": [
    "import os, sys\n",
    "\n",
    "this_dir = os.path.abspath('')\n",
    "parent_dir = os.path.dirname(this_dir)\n",
    "sys.path.append (os.path.abspath (parent_dir))"
   ]
  },
  {
   "cell_type": "markdown",
   "metadata": {},
   "source": [
    "## Step-1: Load Settings"
   ]
  },
  {
   "cell_type": "code",
   "execution_count": 4,
   "metadata": {},
   "outputs": [],
   "source": [
    "import os,sys\n",
    "## Load Settings from .env file\n",
    "from dotenv import find_dotenv, dotenv_values\n",
    "\n",
    "# _ = load_dotenv(find_dotenv()) # read local .env file\n",
    "config = dotenv_values(find_dotenv())\n",
    "\n",
    "# debug\n",
    "# print (config)\n",
    "\n",
    "ATLAS_URI = config.get('ATLAS_URI')\n",
    "\n",
    "if not ATLAS_URI:\n",
    "    raise Exception (\"'ATLAS_URI' is not set.  Please set it above to continue...\")\n",
    "\n",
    "## Disable openAI key be sure\n",
    "os.environ['OPENAI_API_KEY'] = ''"
   ]
  },
  {
   "cell_type": "code",
   "execution_count": 5,
   "metadata": {},
   "outputs": [],
   "source": [
    "DB_NAME = 'rag1'\n",
    "COLLECTION_NAME = '10k'\n",
    "INDEX_NAME = 'idx_embedding'"
   ]
  },
  {
   "cell_type": "code",
   "execution_count": 6,
   "metadata": {},
   "outputs": [],
   "source": [
    "import os\n",
    "## LlamaIndex will download embeddings models as needed.\n",
    "## Set llamaindex cache dir to ./cache dir here (Default is system tmp)\n",
    "## This way, we can easily see downloaded artifacts\n",
    "os.environ['LLAMA_INDEX_CACHE_DIR'] = os.path.join(os.path.abspath(''), '..', 'llama-index-cache')"
   ]
  },
  {
   "cell_type": "code",
   "execution_count": 7,
   "metadata": {},
   "outputs": [
    {
     "name": "stdout",
     "output_type": "stream",
     "text": [
      "Atlas client initialized\n"
     ]
    }
   ],
   "source": [
    "from pymongo import MongoClient\n",
    "\n",
    "mongodb_client = MongoClient(ATLAS_URI)\n",
    "\n",
    "print (\"Atlas client initialized\")"
   ]
  },
  {
   "cell_type": "markdown",
   "metadata": {},
   "source": [
    "## Step-2 : Setup Embeddings\n",
    "\n",
    "The default embedding is OpenAI.  We can always plugin custom embeddings"
   ]
  },
  {
   "cell_type": "markdown",
   "metadata": {},
   "source": [
    "### 2.1 : OpenAI Embeddings\n",
    "\n",
    "This is using OpenAI embedding model\n",
    "You will need an API key (defined in env variable : OPENAI_API_KEY)"
   ]
  },
  {
   "cell_type": "code",
   "execution_count": 8,
   "metadata": {},
   "outputs": [],
   "source": [
    "# from llama_index import  OpenAIEmbedding\n",
    "# embed_model = OpenAIEmbedding()"
   ]
  },
  {
   "cell_type": "markdown",
   "metadata": {},
   "source": [
    "### 2.2 : Using Custom Embeddings\n",
    "\n",
    "Remember this embedding model must be the same as in `populate` step. "
   ]
  },
  {
   "cell_type": "code",
   "execution_count": 9,
   "metadata": {},
   "outputs": [
    {
     "name": "stderr",
     "output_type": "stream",
     "text": [
      "/home/sujee/anaconda3/envs/atlas-2/lib/python3.11/site-packages/tqdm/auto.py:21: TqdmWarning: IProgress not found. Please update jupyter and ipywidgets. See https://ipywidgets.readthedocs.io/en/stable/user_install.html\n",
      "  from .autonotebook import tqdm as notebook_tqdm\n"
     ]
    }
   ],
   "source": [
    "from llama_index.embeddings import HuggingFaceEmbedding\n",
    "embed_model = HuggingFaceEmbedding(model_name=\"BAAI/bge-small-en-v1.5\")"
   ]
  },
  {
   "cell_type": "markdown",
   "metadata": {},
   "source": [
    "## Initialize Local LLM\n",
    "\n",
    "We will use a LLM running locally.\n",
    "\n",
    "Our local LLM:\n",
    "\n",
    "- mistral-7b-instruct-v0.2.Q4_K_M.gguf (4 bit quantized, medium).  [Model card here](https://huggingface.co/TheBloke/Mistral-7B-Instruct-v0.2-GGUF)\n",
    "- Smallest 'recommended' model\n",
    "- Model size : 4.37 GB\n",
    "- when using GPU, the model takes about 6.5 GB or GPU memory\n",
    "- We are running it through [llama-cpp-python](https://llama-cpp-python.readthedocs.io/en/latest/) with GPU support compiled in"
   ]
  },
  {
   "cell_type": "code",
   "execution_count": 10,
   "metadata": {},
   "outputs": [
    {
     "name": "stderr",
     "output_type": "stream",
     "text": [
      "ggml_init_cublas: GGML_CUDA_FORCE_MMQ:   no\n",
      "ggml_init_cublas: CUDA_USE_TENSOR_CORES: yes\n",
      "ggml_init_cublas: found 1 CUDA devices:\n",
      "  Device 0: NVIDIA GeForce RTX 2070, compute capability 7.5, VMM: yes\n",
      "llama_model_loader: loaded meta data with 24 key-value pairs and 291 tensors from ../models/TheBloke/Mistral-7B-Instruct-v0.2-GGUF/mistral-7b-instruct-v0.2.Q4_K_M.gguf (version GGUF V3 (latest))\n",
      "llama_model_loader: Dumping metadata keys/values. Note: KV overrides do not apply in this output.\n",
      "llama_model_loader: - kv   0:                       general.architecture str              = llama\n",
      "llama_model_loader: - kv   1:                               general.name str              = mistralai_mistral-7b-instruct-v0.2\n",
      "llama_model_loader: - kv   2:                       llama.context_length u32              = 32768\n",
      "llama_model_loader: - kv   3:                     llama.embedding_length u32              = 4096\n",
      "llama_model_loader: - kv   4:                          llama.block_count u32              = 32\n",
      "llama_model_loader: - kv   5:                  llama.feed_forward_length u32              = 14336\n",
      "llama_model_loader: - kv   6:                 llama.rope.dimension_count u32              = 128\n",
      "llama_model_loader: - kv   7:                 llama.attention.head_count u32              = 32\n",
      "llama_model_loader: - kv   8:              llama.attention.head_count_kv u32              = 8\n",
      "llama_model_loader: - kv   9:     llama.attention.layer_norm_rms_epsilon f32              = 0.000010\n",
      "llama_model_loader: - kv  10:                       llama.rope.freq_base f32              = 1000000.000000\n",
      "llama_model_loader: - kv  11:                          general.file_type u32              = 15\n",
      "llama_model_loader: - kv  12:                       tokenizer.ggml.model str              = llama\n",
      "llama_model_loader: - kv  13:                      tokenizer.ggml.tokens arr[str,32000]   = [\"<unk>\", \"<s>\", \"</s>\", \"<0x00>\", \"<...\n",
      "llama_model_loader: - kv  14:                      tokenizer.ggml.scores arr[f32,32000]   = [0.000000, 0.000000, 0.000000, 0.0000...\n",
      "llama_model_loader: - kv  15:                  tokenizer.ggml.token_type arr[i32,32000]   = [2, 3, 3, 6, 6, 6, 6, 6, 6, 6, 6, 6, ...\n",
      "llama_model_loader: - kv  16:                tokenizer.ggml.bos_token_id u32              = 1\n",
      "llama_model_loader: - kv  17:                tokenizer.ggml.eos_token_id u32              = 2\n",
      "llama_model_loader: - kv  18:            tokenizer.ggml.unknown_token_id u32              = 0\n",
      "llama_model_loader: - kv  19:            tokenizer.ggml.padding_token_id u32              = 0\n",
      "llama_model_loader: - kv  20:               tokenizer.ggml.add_bos_token bool             = true\n",
      "llama_model_loader: - kv  21:               tokenizer.ggml.add_eos_token bool             = false\n",
      "llama_model_loader: - kv  22:                    tokenizer.chat_template str              = {{ bos_token }}{% for message in mess...\n",
      "llama_model_loader: - kv  23:               general.quantization_version u32              = 2\n",
      "llama_model_loader: - type  f32:   65 tensors\n",
      "llama_model_loader: - type q4_K:  193 tensors\n",
      "llama_model_loader: - type q6_K:   33 tensors\n",
      "llm_load_vocab: special tokens definition check successful ( 259/32000 ).\n",
      "llm_load_print_meta: format           = GGUF V3 (latest)\n",
      "llm_load_print_meta: arch             = llama\n",
      "llm_load_print_meta: vocab type       = SPM\n",
      "llm_load_print_meta: n_vocab          = 32000\n",
      "llm_load_print_meta: n_merges         = 0\n",
      "llm_load_print_meta: n_ctx_train      = 32768\n",
      "llm_load_print_meta: n_embd           = 4096\n",
      "llm_load_print_meta: n_head           = 32\n",
      "llm_load_print_meta: n_head_kv        = 8\n",
      "llm_load_print_meta: n_layer          = 32\n",
      "llm_load_print_meta: n_rot            = 128\n",
      "llm_load_print_meta: n_embd_head_k    = 128\n",
      "llm_load_print_meta: n_embd_head_v    = 128\n",
      "llm_load_print_meta: n_gqa            = 4\n",
      "llm_load_print_meta: n_embd_k_gqa     = 1024\n",
      "llm_load_print_meta: n_embd_v_gqa     = 1024\n",
      "llm_load_print_meta: f_norm_eps       = 0.0e+00\n",
      "llm_load_print_meta: f_norm_rms_eps   = 1.0e-05\n",
      "llm_load_print_meta: f_clamp_kqv      = 0.0e+00\n",
      "llm_load_print_meta: f_max_alibi_bias = 0.0e+00\n",
      "llm_load_print_meta: n_ff             = 14336\n",
      "llm_load_print_meta: n_expert         = 0\n",
      "llm_load_print_meta: n_expert_used    = 0\n",
      "llm_load_print_meta: rope scaling     = linear\n",
      "llm_load_print_meta: freq_base_train  = 1000000.0\n",
      "llm_load_print_meta: freq_scale_train = 1\n",
      "llm_load_print_meta: n_yarn_orig_ctx  = 32768\n",
      "llm_load_print_meta: rope_finetuned   = unknown\n",
      "llm_load_print_meta: model type       = 7B\n",
      "llm_load_print_meta: model ftype      = Q4_K - Medium\n",
      "llm_load_print_meta: model params     = 7.24 B\n",
      "llm_load_print_meta: model size       = 4.07 GiB (4.83 BPW) \n",
      "llm_load_print_meta: general.name     = mistralai_mistral-7b-instruct-v0.2\n",
      "llm_load_print_meta: BOS token        = 1 '<s>'\n",
      "llm_load_print_meta: EOS token        = 2 '</s>'\n",
      "llm_load_print_meta: UNK token        = 0 '<unk>'\n",
      "llm_load_print_meta: PAD token        = 0 '<unk>'\n",
      "llm_load_print_meta: LF token         = 13 '<0x0A>'\n",
      "llm_load_tensors: ggml ctx size =    0.22 MiB\n",
      "llm_load_tensors: offloading 32 repeating layers to GPU\n",
      "llm_load_tensors: offloading non-repeating layers to GPU\n",
      "llm_load_tensors: offloaded 33/33 layers to GPU\n",
      "llm_load_tensors:        CPU buffer size =    70.31 MiB\n",
      "llm_load_tensors:      CUDA0 buffer size =  4095.05 MiB\n",
      "...............................................................................................\n",
      "llama_new_context_with_model: n_ctx      = 3900\n",
      "llama_new_context_with_model: freq_base  = 1000000.0\n",
      "llama_new_context_with_model: freq_scale = 1\n",
      "llama_kv_cache_init:      CUDA0 KV buffer size =   487.50 MiB\n",
      "llama_new_context_with_model: KV self size  =  487.50 MiB, K (f16):  243.75 MiB, V (f16):  243.75 MiB\n",
      "llama_new_context_with_model:  CUDA_Host input buffer size   =    15.64 MiB\n",
      "llama_new_context_with_model:      CUDA0 compute buffer size =   275.37 MiB\n",
      "llama_new_context_with_model:  CUDA_Host compute buffer size =     8.00 MiB\n",
      "llama_new_context_with_model: graph splits (measure): 3\n",
      "AVX = 1 | AVX_VNNI = 0 | AVX2 = 1 | AVX512 = 0 | AVX512_VBMI = 0 | AVX512_VNNI = 0 | FMA = 1 | NEON = 0 | ARM_FMA = 0 | F16C = 1 | FP16_VA = 0 | WASM_SIMD = 0 | BLAS = 1 | SSE3 = 1 | SSSE3 = 1 | VSX = 0 | \n",
      "Model metadata: {'tokenizer.chat_template': \"{{ bos_token }}{% for message in messages %}{% if (message['role'] == 'user') != (loop.index0 % 2 == 0) %}{{ raise_exception('Conversation roles must alternate user/assistant/user/assistant/...') }}{% endif %}{% if message['role'] == 'user' %}{{ '[INST] ' + message['content'] + ' [/INST]' }}{% elif message['role'] == 'assistant' %}{{ message['content'] + eos_token}}{% else %}{{ raise_exception('Only user and assistant roles are supported!') }}{% endif %}{% endfor %}\", 'tokenizer.ggml.add_eos_token': 'false', 'tokenizer.ggml.padding_token_id': '0', 'tokenizer.ggml.unknown_token_id': '0', 'tokenizer.ggml.eos_token_id': '2', 'general.architecture': 'llama', 'llama.rope.freq_base': '1000000.000000', 'llama.context_length': '32768', 'general.name': 'mistralai_mistral-7b-instruct-v0.2', 'tokenizer.ggml.add_bos_token': 'true', 'llama.embedding_length': '4096', 'llama.feed_forward_length': '14336', 'llama.attention.layer_norm_rms_epsilon': '0.000010', 'llama.rope.dimension_count': '128', 'tokenizer.ggml.bos_token_id': '1', 'llama.attention.head_count': '32', 'llama.block_count': '32', 'llama.attention.head_count_kv': '8', 'general.quantization_version': '2', 'tokenizer.ggml.model': 'llama', 'general.file_type': '15'}\n"
     ]
    }
   ],
   "source": [
    "\n",
    "from llama_index.llms import LlamaCPP\n",
    "from llama_index.llms.llama_utils import (\n",
    "    messages_to_prompt,\n",
    "    completion_to_prompt,\n",
    ")\n",
    "# small\n",
    "# model_file_path = '../models/TheBloke/Mistral-7B-Instruct-v0.2-GGUF/mistral-7b-instruct-v0.2.Q4_K_S.gguf'\n",
    "\n",
    "# medium\n",
    "model_file_path = '../models/TheBloke/Mistral-7B-Instruct-v0.2-GGUF/mistral-7b-instruct-v0.2.Q4_K_M.gguf'\n",
    "\n",
    "llm = LlamaCPP(\n",
    "    # You can pass in the URL to a GGML model to download it automatically\n",
    "    # model_url=model_url,\n",
    "    # optionally, you can set the path to a pre-downloaded model instead of model_url\n",
    "    model_path=model_file_path,\n",
    "    temperature=0.1,\n",
    "    max_new_tokens=256,\n",
    "    # llama2 has a context window of 4096 tokens, but we set it lower to allow for some wiggle room\n",
    "    context_window=3900,\n",
    "    # kwargs to pass to __call__()\n",
    "    generate_kwargs={},\n",
    "    # kwargs to pass to __init__()\n",
    "    # set to 0 for no GPU, at least 1 to use GPU,  -1 all layers are offloaded\n",
    "    # change this value from 1, 10, 20, 30, 40\n",
    "    # for Nvidia GEForce 2070 with 8 GB RAM 40 works well\n",
    "    model_kwargs={\"n_gpu_layers\": -1},\n",
    "    # transform inputs into Llama2 format\n",
    "    messages_to_prompt=messages_to_prompt,\n",
    "    completion_to_prompt=completion_to_prompt,\n",
    "    verbose=True,\n",
    ")"
   ]
  },
  {
   "cell_type": "code",
   "execution_count": 11,
   "metadata": {},
   "outputs": [],
   "source": [
    "from llama_index import  ServiceContext\n",
    "\n",
    "# The LLM used to generate natural language responses to queries.\n",
    "# If not provided, defaults to gpt-3.5-turbo from OpenAI\n",
    "# If your OpenAI key is not set, defaults to llama2-chat-13B from Llama.cpp\n",
    "\n",
    "service_context = ServiceContext.from_defaults(embed_model=embed_model, llm=llm)"
   ]
  },
  {
   "cell_type": "markdown",
   "metadata": {},
   "source": [
    "## Step-3: Connect Illama-Index and MongoDB Atlas\n",
    "\n",
    "Let's define MongoDB Atlas as our vector storage. This is critical to stored indexed data and then query"
   ]
  },
  {
   "cell_type": "code",
   "execution_count": 12,
   "metadata": {},
   "outputs": [],
   "source": [
    "from llama_index.vector_stores.mongodb import MongoDBAtlasVectorSearch\n",
    "from llama_index.storage.storage_context import StorageContext\n",
    "from llama_index.indices.vector_store.base import VectorStoreIndex\n",
    "\n",
    "\n",
    "vector_store = MongoDBAtlasVectorSearch(mongodb_client = mongodb_client,\n",
    "                                 db_name = DB_NAME, collection_name = COLLECTION_NAME,\n",
    "                                 index_name  = 'idx_embedding',\n",
    "                                 ## the following columns are set to default values\n",
    "                                 # embedding_key = 'embedding', text_key = 'text', metadata_= 'metadata',\n",
    "                                 )\n",
    "storage_context = StorageContext.from_defaults(vector_store=vector_store)\n",
    "\n",
    "index = VectorStoreIndex.from_vector_store(vector_store=vector_store, service_context=service_context)"
   ]
  },
  {
   "cell_type": "markdown",
   "metadata": {},
   "source": [
    "## Step-4: Query Data / Ask Questions\n",
    "\n",
    "Now that we have every thing setup, let's ask some questions"
   ]
  },
  {
   "cell_type": "code",
   "execution_count": 13,
   "metadata": {},
   "outputs": [
    {
     "name": "stdout",
     "output_type": "stream",
     "text": [
      " Based on the provided context information from Uber's 2021 Annual Report on Form 10-K, I can see that Uber generated total revenue of $17,455 million for the year ended December 31, 2021. This revenue is a combination of Mobility revenue, Delivery revenue, Freight revenue, and All Other revenue. The exact breakdown of these revenues by offering and geographical region is presented in the context information as well.\n",
      "\n",
      "Response(response=\" Based on the provided context information from Uber's 2021 \"\n",
      "                  'Annual Report on Form 10-K, I can see that Uber generated '\n",
      "                  'total revenue of $17,455 million for the year ended '\n",
      "                  'December 31, 2021. This revenue is a combination of '\n",
      "                  'Mobility revenue, Delivery revenue, Freight revenue, and '\n",
      "                  'All Other revenue. The exact breakdown of these revenues by '\n",
      "                  'offering and geographical region is presented in the '\n",
      "                  'context information as well.',\n",
      "         source_nodes=[   NodeWithScore(node=TextNode(id_='97e43c19-36ff-4295-a7e1-cee0e271566e', embedding=None, metadata={'page_label': '54', 'file_name': 'uber_2021.pdf', 'file_path': '../data/10k/uber_2021.pdf', 'file_type': 'application/pdf', 'file_size': 1880483, 'creation_date': '2024-01-23', 'last_modified_date': '2024-01-23', 'last_accessed_date': '2024-01-29'}, excluded_embed_metadata_keys=['file_name', 'file_type', 'file_size', 'creation_date', 'last_modified_date', 'last_accessed_date'], excluded_llm_metadata_keys=['file_name', 'file_type', 'file_size', 'creation_date', 'last_modified_date', 'last_accessed_date'], relationships={<NodeRelationship.SOURCE: '1'>: RelatedNodeInfo(node_id='abbd51f4-1ee4-413d-a13f-1411a7f9b658', node_type=<ObjectType.DOCUMENT: '4'>, metadata={'page_label': '54', 'file_name': 'uber_2021.pdf', 'file_path': '../data/10k/uber_2021.pdf', 'file_type': 'application/pdf', 'file_size': 1880483, 'creation_date': '2024-01-23', 'last_modified_date': '2024-01-23', 'last_accessed_date': '2024-01-29'}, hash='0a98265671be4d2e8ff76fbe990de8449000829b477a1ee6c2e63fceb3c43760'), <NodeRelationship.PREVIOUS: '2'>: RelatedNodeInfo(node_id='e5895956-0194-4d57-ba3d-ec5f86382bff', node_type=<ObjectType.TEXT: '1'>, metadata={'page_label': '54', 'file_name': 'uber_2021.pdf', 'file_path': '../data/10k/uber_2021.pdf', 'file_type': 'application/pdf', 'file_size': 1880483, 'creation_date': '2024-01-23', 'last_modified_date': '2024-01-23', 'last_accessed_date': '2024-01-29'}, hash='aa569a98d77942a3704e8a387f35e749c08a7e5be3539d104fabaf9985d8b893'), <NodeRelationship.NEXT: '3'>: RelatedNodeInfo(node_id='bd2ad4a8-b10b-43f4-8d30-f97f24e15996', node_type=<ObjectType.TEXT: '1'>, metadata={}, hash='377b9b7611d291fc86ae258e33ab16bbda809dd44a7fb53c6ff0cb71b370205b')}, hash='c2523ba45a5bdaaaf29b9ca2b5b29be700467e13c05db2b0f4a62ed38939820f', text='We have concluded that we are an agent in thesearrangements\\n as we arrange for other parties to provide the service to the end-user. Under this model, revenue is net of Driver and Merchant earnings and Driverincentives. We act as an a\\ngent in these transactions by connecting consumers to Drivers and Merchants to facilitate a Trip, meal or grocery delivery service.For\\n additional  discussion  related  to  our  revenue,  see  the  section  titled  “Management’s  Discussion  and  Analysis  of  Financial  Condition  and  Results  ofOperations\\n - Critical Accounting Estimates - Revenue Recognition,” “Note 1 – Description of Business and Summary of Significant Accounting Policies,” and“Note 2\\n – Revenue” to our consolidated financial statements included in Part II, Item 8, “Financial Statements and Supplementary Data,” of this Annual Report onForm 10-K.\\nCost of Revenue, Exclusive of Depreciation and Amortizat\\nionCost of\\n revenue, exclusive of depreciation and amortization, primarily consists of certain insurance costs related to our Mobility and Delivery offerings, creditcard\\n processing fees, bank fees, data center and networking expenses, mobile device and service costs, costs incurred for certain Delivery transactions where weare primarily respons\\nible for delivery services and pay Couriers for services provided, costs incurred with carriers for Uber Freight transportation services, amountsrelated to fare chargebacks an\\nd other credit card losses.We expect that cost of \\nrevenue, exclusive of depreciation and amortization, will fluctuate on an absolute dollar basis for the foreseeable future in line with Tripvolume\\n changes on the platform. As Trips increase or decrease, we expect related changes for insurance costs, credit card processing fees, hosting and co-locateddata center expenses, m\\naps license fees, and other cost of revenue, exclusive of depreciation and amortization.52', start_char_idx=3110, end_char_idx=5018, text_template='{metadata_str}\\n\\n{content}', metadata_template='{key}: {value}', metadata_seperator='\\n'), score=0.8944822549819946),\n",
      "                          NodeWithScore(node=TextNode(id_='8680dcb4-39d4-400b-ac35-32659c549d6e', embedding=None, metadata={'page_label': '98', 'file_name': 'uber_2021.pdf', 'file_path': '../data/10k/uber_2021.pdf', 'file_type': 'application/pdf', 'file_size': 1880483, 'creation_date': '2024-01-23', 'last_modified_date': '2024-01-23', 'last_accessed_date': '2024-01-29'}, excluded_embed_metadata_keys=['file_name', 'file_type', 'file_size', 'creation_date', 'last_modified_date', 'last_accessed_date'], excluded_llm_metadata_keys=['file_name', 'file_type', 'file_size', 'creation_date', 'last_modified_date', 'last_accessed_date'], relationships={<NodeRelationship.SOURCE: '1'>: RelatedNodeInfo(node_id='d7fbeb9c-89c0-484d-a524-9c5547a0662c', node_type=<ObjectType.DOCUMENT: '4'>, metadata={'page_label': '98', 'file_name': 'uber_2021.pdf', 'file_path': '../data/10k/uber_2021.pdf', 'file_type': 'application/pdf', 'file_size': 1880483, 'creation_date': '2024-01-23', 'last_modified_date': '2024-01-23', 'last_accessed_date': '2024-01-29'}, hash='9cea38b80ceec2db394a7d731b010ff1075defd5fc2dc273f91196f47afb4d8b'), <NodeRelationship.PREVIOUS: '2'>: RelatedNodeInfo(node_id='94de1f98-8cf3-440d-a887-ec1bc848fdca', node_type=<ObjectType.TEXT: '1'>, metadata={'page_label': '97', 'file_name': 'uber_2021.pdf', 'file_path': '../data/10k/uber_2021.pdf', 'file_type': 'application/pdf', 'file_size': 1880483, 'creation_date': '2024-01-23', 'last_modified_date': '2024-01-23', 'last_accessed_date': '2024-01-29'}, hash='29a92b50cf42786215b3abffb6812f593f4de3cf0f500765e9ec310029d809d6'), <NodeRelationship.NEXT: '3'>: RelatedNodeInfo(node_id='c01ec23c-023f-4cbb-bbce-85fe7e665fab', node_type=<ObjectType.TEXT: '1'>, metadata={}, hash='dcd587e68cf25c5aea109c9985a341f6800db75fac8ff3f6629e3b6fb21d848c')}, hash='a6b57cf1aabcdafee6b5e5228ba35ddb794524b49a4394f16834f04800376071', text='Note 2 – RevenueThe\\n following  tables  present  our  revenues  disaggregated  by  offering  and  geographical  region.  Revenue  by  geographical  region  is  based  on  where  thetransaction\\n occurred. This level of disaggregation takes into consideration how the nature, amount, timing, and uncertainty of revenue and cash flows are affectedby economic factors. Revenue \\nis presented in the following tables for the years ended December 31, 2019, 2020 and 2021, respectively (in millions):Year Ended December 31,\\n2019\\n2020 2021 Mobility revenue \\n$ 10,707 $ 6,089 $ 6,953 Delivery revenue \\n1,401 3,904 8,362 Freight revenue\\n731 1,011 2,132 All Other revenue\\n161 135 8 Total revenue\\n$ 13,000 $ 11,139 $ 17,455  We\\n offer subscription memberships to end-users including Uber One, Uber Pass, Rides Pass, and Eats Pass (“Subscription”). We recognize Subscriptionfees\\n ratably over the life of the pass. We allocate Subscription fees earned to Mobility and Delivery revenue on a proportional basis, based on usage for eachoffering during the respe\\nctive period.Year Ended December 31,\\n2019\\n2020 2021 United States and Canada\\n$ 8,465 $ 6,611 $ 10,094 Latin America (\"LatAm\")\\n1,862 1,295 1,417 Europe, Middle East and Africa \\n(\"EMEA\")1,852 2,086 3,213 Asia Pacific (\"APAC\")\\n821 1,147 2,731 Total revenue\\n$ 13,000 $ 11,139 $ 17,455 Revenue\\nMobility Revenue\\nWe derive\\n revenue primarily from fees paid by Mobility Drivers for the use of our platform(s) and related services to facilitate and complete Mobility servicesand,\\n in certain markets, revenue from fees paid by end-users for connection services obtained via the platform. Mobility revenue also includes immaterial revenuestreams\\n such as our financial partnerships products and Vehicle Solutions. Vehicle Solutions revenue is accounted for as an operating lease as defined under ASC842.\\nDelivery Revenue\\nWe\\n derive  revenue  for  Delivery  from  Merchants’  and  Couriers’  use  of  the  Delivery  platform  and  related  service  to  facilitate  and  complete  Deliverytransactions. Additionally,\\n in certain markets where we are responsible for delivery services, delivery fees charged to end-users are also included in revenue, whilepayments\\n to Couriers in exchange for delivery services are recognized in cost of revenue. Delivery also includes advertising revenue from sponsored listing feespaid by merchants and brands in \\nexchange for advertising services.Freight Revenue\\nFreight\\n revenue consists of revenue from freight transportation services provided to shippers. During the fourth quarter of 2021, we completed the acquisitionof\\n Transplace, and our Freight revenue also includes revenue from transportation management. Refer to Note 18 – Business Combinations for further informationon the Transplace acquisi\\ntion.All Other Revenue\\nAll Other revenue primar\\nily includes collaboration revenue related to our ATG business and revenue from our New Mobility offerings and products.ATG\\n collaboration revenue was related to a three-year joint collaboration agreement we entered into in 2019. During the first quarter of 2021, we completedthe sale of Apparate USA LLC (“Apparate\\n” or the “ATG Business”) to Aurora Innovation, Inc. (“Aurora”). Refer to Note 19 – Divestitures for further information.New\\n Mobility offerings and products provided users access to rides through a variety of modes, including dockless e-bikes and e-scooters (“New Mobility”),platform\\n incubator group offerings and other immaterial revenue streams. New Mobility revenue is accounted for as an operating lease as defined under ASC 842.After the JUMP divestiture during \\nthe second quarter of 2020, revenue from New Mobility products, including dockless e-bikes, was no longer material.(1)(1)\\n(1)\\n96', start_char_idx=0, end_char_idx=3736, text_template='{metadata_str}\\n\\n{content}', metadata_template='{key}: {value}', metadata_seperator='\\n'), score=0.889150857925415)],\n",
      "         metadata={   '8680dcb4-39d4-400b-ac35-32659c549d6e': {   'creation_date': '2024-01-23',\n",
      "                                                                  'file_name': 'uber_2021.pdf',\n",
      "                                                                  'file_path': '../data/10k/uber_2021.pdf',\n",
      "                                                                  'file_size': 1880483,\n",
      "                                                                  'file_type': 'application/pdf',\n",
      "                                                                  'last_accessed_date': '2024-01-29',\n",
      "                                                                  'last_modified_date': '2024-01-23',\n",
      "                                                                  'page_label': '98'},\n",
      "                      '97e43c19-36ff-4295-a7e1-cee0e271566e': {   'creation_date': '2024-01-23',\n",
      "                                                                  'file_name': 'uber_2021.pdf',\n",
      "                                                                  'file_path': '../data/10k/uber_2021.pdf',\n",
      "                                                                  'file_size': 1880483,\n",
      "                                                                  'file_type': 'application/pdf',\n",
      "                                                                  'last_accessed_date': '2024-01-29',\n",
      "                                                                  'last_modified_date': '2024-01-23',\n",
      "                                                                  'page_label': '54'}})\n",
      "CPU times: user 4.4 s, sys: 569 ms, total: 4.97 s\n",
      "Wall time: 5.62 s\n"
     ]
    },
    {
     "name": "stderr",
     "output_type": "stream",
     "text": [
      "\n",
      "llama_print_timings:        load time =     394.11 ms\n",
      "llama_print_timings:      sample time =      37.53 ms /   106 runs   (    0.35 ms per token,  2824.26 tokens per second)\n",
      "llama_print_timings: prompt eval time =    1392.78 ms /  1689 tokens (    0.82 ms per token,  1212.69 tokens per second)\n",
      "llama_print_timings:        eval time =    2402.50 ms /   105 runs   (   22.88 ms per token,    43.70 tokens per second)\n",
      "llama_print_timings:       total time =    4019.27 ms /  1794 tokens\n"
     ]
    }
   ],
   "source": [
    "%%time\n",
    "\n",
    "from IPython.display import Markdown\n",
    "from pprint import pprint\n",
    "\n",
    "response = index.as_query_engine().query(\"What was Uber's revenue?\")\n",
    "print (response)\n",
    "print()\n",
    "# display(Markdown(f\"<b>{response}</b>\"))\n",
    "pprint(response, indent=4)"
   ]
  },
  {
   "cell_type": "code",
   "execution_count": 14,
   "metadata": {},
   "outputs": [
    {
     "name": "stderr",
     "output_type": "stream",
     "text": [
      "Llama.generate: prefix-match hit\n"
     ]
    },
    {
     "name": "stdout",
     "output_type": "stream",
     "text": [
      " Based on the provided context information from the Lyft 2021 Annual Report on Form 10-K, I can see that Lyft reported revenue of $2,364,681 thousand for the year ended December 31, 2020. Therefore, Lyft made approximately $2,364,681 thousand in revenue during the year 2020.\n",
      "\n",
      "Response(response=' Based on the provided context information from the Lyft '\n",
      "                  '2021 Annual Report on Form 10-K, I can see that Lyft '\n",
      "                  'reported revenue of $2,364,681 thousand for the year ended '\n",
      "                  'December 31, 2020. Therefore, Lyft made approximately '\n",
      "                  '$2,364,681 thousand in revenue during the year 2020.',\n",
      "         source_nodes=[   NodeWithScore(node=TextNode(id_='e425582e-bf00-4ef2-a52f-8b83959a204c', embedding=None, metadata={'page_label': '58', 'file_name': 'lyft_2021.pdf', 'file_path': '../data/10k/lyft_2021.pdf', 'file_type': 'application/pdf', 'file_size': 1440303, 'creation_date': '2024-01-23', 'last_modified_date': '2024-01-23', 'last_accessed_date': '2024-01-29'}, excluded_embed_metadata_keys=['file_name', 'file_type', 'file_size', 'creation_date', 'last_modified_date', 'last_accessed_date'], excluded_llm_metadata_keys=['file_name', 'file_type', 'file_size', 'creation_date', 'last_modified_date', 'last_accessed_date'], relationships={<NodeRelationship.SOURCE: '1'>: RelatedNodeInfo(node_id='9fd172b3-026a-494e-be7d-e85fe0cb480a', node_type=<ObjectType.DOCUMENT: '4'>, metadata={'page_label': '58', 'file_name': 'lyft_2021.pdf', 'file_path': '../data/10k/lyft_2021.pdf', 'file_type': 'application/pdf', 'file_size': 1440303, 'creation_date': '2024-01-23', 'last_modified_date': '2024-01-23', 'last_accessed_date': '2024-01-29'}, hash='dd37a1d65a3c9ddaece75fbd2c8c95e919594310804d987ffaaa79e93b7cc264'), <NodeRelationship.PREVIOUS: '2'>: RelatedNodeInfo(node_id='bdc4f566-40d1-49cd-8657-26fe424a4c20', node_type=<ObjectType.TEXT: '1'>, metadata={'page_label': '57', 'file_name': 'lyft_2021.pdf', 'file_path': '../data/10k/lyft_2021.pdf', 'file_type': 'application/pdf', 'file_size': 1440303, 'creation_date': '2024-01-23', 'last_modified_date': '2024-01-23', 'last_accessed_date': '2024-01-29'}, hash='dd00756ddd7c3e3495014a0bf546c99ccc630fc346a1d155a9b1f254c80e2be0'), <NodeRelationship.NEXT: '3'>: RelatedNodeInfo(node_id='ad41b16a-c797-47fd-b35c-5d0661d57b35', node_type=<ObjectType.TEXT: '1'>, metadata={}, hash='5d039a8bdbb492ba8cdfaead89eccd791262e9ee34818fc07833fa938b408704')}, hash='d73fc1d9f66f08b2498cf8306a2bf66ae0bb1d148a7f835ee8ae355615ad7481', text=\"Revenue per Active Rider2021\\n2020 2019 2020 to 2021 %Change\\n2019 to 2020 %Change\\nThree Months Ended March 31\\n$45.13 $45.06 $37.86 0.2% 19.0% Three Months Ended June 30\\n$44.63 $39.06 $39.77 14.3% (1.8)% Three Months Ended September 30\\n$45.63 $39.94 $42.82 14.2% (6.7)% Three Months Ended December 31\\n$51.79 $45.40 $44.40 14.1% 2.3% We define Active Riders as \\nall riders who take at least one ride during a quarter where the Lyft Platform processes the transaction. An Active Rider is identified bya\\n unique phone number. If a rider has two mobile phone numbers or changed their phone number and such rider took rides using both phone numbers during the quarter,that person would count\\n as two Active Riders. If a rider has a personal and business profile tied to the same mobile phone number, that person would be considered a singleActive Rider. If a ride has been requested by an\\n organization using our Concierge offering for the benefit of a rider, we exclude this rider in the calculation of Active Ridersunless the ride is access\\nible in the Lyft App. Revenue per Active Rider is calculated by dividing revenue for a period by Active Riders for the same period.Beginning\\n in the fourth quarter of 2020, some riders were able to access their Concierge rides in the Lyft App if they already had a Lyft account. Accordingly,Lyft\\n updated the definition of Active Riders to include Concierge riders if the rider’s phone number matches that of a verified Lyft account, allowing the rider to accesstheir\\n ride in the Lyft App. This update resulted in a 0.01% increase, or an additional 927 Active Riders in the fourth quarter of 2020. Prior to the fourth quarter of 2020, allConcierge riders were exc\\nluded from the calculation of Active Riders as Concierge rides could not be matched with verified rider accounts.With\\n the exception of the three months ended March 31, 2021 as compared to the three months ended March 31, 2020, Active Riders in each of the three monthperiods\\n ended  June  30,  September  30,  and  December  31,  2021  increased  compared  to  the  same  period  in  2020  as  vaccines  were  more  widely  distributed  and  morecommunities\\n fully reopened. Active Riders in the three months periods ended June 30, September 30, and December 31, 2020 represented significantly lower Active Ridercounts\\n since shelter-in-place orders and other travel restrictions were first implemented across North America in response to the COVID-19 pandemic in March 2020. Theslight decrease in the number of Active Riders in the three months ended \\nDecember 31, 2021 as compared to the three months ended September 30, 2021 was due primarilyto the increasing COVID-19 case counts \\nfrom COVID-19 variants and their impact on demand as well as the seasonality we typically experience in the winter months.Revenue per Active Rider increased in each of the three months period\\ns ended March 31, June 30, September 30, and December 31, 2021 as compared to the sameperiods\\n in  2020,  primarily  reflecting  the  improvement  in  demand  on  our  platform  compared  to  earlier  periods  during  the  COVID-19  pandemic,  which  had  materiallylimited\\n people's mobility and severely reduced Active Riders. Revenue per Active Rider reached an all-time high in the three months ended December 31, 2021, increasingcompared\\n to the three months ended September 30, 2021. This was driven by an increase in ride frequency as well as a shift toward higher revenue rides such as airportrides,\\n reflecting the increased travel experienced in the fourth quarter in 2021 nationwide. Revenue per Active Rider also benefited from revenues from licensing and dataaccess agreements, beg\\ninning in the second quarter of 2021.Critical Accounting Policies and Estimates\\nOur\\n consolidated  financial  statements  and  the  related  notes  thereto  included  elsewhere  in  this  Annual  Report  on  Form  10-K  are  prepared  in  accordance  withGAAP.\", start_char_idx=0, end_char_idx=3934, text_template='{metadata_str}\\n\\n{content}', metadata_template='{key}: {value}', metadata_seperator='\\n'), score=0.8825758695602417),\n",
      "                          NodeWithScore(node=TextNode(id_='b865ebda-59d0-49b2-b9ea-427745b89382', embedding=None, metadata={'page_label': '79', 'file_name': 'lyft_2021.pdf', 'file_path': '../data/10k/lyft_2021.pdf', 'file_type': 'application/pdf', 'file_size': 1440303, 'creation_date': '2024-01-23', 'last_modified_date': '2024-01-23', 'last_accessed_date': '2024-01-29'}, excluded_embed_metadata_keys=['file_name', 'file_type', 'file_size', 'creation_date', 'last_modified_date', 'last_accessed_date'], excluded_llm_metadata_keys=['file_name', 'file_type', 'file_size', 'creation_date', 'last_modified_date', 'last_accessed_date'], relationships={<NodeRelationship.SOURCE: '1'>: RelatedNodeInfo(node_id='8f2ed54c-68a3-41a0-94c6-8ca8dd842553', node_type=<ObjectType.DOCUMENT: '4'>, metadata={'page_label': '79', 'file_name': 'lyft_2021.pdf', 'file_path': '../data/10k/lyft_2021.pdf', 'file_type': 'application/pdf', 'file_size': 1440303, 'creation_date': '2024-01-23', 'last_modified_date': '2024-01-23', 'last_accessed_date': '2024-01-29'}, hash='947c7c7d1d97cbed4ea861a825228ba878dc036b3ae313a58965ecd5adc7aee5'), <NodeRelationship.PREVIOUS: '2'>: RelatedNodeInfo(node_id='ebad8e21-b494-4088-bf9b-2961f108e9aa', node_type=<ObjectType.TEXT: '1'>, metadata={'page_label': '78', 'file_name': 'lyft_2021.pdf', 'file_path': '../data/10k/lyft_2021.pdf', 'file_type': 'application/pdf', 'file_size': 1440303, 'creation_date': '2024-01-23', 'last_modified_date': '2024-01-23', 'last_accessed_date': '2024-01-29'}, hash='0a29be3120ecf78c0cd8bd04a1934fa6281d41dba4b6e08f26ba6abba9e0269e'), <NodeRelationship.NEXT: '3'>: RelatedNodeInfo(node_id='b43433f6-6d8c-4485-97a9-8b65ef6d6e34', node_type=<ObjectType.TEXT: '1'>, metadata={}, hash='8949c39ee85f566ef2203d53cc8e9708d1f4650ef0b85f9b0e1588938150f3ab')}, hash='e44931a5b7d2efa8181e4d40132cd2fde583c36d890f33dd8d8263d38faa1a33', text='Lyft, Inc.Consolidated Statements of Operations\\n(in thousands, except for per share data\\n) Year Ended December 31,\\n2021\\n2020 2019 Revenue\\n$ 3,208,323 $ 2,364,681 $ 3,615,960 Costs and expenses\\nCost of revenue\\n1,649,532 1,447,516 2,176,469 Operations and support\\n402,233 453,963 636,116 Research and development\\n911,946 909,126 1,505,640 Sales and marketing\\n411,406 416,331 814,122 General and administrative\\n915,638 946,127 1,186,093 Total costs and expenses\\n4,290,755 4,173,063 6,318,440 Loss from operations\\n(1,082,432) (1,808,382) (2,702,480) Interest expense\\n(51,635) (32,678) — Other income, net\\n135,933 43,669 102,595 Loss before income taxes\\n(998,134) (1,797,391) (2,599,885) Provision for (benefit fro\\nm) income taxes11,225 (44,534) 2,356 Net loss\\n$ (1,009,359) $ (1,752,857) $ (2,602,241) Net loss per share, basic and di\\nluted$ (3.02) $ (5.61) $ (11.44) Weighted-average numb\\ner of shares outstanding used to compute net loss per share, basic and diluted334,724 312,175 227,498 Stock-based compensation included in costs and expenses:\\nCost of revenue\\n$ 39,491 $ 28,743 $ 81,321 Operations and support\\n24,083 15,829 75,212 Research and development\\n414,324 325,624 971,941 Sales and marketing\\n38,243 23,385 72,046 General and administrative\\n208,419 172,226 398,791 The accompanying notes are \\nan integral part of these consolidated financial statements.79', start_char_idx=0, end_char_idx=1363, text_template='{metadata_str}\\n\\n{content}', metadata_template='{key}: {value}', metadata_seperator='\\n'), score=0.8807734251022339)],\n",
      "         metadata={   'b865ebda-59d0-49b2-b9ea-427745b89382': {   'creation_date': '2024-01-23',\n",
      "                                                                  'file_name': 'lyft_2021.pdf',\n",
      "                                                                  'file_path': '../data/10k/lyft_2021.pdf',\n",
      "                                                                  'file_size': 1440303,\n",
      "                                                                  'file_type': 'application/pdf',\n",
      "                                                                  'last_accessed_date': '2024-01-29',\n",
      "                                                                  'last_modified_date': '2024-01-23',\n",
      "                                                                  'page_label': '79'},\n",
      "                      'e425582e-bf00-4ef2-a52f-8b83959a204c': {   'creation_date': '2024-01-23',\n",
      "                                                                  'file_name': 'lyft_2021.pdf',\n",
      "                                                                  'file_path': '../data/10k/lyft_2021.pdf',\n",
      "                                                                  'file_size': 1440303,\n",
      "                                                                  'file_type': 'application/pdf',\n",
      "                                                                  'last_accessed_date': '2024-01-29',\n",
      "                                                                  'last_modified_date': '2024-01-23',\n",
      "                                                                  'page_label': '58'}})\n",
      "CPU times: user 3.58 s, sys: 268 ms, total: 3.85 s\n",
      "Wall time: 3.94 s\n"
     ]
    },
    {
     "name": "stderr",
     "output_type": "stream",
     "text": [
      "\n",
      "llama_print_timings:        load time =     394.11 ms\n",
      "llama_print_timings:      sample time =      31.20 ms /    89 runs   (    0.35 ms per token,  2852.47 tokens per second)\n",
      "llama_print_timings: prompt eval time =    1545.23 ms /  1963 tokens (    0.79 ms per token,  1270.36 tokens per second)\n",
      "llama_print_timings:        eval time =    2077.26 ms /    88 runs   (   23.61 ms per token,    42.36 tokens per second)\n",
      "llama_print_timings:       total time =    3830.44 ms /  2051 tokens\n"
     ]
    }
   ],
   "source": [
    "%%time\n",
    "\n",
    "response = index.as_query_engine().query(\"How much money did Lyft make in 2020?\")\n",
    "print (response)\n",
    "print()\n",
    "pprint(response, indent=4)"
   ]
  },
  {
   "cell_type": "code",
   "execution_count": 15,
   "metadata": {},
   "outputs": [
    {
     "name": "stderr",
     "output_type": "stream",
     "text": [
      "Llama.generate: prefix-match hit\n"
     ]
    },
    {
     "name": "stdout",
     "output_type": "stream",
     "text": [
      " I cannot directly provide you with Lyft's revenue for 2018 from the given context information as it does not contain that specific data. The context only provides financial information for the years 2019 and 2021.\n",
      "\n",
      "Response(response=\" I cannot directly provide you with Lyft's revenue for 2018 \"\n",
      "                  'from the given context information as it does not contain '\n",
      "                  'that specific data. The context only provides financial '\n",
      "                  'information for the years 2019 and 2021.',\n",
      "         source_nodes=[   NodeWithScore(node=TextNode(id_='ad41b16a-c797-47fd-b35c-5d0661d57b35', embedding=None, metadata={'page_label': '58', 'file_name': 'lyft_2021.pdf', 'file_path': '../data/10k/lyft_2021.pdf', 'file_type': 'application/pdf', 'file_size': 1440303, 'creation_date': '2024-01-23', 'last_modified_date': '2024-01-23', 'last_accessed_date': '2024-01-29'}, excluded_embed_metadata_keys=['file_name', 'file_type', 'file_size', 'creation_date', 'last_modified_date', 'last_accessed_date'], excluded_llm_metadata_keys=['file_name', 'file_type', 'file_size', 'creation_date', 'last_modified_date', 'last_accessed_date'], relationships={<NodeRelationship.SOURCE: '1'>: RelatedNodeInfo(node_id='9fd172b3-026a-494e-be7d-e85fe0cb480a', node_type=<ObjectType.DOCUMENT: '4'>, metadata={'page_label': '58', 'file_name': 'lyft_2021.pdf', 'file_path': '../data/10k/lyft_2021.pdf', 'file_type': 'application/pdf', 'file_size': 1440303, 'creation_date': '2024-01-23', 'last_modified_date': '2024-01-23', 'last_accessed_date': '2024-01-29'}, hash='dd37a1d65a3c9ddaece75fbd2c8c95e919594310804d987ffaaa79e93b7cc264'), <NodeRelationship.PREVIOUS: '2'>: RelatedNodeInfo(node_id='e425582e-bf00-4ef2-a52f-8b83959a204c', node_type=<ObjectType.TEXT: '1'>, metadata={'page_label': '58', 'file_name': 'lyft_2021.pdf', 'file_path': '../data/10k/lyft_2021.pdf', 'file_type': 'application/pdf', 'file_size': 1440303, 'creation_date': '2024-01-23', 'last_modified_date': '2024-01-23', 'last_accessed_date': '2024-01-29'}, hash='ad3761d34c73b24c1784424764c9b81a4bcf99af72c7ccf724b034c57a27eebc'), <NodeRelationship.NEXT: '3'>: RelatedNodeInfo(node_id='e4f8a9a6-f940-4d9b-839f-72dee893b424', node_type=<ObjectType.TEXT: '1'>, metadata={}, hash='5c19d9358ebabbd351cd40433c670c912aa3d0af506c3a72519678b580112318')}, hash='d73fc1d9f66f08b2498cf8306a2bf66ae0bb1d148a7f835ee8ae355615ad7481', text='Revenue per Active Rider reached an all-time high in the three months ended December 31, 2021, increasingcompared\\n to the three months ended September 30, 2021. This was driven by an increase in ride frequency as well as a shift toward higher revenue rides such as airportrides,\\n reflecting the increased travel experienced in the fourth quarter in 2021 nationwide. Revenue per Active Rider also benefited from revenues from licensing and dataaccess agreements, beg\\ninning in the second quarter of 2021.Critical Accounting Policies and Estimates\\nOur\\n consolidated  financial  statements  and  the  related  notes  thereto  included  elsewhere  in  this  Annual  Report  on  Form  10-K  are  prepared  in  accordance  withGAAP.\\n The  preparation  of  consolidated  financial  statements  also  requires  us  to  make  estimates  and  assumptions  that  affect  the  reported  amounts  of  assets,  liabilities,revenue,\\n costs and expenses and related disclosures. We base our estimates on historical experience and on various other assumptions that we believe to be reasonableunder\\n the circumstances. Actual results could differ significantly from our estimates. To the extent that there are differences between our estimates and actual results, ourfuture financial st\\natement presentation, financial condition, results of operations and cash flows will be affected.We\\n believe that the accounting policies described below involve a significant degree of judgment and complexity. Accordingly, we believe these are the mostcritical\\n to aid in fully understanding and evaluating our consolidated financial condition and results of operations. For further information, see Note 2 of the notes to ourconsolidated financia\\nl statements included elsewhere in this Annual Report on Form 10-K.Revenue Recognition\\nRevenues from Contracts with Customers (ASC 606)\\nWe\\n generate substantially all our revenue from our ridesharing marketplace that connects drivers and riders. We recognize revenue from fees paid by drivers foruse\\n of our Lyft Platform offerings in accordance with ASC 606 as described in Note 2 of the notes to our consolidated financial statements. Drivers enter into terms ofservice (“ToS”) with us in orde\\nr to use our Lyft Driver App.58', start_char_idx=3208, end_char_idx=5453, text_template='{metadata_str}\\n\\n{content}', metadata_template='{key}: {value}', metadata_seperator='\\n'), score=0.8987671732902527),\n",
      "                          NodeWithScore(node=TextNode(id_='b865ebda-59d0-49b2-b9ea-427745b89382', embedding=None, metadata={'page_label': '79', 'file_name': 'lyft_2021.pdf', 'file_path': '../data/10k/lyft_2021.pdf', 'file_type': 'application/pdf', 'file_size': 1440303, 'creation_date': '2024-01-23', 'last_modified_date': '2024-01-23', 'last_accessed_date': '2024-01-29'}, excluded_embed_metadata_keys=['file_name', 'file_type', 'file_size', 'creation_date', 'last_modified_date', 'last_accessed_date'], excluded_llm_metadata_keys=['file_name', 'file_type', 'file_size', 'creation_date', 'last_modified_date', 'last_accessed_date'], relationships={<NodeRelationship.SOURCE: '1'>: RelatedNodeInfo(node_id='8f2ed54c-68a3-41a0-94c6-8ca8dd842553', node_type=<ObjectType.DOCUMENT: '4'>, metadata={'page_label': '79', 'file_name': 'lyft_2021.pdf', 'file_path': '../data/10k/lyft_2021.pdf', 'file_type': 'application/pdf', 'file_size': 1440303, 'creation_date': '2024-01-23', 'last_modified_date': '2024-01-23', 'last_accessed_date': '2024-01-29'}, hash='947c7c7d1d97cbed4ea861a825228ba878dc036b3ae313a58965ecd5adc7aee5'), <NodeRelationship.PREVIOUS: '2'>: RelatedNodeInfo(node_id='ebad8e21-b494-4088-bf9b-2961f108e9aa', node_type=<ObjectType.TEXT: '1'>, metadata={'page_label': '78', 'file_name': 'lyft_2021.pdf', 'file_path': '../data/10k/lyft_2021.pdf', 'file_type': 'application/pdf', 'file_size': 1440303, 'creation_date': '2024-01-23', 'last_modified_date': '2024-01-23', 'last_accessed_date': '2024-01-29'}, hash='0a29be3120ecf78c0cd8bd04a1934fa6281d41dba4b6e08f26ba6abba9e0269e'), <NodeRelationship.NEXT: '3'>: RelatedNodeInfo(node_id='b43433f6-6d8c-4485-97a9-8b65ef6d6e34', node_type=<ObjectType.TEXT: '1'>, metadata={}, hash='8949c39ee85f566ef2203d53cc8e9708d1f4650ef0b85f9b0e1588938150f3ab')}, hash='e44931a5b7d2efa8181e4d40132cd2fde583c36d890f33dd8d8263d38faa1a33', text='Lyft, Inc.Consolidated Statements of Operations\\n(in thousands, except for per share data\\n) Year Ended December 31,\\n2021\\n2020 2019 Revenue\\n$ 3,208,323 $ 2,364,681 $ 3,615,960 Costs and expenses\\nCost of revenue\\n1,649,532 1,447,516 2,176,469 Operations and support\\n402,233 453,963 636,116 Research and development\\n911,946 909,126 1,505,640 Sales and marketing\\n411,406 416,331 814,122 General and administrative\\n915,638 946,127 1,186,093 Total costs and expenses\\n4,290,755 4,173,063 6,318,440 Loss from operations\\n(1,082,432) (1,808,382) (2,702,480) Interest expense\\n(51,635) (32,678) — Other income, net\\n135,933 43,669 102,595 Loss before income taxes\\n(998,134) (1,797,391) (2,599,885) Provision for (benefit fro\\nm) income taxes11,225 (44,534) 2,356 Net loss\\n$ (1,009,359) $ (1,752,857) $ (2,602,241) Net loss per share, basic and di\\nluted$ (3.02) $ (5.61) $ (11.44) Weighted-average numb\\ner of shares outstanding used to compute net loss per share, basic and diluted334,724 312,175 227,498 Stock-based compensation included in costs and expenses:\\nCost of revenue\\n$ 39,491 $ 28,743 $ 81,321 Operations and support\\n24,083 15,829 75,212 Research and development\\n414,324 325,624 971,941 Sales and marketing\\n38,243 23,385 72,046 General and administrative\\n208,419 172,226 398,791 The accompanying notes are \\nan integral part of these consolidated financial statements.79', start_char_idx=0, end_char_idx=1363, text_template='{metadata_str}\\n\\n{content}', metadata_template='{key}: {value}', metadata_seperator='\\n'), score=0.8934786319732666)],\n",
      "         metadata={   'ad41b16a-c797-47fd-b35c-5d0661d57b35': {   'creation_date': '2024-01-23',\n",
      "                                                                  'file_name': 'lyft_2021.pdf',\n",
      "                                                                  'file_path': '../data/10k/lyft_2021.pdf',\n",
      "                                                                  'file_size': 1440303,\n",
      "                                                                  'file_type': 'application/pdf',\n",
      "                                                                  'last_accessed_date': '2024-01-29',\n",
      "                                                                  'last_modified_date': '2024-01-23',\n",
      "                                                                  'page_label': '58'},\n",
      "                      'b865ebda-59d0-49b2-b9ea-427745b89382': {   'creation_date': '2024-01-23',\n",
      "                                                                  'file_name': 'lyft_2021.pdf',\n",
      "                                                                  'file_path': '../data/10k/lyft_2021.pdf',\n",
      "                                                                  'file_size': 1440303,\n",
      "                                                                  'file_type': 'application/pdf',\n",
      "                                                                  'last_accessed_date': '2024-01-29',\n",
      "                                                                  'last_modified_date': '2024-01-23',\n",
      "                                                                  'page_label': '79'}})\n",
      "CPU times: user 2.19 s, sys: 177 ms, total: 2.37 s\n",
      "Wall time: 2.45 s\n"
     ]
    },
    {
     "name": "stderr",
     "output_type": "stream",
     "text": [
      "\n",
      "llama_print_timings:        load time =     394.11 ms\n",
      "llama_print_timings:      sample time =      19.74 ms /    53 runs   (    0.37 ms per token,  2685.31 tokens per second)\n",
      "llama_print_timings: prompt eval time =    1037.72 ms /  1296 tokens (    0.80 ms per token,  1248.89 tokens per second)\n",
      "llama_print_timings:        eval time =    1186.85 ms /    52 runs   (   22.82 ms per token,    43.81 tokens per second)\n",
      "llama_print_timings:       total time =    2346.79 ms /  1348 tokens\n"
     ]
    }
   ],
   "source": [
    "%%time\n",
    "\n",
    "## The answer to this question doesn't exist in the Lyft_10k filing!\n",
    "## Let's see what we get back\n",
    "response = index.as_query_engine().query(\"What was Lyft's revenue for 2018?\")\n",
    "print (response)\n",
    "print()\n",
    "pprint(response, indent=4)"
   ]
  },
  {
   "cell_type": "code",
   "execution_count": 16,
   "metadata": {},
   "outputs": [
    {
     "name": "stderr",
     "output_type": "stream",
     "text": [
      "Llama.generate: prefix-match hit\n"
     ]
    },
    {
     "name": "stdout",
     "output_type": "stream",
     "text": [
      " Uber went public through an initial public offering (IPO) on the date that is not provided in the given context information. However, it is mentioned that there was a proceeds from issuance of common stock upon initial public offering, net of offering costs, which amounted to $7,973 million in 2019. This information alone does not provide an exact date for the IPO.\n",
      "\n",
      "Response(response=' Uber went public through an initial public offering (IPO) '\n",
      "                  'on the date that is not provided in the given context '\n",
      "                  'information. However, it is mentioned that there was a '\n",
      "                  'proceeds from issuance of common stock upon initial public '\n",
      "                  'offering, net of offering costs, which amounted to $7,973 '\n",
      "                  'million in 2019. This information alone does not provide an '\n",
      "                  'exact date for the IPO.',\n",
      "         source_nodes=[   NodeWithScore(node=TextNode(id_='5a9c1dd0-44f6-4009-8427-df7e92d1ee0f', embedding=None, metadata={'page_label': '82', 'file_name': 'uber_2021.pdf', 'file_path': '../data/10k/uber_2021.pdf', 'file_type': 'application/pdf', 'file_size': 1880483, 'creation_date': '2024-01-23', 'last_modified_date': '2024-01-23', 'last_accessed_date': '2024-01-29'}, excluded_embed_metadata_keys=['file_name', 'file_type', 'file_size', 'creation_date', 'last_modified_date', 'last_accessed_date'], excluded_llm_metadata_keys=['file_name', 'file_type', 'file_size', 'creation_date', 'last_modified_date', 'last_accessed_date'], relationships={<NodeRelationship.SOURCE: '1'>: RelatedNodeInfo(node_id='63aa7020-6388-4789-93f5-d251022b3792', node_type=<ObjectType.DOCUMENT: '4'>, metadata={'page_label': '82', 'file_name': 'uber_2021.pdf', 'file_path': '../data/10k/uber_2021.pdf', 'file_type': 'application/pdf', 'file_size': 1880483, 'creation_date': '2024-01-23', 'last_modified_date': '2024-01-23', 'last_accessed_date': '2024-01-29'}, hash='4df86a91227788344cbe39004e71dc2778384c72336e9c86ce1b2635f3ad21ea'), <NodeRelationship.PREVIOUS: '2'>: RelatedNodeInfo(node_id='8f059c6f-a498-4239-aa59-8758ecfb033b', node_type=<ObjectType.TEXT: '1'>, metadata={'page_label': '81', 'file_name': 'uber_2021.pdf', 'file_path': '../data/10k/uber_2021.pdf', 'file_type': 'application/pdf', 'file_size': 1880483, 'creation_date': '2024-01-23', 'last_modified_date': '2024-01-23', 'last_accessed_date': '2024-01-29'}, hash='a3746831ea07cb046debac48ef08e6419765603ca809c78c3d5eed1b442a252d'), <NodeRelationship.NEXT: '3'>: RelatedNodeInfo(node_id='ccdc31e7-23e3-4299-8b10-c2b2016efff5', node_type=<ObjectType.TEXT: '1'>, metadata={}, hash='a675f9058febe3d50dca7313a4701a97de9d98164c4ccf8e6b04598a1ccdafed')}, hash='ddaf90110988ef3d4285b1a4f263a08851b3bf0b93dbe2103a5b62c6c76e7580', text='UBER TECHNOLOGIES, INC.CONSOLIDATED STATEMENTS OF\\n CASH FLOWS(In millions)\\nYear Ended December 31,\\n2019\\n2020 2021 Cash flows from operating activities\\nNet loss including non-controll\\ning interests$ (8,512) $ (6,788) $ (570) Adjustments to reconcile n\\net loss to net cash used in operating activities:Depreciation and amortization\\n472 575 902 Bad debt expense\\n92 76 109 Stock-based compensation\\n4,596 827 1,168 Gain on extinguishment of conver\\ntible notes and settlement of derivatives(444) — — Gain from sale of investm\\nents— — (413) Gain on business divestitures, net\\n— (204) (1,684) Deferred income taxes\\n(88) (266) (692) Impairment of debt and \\nequity securities— 1,690 — Impairments of goodwill, long\\n-lived assets and other assets— 404 116 Loss from equity method invest\\nments34 34 37 Unrealized (gain) loss on deb\\nt and equity securities, net(2) 125 (1,142) Unrealized foreign cur\\nrency transactions16 48 38 Other\\n15 2 4 Change in assets and liabili\\nties, net of impact of business acquisitions and disposals:Accounts receivable\\n(407) 142 (597) Prepaid expenses and other asse\\nts(478) 94 (236) Collateral held by insurer\\n(1,199) 339 860 Operating lease right-o\\nf-use assets201 341 165 Accounts payable\\n95 (133) 90 Accrued insurance reserves\\n481 (3) 516 Accrued expenses and other li\\nabilities960 83 1,068 Operating lease liabilities\\n(153) (131) (184) Net cash used in operating ac\\ntivities(4,321) (2,745) (445) Cash flows from investing activities\\nPurchases of property and equipm\\nent(588) (616) (298) Purchases of non-marketabl\\ne equity securities(100) (10) (982) Purchases of marketable s\\necurities(441) (2,101) (1,113) Proceeds from maturities an\\nd sales of marketable securities2 1,360 2,291 Proceeds from sale of \\nnon-marketable equity securities— — 500 Proceeds from sale of equi\\nty method investments— — 1,000 Proceeds from business disposal, ne\\nt of cash divested293 — — Acquisition of businesses, net of c\\nash acquired(7) (1,471) (2,314) Return of capital from \\nequity method investee— 91 — Purchase of notes receivab\\nles— (185) (297) Other investing activities\\n51 63 12 Net cash used in investing act\\nivities(790) (2,869) (1,201) Cash flows from financing activities\\nProceeds from issuance of co\\nmmon stock upon initial public offering, net of offering costs7,973 — — Taxes paid related to ne\\nt share settlement of equity awards(1,573) (17) (27) Proceeds from issuance of co\\nmmon stock related to private placement500 — — 80', start_char_idx=0, end_char_idx=2440, text_template='{metadata_str}\\n\\n{content}', metadata_template='{key}: {value}', metadata_seperator='\\n'), score=0.8581383228302002),\n",
      "                          NodeWithScore(node=TextNode(id_='6af71f06-3661-43ac-8a3d-cc13a5f4b6ed', embedding=None, metadata={'page_label': '77', 'file_name': 'uber_2021.pdf', 'file_path': '../data/10k/uber_2021.pdf', 'file_type': 'application/pdf', 'file_size': 1880483, 'creation_date': '2024-01-23', 'last_modified_date': '2024-01-23', 'last_accessed_date': '2024-01-29'}, excluded_embed_metadata_keys=['file_name', 'file_type', 'file_size', 'creation_date', 'last_modified_date', 'last_accessed_date'], excluded_llm_metadata_keys=['file_name', 'file_type', 'file_size', 'creation_date', 'last_modified_date', 'last_accessed_date'], relationships={<NodeRelationship.SOURCE: '1'>: RelatedNodeInfo(node_id='756d4737-6c1c-42df-b2e6-6514da7be064', node_type=<ObjectType.DOCUMENT: '4'>, metadata={'page_label': '77', 'file_name': 'uber_2021.pdf', 'file_path': '../data/10k/uber_2021.pdf', 'file_type': 'application/pdf', 'file_size': 1880483, 'creation_date': '2024-01-23', 'last_modified_date': '2024-01-23', 'last_accessed_date': '2024-01-29'}, hash='f0c2711bb3541f7f09d639773d389e9a6e13c720342b04461f3c2b122809a46e'), <NodeRelationship.PREVIOUS: '2'>: RelatedNodeInfo(node_id='62c1bcfc-87bf-40ae-b45d-341fb707bbc7', node_type=<ObjectType.TEXT: '1'>, metadata={'page_label': '76', 'file_name': 'uber_2021.pdf', 'file_path': '../data/10k/uber_2021.pdf', 'file_type': 'application/pdf', 'file_size': 1880483, 'creation_date': '2024-01-23', 'last_modified_date': '2024-01-23', 'last_accessed_date': '2024-01-29'}, hash='918763fbe314b84c16a09c769fe18d71b8ebfb2398ab4f74508ac694389ed337'), <NodeRelationship.NEXT: '3'>: RelatedNodeInfo(node_id='c7bc2eae-d32c-4911-b735-f0f5f57ac307', node_type=<ObjectType.TEXT: '1'>, metadata={}, hash='8288651338b6653592207a636b3e34bf52524d595ef86ad37903d9b40e62cab4')}, hash='82b345eb637d46fbeecf34ded7f52a9f43712e9aaa563fa4b014312c57e3ea21', text='UBER TECHNOLOGIES, INC.CONSOLIDATED STATEMENTS OF\\n OPERATIONS(In millions, except share amounts which are ref\\nlected in thousands, and per share amounts)Year Ended December 31,\\n2019\\n2020 2021 Revenue\\n$ 13,000 $ 11,139 $ 17,455 Costs and expenses\\nCost of revenue, exclusive of dep\\nreciation and amortization shown separately below6,061 5,154 9,351 Operations and support\\n2,302 1,819 1,877 Sales and marketing\\n4,626 3,583 4,789 Research and development\\n4,836 2,205 2,054 General and administrative\\n3,299 2,666 2,316 Depreciation and amortization\\n472 575 902 Total costs and expenses\\n21,596 16,002 21,289 Loss from operations\\n(8,596) (4,863) (3,834) Interest expense\\n(559) (458) (483) Other income (expense), net\\n722 (1,625) 3,292 Loss before income taxes and loss from equity me\\nthod investments(8,433) (6,946) (1,025) Provision for (benefit fro\\nm) income taxes45 (192) (492) Loss from equity method invest\\nments(34) (34) (37) Net loss including non-controlling interests\\n(8,512) (6,788) (570) Less: net loss attributab\\nle to non-controlling interests, net of tax(6) (20) (74) Net loss attributable to Uber Technologies, Inc.\\n$ (8,506) $ (6,768) $ (496) Net loss per share attributable to Uber Technologies, Inc. co\\nmmon stockholders:Basic\\n$ (6.81) $ (3.86) $ (0.26) Diluted\\n$ (6.81) $ (3.86) $ (0.29) Weighted-average shares used to compute net loss per shar\\ne attributable to common stockholders:Basic\\n1,248,353 1,752,960 1,892,546 Diluted\\n1,248,353 1,752,960 1,895,519 The accompanying notes are an integral part of \\nthese consolidated financial statements.75', start_char_idx=0, end_char_idx=1560, text_template='{metadata_str}\\n\\n{content}', metadata_template='{key}: {value}', metadata_seperator='\\n'), score=0.8567445278167725)],\n",
      "         metadata={   '5a9c1dd0-44f6-4009-8427-df7e92d1ee0f': {   'creation_date': '2024-01-23',\n",
      "                                                                  'file_name': 'uber_2021.pdf',\n",
      "                                                                  'file_path': '../data/10k/uber_2021.pdf',\n",
      "                                                                  'file_size': 1880483,\n",
      "                                                                  'file_type': 'application/pdf',\n",
      "                                                                  'last_accessed_date': '2024-01-29',\n",
      "                                                                  'last_modified_date': '2024-01-23',\n",
      "                                                                  'page_label': '82'},\n",
      "                      '6af71f06-3661-43ac-8a3d-cc13a5f4b6ed': {   'creation_date': '2024-01-23',\n",
      "                                                                  'file_name': 'uber_2021.pdf',\n",
      "                                                                  'file_path': '../data/10k/uber_2021.pdf',\n",
      "                                                                  'file_size': 1880483,\n",
      "                                                                  'file_type': 'application/pdf',\n",
      "                                                                  'last_accessed_date': '2024-01-29',\n",
      "                                                                  'last_modified_date': '2024-01-23',\n",
      "                                                                  'page_label': '77'}})\n",
      "CPU times: user 3.4 s, sys: 215 ms, total: 3.61 s\n",
      "Wall time: 3.7 s\n"
     ]
    },
    {
     "name": "stderr",
     "output_type": "stream",
     "text": [
      "\n",
      "llama_print_timings:        load time =     394.11 ms\n",
      "llama_print_timings:      sample time =      32.55 ms /    87 runs   (    0.37 ms per token,  2672.98 tokens per second)\n",
      "llama_print_timings: prompt eval time =    1388.76 ms /  1710 tokens (    0.81 ms per token,  1231.32 tokens per second)\n",
      "llama_print_timings:        eval time =    2010.66 ms /    86 runs   (   23.38 ms per token,    42.77 tokens per second)\n",
      "llama_print_timings:       total time =    3592.48 ms /  1796 tokens\n"
     ]
    }
   ],
   "source": [
    "%%time\n",
    "\n",
    "response = index.as_query_engine().query(\"When did Uber go IPO?\")\n",
    "print (response)\n",
    "print()\n",
    "pprint(response, indent=4)"
   ]
  },
  {
   "cell_type": "markdown",
   "metadata": {},
   "source": [
    "### We can even query data in tables!\n",
    "\n",
    "Here is a table based data in [Lyft's 10k document](data/10k/lyft_2021.pdf) - page 82\n",
    "\n",
    "And the LLMs are able to extract the info and answer!\n",
    "\n",
    "![](../images/rag-3-pdf-table.png)"
   ]
  },
  {
   "cell_type": "code",
   "execution_count": 17,
   "metadata": {},
   "outputs": [
    {
     "name": "stderr",
     "output_type": "stream",
     "text": [
      "Llama.generate: prefix-match hit\n"
     ]
    },
    {
     "name": "stdout",
     "output_type": "stream",
     "text": [
      " Based on the provided context information, I see that there are two instances where stock-based compensation is mentioned in each of the given consolidated financial statements for Lyft, Inc. The amounts for these compensation are as follows:\n",
      "\n",
      "1. For the year ending December 31, 2021: $1,599,311\n",
      "2. For the year ending December 31, 2019: $1,599,311\n",
      "\n",
      "Therefore, the total stock-based compensation for Lyft during these two years was $3,198,622 ($1,599,311 * 2).\n",
      "\n",
      "Response(response=' Based on the provided context information, I see that '\n",
      "                  'there are two instances where stock-based compensation is '\n",
      "                  'mentioned in each of the given consolidated financial '\n",
      "                  'statements for Lyft, Inc. The amounts for these '\n",
      "                  'compensation are as follows:\\n'\n",
      "                  '\\n'\n",
      "                  '1. For the year ending December 31, 2021: $1,599,311\\n'\n",
      "                  '2. For the year ending December 31, 2019: $1,599,311\\n'\n",
      "                  '\\n'\n",
      "                  'Therefore, the total stock-based compensation for Lyft '\n",
      "                  'during these two years was $3,198,622 ($1,599,311 * 2).',\n",
      "         source_nodes=[   NodeWithScore(node=TextNode(id_='15401925-1cde-442c-a6dd-dbe35853d28c', embedding=None, metadata={'page_label': '82', 'file_name': 'lyft_2021.pdf', 'file_path': '../data/10k/lyft_2021.pdf', 'file_type': 'application/pdf', 'file_size': 1440303, 'creation_date': '2024-01-23', 'last_modified_date': '2024-01-23', 'last_accessed_date': '2024-01-29'}, excluded_embed_metadata_keys=['file_name', 'file_type', 'file_size', 'creation_date', 'last_modified_date', 'last_accessed_date'], excluded_llm_metadata_keys=['file_name', 'file_type', 'file_size', 'creation_date', 'last_modified_date', 'last_accessed_date'], relationships={<NodeRelationship.SOURCE: '1'>: RelatedNodeInfo(node_id='645f8284-0fdf-437c-bb47-7e3cbddf3cbc', node_type=<ObjectType.DOCUMENT: '4'>, metadata={'page_label': '82', 'file_name': 'lyft_2021.pdf', 'file_path': '../data/10k/lyft_2021.pdf', 'file_type': 'application/pdf', 'file_size': 1440303, 'creation_date': '2024-01-23', 'last_modified_date': '2024-01-23', 'last_accessed_date': '2024-01-29'}, hash='beae35eadfa77f866425460153880d9ee680785f9cc793265e6bf888fa98e25a'), <NodeRelationship.PREVIOUS: '2'>: RelatedNodeInfo(node_id='948c6f00-a6e3-4bc7-ac0a-fb7e404969eb', node_type=<ObjectType.TEXT: '1'>, metadata={'page_label': '81', 'file_name': 'lyft_2021.pdf', 'file_path': '../data/10k/lyft_2021.pdf', 'file_type': 'application/pdf', 'file_size': 1440303, 'creation_date': '2024-01-23', 'last_modified_date': '2024-01-23', 'last_accessed_date': '2024-01-29'}, hash='181a63c880097b4ee52b06cbbcad9533ca25b4ccede87b5809547224ed191105'), <NodeRelationship.NEXT: '3'>: RelatedNodeInfo(node_id='3bb10a85-a831-4cf1-970c-f78e1d1d0379', node_type=<ObjectType.TEXT: '1'>, metadata={}, hash='76dea001e490725d0212811e2e46c354bbbd396830e7b9426912cc8c58c53f1b')}, hash='a64eff8f5ea6f58be54ac82d830d8e9d6b97f7fa1e68de6110b45988e4a18fad', text='Lyft, Inc.Consolidated Statements of Redeemable Convertible Pr\\neferred Stock and Stockholders’ Equity (Deficit)(in thousands)\\nRedeemable\\nConvertible\\nPreferred Stock\\nClass A and Class BCommon Stock\\nAdditionalPaid-in Capital\\nAccumulatedDeficit\\nAccumulatedOther\\nComprehensive\\nIncome (Loss)\\nTotalStockholders’\\nEquity (Deficit)\\nShares Amount Shares Amount Balance as of December 31, 2020\\n— — 323,737 $ 3 $8,977,061 $ (7,300,428)$ (473) $ 1,676,163 Issuance of common stock upon exercise of stock\\noptions\\n— — 812 — 5,184 — — 5,184 Issuance of common stock upon settlement of restricted\\nstock units\\n— — 19,926 — — — — — Shares withheld related to net share settlement\\n— — (509) — (26,298) — — (26,298) Issuance of common stock under employee stock\\npurchase plan\\n— — 972 — 28,637 — — 28,637 Settlement of convertible senior notes\\n— — — — (1) — — (1) Stock-based compensation\\n— — — — 721,710 — — 721,710 Other comprehensive loss\\n— — — — — — (2,038) (2,038) Net loss\\n— — — — — (1,009,359) — (1,009,359) Balance as of December 31, 2021\\n— $ — 344,938 $ 3 $9,706,293 $ (8,309,787)$ (2,511) $ 1,393,998 The accompanying notes are \\nan integral part of these consolidated financial statements.82', start_char_idx=0, end_char_idx=1179, text_template='{metadata_str}\\n\\n{content}', metadata_template='{key}: {value}', metadata_seperator='\\n'), score=0.8937572240829468),\n",
      "                          NodeWithScore(node=TextNode(id_='948c6f00-a6e3-4bc7-ac0a-fb7e404969eb', embedding=None, metadata={'page_label': '81', 'file_name': 'lyft_2021.pdf', 'file_path': '../data/10k/lyft_2021.pdf', 'file_type': 'application/pdf', 'file_size': 1440303, 'creation_date': '2024-01-23', 'last_modified_date': '2024-01-23', 'last_accessed_date': '2024-01-29'}, excluded_embed_metadata_keys=['file_name', 'file_type', 'file_size', 'creation_date', 'last_modified_date', 'last_accessed_date'], excluded_llm_metadata_keys=['file_name', 'file_type', 'file_size', 'creation_date', 'last_modified_date', 'last_accessed_date'], relationships={<NodeRelationship.SOURCE: '1'>: RelatedNodeInfo(node_id='0e7d0828-80ed-471e-b645-b964d49298f7', node_type=<ObjectType.DOCUMENT: '4'>, metadata={'page_label': '81', 'file_name': 'lyft_2021.pdf', 'file_path': '../data/10k/lyft_2021.pdf', 'file_type': 'application/pdf', 'file_size': 1440303, 'creation_date': '2024-01-23', 'last_modified_date': '2024-01-23', 'last_accessed_date': '2024-01-29'}, hash='17d25f060244877b166e6cf3cd895909961c8a0637c60027b3d5b7ddb1fcba6f'), <NodeRelationship.PREVIOUS: '2'>: RelatedNodeInfo(node_id='b43433f6-6d8c-4485-97a9-8b65ef6d6e34', node_type=<ObjectType.TEXT: '1'>, metadata={'page_label': '80', 'file_name': 'lyft_2021.pdf', 'file_path': '../data/10k/lyft_2021.pdf', 'file_type': 'application/pdf', 'file_size': 1440303, 'creation_date': '2024-01-23', 'last_modified_date': '2024-01-23', 'last_accessed_date': '2024-01-29'}, hash='8949c39ee85f566ef2203d53cc8e9708d1f4650ef0b85f9b0e1588938150f3ab'), <NodeRelationship.NEXT: '3'>: RelatedNodeInfo(node_id='15401925-1cde-442c-a6dd-dbe35853d28c', node_type=<ObjectType.TEXT: '1'>, metadata={}, hash='0e7364308c583d9ffda947bd7713db5ceb0d2c36ebb73211ca72561b41706da8')}, hash='7ab5bcce0d039a76ff2d27e46a1cab548170f0b25dacff9fb7625c34e5471b8a', text='Lyft, Inc.Consolidated Statements of Redeemable Convertible Pr\\neferred Stock and Stockholders’ Equity (Deficit)(in thousands)\\nRedeemable\\nConvertible\\nPreferred Stock\\nClass A and Class BCommon Stock\\nAdditionalPaid-in\\nCapital\\nAccumulatedDeficit\\nAccumulatedOther\\nComprehensive\\nIncome (Loss)\\nTotalStockholders’\\nEquity (Deficit)\\nShares Amount Shares Amount Balance as of December 31, 2018\\n219,176 $ 5,152,047 22,438 $ — $ 73,916 $ (2,945,330)$ 133 $ (2,871,281)Issuance of common stock upon exercise of stock\\noptions\\n— — 10,855 — 18,336 — — 18,336 Issuance of common stock upon settlement of RSUs\\n— — 28,622 — — — — — Issuance of common stock under employee stock\\npurchase plan\\n— — 404 — 14,767 — — 14,767 Shares withheld related to net share settlement\\n— — (14,394) — (942,982) — — (942,982) Issuance of common in connection with initial public\\noffering, net of offering costs, underwriting discounts\\nand commissions\\n— — 35,497 1 2,483,622 — — 2,483,623 Conversion of redeemable convertible preferred stock\\nto common stock in connection with initia\\nl publicoffering\\n(219,176)(5,152,047) 219,176 2 5,152,045 — — 5,152,047 Cancelled escrow shares related to business\\ncombination\\n— — (2) — (90) — — (90) Vesting of early exercised stock options\\n— — — — 2 — — 2 Stock-based compensation\\n— — — — 1,599,311 — — 1,599,311 Other comprehensive income\\n— — — — — — 2,592 2,592 Net loss\\n— — — — — (2,602,241) — (2,602,241) Balance as of December 31, 2019\\n— $ — 302,596 $ 3 $8,398,927 $ (5,547,571)$ 2,725 $ 2,854,084 Issuance of common stock upon exercise of stock\\noptions\\n— — 1,039 — 4,673 — — 4,673 Issuance of common stock upon settlement of\\nrestricted stock units\\n— — 19,762 — — — — — Shares withheld related to net share settlement\\n— — (552) — (20,240) — — (20,240) Issuance of common stock under employee stock\\npurchase plan\\n— — 892 — 21,351 — — 21,351 Equity component of the convertible senior notes\\nissued, net of tax and offering costs\\n— — — — 139,224 — — 139,224 Purchase of capped call\\n— — — — (132,681) — — (132,681) Stock-based compensation\\n— — — — 565,807 — — 565,807 Other comprehensive loss\\n— — — — — — (3,198) (3,198) Net loss\\n— — — — — (1,752,857) — (1,752,857) Balance as of December 31, 2020\\n— $ — 323,737 $ 3 $8,977,061 $ (7,300,428)$ (473) $ 1,676,163 The accompanying notes are \\nan integral part of these consolidated financial statements.81', start_char_idx=0, end_char_idx=2348, text_template='{metadata_str}\\n\\n{content}', metadata_template='{key}: {value}', metadata_seperator='\\n'), score=0.8914647102355957)],\n",
      "         metadata={   '15401925-1cde-442c-a6dd-dbe35853d28c': {   'creation_date': '2024-01-23',\n",
      "                                                                  'file_name': 'lyft_2021.pdf',\n",
      "                                                                  'file_path': '../data/10k/lyft_2021.pdf',\n",
      "                                                                  'file_size': 1440303,\n",
      "                                                                  'file_type': 'application/pdf',\n",
      "                                                                  'last_accessed_date': '2024-01-29',\n",
      "                                                                  'last_modified_date': '2024-01-23',\n",
      "                                                                  'page_label': '82'},\n",
      "                      '948c6f00-a6e3-4bc7-ac0a-fb7e404969eb': {   'creation_date': '2024-01-23',\n",
      "                                                                  'file_name': 'lyft_2021.pdf',\n",
      "                                                                  'file_path': '../data/10k/lyft_2021.pdf',\n",
      "                                                                  'file_size': 1440303,\n",
      "                                                                  'file_type': 'application/pdf',\n",
      "                                                                  'last_accessed_date': '2024-01-29',\n",
      "                                                                  'last_modified_date': '2024-01-23',\n",
      "                                                                  'page_label': '81'}})\n",
      "CPU times: user 4.85 s, sys: 333 ms, total: 5.18 s\n",
      "Wall time: 5.27 s\n"
     ]
    },
    {
     "name": "stderr",
     "output_type": "stream",
     "text": [
      "\n",
      "llama_print_timings:        load time =     394.11 ms\n",
      "llama_print_timings:      sample time =      52.00 ms /   146 runs   (    0.36 ms per token,  2807.91 tokens per second)\n",
      "llama_print_timings: prompt eval time =    1333.75 ms /  1634 tokens (    0.82 ms per token,  1225.11 tokens per second)\n",
      "llama_print_timings:        eval time =    3366.63 ms /   145 runs   (   23.22 ms per token,    43.07 tokens per second)\n",
      "llama_print_timings:       total time =    5131.95 ms /  1779 tokens\n"
     ]
    }
   ],
   "source": [
    "%%time\n",
    "\n",
    "response = index.as_query_engine().query(\"What were the Stock-based compensation for Lyft?\")\n",
    "print (response)\n",
    "print()\n",
    "pprint(response, indent=4)"
   ]
  }
 ],
 "metadata": {
  "kernelspec": {
   "display_name": "atlas-2",
   "language": "python",
   "name": "python3"
  },
  "language_info": {
   "codemirror_mode": {
    "name": "ipython",
    "version": 3
   },
   "file_extension": ".py",
   "mimetype": "text/x-python",
   "name": "python",
   "nbconvert_exporter": "python",
   "pygments_lexer": "ipython3",
   "version": "3.11.7"
  }
 },
 "nbformat": 4,
 "nbformat_minor": 2
}
