{
  "cells": [
    {
      "cell_type": "markdown",
      "metadata": {
        "id": "OPd2YbcCS_Q9"
      },
      "source": [
        "# Getting Started with MongoDB Atlas and Python\n",
        "\n",
        "### Overview\n",
        "\n",
        "This is a companion notebook for this [TODO - Quick start guide](#)\n",
        "It will demonstrate the following:\n",
        "\n",
        "- 👉 Connect to Atlas instance\n",
        "- 👉 Run a few sample queries\n",
        "\n",
        "\n",
        "### What you need to run this notebook\n",
        "\n",
        "- a (free) MongoDB Atlas Account\n",
        "- An Atlas instance running in the cloud with sample data loaded\n",
        "- and connection credentials\n",
        "\n",
        "Follow this [TODO quick start guide](#) to set this up before proceeding.\n",
        "\n",
        "### How to run\n",
        "\n",
        "This notebook can be run on Google Colab and stand alone python development environments.  Click here to run on colab.\n",
        "\n",
        "[![Open In Colab](https://colab.research.google.com/assets/colab-badge.svg)](https://colab.research.google.com/github/sujee/mongodb-atlas-vector-search/blob/main/lab-1-atlas-setup/atlas-test.ipynb)\n",
        "\n",
        "\n",
        "References:\n",
        "\n",
        "- https://www.mongodb.com/languages/python/pymongo-tutorial"
      ]
    },
    {
      "cell_type": "markdown",
      "metadata": {
        "id": "rKRprCaUUtxR"
      },
      "source": [
        "## Step-1: Setup\n",
        "\n",
        "We need to setup Atlas connection credentials to run\n",
        "\n",
        "### Option 1A - If running on Colab\n",
        "\n",
        "- Click on 'Colab secrets' icon (🔑) on left pane\n",
        "- Create a secret named `ATLAS_URI` and paste in your Atlas connection URL.  Refere to quick start guide above to find this value.  Make sure it the `notebook access` button is turned on.\n",
        "- See screenshot below for example\n",
        "\n",
        "![](https://github.com/sujee/mongodb-atlas-vector-search/blob/main/images/colab-secret-1.png?raw=true)\n",
        "\n",
        "\n",
        "### Option 1B - If running on local python environment\n",
        "\n",
        "- setup your local python env following this [setup guide](https://github.com/sujee/mongodb-atlas-vector-search/blob/main/setup-python-env.md)\n",
        "- Create a file named `.env` in the same location as notebook\n",
        "- Create an entry like this.  Replace the URI with your own Atlas connecct string\n",
        "\n",
        "```text\n",
        "ATLAS_URI=mongodb+srv://<username>:<password>@sandbox.....\n",
        "```"
      ]
    },
    {
      "cell_type": "code",
      "execution_count": 1,
      "metadata": {
        "id": "IV1JlYihauNz"
      },
      "outputs": [],
      "source": [
        "# We will keep all global variables in an object to not pullute the global namespace.\n",
        "class MyConfig(object):\n",
        "    pass\n",
        "\n",
        "MY_CONFIG = MyConfig()"
      ]
    },
    {
      "cell_type": "markdown",
      "metadata": {
        "id": "EPf6zbr2cv7d"
      },
      "source": [
        "## Step-2: Determine Runtime Environment"
      ]
    },
    {
      "cell_type": "code",
      "execution_count": 2,
      "metadata": {
        "colab": {
          "base_uri": "https://localhost:8080/"
        },
        "id": "lhHVPSXtaSn6",
        "outputId": "242e4a4c-181d-42e2-b947-5ca4ffbc1472"
      },
      "outputs": [
        {
          "name": "stdout",
          "output_type": "stream",
          "text": [
            "NOT running in Colab\n"
          ]
        }
      ],
      "source": [
        "\n",
        "# are we running in Colab?\n",
        "import os\n",
        "\n",
        "if os.getenv(\"COLAB_RELEASE_TAG\"):\n",
        "   print(\"Running in Colab\")\n",
        "   MY_CONFIG.RUNNING_IN_COLAB = True\n",
        "else:\n",
        "   print(\"NOT running in Colab\")\n",
        "   MY_CONFIG.RUNNING_IN_COLAB = False"
      ]
    },
    {
      "cell_type": "markdown",
      "metadata": {
        "id": "8fBS5zwWc1PE"
      },
      "source": [
        "## Step-3: Install dependencies (if necessary)\n",
        "\n",
        "We will install required libraries in cloud environments like Google Colab.  For local environments, we assume the dependencies are already setup."
      ]
    },
    {
      "cell_type": "code",
      "execution_count": 3,
      "metadata": {
        "colab": {
          "base_uri": "https://localhost:8080/"
        },
        "id": "bOo_hgAJdEG7",
        "outputId": "9a1091cf-e2d1-4b2a-af88-bd1eb6db0a4d"
      },
      "outputs": [],
      "source": [
        "if MY_CONFIG.RUNNING_IN_COLAB:\n",
        "  # running on colab\n",
        "  !pip install  \\\n",
        "                python-dotenv==1.0.0  \\\n",
        "                pymongo[srv]"
      ]
    },
    {
      "cell_type": "markdown",
      "metadata": {
        "id": "3zlgvUJIaUaW"
      },
      "source": [
        "## Step-4 - Load Credentials"
      ]
    },
    {
      "cell_type": "code",
      "execution_count": 4,
      "metadata": {
        "id": "eTyPHlqaRbgR"
      },
      "outputs": [],
      "source": [
        "## Load settings based on where we are running\n",
        "##  - if runninning on google Colab, load from secrets\n",
        "##  - if running locally use dotenv\n",
        "\n",
        "if MY_CONFIG.RUNNING_IN_COLAB:\n",
        "  from google.colab import userdata\n",
        "  MY_CONFIG.ATLAS_URI = userdata.get('ATLAS_URI')\n",
        "else:\n",
        "  import os, sys\n",
        "  from dotenv import find_dotenv, dotenv_values\n",
        "\n",
        "  this_dir = os.path.abspath('')\n",
        "  parent_dir = os.path.dirname(this_dir)\n",
        "  sys.path.append (os.path.abspath (parent_dir))\n",
        "\n",
        "  config = dotenv_values(find_dotenv())\n",
        "  # debug\n",
        "  # print (config)\n",
        "  MY_CONFIG.ATLAS_URI = config.get('ATLAS_URI')\n",
        "## --- end load config\n",
        "\n",
        "## If you just want to quickly set the config manually, you can do so here.\n",
        "# MY_CONFIG.ATLAS_URI = ''\n",
        "\n",
        "if not MY_CONFIG.ATLAS_URI:\n",
        "    raise Exception (\"'ATLAS_URI' is not set.  Please set it above to continue...\")"
      ]
    },
    {
      "cell_type": "markdown",
      "metadata": {
        "id": "RVKKLI7dfyDj"
      },
      "source": [
        "## Step-5: Atlas Client\n",
        "\n",
        "Here is a handy class that has common Atlas functions.\n",
        "\n",
        "For full implementation [see here](https://github.com/sujee/mongodb-atlas-vector-search/blob/main/AtlasClient.py)"
      ]
    },
    {
      "cell_type": "code",
      "execution_count": 5,
      "metadata": {
        "id": "Iatv-E8nlDEk"
      },
      "outputs": [],
      "source": [
        "from pymongo import MongoClient\n",
        "\n",
        "class AtlasClient ():\n",
        "\n",
        "    def __init__ (self, altas_uri, dbname):\n",
        "        self.mongodb_client = MongoClient(altas_uri)\n",
        "        self.database = self.mongodb_client[dbname]\n",
        "\n",
        "    ## A quick way to test if we can connect to Atlas instance\n",
        "    def ping (self):\n",
        "        self.mongodb_client.admin.command('ping')\n",
        "\n",
        "    def get_collection (self, collection_name):\n",
        "        collection = self.database[collection_name]\n",
        "        return collection\n",
        "\n",
        "    def find (self, collection_name, filter = {}, limit=0):\n",
        "        collection = self.database[collection_name]\n",
        "        items = list(collection.find(filter=filter, limit=limit))\n",
        "        return items"
      ]
    },
    {
      "cell_type": "markdown",
      "metadata": {
        "id": "Wn7uLX04laJz"
      },
      "source": [
        "## Step-6: Test Atlas Connectivity\n",
        "\n",
        "See if we can connect to our Atlas cloud instance.\n",
        "\n",
        "If this step fails, make sure 'connect from anywhere' is enabled on your Atlas network configuration\n",
        "\n",
        "![](https://raw.githubusercontent.com/sujee/mongodb-atlas-vector-search/main/images/atlas-connect-2.png)"
      ]
    },
    {
      "cell_type": "code",
      "execution_count": 6,
      "metadata": {
        "colab": {
          "base_uri": "https://localhost:8080/"
        },
        "id": "nbY3SAJVlZUF",
        "outputId": "9b9e5029-849b-47cf-b7eb-3a9b6d5ef980"
      },
      "outputs": [
        {
          "name": "stdout",
          "output_type": "stream",
          "text": [
            "Connected to Atlas instance! We are good to go!\n"
          ]
        }
      ],
      "source": [
        "MY_CONFIG.DB_NAME = 'sample_mflix'\n",
        "MY_CONFIG.COLLECTION_NAME = 'embedded_movies'\n",
        "\n",
        "atlas_client = AtlasClient (MY_CONFIG.ATLAS_URI, MY_CONFIG.DB_NAME)\n",
        "atlas_client.ping()\n",
        "print ('Connected to Atlas instance! We are good to go!')"
      ]
    },
    {
      "cell_type": "markdown",
      "metadata": {
        "id": "TgGO8z5wnpNl"
      },
      "source": [
        "## Step-7: Sample Query of Movies\n",
        "\n",
        "Now that we are connected to our instance.  Let's try some queries"
      ]
    },
    {
      "cell_type": "code",
      "execution_count": 7,
      "metadata": {
        "colab": {
          "base_uri": "https://localhost:8080/"
        },
        "id": "vRrLUxKLl5Co",
        "outputId": "90b7679b-0f00-4885-c10d-19b123dfc563"
      },
      "outputs": [
        {
          "name": "stdout",
          "output_type": "stream",
          "text": [
            "======== Finding some sample movies ========================\n",
            "Found 5 movies\n",
            "1\n",
            "id: 573a1390f29313caabcd5293\n",
            "title: The Perils of Pauline,\n",
            "year: 1914\n",
            "plot: Young Pauline is left a lot of money when her wealthy uncle dies. However, her uncle's secretary has been named as her guardian until she marries, at which time she will officially take ...\n",
            "\n",
            "2\n",
            "id: 573a1391f29313caabcd68d0\n",
            "title: From Hand to Mouth,\n",
            "year: 1919\n",
            "plot: A penniless young man tries to save an heiress from kidnappers and help her secure her inheritance.\n",
            "\n",
            "3\n",
            "id: 573a1391f29313caabcd820b\n",
            "title: Beau Geste,\n",
            "year: 1926\n",
            "plot: Michael \"Beau\" Geste leaves England in disgrace and joins the infamous French Foreign Legion. He is reunited with his two brothers in North Africa, where they face greater danger from their...\n",
            "\n",
            "4\n",
            "id: 573a1391f29313caabcd8268\n",
            "title: The Black Pirate,\n",
            "year: 1926\n",
            "plot: Seeking revenge, an athletic young man joins the pirate band responsible for his father's death.\n",
            "\n",
            "5\n",
            "id: 573a1391f29313caabcd8319\n",
            "title: For Heaven's Sake,\n",
            "year: 1926\n",
            "plot: An irresponsible young millionaire changes his tune when he falls for the daughter of a downtown minister.\n",
            "\n",
            "================================\n"
          ]
        }
      ],
      "source": [
        "print ('======== Finding some sample movies ========================')\n",
        "movies = atlas_client.find (collection_name=MY_CONFIG.COLLECTION_NAME, limit=5)\n",
        "print (f\"Found {len (movies)} movies\")\n",
        "for idx, movie in enumerate (movies):\n",
        "    print(f'{idx+1}\\nid: {movie[\"_id\"]}\\ntitle: {movie[\"title\"]},\\nyear: {movie[\"year\"]}\\nplot: {movie[\"plot\"]}\\n')\n",
        "print ('================================')"
      ]
    },
    {
      "cell_type": "code",
      "execution_count": 8,
      "metadata": {
        "colab": {
          "base_uri": "https://localhost:8080/"
        },
        "id": "lpbObMkVn5fS",
        "outputId": "a9eb532a-d518-4636-f8e4-84f7a64ff7ff"
      },
      "outputs": [
        {
          "name": "stdout",
          "output_type": "stream",
          "text": [
            "=======  Finding movies from year 1999 =========================\n",
            "Found 81 movies from year 1999.  Here is a sample...\n",
            "1\n",
            "id: 573a139af29313caabcf0cfd\n",
            "title: Three Kings,\n",
            "year: 1999\n",
            "plot: In the aftermath of the Persian Gulf War, 4 soldiers set out to steal gold that was stolen from Kuwait, but they discover people who desperately need their help.\n",
            "\n",
            "2\n",
            "id: 573a139af29313caabcf0e61\n",
            "title: Beowulf,\n",
            "year: 1999\n",
            "plot: A sci-fi update of the famous 6th Century poem. In a beseiged land, Beowulf must battle against the hideous creature Grendel and his vengeance seeking mother.\n",
            "\n",
            "3\n",
            "id: 573a139af29313caabcf0e6c\n",
            "title: The Mummy,\n",
            "year: 1999\n",
            "plot: An American serving in the French Foreign Legion on an archaeological dig at the ancient city of Hamunaptra accidentally awakens a Mummy.\n",
            "\n",
            "4\n",
            "id: 573a139af29313caabcf0e95\n",
            "title: The 13th Warrior,\n",
            "year: 1999\n",
            "plot: A man, having fallen in love with the wrong woman, is sent by the sultan himself on a diplomatic mission to a distant land as an ambassador. Stopping at a Viking village port to restock on supplies, he finds himself unwittingly embroiled on a quest to banish a mysterious threat in a distant Viking land.\n",
            "\n",
            "5\n",
            "id: 573a139af29313caabcf0edf\n",
            "title: The Mod Squad,\n",
            "year: 1999\n",
            "plot: Three minor delinquints (Danes, Ribisi, and Epps) are recruited by a cop (Farina) working undercover to bust a cop/drug ring. When the officer who recruited them is killed, they go above ...\n",
            "\n"
          ]
        }
      ],
      "source": [
        "print ('=======  Finding movies from year 1999 =========================')\n",
        "movies_1999 = atlas_client.find(collection_name=MY_CONFIG.COLLECTION_NAME, filter={\"year\": 1999})\n",
        "print (f\"Found {len (movies_1999)} movies from year 1999.  Here is a sample...\")\n",
        "for idx, movie in enumerate (movies_1999[:5]):\n",
        "    print(f'{idx+1}\\nid: {movie[\"_id\"]}\\ntitle: {movie[\"title\"]},\\nyear: {movie[\"year\"]}\\nplot: {movie[\"plot\"]}\\n')"
      ]
    },
    {
      "cell_type": "markdown",
      "metadata": {
        "id": "c-4NaqIXpgUL"
      },
      "source": [
        "## Congrats!  Lab is Complete ! 👏"
      ]
    },
    {
      "cell_type": "code",
      "execution_count": null,
      "metadata": {
        "id": "-16QFPHQpg-5"
      },
      "outputs": [],
      "source": []
    }
  ],
  "metadata": {
    "colab": {
      "provenance": []
    },
    "kernelspec": {
      "display_name": "Python 3",
      "name": "python3"
    },
    "language_info": {
      "codemirror_mode": {
        "name": "ipython",
        "version": 3
      },
      "file_extension": ".py",
      "mimetype": "text/x-python",
      "name": "python",
      "nbconvert_exporter": "python",
      "pygments_lexer": "ipython3",
      "version": "3.11.7"
    }
  },
  "nbformat": 4,
  "nbformat_minor": 0
}
