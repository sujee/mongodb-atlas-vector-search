{
 "cells": [
  {
   "cell_type": "markdown",
   "metadata": {},
   "source": [
    "# Lab: Vector Search on Mongo Atlas Using OpenAI Embeddings\n",
    "\n",
    "In this lab we will do a vector search on [MongoDB Atlas](https://www.mongodb.com/atlas).  We will use OpenAI Embedding API to generate embeddings.\n",
    "\n",
    "We need the following:\n",
    "- Atlas cloud account\n",
    "- OpenAI API key (optional, see below)\n",
    "\n",
    "References\n",
    "\n",
    "- https://cookbook.openai.com/examples/vector_databases/mongodb_atlas/semantic_search_using_mongodb_atlas_vector_search"
   ]
  },
  {
   "cell_type": "markdown",
   "metadata": {},
   "source": [
    "## Step-1: Setup `.env` file\n",
    "\n",
    "Create an `.env` file with the following content:\n",
    "\n",
    "Replace `ATLAS_URI` and `OPENAI_APIKEY` with your own\n",
    "\n",
    "\n",
    "```text\n",
    "ATLAS_URI=mongodb+srv://<username>:<password>@sandbox.lqlql.mongodb.net/?retryWrites=true&w=majority\n",
    "OPENAI_API_KEY=replace-me\n",
    "```"
   ]
  },
  {
   "cell_type": "markdown",
   "metadata": {},
   "source": [
    "## Step-2: Load Settings"
   ]
  },
  {
   "cell_type": "code",
   "execution_count": 23,
   "metadata": {},
   "outputs": [],
   "source": [
    "import os, sys\n",
    "\n",
    "this_dir = os.path.abspath('')\n",
    "parent_dir = os.path.dirname(this_dir)\n",
    "sys.path.append (os.path.abspath (parent_dir))"
   ]
  },
  {
   "cell_type": "code",
   "execution_count": 24,
   "metadata": {},
   "outputs": [],
   "source": [
    "## Load Settings from .env file\n",
    "from dotenv import find_dotenv, dotenv_values\n",
    "\n",
    "# _ = load_dotenv(find_dotenv()) # read local .env file\n",
    "config = dotenv_values(find_dotenv())\n",
    "\n",
    "# debug\n",
    "# print (config)\n",
    "\n",
    "ATLAS_URI = config.get('ATLAS_URI')\n",
    "OPENAI_API_KEY = config.get(\"OPENAI_API_KEY\")\n",
    "\n",
    "if not ATLAS_URI:\n",
    "    raise Exception (\"'ATLAS_URI' is not set.  Please set it above to continue...\")\n",
    "\n",
    "# if not OPENAI_API_KEY:\n",
    "#     raise Exception (\"'OPENAI_API_KEY' is not set.  Please set it above to continue...\")"
   ]
  },
  {
   "cell_type": "markdown",
   "metadata": {},
   "source": [
    "## Step-3: Inspect these Python Classes\n",
    "\n",
    "- [AtlasClient.py](AtlasClient.py) - a handy class to interact with Atlas\n",
    "- [OpenAIClient.py](OpenAIClient.py) - a handy class to intereact with openAI"
   ]
  },
  {
   "cell_type": "code",
   "execution_count": 25,
   "metadata": {},
   "outputs": [],
   "source": [
    "# Our variables\n",
    "\n",
    "DB_NAME = 'sample_mflix'\n",
    "COLLECTION_NAME = 'embedded_movies'\n",
    "INDEX_NAME = 'idx_plot_embedding'"
   ]
  },
  {
   "cell_type": "markdown",
   "metadata": {},
   "source": [
    "## Step-4: Initialize Mongo Atlas Client"
   ]
  },
  {
   "cell_type": "code",
   "execution_count": 26,
   "metadata": {},
   "outputs": [
    {
     "name": "stdout",
     "output_type": "stream",
     "text": [
      "Connected to the Mongo Atlas database!\n"
     ]
    }
   ],
   "source": [
    "from AtlasClient import AtlasClient\n",
    "\n",
    "atlas_client = AtlasClient (ATLAS_URI, DB_NAME)\n",
    "print(\"Connected to the Mongo Atlas database!\")"
   ]
  },
  {
   "cell_type": "markdown",
   "metadata": {},
   "source": [
    "## Step-5: Initialize OpenAI Client"
   ]
  },
  {
   "cell_type": "code",
   "execution_count": 27,
   "metadata": {},
   "outputs": [
    {
     "name": "stdout",
     "output_type": "stream",
     "text": [
      "OpenAI client initialized\n"
     ]
    }
   ],
   "source": [
    "from OpenAIClient import OpenAIClient\n",
    "\n",
    "openAI_client = None\n",
    "\n",
    "if OPENAI_API_KEY:\n",
    "    openAI_client = OpenAIClient (api_key=OPENAI_API_KEY)\n",
    "    print (\"OpenAI client initialized\")"
   ]
  },
  {
   "cell_type": "markdown",
   "metadata": {},
   "source": [
    "## Step-6: Create an Alas Index\n",
    "\n",
    "Follow [this guide](setup-atlas-index.md) here to create an index.\n",
    "\n",
    "**Note: Do not skip this step, we need an active index to perform vector search**"
   ]
  },
  {
   "cell_type": "markdown",
   "metadata": {},
   "source": [
    "## Step-7: Do a Vector Search\n",
    "\n",
    "Now that we have every thing setup, this is the fun part!\n",
    "\n",
    "We are going to query movies, not just on plot keywords but 'meaning'.\n",
    "\n",
    "See the examples below.  And try your own!\n",
    "\n",
    "The process is as follows:\n",
    "\n",
    "- convert query into embeddings (using OpenAI API)\n",
    "- send the embeddings to Atlas and get results\n",
    "\n",
    "### Note the Score\n",
    "\n",
    "IN addition to movie attributes (title, year, plot ..etc) We are also dislaying `search_score`.  This is a meta attribute - not really part of movies collection, but generated as a result of vector search.\n",
    "\n",
    "This is a number between 0 and 1.  Closer to 1 values represent 'better match'.  And the results are sorted from best match down (closer to 1 first)\n",
    "\n",
    "[You can read more about search score here](https://www.mongodb.com/docs/atlas/atlas-vector-search/vector-search-stage/#atlas-vector-search-score)"
   ]
  },
  {
   "cell_type": "markdown",
   "metadata": {},
   "source": [
    "## Sample Queries / Cached Embeddings\n",
    "\n",
    "To make you get up and running quickly, we have cached some embedding results.  This way we can query Atlas without having to call embedding API first.\n",
    "\n",
    "If you use these sample queries, you won't need an OpenAI Key.  If you want to try a different query, then you will need an openAI API key."
   ]
  },
  {
   "cell_type": "code",
   "execution_count": 28,
   "metadata": {},
   "outputs": [
    {
     "name": "stdout",
     "output_type": "stream",
     "text": [
      "Loaded the following cached embeddings...\n",
      "- fatalistic sci-fi movies\n",
      "- humans fighting aliens\n",
      "- futuristic christmas movies\n",
      "- sci-fi story with a friendly alien\n",
      "- relationship drama between two good friends\n",
      "- college graduates working in a big city discover new relationships\n",
      "- household pets get lost but go on a long journey to find home\n"
     ]
    }
   ],
   "source": [
    "import os\n",
    "import json\n",
    "\n",
    "cached_embeddings = {}\n",
    "cached_embedding_file = 'embeddings_openai.json'\n",
    "\n",
    "if os.path.exists(cached_embedding_file):\n",
    "    with open(cached_embedding_file, \"r\") as f:\n",
    "        str = f.read()\n",
    "        cached_embeddings = json.loads(str)\n",
    "\n",
    "print (\"Loaded the following cached embeddings...\")\n",
    "for query in cached_embeddings.keys():\n",
    "    print (f'- {query}')"
   ]
  },
  {
   "cell_type": "code",
   "execution_count": 29,
   "metadata": {},
   "outputs": [],
   "source": [
    "import time\n",
    "\n",
    "# Handy function\n",
    "def do_vector_search (query:str) -> None:\n",
    "    query = query.lower().strip()\n",
    "    print ('query: ', query)\n",
    "    if query in cached_embeddings.keys():\n",
    "        print (\"using cached embeddings\")\n",
    "        embedding = cached_embeddings.get (query)\n",
    "    else:\n",
    "        t1a = time.perf_counter()\n",
    "        embedding = openAI_client.get_embedding(query)\n",
    "        t1b = time.perf_counter()\n",
    "        print (f\"Getting embeddings from OpenAI took {(t1b-t1a)*1000:,.0f} ms\")\n",
    "\n",
    "    t2a = time.perf_counter()\n",
    "    movies = atlas_client.vector_search(collection_name=COLLECTION_NAME, index_name=INDEX_NAME, attr_name='plot_embedding', embedding_vector=embedding,limit=10 )\n",
    "    t2b = time.perf_counter()\n",
    "\n",
    "    print (f\"Altas query returned {len (movies)} movies in {(t2b-t2a)*1000:,.0f} ms\")\n",
    "    print()\n",
    "\n",
    "    for idx, movie in enumerate (movies):\n",
    "        print(f'{idx+1}\\nid: {movie[\"_id\"]}\\ntitle: {movie[\"title\"]},\\nyear: {movie[\"year\"]}' +\n",
    "            f'\\nsearch_score(meta):{movie[\"search_score\"]}\\nplot: {movie[\"plot\"]}\\n')"
   ]
  },
  {
   "cell_type": "code",
   "execution_count": 30,
   "metadata": {},
   "outputs": [
    {
     "name": "stdout",
     "output_type": "stream",
     "text": [
      "query:  humans fighting aliens\n",
      "using cached embeddings\n",
      "Altas query returned 10 movies in 639 ms\n",
      "\n",
      "1\n",
      "id: 573a1398f29313caabce8f83\n",
      "title: V: The Final Battle,\n",
      "year: 1984\n",
      "search_score(meta):0.8542792797088623\n",
      "plot: A small group of human resistance fighters fight a desperate guerilla war against the genocidal extra-terrestrials who dominate Earth.\n",
      "\n",
      "2\n",
      "id: 573a13c7f29313caabd75324\n",
      "title: Falling Skies,\n",
      "year: 2011è\n",
      "search_score(meta):0.8476295471191406\n",
      "plot: Survivors of an alien attack on earth gather together to fight for their lives and fight back.\n",
      "\n",
      "3\n",
      "id: 573a139af29313caabcf0cff\n",
      "title: Starship Troopers,\n",
      "year: 1997\n",
      "search_score(meta):0.8398948907852173\n",
      "plot: Humans in a fascistic, militaristic future do battle with giant alien bugs in a fight for survival.\n",
      "\n",
      "4\n",
      "id: 573a139ff29313caabd000f6\n",
      "title: Battlefield Earth,\n",
      "year: 2000\n",
      "search_score(meta):0.8368538618087769\n",
      "plot: After enslavement & near extermination by an alien race in the year 3000, humanity begins to fight back.\n",
      "\n",
      "5\n",
      "id: 573a139af29313caabceffbf\n",
      "title: Independence Day,\n",
      "year: 1996\n",
      "search_score(meta):0.8328734636306763\n",
      "plot: The aliens are coming and their goal is to invade and destroy Earth. Fighting superior technology, mankind's best weapon is the will to survive.\n",
      "\n",
      "6\n",
      "id: 573a13b7f29313caabd49fe5\n",
      "title: Aliens vs. Predator: Requiem,\n",
      "year: 2007\n",
      "search_score(meta):0.8145130276679993\n",
      "plot: Warring alien and predator races descend on a small town, where unsuspecting residents must band together for any chance of survival.\n",
      "\n",
      "7\n",
      "id: 573a1398f29313caabce97bd\n",
      "title: Enemy Mine,\n",
      "year: 1985\n",
      "search_score(meta):0.8037100434303284\n",
      "plot: A soldier from Earth crash-lands on an alien world after sustaining battle damage. Eventually he encounters another survivor, but from the enemy species he was fighting; they band together ...\n",
      "\n",
      "8\n",
      "id: 573a13bff29313caabd5fcd1\n",
      "title: District 9,\n",
      "year: 2009\n",
      "search_score(meta):0.8019409775733948\n",
      "plot: An extraterrestrial race forced to live in slum-like conditions on Earth suddenly finds a kindred spirit in a government agent who is exposed to their biotechnology.\n",
      "\n",
      "9\n",
      "id: 573a1398f29313caabcea963\n",
      "title: Predator,\n",
      "year: 1987\n",
      "search_score(meta):0.8001201152801514\n",
      "plot: A team of commandos on a mission in a Central American jungle find themselves hunted by an extra-terrestrial warrior.\n",
      "\n",
      "10\n",
      "id: 573a13abf29313caabd24627\n",
      "title: Returner,\n",
      "year: 2002\n",
      "search_score(meta):0.7992474436759949\n",
      "plot: A young woman from the future forces a local gunman to help her stop an impending alien invasion which will wipe out the human race.\n",
      "\n"
     ]
    }
   ],
   "source": [
    "query=\"humans fighting aliens\"\n",
    "\n",
    "do_vector_search (query=query)"
   ]
  },
  {
   "cell_type": "code",
   "execution_count": 31,
   "metadata": {},
   "outputs": [
    {
     "name": "stdout",
     "output_type": "stream",
     "text": [
      "query:  fatalistic sci-fi movies\n",
      "using cached embeddings\n",
      "Altas query returned 10 movies in 94 ms\n",
      "\n",
      "1\n",
      "id: 573a139af29313caabcf0cff\n",
      "title: Starship Troopers,\n",
      "year: 1997\n",
      "search_score(meta):0.7599651217460632\n",
      "plot: Humans in a fascistic, militaristic future do battle with giant alien bugs in a fight for survival.\n",
      "\n",
      "2\n",
      "id: 573a139ff29313caabcff478\n",
      "title: Terminator 3: Rise of the Machines,\n",
      "year: 2003\n",
      "search_score(meta):0.7479422092437744\n",
      "plot: A cybernetic warrior from a post-apocalyptic future travels back in time to protect a 19-year old drifter and his future wife from a most advanced robotic assassin and to ensure they both survive a nuclear attack.\n",
      "\n",
      "3\n",
      "id: 573a1397f29313caabce61a5\n",
      "title: Logan's Run,\n",
      "year: 1976\n",
      "search_score(meta):0.7465192675590515\n",
      "plot: An idyllic sci-fi future has one major drawback: life must end at 30.\n",
      "\n",
      "4\n",
      "id: 573a13adf29313caabd2ae08\n",
      "title: Starship Troopers 2: Hero of the Federation,\n",
      "year: 2004\n",
      "search_score(meta):0.7455509305000305\n",
      "plot: In the sequel to Paul Verhoeven's loved/reviled sci-fi film, a group of troopers taking refuge in an abandoned outpost after fighting alien bugs, failing to realize that more danger lays in wait.\n",
      "\n",
      "5\n",
      "id: 573a13b5f29313caabd4473e\n",
      "title: Wristcutters: A Love Story,\n",
      "year: 2006\n",
      "search_score(meta):0.7442582845687866\n",
      "plot: A film set in a strange afterlife way station that has been reserved for people who have committed suicide.\n",
      "\n",
      "6\n",
      "id: 573a13d4f29313caabd9887f\n",
      "title: Abiogenesis,\n",
      "year: 2011\n",
      "search_score(meta):0.744208574295044\n",
      "plot: In this breathtaking science fiction spectacle, a strange mechanical device lands on a desolate world and uses the planet to undergo a startling transformation, that has profound implications for an entire galaxy.\n",
      "\n",
      "7\n",
      "id: 573a1398f29313caabcea9bc\n",
      "title: RoboCop,\n",
      "year: 1987\n",
      "search_score(meta):0.74367356300354\n",
      "plot: In a dystopic and crime-ridden Detroit, a terminally wounded cop returns to the force as a powerful cyborg haunted by submerged memories.\n",
      "\n",
      "8\n",
      "id: 573a1397f29313caabce6b15\n",
      "title: Buck Rogers in the 25th Century,\n",
      "year: 1979\n",
      "search_score(meta):0.7434359192848206\n",
      "plot: A 20th century astronaut emerges out of 500 years of suspended animation into a future time where Earth is threatened by alien invaders.\n",
      "\n",
      "9\n",
      "id: 573a13c1f29313caabd63327\n",
      "title: 2012,\n",
      "year: 2009\n",
      "search_score(meta):0.7432607412338257\n",
      "plot: A frustrated writer struggles to keep his family alive when a series of global catastrophes threatens to annihilate mankind.\n",
      "\n",
      "10\n",
      "id: 573a13b3f29313caabd3da33\n",
      "title: Knowing,\n",
      "year: 2009\n",
      "search_score(meta):0.7428095936775208\n",
      "plot: M.I.T. professor John Koestler links a mysterious list of numbers from a time capsule to past and future disasters and sets out to prevent the ultimate catastrophe.\n",
      "\n"
     ]
    }
   ],
   "source": [
    "query=\"fatalistic sci-fi movies\"\n",
    "\n",
    "do_vector_search (query=query)"
   ]
  },
  {
   "cell_type": "markdown",
   "metadata": {},
   "source": [
    "### Try your own searches!\n",
    "\n",
    "Update the query string to what ever you like, and run it.\n",
    "\n",
    "Remember, if you want to try different queries, than what we cached, you will need your OPENAI_API_KEY"
   ]
  },
  {
   "cell_type": "code",
   "execution_count": 32,
   "metadata": {},
   "outputs": [],
   "source": [
    "## TODO: enter your query here\n",
    "# query=\"technology gone wrong\"\n",
    "\n",
    "# do_vector_search (query=query)\n"
   ]
  },
  {
   "cell_type": "code",
   "execution_count": 33,
   "metadata": {},
   "outputs": [],
   "source": [
    "## Close connection\n",
    "\n",
    "# atlas_client.close_connection()"
   ]
  }
 ],
 "metadata": {
  "kernelspec": {
   "display_name": "atlas-1",
   "language": "python",
   "name": "python3"
  },
  "language_info": {
   "codemirror_mode": {
    "name": "ipython",
    "version": 3
   },
   "file_extension": ".py",
   "mimetype": "text/x-python",
   "name": "python",
   "nbconvert_exporter": "python",
   "pygments_lexer": "ipython3",
   "version": "3.11.7"
  }
 },
 "nbformat": 4,
 "nbformat_minor": 2
}
