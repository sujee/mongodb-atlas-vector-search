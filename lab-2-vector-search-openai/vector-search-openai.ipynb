{
  "cells": [
    {
      "cell_type": "markdown",
      "metadata": {
        "id": "RGqoVBVvyQBy"
      },
      "source": [
        "[![Open In Colab](https://colab.research.google.com/assets/colab-badge.svg)](https://colab.research.google.com/github/sujee/mongodb-atlas-vector-search/blob/main/lab-2-vector-search-openai/vector-search-openai.ipynb)\n",
        "\n",
        "# Lab: Vector Search on Mongo Atlas Using OpenAI Embeddings\n",
        "\n",
        "\n",
        "This is a companion notebook for this [TODO - Quick start guide](#)\n",
        "It will demonstrate the following:\n",
        "\n",
        "- 👉 Creating a vector index on Atlas\n",
        "- 👉 Performing vector search using OpenAI embeddings\n",
        "\n",
        "\n",
        "### What you need to run this notebook\n",
        "\n",
        "- a (free) MongoDB Atlas Account\n",
        "- An Atlas instance running in the cloud with sample data loaded\n",
        "- and connection credentials\n",
        "- OpenAI API key (optional, see below)\n",
        "\n",
        "Follow this [TODO quick start guide](#) to set this up before proceeding.\n",
        "\n",
        "### How to run\n",
        "\n",
        "This notebook can be run on Google Colab and stand alone python development environments.  Click here to run on colab.\n",
        "\n",
        "[![Open In Colab](https://colab.research.google.com/assets/colab-badge.svg)](https://colab.research.google.com/github/sujee/mongodb-atlas-vector-search/blob/main/lab-2-vector-search-openai/vector-search-openai.ipynb)\n",
        "\n",
        "\n",
        "References\n",
        "\n",
        "- https://cookbook.openai.com/examples/vector_databases/mongodb_atlas/semantic_search_using_mongodb_atlas_vector_search"
      ]
    },
    {
      "cell_type": "markdown",
      "metadata": {
        "id": "Q3x_d4lCyQBz"
      },
      "source": [
        "## Step-1: Setup Atlas\n",
        "\n",
        "We will need to have Atlas setup.\n",
        "\n",
        "Follow [instructions here](https://github.com/sujee/mongodb-atlas-vector-search/blob/main/lab-1-atlas-setup/setup-atlas.md)\n",
        "\n",
        "Also the [TODO quick start guide](#) has more information."
      ]
    },
    {
      "cell_type": "markdown",
      "metadata": {
        "id": "MnG7h5jVyQB0"
      },
      "source": [
        "## Step-2: Create an Alas Index\n",
        "\n",
        "Before we can run vector search we need to create a vector index.  Here is how.\n",
        "\n",
        "### 2.1 - Navigate to Atlas Vector Search UI\n",
        "\n",
        "<!-- ![atlas-search-2.png](../images//atlas-index-1.png) -->\n",
        "\n",
        "![](https://raw.githubusercontent.com/sujee/mongodb-atlas-vector-search/main/images/atlas-index-1.png)\n",
        "\n",
        "### 2.2 - Choose `Create Vector Index`\n",
        "\n",
        "<!-- ![atlas-search-2.png](../images//atlas-index-2.png) -->\n",
        "\n",
        "![](https://raw.githubusercontent.com/sujee/mongodb-atlas-vector-search/main/images/atlas-index-2.png)\n",
        "\n",
        "### 2.3 - Create a vector index as follows\n",
        "\n",
        "Index name: `idx_plot_embedding`\n",
        "\n",
        "Index definition\n",
        "\n",
        "```json\n",
        "{\n",
        "  \"fields\": [\n",
        "    {\n",
        "      \"type\": \"vector\",\n",
        "      \"path\": \"plot_embedding\",\n",
        "      \"numDimensions\": 1536,\n",
        "      \"similarity\": \"dotProduct\"\n",
        "    }\n",
        "  ]\n",
        "}\n",
        "```\n",
        "\n",
        "<!-- ![atlas-search-3.png](../images//atlas-index-3b.png) -->\n",
        "\n",
        "![](https://raw.githubusercontent.com/sujee/mongodb-atlas-vector-search/main/images/atlas-index-3b.png)\n",
        "\n",
        "\n",
        "### 2.4 - Wait till the index is ready to be used\n",
        "\n",
        "<!-- ![atlas-search-4.png](../images//atlas-index-4.png) -->\n",
        "\n",
        "![](https://raw.githubusercontent.com/sujee/mongodb-atlas-vector-search/main/images/atlas-index-4.png)\n"
      ]
    },
    {
      "cell_type": "markdown",
      "metadata": {
        "id": "dQ-I0MYkyQB0"
      },
      "source": [
        "## Step-3: Configuration\n",
        "\n",
        "We need to configure the following\n",
        "- Atlas connection credentials\n",
        "- openAI API key\n",
        "\n",
        "### Option 3A - If running on Colab\n",
        "\n",
        "- Click on 'Colab secrets' icon (🔑) on left pane, and crate the following secrets.\n",
        "- `ATLAS_URI` and `OPENAI_API_KEY`\n",
        "-  Make sure the `notebook access` button is checked on for both\n",
        "- See screenshot below for example\n",
        "\n",
        "<!-- ![](../images/colab-secret-2.png) -->\n",
        "\n",
        "![](https://raw.githubusercontent.com/sujee/mongodb-atlas-vector-search/main/images/colab-secret-2.png)\n",
        "\n",
        "\n",
        "### Option 3B - If running on local python environment\n",
        "\n",
        "- setup your local python env following this [setup guide](https://github.com/sujee/mongodb-atlas-vector-search/blob/main/setup-python-env.md)\n",
        "- Create a file named `.env` in the same location as notebook\n",
        "- And add the following settings\n",
        "\n",
        "```text\n",
        "ATLAS_URI=mongodb+srv://<username>:<password>@sandbox.....\n",
        "OPENAI_API_KEY=sk...\n",
        "```\n"
      ]
    },
    {
      "cell_type": "code",
      "execution_count": 1,
      "metadata": {
        "id": "zS2OCRx_yQB0"
      },
      "outputs": [],
      "source": [
        "# We will keep all global variables in an object to not pollute the global namespace.\n",
        "class MyConfig(object):\n",
        "    pass\n",
        "\n",
        "MY_CONFIG = MyConfig()"
      ]
    },
    {
      "cell_type": "markdown",
      "metadata": {
        "id": "A9HBMm0vyQB1"
      },
      "source": [
        "### Determine Runtime Environment\n",
        "\n",
        "This code will figure out if we are running on Google Colab environment or local environment.  We use it to install relevant packages later."
      ]
    },
    {
      "cell_type": "code",
      "execution_count": 2,
      "metadata": {
        "colab": {
          "base_uri": "https://localhost:8080/"
        },
        "id": "RaGBwH4CyQB1",
        "outputId": "f8452873-044d-4eb7-aded-c30e994fb8f9"
      },
      "outputs": [
        {
          "output_type": "stream",
          "name": "stdout",
          "text": [
            "Running in Colab\n"
          ]
        }
      ],
      "source": [
        "\n",
        "# are we running in Colab?\n",
        "import os\n",
        "\n",
        "if os.getenv(\"COLAB_RELEASE_TAG\"):\n",
        "    print(\"Running in Colab\")\n",
        "    MY_CONFIG.RUNNING_IN_COLAB = True\n",
        "else:\n",
        "    print(\"NOT running in Colab\")\n",
        "    MY_CONFIG.RUNNING_IN_COLAB = False"
      ]
    },
    {
      "cell_type": "markdown",
      "metadata": {
        "id": "Vdjxt1YqyQB1"
      },
      "source": [
        "## Step-4: Install dependencies (if necessary)\n",
        "\n",
        "We will install required libraries in cloud environments like Google Colab.  For local environments, we assume the dependencies are already setup."
      ]
    },
    {
      "cell_type": "code",
      "execution_count": 3,
      "metadata": {
        "colab": {
          "base_uri": "https://localhost:8080/"
        },
        "id": "QlfdidxiyQB1",
        "outputId": "eeb9f9ee-100f-4ceb-cfbf-42b5b7751550"
      },
      "outputs": [
        {
          "output_type": "stream",
          "name": "stdout",
          "text": [
            "Collecting openai==1.13.3\n",
            "  Downloading openai-1.13.3-py3-none-any.whl (227 kB)\n",
            "\u001b[2K     \u001b[90m━━━━━━━━━━━━━━━━━━━━━━━━━━━━━━━━━━━━━━━━\u001b[0m \u001b[32m227.4/227.4 kB\u001b[0m \u001b[31m3.7 MB/s\u001b[0m eta \u001b[36m0:00:00\u001b[0m\n",
            "\u001b[?25hCollecting pymongo==4.6.2\n",
            "  Downloading pymongo-4.6.2-cp310-cp310-manylinux_2_17_x86_64.manylinux2014_x86_64.whl (677 kB)\n",
            "\u001b[2K     \u001b[90m━━━━━━━━━━━━━━━━━━━━━━━━━━━━━━━━━━━━━━━━\u001b[0m \u001b[32m677.2/677.2 kB\u001b[0m \u001b[31m9.4 MB/s\u001b[0m eta \u001b[36m0:00:00\u001b[0m\n",
            "\u001b[?25hRequirement already satisfied: anyio<5,>=3.5.0 in /usr/local/lib/python3.10/dist-packages (from openai==1.13.3) (3.7.1)\n",
            "Requirement already satisfied: distro<2,>=1.7.0 in /usr/lib/python3/dist-packages (from openai==1.13.3) (1.7.0)\n",
            "Collecting httpx<1,>=0.23.0 (from openai==1.13.3)\n",
            "  Downloading httpx-0.27.0-py3-none-any.whl (75 kB)\n",
            "\u001b[2K     \u001b[90m━━━━━━━━━━━━━━━━━━━━━━━━━━━━━━━━━━━━━━━━\u001b[0m \u001b[32m75.6/75.6 kB\u001b[0m \u001b[31m10.7 MB/s\u001b[0m eta \u001b[36m0:00:00\u001b[0m\n",
            "\u001b[?25hRequirement already satisfied: pydantic<3,>=1.9.0 in /usr/local/lib/python3.10/dist-packages (from openai==1.13.3) (2.6.3)\n",
            "Requirement already satisfied: sniffio in /usr/local/lib/python3.10/dist-packages (from openai==1.13.3) (1.3.1)\n",
            "Requirement already satisfied: tqdm>4 in /usr/local/lib/python3.10/dist-packages (from openai==1.13.3) (4.66.2)\n",
            "Requirement already satisfied: typing-extensions<5,>=4.7 in /usr/local/lib/python3.10/dist-packages (from openai==1.13.3) (4.10.0)\n",
            "Collecting dnspython<3.0.0,>=1.16.0 (from pymongo==4.6.2)\n",
            "  Downloading dnspython-2.6.1-py3-none-any.whl (307 kB)\n",
            "\u001b[2K     \u001b[90m━━━━━━━━━━━━━━━━━━━━━━━━━━━━━━━━━━━━━━━━\u001b[0m \u001b[32m307.7/307.7 kB\u001b[0m \u001b[31m17.0 MB/s\u001b[0m eta \u001b[36m0:00:00\u001b[0m\n",
            "\u001b[?25hRequirement already satisfied: idna>=2.8 in /usr/local/lib/python3.10/dist-packages (from anyio<5,>=3.5.0->openai==1.13.3) (3.6)\n",
            "Requirement already satisfied: exceptiongroup in /usr/local/lib/python3.10/dist-packages (from anyio<5,>=3.5.0->openai==1.13.3) (1.2.0)\n",
            "Requirement already satisfied: certifi in /usr/local/lib/python3.10/dist-packages (from httpx<1,>=0.23.0->openai==1.13.3) (2024.2.2)\n",
            "Collecting httpcore==1.* (from httpx<1,>=0.23.0->openai==1.13.3)\n",
            "  Downloading httpcore-1.0.4-py3-none-any.whl (77 kB)\n",
            "\u001b[2K     \u001b[90m━━━━━━━━━━━━━━━━━━━━━━━━━━━━━━━━━━━━━━━━\u001b[0m \u001b[32m77.8/77.8 kB\u001b[0m \u001b[31m10.7 MB/s\u001b[0m eta \u001b[36m0:00:00\u001b[0m\n",
            "\u001b[?25hCollecting h11<0.15,>=0.13 (from httpcore==1.*->httpx<1,>=0.23.0->openai==1.13.3)\n",
            "  Downloading h11-0.14.0-py3-none-any.whl (58 kB)\n",
            "\u001b[2K     \u001b[90m━━━━━━━━━━━━━━━━━━━━━━━━━━━━━━━━━━━━━━━━\u001b[0m \u001b[32m58.3/58.3 kB\u001b[0m \u001b[31m7.9 MB/s\u001b[0m eta \u001b[36m0:00:00\u001b[0m\n",
            "\u001b[?25hRequirement already satisfied: annotated-types>=0.4.0 in /usr/local/lib/python3.10/dist-packages (from pydantic<3,>=1.9.0->openai==1.13.3) (0.6.0)\n",
            "Requirement already satisfied: pydantic-core==2.16.3 in /usr/local/lib/python3.10/dist-packages (from pydantic<3,>=1.9.0->openai==1.13.3) (2.16.3)\n",
            "Installing collected packages: h11, dnspython, pymongo, httpcore, httpx, openai\n",
            "Successfully installed dnspython-2.6.1 h11-0.14.0 httpcore-1.0.4 httpx-0.27.0 openai-1.13.3 pymongo-4.6.2\n"
          ]
        }
      ],
      "source": [
        "if MY_CONFIG.RUNNING_IN_COLAB:\n",
        "    !pip install \\\n",
        "                openai==1.13.3 \\\n",
        "                pymongo==4.6.2"
      ]
    },
    {
      "cell_type": "markdown",
      "metadata": {
        "id": "RKRNiJlKyQB2"
      },
      "source": [
        "## Step-5 - Load Configurations"
      ]
    },
    {
      "cell_type": "code",
      "execution_count": 4,
      "metadata": {
        "id": "JIBNPL9gyQB2"
      },
      "outputs": [],
      "source": [
        "## Load settings based on where we are running\n",
        "##  - if runninning on google Colab, load from secrets\n",
        "##  - if running locally use dotenv\n",
        "\n",
        "if MY_CONFIG.RUNNING_IN_COLAB:\n",
        "    from google.colab import userdata\n",
        "    MY_CONFIG.ATLAS_URI = userdata.get('ATLAS_URI')\n",
        "    MY_CONFIG.OPENAI_API_KEY = userdata.get('OPENAI_API_KEY')\n",
        "else:\n",
        "    import os, sys\n",
        "    from dotenv import find_dotenv, dotenv_values\n",
        "\n",
        "    this_dir = os.path.abspath('')\n",
        "    parent_dir = os.path.dirname(this_dir)\n",
        "    sys.path.append (os.path.abspath (parent_dir))\n",
        "\n",
        "    config = dotenv_values(find_dotenv())\n",
        "    # debug\n",
        "    # print (config)\n",
        "    MY_CONFIG.ATLAS_URI = config.get('ATLAS_URI')\n",
        "    MY_CONFIG.OPENAI_API_KEY = config.get(\"OPENAI_API_KEY\")\n",
        "## --- end load config\n",
        "\n",
        "## If you just want to quickly set the config manually, you can do so here.\n",
        "# MY_CONFIG.ATLAS_URI = ''\n",
        "# MY_CONFIG.OPENAI_API_KEY = ''\n",
        "\n",
        "if not MY_CONFIG.ATLAS_URI:\n",
        "    raise Exception (\"'ATLAS_URI' is not set.  Please set it above to continue...\")\n",
        "\n",
        "# if not MY_CONFIG.OPENAI_API_KEY:\n",
        "#     raise Exception (\"'OPENAI_API_KEY' is not set.  Please set it above to continue...\")"
      ]
    },
    {
      "cell_type": "markdown",
      "metadata": {
        "id": "qZzS8Th2yQB2"
      },
      "source": [
        "## Step-6: AtlasClient and OpenAIClient\n",
        "\n",
        "Here are couple of handy classes.\n",
        "\n",
        "For full implementation see here:\n",
        "\n",
        "- [AtlasClient.py](https://github.com/sujee/mongodb-atlas-vector-search/blob/main/AtlasClient.py) - a handy class to interact with Atlas\n",
        "- [OpenAIClient.py](https://github.com/sujee/mongodb-atlas-vector-search/blob/main/OpenAIClient.py) - a handy class to intereact with openAI"
      ]
    },
    {
      "cell_type": "code",
      "execution_count": 5,
      "metadata": {
        "id": "2xtu_fh_yQB2"
      },
      "outputs": [],
      "source": [
        "from pymongo import MongoClient\n",
        "\n",
        "class AtlasClient ():\n",
        "\n",
        "    def __init__ (self, altas_uri, dbname):\n",
        "        self.mongodb_client = MongoClient(altas_uri)\n",
        "        self.database = self.mongodb_client[dbname]\n",
        "\n",
        "    ## A quick way to test if we can connect to Atlas instance\n",
        "    def ping (self):\n",
        "        self.mongodb_client.admin.command('ping')\n",
        "\n",
        "    def get_collection (self, collection_name):\n",
        "        collection = self.database[collection_name]\n",
        "        return collection\n",
        "\n",
        "    def find (self, collection_name, filter = {}, limit=10):\n",
        "        collection = self.database[collection_name]\n",
        "        items = list(collection.find(filter=filter, limit=limit))\n",
        "        return items\n",
        "\n",
        "    # https://www.mongodb.com/docs/atlas/atlas-vector-search/vector-search-stage/\n",
        "    def vector_search(self, collection_name, index_name, attr_name, embedding_vector, limit=5):\n",
        "        collection = self.database[collection_name]\n",
        "        results = collection.aggregate([\n",
        "            {\n",
        "                '$vectorSearch': {\n",
        "                    \"index\": index_name,\n",
        "                    \"path\": attr_name,\n",
        "                    \"queryVector\": embedding_vector,\n",
        "                    \"numCandidates\": 50,\n",
        "                    \"limit\": limit,\n",
        "                }\n",
        "            },\n",
        "            ## We are extracting 'vectorSearchScore' here\n",
        "            ## columns with 1 are included, columns with 0 are excluded\n",
        "            {\n",
        "                \"$project\": {\n",
        "                    '_id' : 1,\n",
        "                    'title' : 1,\n",
        "                    'plot' : 1,\n",
        "                    'year' : 1,\n",
        "                    \"search_score\": { \"$meta\": \"vectorSearchScore\" }\n",
        "            }\n",
        "            }\n",
        "            ])\n",
        "        return list(results)\n",
        "\n",
        "    def close_connection(self):\n",
        "        self.mongodb_client.close()\n"
      ]
    },
    {
      "cell_type": "code",
      "execution_count": 6,
      "metadata": {
        "id": "HZ_8ZEe1yQB3"
      },
      "outputs": [],
      "source": [
        "from openai import OpenAI\n",
        "\n",
        "class OpenAIClient():\n",
        "    def __init__(self, api_key) -> None:\n",
        "        self.client = OpenAI(\n",
        "            api_key= api_key,  # defaults to os.environ.get(\"OPENAI_API_KEY\")\n",
        "        )\n",
        "        # print (\"OpenAI Client initialized!\")\n",
        "\n",
        "\n",
        "    def chat (self, messages, model=\"gpt-3.5-turbo\"):\n",
        "        chat_completion = self.client.chat.completions.create(\n",
        "                        messages=messages, model=model,)\n",
        "        return chat_completion\n",
        "\n",
        "    def get_embedding(self, text: str,  model=\"text-embedding-ada-002\") -> list[float]:\n",
        "        text = text.replace(\"\\n\", \" \")\n",
        "        resp = self.client.embeddings.create (\n",
        "            input=[text],\n",
        "            model=model  )\n",
        "\n",
        "        return resp.data[0].embedding"
      ]
    },
    {
      "cell_type": "markdown",
      "metadata": {
        "id": "KEMJLBy9yQB3"
      },
      "source": [
        "## Step-7: Initialize Mongo Atlas Client\n",
        "\n",
        "See if we can connect to our Atlas cloud instance.\n",
        "\n",
        "If this step fails, make sure 'connect from anywhere' is enabled on your Atlas network configuration\n",
        "\n",
        "![](https://raw.githubusercontent.com/sujee/mongodb-atlas-vector-search/main/images/atlas-connect-2.png)"
      ]
    },
    {
      "cell_type": "code",
      "execution_count": 7,
      "metadata": {
        "id": "S8BfuErXyQB3"
      },
      "outputs": [],
      "source": [
        "MY_CONFIG.DB_NAME = 'sample_mflix'\n",
        "MY_CONFIG.COLLECTION_NAME = 'embedded_movies'\n",
        "MY_CONFIG.INDEX_NAME = 'idx_plot_embedding'"
      ]
    },
    {
      "cell_type": "code",
      "execution_count": 8,
      "metadata": {
        "colab": {
          "base_uri": "https://localhost:8080/"
        },
        "id": "NZAdDhWiyQB3",
        "outputId": "519c44c4-f089-4e30-c0ab-672f96c7cc51"
      },
      "outputs": [
        {
          "output_type": "stream",
          "name": "stdout",
          "text": [
            "Connected to Atlas instance! We are good to go!\n"
          ]
        }
      ],
      "source": [
        "atlas_client = AtlasClient (MY_CONFIG.ATLAS_URI, MY_CONFIG.DB_NAME)\n",
        "atlas_client.ping()\n",
        "print ('Connected to Atlas instance! We are good to go!')"
      ]
    },
    {
      "cell_type": "markdown",
      "metadata": {
        "id": "EpgkcKtEyQB4"
      },
      "source": [
        "## Step-8: Initialize OpenAI Client"
      ]
    },
    {
      "cell_type": "code",
      "execution_count": 9,
      "metadata": {
        "colab": {
          "base_uri": "https://localhost:8080/"
        },
        "id": "xhpnA9UhyQB4",
        "outputId": "f3a6d424-a534-4df5-e194-e493ebc0f9f1"
      },
      "outputs": [
        {
          "output_type": "stream",
          "name": "stdout",
          "text": [
            "OpenAI client initialized\n"
          ]
        }
      ],
      "source": [
        "openAI_client = None\n",
        "\n",
        "if MY_CONFIG.OPENAI_API_KEY:\n",
        "    openAI_client = OpenAIClient (api_key=MY_CONFIG.OPENAI_API_KEY)\n",
        "    print (\"OpenAI client initialized\")"
      ]
    },
    {
      "cell_type": "markdown",
      "metadata": {
        "id": "jondOl9VyQB4"
      },
      "source": [
        "## Step-9: Cached Embeddings\n",
        "\n",
        "To make you get up and running quickly, we have cached some embedding results.  This way we can query Atlas without having to call embedding API first.\n",
        "\n",
        "If you use these sample queries, you won't need an OpenAI Key.  If you want to try a different query, then you will need an openAI API key."
      ]
    },
    {
      "cell_type": "code",
      "execution_count": 10,
      "metadata": {
        "colab": {
          "base_uri": "https://localhost:8080/"
        },
        "id": "co-CTuKuyQB4",
        "outputId": "779e96a3-b43e-49d0-c357-77e6867fb12b"
      },
      "outputs": [
        {
          "output_type": "stream",
          "name": "stdout",
          "text": [
            "--2024-03-10 10:01:10--  https://raw.githubusercontent.com/sujee/mongodb-atlas-vector-search/main/lab-2-vector-search-openai/embeddings_openai.json\n",
            "Resolving raw.githubusercontent.com (raw.githubusercontent.com)... 185.199.110.133, 185.199.109.133, 185.199.111.133, ...\n",
            "Connecting to raw.githubusercontent.com (raw.githubusercontent.com)|185.199.110.133|:443... connected.\n",
            "HTTP request sent, awaiting response... 200 OK\n",
            "Length: 241301 (236K) [text/plain]\n",
            "Saving to: ‘embeddings_openai.json’\n",
            "\n",
            "embeddings_openai.j 100%[===================>] 235.65K  --.-KB/s    in 0.02s   \n",
            "\n",
            "2024-03-10 10:01:10 (14.1 MB/s) - ‘embeddings_openai.json’ saved [241301/241301]\n",
            "\n"
          ]
        }
      ],
      "source": [
        "## Download the embeddings\n",
        "cached_embedding_file = 'embeddings_openai.json'\n",
        "\n",
        "if MY_CONFIG.RUNNING_IN_COLAB and not os.path.exists(cached_embedding_file):\n",
        "    !wget  -O  {cached_embedding_file}  'https://raw.githubusercontent.com/sujee/mongodb-atlas-vector-search/main/lab-2-vector-search-openai/embeddings_openai.json'"
      ]
    },
    {
      "cell_type": "code",
      "execution_count": 11,
      "metadata": {
        "colab": {
          "base_uri": "https://localhost:8080/"
        },
        "id": "5LtiW_8MyQB5",
        "outputId": "66fa10cc-20f6-4828-d5d8-934a721a74c1"
      },
      "outputs": [
        {
          "output_type": "stream",
          "name": "stdout",
          "text": [
            "Loaded the following cached embeddings...\n",
            "- fatalistic sci-fi movies\n",
            "- humans fighting aliens\n",
            "- futuristic christmas movies\n",
            "- sci-fi story with a friendly alien\n",
            "- relationship drama between two good friends\n",
            "- college graduates working in a big city discover new relationships\n",
            "- household pets get lost but go on a long journey to find home\n"
          ]
        }
      ],
      "source": [
        "import os\n",
        "import json\n",
        "\n",
        "cached_embeddings = {}\n",
        "\n",
        "if os.path.exists(cached_embedding_file):\n",
        "    with open(cached_embedding_file, \"r\") as f:\n",
        "        str = f.read()\n",
        "        cached_embeddings = json.loads(str)\n",
        "\n",
        "print (\"Loaded the following cached embeddings...\")\n",
        "for query in cached_embeddings.keys():\n",
        "    print (f'- {query}')"
      ]
    },
    {
      "cell_type": "markdown",
      "metadata": {
        "id": "wzPOU3mHyQB5"
      },
      "source": [
        "## Step-10: Do a Vector Search\n",
        "\n",
        "Now that we have every thing setup, this is the fun part!\n",
        "\n",
        "We are going to query movies, not just on plot keywords but 'meaning'.\n",
        "\n",
        "See the examples below.  And try your own!\n",
        "\n",
        "The process is as follows:\n",
        "\n",
        "- convert query into embeddings (using OpenAI API)\n",
        "- send the embeddings to Atlas and get results\n",
        "\n",
        "### Note the Score\n",
        "\n",
        "IN addition to movie attributes (title, year, plot ..etc) We are also dislaying `search_score`.  This is a meta attribute - not really part of movies collection, but generated as a result of vector search.\n",
        "\n",
        "This is a number between 0 and 1.  Closer to 1 values represent 'better match'.  And the results are sorted from best match down (closer to 1 first)\n",
        "\n",
        "[You can read more about search score here](https://www.mongodb.com/docs/atlas/atlas-vector-search/vector-search-stage/#atlas-vector-search-score)\n",
        "\n",
        "\n",
        "### Troubleshooting\n",
        "\n",
        "#### No search results?\n",
        "\n",
        "Make sure the vector search index is defined and active! (Step-2)"
      ]
    },
    {
      "cell_type": "code",
      "execution_count": 12,
      "metadata": {
        "id": "v1fwfCEByQB5"
      },
      "outputs": [],
      "source": [
        "import time\n",
        "\n",
        "# Handy function\n",
        "def do_vector_search (query:str) -> None:\n",
        "    query = query.lower().strip()\n",
        "    print ('query: ', query)\n",
        "    if query in cached_embeddings.keys():\n",
        "        print (\"using cached embeddings\")\n",
        "        embedding = cached_embeddings.get (query)\n",
        "    else:\n",
        "        t1a = time.perf_counter()\n",
        "        embedding = openAI_client.get_embedding(query)\n",
        "        t1b = time.perf_counter()\n",
        "        print (f\"Getting embeddings from OpenAI took {(t1b-t1a)*1000:,.0f} ms\")\n",
        "\n",
        "    t2a = time.perf_counter()\n",
        "    movies = atlas_client.vector_search(collection_name=MY_CONFIG.COLLECTION_NAME, index_name=MY_CONFIG.INDEX_NAME, attr_name='plot_embedding', embedding_vector=embedding,limit=10 )\n",
        "    t2b = time.perf_counter()\n",
        "\n",
        "    print (f\"Altas query returned {len (movies)} movies in {(t2b-t2a)*1000:,.0f} ms\")\n",
        "    print()\n",
        "\n",
        "    for idx, movie in enumerate (movies):\n",
        "        print(f'{idx+1}\\nid: {movie[\"_id\"]}\\ntitle: {movie[\"title\"]},\\nyear: {movie[\"year\"]}' +\n",
        "            f'\\nsearch_score(meta):{movie[\"search_score\"]}\\nplot: {movie[\"plot\"]}\\n')"
      ]
    },
    {
      "cell_type": "code",
      "execution_count": 13,
      "metadata": {
        "colab": {
          "base_uri": "https://localhost:8080/"
        },
        "id": "3xWw_FZ0yQB5",
        "outputId": "97d6c8ad-3f98-40a0-ecf3-75d9ee2eb586"
      },
      "outputs": [
        {
          "output_type": "stream",
          "name": "stdout",
          "text": [
            "query:  humans fighting aliens\n",
            "using cached embeddings\n",
            "Altas query returned 10 movies in 138 ms\n",
            "\n",
            "1\n",
            "id: 573a1398f29313caabce8f83\n",
            "title: V: The Final Battle,\n",
            "year: 1984\n",
            "search_score(meta):0.9573556184768677\n",
            "plot: A small group of human resistance fighters fight a desperate guerilla war against the genocidal extra-terrestrials who dominate Earth.\n",
            "\n",
            "2\n",
            "id: 573a13c7f29313caabd75324\n",
            "title: Falling Skies,\n",
            "year: 2011è\n",
            "search_score(meta):0.9550596475601196\n",
            "plot: Survivors of an alien attack on earth gather together to fight for their lives and fight back.\n",
            "\n",
            "3\n",
            "id: 573a139af29313caabcf0cff\n",
            "title: Starship Troopers,\n",
            "year: 1997\n",
            "search_score(meta):0.9523435831069946\n",
            "plot: Humans in a fascistic, militaristic future do battle with giant alien bugs in a fight for survival.\n",
            "\n",
            "4\n",
            "id: 573a139ff29313caabd000f6\n",
            "title: Battlefield Earth,\n",
            "year: 2000\n",
            "search_score(meta):0.9512618780136108\n",
            "plot: After enslavement & near extermination by an alien race in the year 3000, humanity begins to fight back.\n",
            "\n",
            "5\n",
            "id: 573a139af29313caabceffbf\n",
            "title: Independence Day,\n",
            "year: 1996\n",
            "search_score(meta):0.9498342871665955\n",
            "plot: The aliens are coming and their goal is to invade and destroy Earth. Fighting superior technology, mankind's best weapon is the will to survive.\n",
            "\n",
            "6\n",
            "id: 573a13b7f29313caabd49fe5\n",
            "title: Aliens vs. Predator: Requiem,\n",
            "year: 2007\n",
            "search_score(meta):0.943068265914917\n",
            "plot: Warring alien and predator races descend on a small town, where unsuspecting residents must band together for any chance of survival.\n",
            "\n",
            "7\n",
            "id: 573a1398f29313caabce97bd\n",
            "title: Enemy Mine,\n",
            "year: 1985\n",
            "search_score(meta):0.9389424324035645\n",
            "plot: A soldier from Earth crash-lands on an alien world after sustaining battle damage. Eventually he encounters another survivor, but from the enemy species he was fighting; they band together ...\n",
            "\n",
            "8\n",
            "id: 573a13bff29313caabd5fcd1\n",
            "title: District 9,\n",
            "year: 2009\n",
            "search_score(meta):0.9382564425468445\n",
            "plot: An extraterrestrial race forced to live in slum-like conditions on Earth suddenly finds a kindred spirit in a government agent who is exposed to their biotechnology.\n",
            "\n",
            "9\n",
            "id: 573a1398f29313caabcea963\n",
            "title: Predator,\n",
            "year: 1987\n",
            "search_score(meta):0.9375468492507935\n",
            "plot: A team of commandos on a mission in a Central American jungle find themselves hunted by an extra-terrestrial warrior.\n",
            "\n",
            "10\n",
            "id: 573a13abf29313caabd24627\n",
            "title: Returner,\n",
            "year: 2002\n",
            "search_score(meta):0.9372057914733887\n",
            "plot: A young woman from the future forces a local gunman to help her stop an impending alien invasion which will wipe out the human race.\n",
            "\n"
          ]
        }
      ],
      "source": [
        "query=\"humans fighting aliens\"\n",
        "\n",
        "do_vector_search (query=query)"
      ]
    },
    {
      "cell_type": "code",
      "execution_count": 14,
      "metadata": {
        "colab": {
          "base_uri": "https://localhost:8080/"
        },
        "id": "PPRVraIgyQB5",
        "outputId": "b3f40c25-b243-4c4c-f117-f12a5e1acfb6"
      },
      "outputs": [
        {
          "output_type": "stream",
          "name": "stdout",
          "text": [
            "query:  relationship drama between two good friends\n",
            "using cached embeddings\n",
            "Altas query returned 10 movies in 71 ms\n",
            "\n",
            "1\n",
            "id: 573a13a3f29313caabd0dfe2\n",
            "title: Dark Blue World,\n",
            "year: 2001\n",
            "search_score(meta):0.9380425214767456\n",
            "plot: The friendship of two men becomes tested when they both fall for the same woman.\n",
            "\n",
            "2\n",
            "id: 573a13a3f29313caabd0e14b\n",
            "title: Dark Blue World,\n",
            "year: 2001\n",
            "search_score(meta):0.9380425214767456\n",
            "plot: The friendship of two men becomes tested when they both fall for the same woman.\n",
            "\n",
            "3\n",
            "id: 573a1399f29313caabcec488\n",
            "title: Once a Thief,\n",
            "year: 1991\n",
            "search_score(meta):0.9260045289993286\n",
            "plot: A romantic and action packed story of three best friends, a group of high end art thieves, who come into trouble when a love-triangle forms between them.\n",
            "\n",
            "4\n",
            "id: 573a13b3f29313caabd3b197\n",
            "title: Hulchul,\n",
            "year: 2004\n",
            "search_score(meta):0.9249595403671265\n",
            "plot: A man and woman from feuding families each pretend to fall in love, as part of a revenge plot. Chaos ensues when their fake romance becomes a reality.\n",
            "\n",
            "5\n",
            "id: 573a13d0f29313caabd8b8d6\n",
            "title: Styria,\n",
            "year: 2014\n",
            "search_score(meta):0.924858570098877\n",
            "plot: Depicts the intense and fractured relationship between a lonely teenager and a beautiful stranger.\n",
            "\n",
            "6\n",
            "id: 573a13b8f29313caabd4c351\n",
            "title: Exiled,\n",
            "year: 2006\n",
            "search_score(meta):0.9222636222839355\n",
            "plot: A friendship is formed between an ex-gangster, and two groups of hitmen - those who want to protect him and those who were sent to kill him.\n",
            "\n",
            "7\n",
            "id: 573a13b3f29313caabd3c69a\n",
            "title: Varalaaru,\n",
            "year: 2006\n",
            "search_score(meta):0.9208685159683228\n",
            "plot: Relationships become entangled in an emotional web.\n",
            "\n",
            "8\n",
            "id: 573a13b2f29313caabd3a2ff\n",
            "title: Harsh Times,\n",
            "year: 2005\n",
            "search_score(meta):0.9205527305603027\n",
            "plot: A tough-minded drama about two friends in South Central Los Angeles and the violence that comes between them.\n",
            "\n",
            "9\n",
            "id: 573a13c9f29313caabd79c6a\n",
            "title: Arya 2,\n",
            "year: 2009\n",
            "search_score(meta):0.9199786186218262\n",
            "plot: An unstable and unpredictable male causes havoc for his 'best friend' and lover.\n",
            "\n",
            "10\n",
            "id: 573a1398f29313caabcea595\n",
            "title: China Girl,\n",
            "year: 1987\n",
            "search_score(meta):0.9181452989578247\n",
            "plot: A modern day Romeo & Juliet story is told in New York when an Italian boy and a Chinese girl become lovers, causing a tragic conflict between ethnic gangs.\n",
            "\n"
          ]
        }
      ],
      "source": [
        "query=\"relationship drama between two good friends\"\n",
        "\n",
        "do_vector_search (query=query)"
      ]
    },
    {
      "cell_type": "markdown",
      "metadata": {
        "id": "3SH07TS3yQB5"
      },
      "source": [
        "### Try your own searches!\n",
        "\n",
        "Update the query string to what ever you like, and run it.\n",
        "\n",
        "Remember, if you want to try different queries, than what we cached, you will need your OPENAI_API_KEY"
      ]
    },
    {
      "cell_type": "code",
      "execution_count": 15,
      "metadata": {
        "id": "4lwpriUSyQB6"
      },
      "outputs": [],
      "source": [
        "## TODO: enter your query here\n",
        "# query=\"technology gone wrong\"\n",
        "\n",
        "# do_vector_search (query=query)\n"
      ]
    },
    {
      "cell_type": "code",
      "execution_count": 16,
      "metadata": {
        "id": "VMsq4SWCyQB6"
      },
      "outputs": [],
      "source": [
        "## Close connection\n",
        "\n",
        "# atlas_client.close_connection()"
      ]
    }
  ],
  "metadata": {
    "kernelspec": {
      "display_name": "Python 3",
      "name": "python3"
    },
    "language_info": {
      "codemirror_mode": {
        "name": "ipython",
        "version": 3
      },
      "file_extension": ".py",
      "mimetype": "text/x-python",
      "name": "python",
      "nbconvert_exporter": "python",
      "pygments_lexer": "ipython3",
      "version": "3.11.8"
    },
    "colab": {
      "provenance": []
    }
  },
  "nbformat": 4,
  "nbformat_minor": 0
}