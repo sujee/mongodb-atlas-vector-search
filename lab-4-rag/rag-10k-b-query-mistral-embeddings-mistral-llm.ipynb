{
  "cells": [
    {
      "cell_type": "markdown",
      "metadata": {
        "id": "ZGW_52CMTxB7"
      },
      "source": [
        "[![Open In Colab](https://colab.research.google.com/assets/colab-badge.svg)](https://colab.research.google.com/github/sujee/mongodb-atlas-vector-search/blob/main/lab-4-rag/rag-10k-b-query-mistral-embeddings-mistral-llm.ipynb)\n",
        "\n",
        "#  RAG 10k Query: Mistral Embeddings with Mitral LLM\n",
        "\n",
        "Here is the overall RAG pipeline.   In this notebook, we will do steps (2), (3) and (4)\n",
        "- Step-1: populating embeddings.  It is already done in this notebook [rag-10k-a-populate-embeddings-mistral.ipynb](https://github.com/sujee/mongodb-atlas-vector-search/blob/main/lab-4-rag/rag-10k-a-populate-embeddings-mistral.ipynb)\n",
        "- 👉 Step 2: Calculate embedding for user query\n",
        "- 👉 Step 3 & 4: Send the query to Atlas to retrieve relevant documents\n",
        "- 👉 Step-4: Send the query and relevant documents (returned above step) to LLM and get answers to our query\n",
        "\n",
        "![image missing](https://raw.githubusercontent.com/sujee/mongodb-atlas-vector-search/main/images/rag-1.svg)\n",
        "\n",
        "### What you need to run this notebook\n",
        "\n",
        "- a (free) MongoDB Atlas Account\n",
        "- and connection credentials\n",
        "- a Mistral API Key\n",
        "\n",
        "### This lab depends on:\n",
        "\n",
        "- We assume we have processed PDF documents, calculated embeddings and loaded them into Atlas.  Refer to this notebook : [rag-10k-a-populate-embeddings-mistral.ipynb](https://github.com/sujee/mongodb-atlas-vector-search/blob/main/lab-4-rag/rag-10k-a-populate-embeddings-mistral.ipynb)\n",
        "\n",
        "### The Stack\n",
        "\n",
        "- Langugage : Python\n",
        "- Vector database: Atlas\n",
        "- Embedding Model: Mistral embedding model\n",
        "\n",
        "\n",
        "### How to run\n",
        "\n",
        "This notebook can be run on Google Colab and stand alone python development environments.  Click here to run on colab.\n",
        "\n",
        "[![Open In Colab](https://colab.research.google.com/assets/colab-badge.svg)](https://colab.research.google.com/github/sujee/mongodb-atlas-vector-search/blob/main/lab-4-rag/rag-10k-b-query-mistral-embeddings-mistral-llm.ipynb)\n",
        "\n"
      ]
    },
    {
      "cell_type": "markdown",
      "metadata": {
        "id": "WSyvFqhAbvHQ"
      },
      "source": [
        "## Step-1: Make sure documents is loaded in Atlas\n",
        "\n",
        "This is done in this notebook: [rag-10k-a-populate-embeddings-mistral.ipynb](https://github.com/sujee/mongodb-atlas-vector-search/blob/main/lab-4-rag/rag-10k-a-populate-embeddings-mistral.ipynb)\n",
        "\n",
        "Please complete this first."
      ]
    },
    {
      "cell_type": "markdown",
      "metadata": {
        "id": "q4lWoy_5cEA-"
      },
      "source": [
        "## Step-2: Configuration\n",
        "\n",
        "We will setup some common configurations here"
      ]
    },
    {
      "cell_type": "code",
      "execution_count": 1,
      "metadata": {
        "id": "XudGfn_YcGTX"
      },
      "outputs": [],
      "source": [
        "# We will keep all global variables in an object to not pollute the global namespace.\n",
        "class MyConfig(object):\n",
        "    pass\n",
        "\n",
        "MY_CONFIG = MyConfig()\n",
        "\n",
        "MY_CONFIG.DB_NAME = 'rag1'\n",
        "MY_CONFIG.COLLECTION_NAME = '10k_mistral'\n",
        "MY_CONFIG.EMBEDDING_ATTRIBUTE = 'embedding_mistral'\n",
        "MY_CONFIG.INDEX_NAME = 'idx_embedding_mistral'\n"
      ]
    },
    {
      "cell_type": "markdown",
      "metadata": {
        "id": "7_OK9xk-cKbF"
      },
      "source": [
        "## Step-3: Load Configuration\n",
        "\n",
        "We need to configure the following\n",
        "- Atlas connection credentials\n",
        "\n",
        "### Option 3A - If running on Colab\n",
        "\n",
        "- Click on 'Colab secrets' icon (🔑) on left pane, and crate the following secrets.\n",
        "   - `ATLAS_URI`\n",
        "   - `MISTRAL_API_KEY`\n",
        "-  Make sure the `notebook access` button is checked on for all\n",
        "- See screenshot below for example\n",
        "\n",
        "<!-- ![](../images/colab-secret-2.png) -->\n",
        "\n",
        "![](https://raw.githubusercontent.com/sujee/mongodb-atlas-vector-search/main/images/colab-secret-3.png)\n",
        "\n",
        "\n",
        "### Option 3B - If running on local python environment\n",
        "\n",
        "- setup your local python env following this [setup guide](https://github.com/sujee/mongodb-atlas-vector-search/blob/main/setup-python-env.md)\n",
        "- Create a file named `.env` in the same location as notebook\n",
        "- And add the following settings\n",
        "\n",
        "```text\n",
        "ATLAS_URI=mongodb+srv://<username>:<password>@sandbox.....\n",
        "MISTRAL_API_KEY=xyz\n",
        "```\n"
      ]
    },
    {
      "cell_type": "markdown",
      "metadata": {
        "id": "EzjYHYgNcRda"
      },
      "source": [
        "## Step-4: Determine Runtime Environment\n",
        "\n",
        "This code will figure out if we are running on Google Colab environment or local environment.  We use it to install relevant packages later."
      ]
    },
    {
      "cell_type": "code",
      "execution_count": 2,
      "metadata": {
        "colab": {
          "base_uri": "https://localhost:8080/"
        },
        "id": "tBbQhBKYcS2_",
        "outputId": "f43db40c-36d2-4e7e-9980-5ddd322fcb28"
      },
      "outputs": [
        {
          "name": "stdout",
          "output_type": "stream",
          "text": [
            "Running in Colab\n"
          ]
        }
      ],
      "source": [
        "# are we running in Colab?\n",
        "import os\n",
        "\n",
        "if os.getenv(\"COLAB_RELEASE_TAG\"):\n",
        "    print(\"Running in Colab\")\n",
        "    MY_CONFIG.RUNNING_IN_COLAB = True\n",
        "else:\n",
        "    print(\"NOT running in Colab\")\n",
        "    MY_CONFIG.RUNNING_IN_COLAB = False"
      ]
    },
    {
      "cell_type": "markdown",
      "metadata": {
        "id": "Jn_sqd1KcWbu"
      },
      "source": [
        "## Step-5: Install dependencies (if necessary)\n",
        "\n",
        "We will install required libraries in cloud environments like Google Colab.  For local environments, we assume the dependencies are already setup."
      ]
    },
    {
      "cell_type": "code",
      "execution_count": 3,
      "metadata": {
        "colab": {
          "base_uri": "https://localhost:8080/"
        },
        "id": "A16KpOc8cYCI",
        "outputId": "733df56d-5cea-4926-e473-bc4f43026e39"
      },
      "outputs": [
        {
          "name": "stdout",
          "output_type": "stream",
          "text": [
            "Collecting pymongo==4.6.2\n",
            "  Downloading pymongo-4.6.2-cp310-cp310-manylinux_2_17_x86_64.manylinux2014_x86_64.whl (677 kB)\n",
            "\u001b[2K     \u001b[90m━━━━━━━━━━━━━━━━━━━━━━━━━━━━━━━━━━━━━━━━\u001b[0m \u001b[32m677.2/677.2 kB\u001b[0m \u001b[31m2.0 MB/s\u001b[0m eta \u001b[36m0:00:00\u001b[0m\n",
            "\u001b[?25hCollecting llama-index\n",
            "  Downloading llama_index-0.10.20-py3-none-any.whl (5.6 kB)\n",
            "Collecting llama-index-embeddings-mistralai\n",
            "  Downloading llama_index_embeddings_mistralai-0.1.4-py3-none-any.whl (2.6 kB)\n",
            "Collecting llama-index-llms-mistralai\n",
            "  Downloading llama_index_llms_mistralai-0.1.7-py3-none-any.whl (4.2 kB)\n",
            "Collecting llama-index-vector-stores-mongodb\n",
            "  Downloading llama_index_vector_stores_mongodb-0.1.4-py3-none-any.whl (4.0 kB)\n",
            "Requirement already satisfied: transformers==4.38.2 in /usr/local/lib/python3.10/dist-packages (4.38.2)\n",
            "Requirement already satisfied: torch==2.2.1 in /usr/local/lib/python3.10/dist-packages (2.2.1+cu121)\n",
            "Collecting dnspython<3.0.0,>=1.16.0 (from pymongo==4.6.2)\n",
            "  Downloading dnspython-2.6.1-py3-none-any.whl (307 kB)\n",
            "\u001b[2K     \u001b[90m━━━━━━━━━━━━━━━━━━━━━━━━━━━━━━━━━━━━━━━━\u001b[0m \u001b[32m307.7/307.7 kB\u001b[0m \u001b[31m12.2 MB/s\u001b[0m eta \u001b[36m0:00:00\u001b[0m\n",
            "\u001b[?25hRequirement already satisfied: filelock in /usr/local/lib/python3.10/dist-packages (from transformers==4.38.2) (3.13.1)\n",
            "Requirement already satisfied: huggingface-hub<1.0,>=0.19.3 in /usr/local/lib/python3.10/dist-packages (from transformers==4.38.2) (0.20.3)\n",
            "Requirement already satisfied: numpy>=1.17 in /usr/local/lib/python3.10/dist-packages (from transformers==4.38.2) (1.25.2)\n",
            "Requirement already satisfied: packaging>=20.0 in /usr/local/lib/python3.10/dist-packages (from transformers==4.38.2) (24.0)\n",
            "Requirement already satisfied: pyyaml>=5.1 in /usr/local/lib/python3.10/dist-packages (from transformers==4.38.2) (6.0.1)\n",
            "Requirement already satisfied: regex!=2019.12.17 in /usr/local/lib/python3.10/dist-packages (from transformers==4.38.2) (2023.12.25)\n",
            "Requirement already satisfied: requests in /usr/local/lib/python3.10/dist-packages (from transformers==4.38.2) (2.31.0)\n",
            "Requirement already satisfied: tokenizers<0.19,>=0.14 in /usr/local/lib/python3.10/dist-packages (from transformers==4.38.2) (0.15.2)\n",
            "Requirement already satisfied: safetensors>=0.4.1 in /usr/local/lib/python3.10/dist-packages (from transformers==4.38.2) (0.4.2)\n",
            "Requirement already satisfied: tqdm>=4.27 in /usr/local/lib/python3.10/dist-packages (from transformers==4.38.2) (4.66.2)\n",
            "Requirement already satisfied: typing-extensions>=4.8.0 in /usr/local/lib/python3.10/dist-packages (from torch==2.2.1) (4.10.0)\n",
            "Requirement already satisfied: sympy in /usr/local/lib/python3.10/dist-packages (from torch==2.2.1) (1.12)\n",
            "Requirement already satisfied: networkx in /usr/local/lib/python3.10/dist-packages (from torch==2.2.1) (3.2.1)\n",
            "Requirement already satisfied: jinja2 in /usr/local/lib/python3.10/dist-packages (from torch==2.2.1) (3.1.3)\n",
            "Requirement already satisfied: fsspec in /usr/local/lib/python3.10/dist-packages (from torch==2.2.1) (2023.6.0)\n",
            "Collecting nvidia-cuda-nvrtc-cu12==12.1.105 (from torch==2.2.1)\n",
            "  Downloading nvidia_cuda_nvrtc_cu12-12.1.105-py3-none-manylinux1_x86_64.whl (23.7 MB)\n",
            "\u001b[2K     \u001b[90m━━━━━━━━━━━━━━━━━━━━━━━━━━━━━━━━━━━━━━━━\u001b[0m \u001b[32m23.7/23.7 MB\u001b[0m \u001b[31m13.8 MB/s\u001b[0m eta \u001b[36m0:00:00\u001b[0m\n",
            "\u001b[?25hCollecting nvidia-cuda-runtime-cu12==12.1.105 (from torch==2.2.1)\n",
            "  Downloading nvidia_cuda_runtime_cu12-12.1.105-py3-none-manylinux1_x86_64.whl (823 kB)\n",
            "\u001b[2K     \u001b[90m━━━━━━━━━━━━━━━━━━━━━━━━━━━━━━━━━━━━━━━━\u001b[0m \u001b[32m823.6/823.6 kB\u001b[0m \u001b[31m21.1 MB/s\u001b[0m eta \u001b[36m0:00:00\u001b[0m\n",
            "\u001b[?25hCollecting nvidia-cuda-cupti-cu12==12.1.105 (from torch==2.2.1)\n",
            "  Downloading nvidia_cuda_cupti_cu12-12.1.105-py3-none-manylinux1_x86_64.whl (14.1 MB)\n",
            "\u001b[2K     \u001b[90m━━━━━━━━━━━━━━━━━━━━━━━━━━━━━━━━━━━━━━━━\u001b[0m \u001b[32m14.1/14.1 MB\u001b[0m \u001b[31m20.8 MB/s\u001b[0m eta \u001b[36m0:00:00\u001b[0m\n",
            "\u001b[?25hCollecting nvidia-cudnn-cu12==8.9.2.26 (from torch==2.2.1)\n",
            "  Downloading nvidia_cudnn_cu12-8.9.2.26-py3-none-manylinux1_x86_64.whl (731.7 MB)\n",
            "\u001b[2K     \u001b[90m━━━━━━━━━━━━━━━━━━━━━━━━━━━━━━━━━━━━━━━━\u001b[0m \u001b[32m731.7/731.7 MB\u001b[0m \u001b[31m718.9 kB/s\u001b[0m eta \u001b[36m0:00:00\u001b[0m\n",
            "\u001b[?25h\u001b[33mWARNING: Retrying (Retry(total=4, connect=None, read=None, redirect=None, status=None)) after connection broken by 'ProtocolError('Connection aborted.', RemoteDisconnected('Remote end closed connection without response'))': /simple/nvidia-cublas-cu12/\u001b[0m\u001b[33m\n",
            "\u001b[0mCollecting nvidia-cublas-cu12==12.1.3.1 (from torch==2.2.1)\n",
            "  Downloading nvidia_cublas_cu12-12.1.3.1-py3-none-manylinux1_x86_64.whl (410.6 MB)\n",
            "\u001b[2K     \u001b[90m━━━━━━━━━━━━━━━━━━━━━━━━━━━━━━━━━━━━━━━━\u001b[0m \u001b[32m410.6/410.6 MB\u001b[0m \u001b[31m2.0 MB/s\u001b[0m eta \u001b[36m0:00:00\u001b[0m\n",
            "\u001b[?25hCollecting nvidia-cufft-cu12==11.0.2.54 (from torch==2.2.1)\n",
            "  Downloading nvidia_cufft_cu12-11.0.2.54-py3-none-manylinux1_x86_64.whl (121.6 MB)\n",
            "\u001b[2K     \u001b[90m━━━━━━━━━━━━━━━━━━━━━━━━━━━━━━━━━━━━━━━━\u001b[0m \u001b[32m121.6/121.6 MB\u001b[0m \u001b[31m4.5 MB/s\u001b[0m eta \u001b[36m0:00:00\u001b[0m\n",
            "\u001b[?25hCollecting nvidia-curand-cu12==10.3.2.106 (from torch==2.2.1)\n",
            "  Downloading nvidia_curand_cu12-10.3.2.106-py3-none-manylinux1_x86_64.whl (56.5 MB)\n",
            "\u001b[2K     \u001b[90m━━━━━━━━━━━━━━━━━━━━━━━━━━━━━━━━━━━━━━━━\u001b[0m \u001b[32m56.5/56.5 MB\u001b[0m \u001b[31m2.7 MB/s\u001b[0m eta \u001b[36m0:00:00\u001b[0m\n",
            "\u001b[?25hCollecting nvidia-cusolver-cu12==11.4.5.107 (from torch==2.2.1)\n",
            "  Downloading nvidia_cusolver_cu12-11.4.5.107-py3-none-manylinux1_x86_64.whl (124.2 MB)\n",
            "\u001b[2K     \u001b[90m━━━━━━━━━━━━━━━━━━━━━━━━━━━━━━━━━━━━━━━━\u001b[0m \u001b[32m124.2/124.2 MB\u001b[0m \u001b[31m3.2 MB/s\u001b[0m eta \u001b[36m0:00:00\u001b[0m\n",
            "\u001b[?25hCollecting nvidia-cusparse-cu12==12.1.0.106 (from torch==2.2.1)\n",
            "  Downloading nvidia_cusparse_cu12-12.1.0.106-py3-none-manylinux1_x86_64.whl (196.0 MB)\n",
            "\u001b[2K     \u001b[90m━━━━━━━━━━━━━━━━━━━━━━━━━━━━━━━━━━━━━━━━\u001b[0m \u001b[32m196.0/196.0 MB\u001b[0m \u001b[31m3.2 MB/s\u001b[0m eta \u001b[36m0:00:00\u001b[0m\n",
            "\u001b[?25hCollecting nvidia-nccl-cu12==2.19.3 (from torch==2.2.1)\n",
            "  Downloading nvidia_nccl_cu12-2.19.3-py3-none-manylinux1_x86_64.whl (166.0 MB)\n",
            "\u001b[2K     \u001b[90m━━━━━━━━━━━━━━━━━━━━━━━━━━━━━━━━━━━━━━━━\u001b[0m \u001b[32m166.0/166.0 MB\u001b[0m \u001b[31m2.8 MB/s\u001b[0m eta \u001b[36m0:00:00\u001b[0m\n",
            "\u001b[?25hCollecting nvidia-nvtx-cu12==12.1.105 (from torch==2.2.1)\n",
            "  Downloading nvidia_nvtx_cu12-12.1.105-py3-none-manylinux1_x86_64.whl (99 kB)\n",
            "\u001b[2K     \u001b[90m━━━━━━━━━━━━━━━━━━━━━━━━━━━━━━━━━━━━━━━━\u001b[0m \u001b[32m99.1/99.1 kB\u001b[0m \u001b[31m5.5 MB/s\u001b[0m eta \u001b[36m0:00:00\u001b[0m\n",
            "\u001b[?25hRequirement already satisfied: triton==2.2.0 in /usr/local/lib/python3.10/dist-packages (from torch==2.2.1) (2.2.0)\n",
            "Collecting nvidia-nvjitlink-cu12 (from nvidia-cusolver-cu12==11.4.5.107->torch==2.2.1)\n",
            "  Downloading nvidia_nvjitlink_cu12-12.4.99-py3-none-manylinux2014_x86_64.whl (21.1 MB)\n",
            "\u001b[2K     \u001b[90m━━━━━━━━━━━━━━━━━━━━━━━━━━━━━━━━━━━━━━━━\u001b[0m \u001b[32m21.1/21.1 MB\u001b[0m \u001b[31m3.2 MB/s\u001b[0m eta \u001b[36m0:00:00\u001b[0m\n",
            "\u001b[?25hCollecting llama-index-agent-openai<0.2.0,>=0.1.4 (from llama-index)\n",
            "  Downloading llama_index_agent_openai-0.1.6-py3-none-any.whl (12 kB)\n",
            "Collecting llama-index-cli<0.2.0,>=0.1.2 (from llama-index)\n",
            "  Downloading llama_index_cli-0.1.11-py3-none-any.whl (26 kB)\n",
            "Collecting llama-index-core<0.11.0,>=0.10.20 (from llama-index)\n",
            "  Downloading llama_index_core-0.10.21.post1-py3-none-any.whl (15.4 MB)\n",
            "\u001b[2K     \u001b[90m━━━━━━━━━━━━━━━━━━━━━━━━━━━━━━━━━━━━━━━━\u001b[0m \u001b[32m15.4/15.4 MB\u001b[0m \u001b[31m1.5 MB/s\u001b[0m eta \u001b[36m0:00:00\u001b[0m\n",
            "\u001b[?25hCollecting llama-index-embeddings-openai<0.2.0,>=0.1.5 (from llama-index)\n",
            "  Downloading llama_index_embeddings_openai-0.1.7-py3-none-any.whl (6.0 kB)\n",
            "Collecting llama-index-indices-managed-llama-cloud<0.2.0,>=0.1.2 (from llama-index)\n",
            "  Downloading llama_index_indices_managed_llama_cloud-0.1.4-py3-none-any.whl (6.6 kB)\n",
            "Collecting llama-index-legacy<0.10.0,>=0.9.48 (from llama-index)\n",
            "  Downloading llama_index_legacy-0.9.48-py3-none-any.whl (2.0 MB)\n",
            "\u001b[2K     \u001b[90m━━━━━━━━━━━━━━━━━━━━━━━━━━━━━━━━━━━━━━━━\u001b[0m \u001b[32m2.0/2.0 MB\u001b[0m \u001b[31m1.4 MB/s\u001b[0m eta \u001b[36m0:00:00\u001b[0m\n",
            "\u001b[?25hCollecting llama-index-llms-openai<0.2.0,>=0.1.5 (from llama-index)\n",
            "  Downloading llama_index_llms_openai-0.1.12-py3-none-any.whl (10 kB)\n",
            "Collecting llama-index-multi-modal-llms-openai<0.2.0,>=0.1.3 (from llama-index)\n",
            "  Downloading llama_index_multi_modal_llms_openai-0.1.4-py3-none-any.whl (5.8 kB)\n",
            "Collecting llama-index-program-openai<0.2.0,>=0.1.3 (from llama-index)\n",
            "  Downloading llama_index_program_openai-0.1.4-py3-none-any.whl (4.1 kB)\n",
            "Collecting llama-index-question-gen-openai<0.2.0,>=0.1.2 (from llama-index)\n",
            "  Downloading llama_index_question_gen_openai-0.1.3-py3-none-any.whl (2.9 kB)\n",
            "Collecting llama-index-readers-file<0.2.0,>=0.1.4 (from llama-index)\n",
            "  Downloading llama_index_readers_file-0.1.11-py3-none-any.whl (36 kB)\n",
            "Collecting llama-index-readers-llama-parse<0.2.0,>=0.1.2 (from llama-index)\n",
            "  Downloading llama_index_readers_llama_parse-0.1.3-py3-none-any.whl (2.5 kB)\n",
            "Collecting mistralai>=0.1.3 (from llama-index-embeddings-mistralai)\n",
            "  Downloading mistralai-0.1.6-py3-none-any.whl (15 kB)\n",
            "Requirement already satisfied: SQLAlchemy[asyncio]>=1.4.49 in /usr/local/lib/python3.10/dist-packages (from llama-index-core<0.11.0,>=0.10.20->llama-index) (2.0.28)\n",
            "Requirement already satisfied: aiohttp<4.0.0,>=3.8.6 in /usr/local/lib/python3.10/dist-packages (from llama-index-core<0.11.0,>=0.10.20->llama-index) (3.9.3)\n",
            "Collecting dataclasses-json (from llama-index-core<0.11.0,>=0.10.20->llama-index)\n",
            "  Downloading dataclasses_json-0.6.4-py3-none-any.whl (28 kB)\n",
            "Collecting deprecated>=1.2.9.3 (from llama-index-core<0.11.0,>=0.10.20->llama-index)\n",
            "  Downloading Deprecated-1.2.14-py2.py3-none-any.whl (9.6 kB)\n",
            "Collecting dirtyjson<2.0.0,>=1.0.8 (from llama-index-core<0.11.0,>=0.10.20->llama-index)\n",
            "  Downloading dirtyjson-1.0.8-py3-none-any.whl (25 kB)\n",
            "Collecting httpx (from llama-index-core<0.11.0,>=0.10.20->llama-index)\n",
            "  Downloading httpx-0.27.0-py3-none-any.whl (75 kB)\n",
            "\u001b[2K     \u001b[90m━━━━━━━━━━━━━━━━━━━━━━━━━━━━━━━━━━━━━━━━\u001b[0m \u001b[32m75.6/75.6 kB\u001b[0m \u001b[31m1.3 MB/s\u001b[0m eta \u001b[36m0:00:00\u001b[0m\n",
            "\u001b[?25hCollecting llamaindex-py-client<0.2.0,>=0.1.13 (from llama-index-core<0.11.0,>=0.10.20->llama-index)\n",
            "  Downloading llamaindex_py_client-0.1.13-py3-none-any.whl (107 kB)\n",
            "\u001b[2K     \u001b[90m━━━━━━━━━━━━━━━━━━━━━━━━━━━━━━━━━━━━━━━━\u001b[0m \u001b[32m108.0/108.0 kB\u001b[0m \u001b[31m1.6 MB/s\u001b[0m eta \u001b[36m0:00:00\u001b[0m\n",
            "\u001b[?25hRequirement already satisfied: nest-asyncio<2.0.0,>=1.5.8 in /usr/local/lib/python3.10/dist-packages (from llama-index-core<0.11.0,>=0.10.20->llama-index) (1.6.0)\n",
            "Requirement already satisfied: nltk<4.0.0,>=3.8.1 in /usr/local/lib/python3.10/dist-packages (from llama-index-core<0.11.0,>=0.10.20->llama-index) (3.8.1)\n",
            "Collecting openai>=1.1.0 (from llama-index-core<0.11.0,>=0.10.20->llama-index)\n",
            "  Downloading openai-1.14.2-py3-none-any.whl (262 kB)\n",
            "\u001b[2K     \u001b[90m━━━━━━━━━━━━━━━━━━━━━━━━━━━━━━━━━━━━━━━━\u001b[0m \u001b[32m262.4/262.4 kB\u001b[0m \u001b[31m1.7 MB/s\u001b[0m eta \u001b[36m0:00:00\u001b[0m\n",
            "\u001b[?25hRequirement already satisfied: pandas in /usr/local/lib/python3.10/dist-packages (from llama-index-core<0.11.0,>=0.10.20->llama-index) (1.5.3)\n",
            "Requirement already satisfied: pillow>=9.0.0 in /usr/local/lib/python3.10/dist-packages (from llama-index-core<0.11.0,>=0.10.20->llama-index) (9.4.0)\n",
            "Requirement already satisfied: tenacity<9.0.0,>=8.2.0 in /usr/local/lib/python3.10/dist-packages (from llama-index-core<0.11.0,>=0.10.20->llama-index) (8.2.3)\n",
            "Collecting tiktoken>=0.3.3 (from llama-index-core<0.11.0,>=0.10.20->llama-index)\n",
            "  Downloading tiktoken-0.6.0-cp310-cp310-manylinux_2_17_x86_64.manylinux2014_x86_64.whl (1.8 MB)\n",
            "\u001b[2K     \u001b[90m━━━━━━━━━━━━━━━━━━━━━━━━━━━━━━━━━━━━━━━━\u001b[0m \u001b[32m1.8/1.8 MB\u001b[0m \u001b[31m1.8 MB/s\u001b[0m eta \u001b[36m0:00:00\u001b[0m\n",
            "\u001b[?25hCollecting typing-inspect>=0.8.0 (from llama-index-core<0.11.0,>=0.10.20->llama-index)\n",
            "  Downloading typing_inspect-0.9.0-py3-none-any.whl (8.8 kB)\n",
            "Requirement already satisfied: beautifulsoup4<5.0.0,>=4.12.3 in /usr/local/lib/python3.10/dist-packages (from llama-index-readers-file<0.2.0,>=0.1.4->llama-index) (4.12.3)\n",
            "Collecting bs4<0.0.3,>=0.0.2 (from llama-index-readers-file<0.2.0,>=0.1.4->llama-index)\n",
            "  Downloading bs4-0.0.2-py2.py3-none-any.whl (1.2 kB)\n",
            "Collecting pymupdf<2.0.0,>=1.23.21 (from llama-index-readers-file<0.2.0,>=0.1.4->llama-index)\n",
            "  Downloading PyMuPDF-1.23.26-cp310-none-manylinux2014_x86_64.whl (4.4 MB)\n",
            "\u001b[2K     \u001b[90m━━━━━━━━━━━━━━━━━━━━━━━━━━━━━━━━━━━━━━━━\u001b[0m \u001b[32m4.4/4.4 MB\u001b[0m \u001b[31m2.0 MB/s\u001b[0m eta \u001b[36m0:00:00\u001b[0m\n",
            "\u001b[?25hCollecting pypdf<5.0.0,>=4.0.1 (from llama-index-readers-file<0.2.0,>=0.1.4->llama-index)\n",
            "  Downloading pypdf-4.1.0-py3-none-any.whl (286 kB)\n",
            "\u001b[2K     \u001b[90m━━━━━━━━━━━━━━━━━━━━━━━━━━━━━━━━━━━━━━━━\u001b[0m \u001b[32m286.1/286.1 kB\u001b[0m \u001b[31m2.4 MB/s\u001b[0m eta \u001b[36m0:00:00\u001b[0m\n",
            "\u001b[?25hCollecting striprtf<0.0.27,>=0.0.26 (from llama-index-readers-file<0.2.0,>=0.1.4->llama-index)\n",
            "  Downloading striprtf-0.0.26-py3-none-any.whl (6.9 kB)\n",
            "Collecting llama-parse<0.4.0,>=0.3.3 (from llama-index-readers-llama-parse<0.2.0,>=0.1.2->llama-index)\n",
            "  Downloading llama_parse-0.3.9-py3-none-any.whl (6.8 kB)\n",
            "Collecting httpx (from llama-index-core<0.11.0,>=0.10.20->llama-index)\n",
            "  Downloading httpx-0.25.2-py3-none-any.whl (74 kB)\n",
            "\u001b[2K     \u001b[90m━━━━━━━━━━━━━━━━━━━━━━━━━━━━━━━━━━━━━━━━\u001b[0m \u001b[32m75.0/75.0 kB\u001b[0m \u001b[31m2.4 MB/s\u001b[0m eta \u001b[36m0:00:00\u001b[0m\n",
            "\u001b[?25hCollecting orjson<4.0.0,>=3.9.10 (from mistralai>=0.1.3->llama-index-embeddings-mistralai)\n",
            "  Downloading orjson-3.9.15-cp310-cp310-manylinux_2_17_x86_64.manylinux2014_x86_64.whl (138 kB)\n",
            "\u001b[2K     \u001b[90m━━━━━━━━━━━━━━━━━━━━━━━━━━━━━━━━━━━━━━━━\u001b[0m \u001b[32m138.5/138.5 kB\u001b[0m \u001b[31m2.3 MB/s\u001b[0m eta \u001b[36m0:00:00\u001b[0m\n",
            "\u001b[?25hCollecting pandas (from llama-index-core<0.11.0,>=0.10.20->llama-index)\n",
            "  Downloading pandas-2.2.1-cp310-cp310-manylinux_2_17_x86_64.manylinux2014_x86_64.whl (13.0 MB)\n",
            "\u001b[2K     \u001b[90m━━━━━━━━━━━━━━━━━━━━━━━━━━━━━━━━━━━━━━━━\u001b[0m \u001b[32m13.0/13.0 MB\u001b[0m \u001b[31m2.6 MB/s\u001b[0m eta \u001b[36m0:00:00\u001b[0m\n",
            "\u001b[?25hCollecting pyarrow<16.0.0,>=15.0.0 (from mistralai>=0.1.3->llama-index-embeddings-mistralai)\n",
            "  Downloading pyarrow-15.0.2-cp310-cp310-manylinux_2_28_x86_64.whl (38.3 MB)\n",
            "\u001b[2K     \u001b[90m━━━━━━━━━━━━━━━━━━━━━━━━━━━━━━━━━━━━━━━━\u001b[0m \u001b[32m38.3/38.3 MB\u001b[0m \u001b[31m4.2 MB/s\u001b[0m eta \u001b[36m0:00:00\u001b[0m\n",
            "\u001b[?25hRequirement already satisfied: pydantic<3.0.0,>=2.5.2 in /usr/local/lib/python3.10/dist-packages (from mistralai>=0.1.3->llama-index-embeddings-mistralai) (2.6.4)\n",
            "Requirement already satisfied: charset-normalizer<4,>=2 in /usr/local/lib/python3.10/dist-packages (from requests->transformers==4.38.2) (3.3.2)\n",
            "Requirement already satisfied: idna<4,>=2.5 in /usr/local/lib/python3.10/dist-packages (from requests->transformers==4.38.2) (3.6)\n",
            "Requirement already satisfied: urllib3<3,>=1.21.1 in /usr/local/lib/python3.10/dist-packages (from requests->transformers==4.38.2) (2.0.7)\n",
            "Requirement already satisfied: certifi>=2017.4.17 in /usr/local/lib/python3.10/dist-packages (from requests->transformers==4.38.2) (2024.2.2)\n",
            "Requirement already satisfied: MarkupSafe>=2.0 in /usr/local/lib/python3.10/dist-packages (from jinja2->torch==2.2.1) (2.1.5)\n",
            "Requirement already satisfied: mpmath>=0.19 in /usr/local/lib/python3.10/dist-packages (from sympy->torch==2.2.1) (1.3.0)\n",
            "Requirement already satisfied: aiosignal>=1.1.2 in /usr/local/lib/python3.10/dist-packages (from aiohttp<4.0.0,>=3.8.6->llama-index-core<0.11.0,>=0.10.20->llama-index) (1.3.1)\n",
            "Requirement already satisfied: attrs>=17.3.0 in /usr/local/lib/python3.10/dist-packages (from aiohttp<4.0.0,>=3.8.6->llama-index-core<0.11.0,>=0.10.20->llama-index) (23.2.0)\n",
            "Requirement already satisfied: frozenlist>=1.1.1 in /usr/local/lib/python3.10/dist-packages (from aiohttp<4.0.0,>=3.8.6->llama-index-core<0.11.0,>=0.10.20->llama-index) (1.4.1)\n",
            "Requirement already satisfied: multidict<7.0,>=4.5 in /usr/local/lib/python3.10/dist-packages (from aiohttp<4.0.0,>=3.8.6->llama-index-core<0.11.0,>=0.10.20->llama-index) (6.0.5)\n",
            "Requirement already satisfied: yarl<2.0,>=1.0 in /usr/local/lib/python3.10/dist-packages (from aiohttp<4.0.0,>=3.8.6->llama-index-core<0.11.0,>=0.10.20->llama-index) (1.9.4)\n",
            "Requirement already satisfied: async-timeout<5.0,>=4.0 in /usr/local/lib/python3.10/dist-packages (from aiohttp<4.0.0,>=3.8.6->llama-index-core<0.11.0,>=0.10.20->llama-index) (4.0.3)\n",
            "Requirement already satisfied: soupsieve>1.2 in /usr/local/lib/python3.10/dist-packages (from beautifulsoup4<5.0.0,>=4.12.3->llama-index-readers-file<0.2.0,>=0.1.4->llama-index) (2.5)\n",
            "Requirement already satisfied: wrapt<2,>=1.10 in /usr/local/lib/python3.10/dist-packages (from deprecated>=1.2.9.3->llama-index-core<0.11.0,>=0.10.20->llama-index) (1.14.1)\n",
            "Requirement already satisfied: anyio in /usr/local/lib/python3.10/dist-packages (from httpx->llama-index-core<0.11.0,>=0.10.20->llama-index) (3.7.1)\n",
            "Collecting httpcore==1.* (from httpx->llama-index-core<0.11.0,>=0.10.20->llama-index)\n",
            "  Downloading httpcore-1.0.4-py3-none-any.whl (77 kB)\n",
            "\u001b[2K     \u001b[90m━━━━━━━━━━━━━━━━━━━━━━━━━━━━━━━━━━━━━━━━\u001b[0m \u001b[32m77.8/77.8 kB\u001b[0m \u001b[31m4.9 MB/s\u001b[0m eta \u001b[36m0:00:00\u001b[0m\n",
            "\u001b[?25hRequirement already satisfied: sniffio in /usr/local/lib/python3.10/dist-packages (from httpx->llama-index-core<0.11.0,>=0.10.20->llama-index) (1.3.1)\n",
            "Collecting h11<0.15,>=0.13 (from httpcore==1.*->httpx->llama-index-core<0.11.0,>=0.10.20->llama-index)\n",
            "  Downloading h11-0.14.0-py3-none-any.whl (58 kB)\n",
            "\u001b[2K     \u001b[90m━━━━━━━━━━━━━━━━━━━━━━━━━━━━━━━━━━━━━━━━\u001b[0m \u001b[32m58.3/58.3 kB\u001b[0m \u001b[31m4.2 MB/s\u001b[0m eta \u001b[36m0:00:00\u001b[0m\n",
            "\u001b[?25hRequirement already satisfied: click in /usr/local/lib/python3.10/dist-packages (from nltk<4.0.0,>=3.8.1->llama-index-core<0.11.0,>=0.10.20->llama-index) (8.1.7)\n",
            "Requirement already satisfied: joblib in /usr/local/lib/python3.10/dist-packages (from nltk<4.0.0,>=3.8.1->llama-index-core<0.11.0,>=0.10.20->llama-index) (1.3.2)\n",
            "Requirement already satisfied: distro<2,>=1.7.0 in /usr/lib/python3/dist-packages (from openai>=1.1.0->llama-index-core<0.11.0,>=0.10.20->llama-index) (1.7.0)\n",
            "Requirement already satisfied: python-dateutil>=2.8.2 in /usr/local/lib/python3.10/dist-packages (from pandas->llama-index-core<0.11.0,>=0.10.20->llama-index) (2.8.2)\n",
            "Requirement already satisfied: pytz>=2020.1 in /usr/local/lib/python3.10/dist-packages (from pandas->llama-index-core<0.11.0,>=0.10.20->llama-index) (2023.4)\n",
            "Collecting tzdata>=2022.7 (from pandas->llama-index-core<0.11.0,>=0.10.20->llama-index)\n",
            "  Downloading tzdata-2024.1-py2.py3-none-any.whl (345 kB)\n",
            "\u001b[2K     \u001b[90m━━━━━━━━━━━━━━━━━━━━━━━━━━━━━━━━━━━━━━━━\u001b[0m \u001b[32m345.4/345.4 kB\u001b[0m \u001b[31m5.1 MB/s\u001b[0m eta \u001b[36m0:00:00\u001b[0m\n",
            "\u001b[?25hRequirement already satisfied: annotated-types>=0.4.0 in /usr/local/lib/python3.10/dist-packages (from pydantic<3.0.0,>=2.5.2->mistralai>=0.1.3->llama-index-embeddings-mistralai) (0.6.0)\n",
            "Requirement already satisfied: pydantic-core==2.16.3 in /usr/local/lib/python3.10/dist-packages (from pydantic<3.0.0,>=2.5.2->mistralai>=0.1.3->llama-index-embeddings-mistralai) (2.16.3)\n",
            "Collecting PyMuPDFb==1.23.22 (from pymupdf<2.0.0,>=1.23.21->llama-index-readers-file<0.2.0,>=0.1.4->llama-index)\n",
            "  Downloading PyMuPDFb-1.23.22-py3-none-manylinux2014_x86_64.manylinux_2_17_x86_64.whl (30.6 MB)\n",
            "\u001b[2K     \u001b[90m━━━━━━━━━━━━━━━━━━━━━━━━━━━━━━━━━━━━━━━━\u001b[0m \u001b[32m30.6/30.6 MB\u001b[0m \u001b[31m2.9 MB/s\u001b[0m eta \u001b[36m0:00:00\u001b[0m\n",
            "\u001b[?25hRequirement already satisfied: greenlet!=0.4.17 in /usr/local/lib/python3.10/dist-packages (from SQLAlchemy[asyncio]>=1.4.49->llama-index-core<0.11.0,>=0.10.20->llama-index) (3.0.3)\n",
            "Collecting mypy-extensions>=0.3.0 (from typing-inspect>=0.8.0->llama-index-core<0.11.0,>=0.10.20->llama-index)\n",
            "  Downloading mypy_extensions-1.0.0-py3-none-any.whl (4.7 kB)\n",
            "Collecting marshmallow<4.0.0,>=3.18.0 (from dataclasses-json->llama-index-core<0.11.0,>=0.10.20->llama-index)\n",
            "  Downloading marshmallow-3.21.1-py3-none-any.whl (49 kB)\n",
            "\u001b[2K     \u001b[90m━━━━━━━━━━━━━━━━━━━━━━━━━━━━━━━━━━━━━━━━\u001b[0m \u001b[32m49.4/49.4 kB\u001b[0m \u001b[31m681.9 kB/s\u001b[0m eta \u001b[36m0:00:00\u001b[0m\n",
            "\u001b[?25hRequirement already satisfied: exceptiongroup in /usr/local/lib/python3.10/dist-packages (from anyio->httpx->llama-index-core<0.11.0,>=0.10.20->llama-index) (1.2.0)\n",
            "Requirement already satisfied: six>=1.5 in /usr/local/lib/python3.10/dist-packages (from python-dateutil>=2.8.2->pandas->llama-index-core<0.11.0,>=0.10.20->llama-index) (1.16.0)\n",
            "Installing collected packages: striprtf, dirtyjson, tzdata, pypdf, PyMuPDFb, pyarrow, orjson, nvidia-nvtx-cu12, nvidia-nvjitlink-cu12, nvidia-nccl-cu12, nvidia-curand-cu12, nvidia-cufft-cu12, nvidia-cuda-runtime-cu12, nvidia-cuda-nvrtc-cu12, nvidia-cuda-cupti-cu12, nvidia-cublas-cu12, mypy-extensions, marshmallow, h11, dnspython, deprecated, typing-inspect, tiktoken, pymupdf, pymongo, pandas, nvidia-cusparse-cu12, nvidia-cudnn-cu12, httpcore, bs4, nvidia-cusolver-cu12, httpx, dataclasses-json, openai, mistralai, llamaindex-py-client, llama-index-legacy, llama-index-core, llama-parse, llama-index-vector-stores-mongodb, llama-index-readers-file, llama-index-llms-openai, llama-index-llms-mistralai, llama-index-indices-managed-llama-cloud, llama-index-embeddings-openai, llama-index-embeddings-mistralai, llama-index-readers-llama-parse, llama-index-multi-modal-llms-openai, llama-index-cli, llama-index-agent-openai, llama-index-program-openai, llama-index-question-gen-openai, llama-index\n",
            "  Attempting uninstall: pyarrow\n",
            "    Found existing installation: pyarrow 14.0.2\n",
            "    Uninstalling pyarrow-14.0.2:\n",
            "      Successfully uninstalled pyarrow-14.0.2\n",
            "  Attempting uninstall: pandas\n",
            "    Found existing installation: pandas 1.5.3\n",
            "    Uninstalling pandas-1.5.3:\n",
            "      Successfully uninstalled pandas-1.5.3\n",
            "\u001b[31mERROR: pip's dependency resolver does not currently take into account all the packages that are installed. This behaviour is the source of the following dependency conflicts.\n",
            "bigframes 0.25.0 requires pandas<2.1.4,>=1.5.0, but you have pandas 2.2.1 which is incompatible.\n",
            "google-colab 1.0.0 requires pandas==1.5.3, but you have pandas 2.2.1 which is incompatible.\u001b[0m\u001b[31m\n",
            "\u001b[0mSuccessfully installed PyMuPDFb-1.23.22 bs4-0.0.2 dataclasses-json-0.6.4 deprecated-1.2.14 dirtyjson-1.0.8 dnspython-2.6.1 h11-0.14.0 httpcore-1.0.4 httpx-0.25.2 llama-index-0.10.20 llama-index-agent-openai-0.1.6 llama-index-cli-0.1.11 llama-index-core-0.10.21.post1 llama-index-embeddings-mistralai-0.1.4 llama-index-embeddings-openai-0.1.7 llama-index-indices-managed-llama-cloud-0.1.4 llama-index-legacy-0.9.48 llama-index-llms-mistralai-0.1.7 llama-index-llms-openai-0.1.12 llama-index-multi-modal-llms-openai-0.1.4 llama-index-program-openai-0.1.4 llama-index-question-gen-openai-0.1.3 llama-index-readers-file-0.1.11 llama-index-readers-llama-parse-0.1.3 llama-index-vector-stores-mongodb-0.1.4 llama-parse-0.3.9 llamaindex-py-client-0.1.13 marshmallow-3.21.1 mistralai-0.1.6 mypy-extensions-1.0.0 nvidia-cublas-cu12-12.1.3.1 nvidia-cuda-cupti-cu12-12.1.105 nvidia-cuda-nvrtc-cu12-12.1.105 nvidia-cuda-runtime-cu12-12.1.105 nvidia-cudnn-cu12-8.9.2.26 nvidia-cufft-cu12-11.0.2.54 nvidia-curand-cu12-10.3.2.106 nvidia-cusolver-cu12-11.4.5.107 nvidia-cusparse-cu12-12.1.0.106 nvidia-nccl-cu12-2.19.3 nvidia-nvjitlink-cu12-12.4.99 nvidia-nvtx-cu12-12.1.105 openai-1.14.2 orjson-3.9.15 pandas-2.2.1 pyarrow-15.0.2 pymongo-4.6.2 pymupdf-1.23.26 pypdf-4.1.0 striprtf-0.0.26 tiktoken-0.6.0 typing-inspect-0.9.0 tzdata-2024.1\n"
          ]
        }
      ],
      "source": [
        "if MY_CONFIG.RUNNING_IN_COLAB:\n",
        "    !pip install \\\n",
        "                pymongo==4.6.2 \\\n",
        "                llama-index \\\n",
        "                llama-index-embeddings-mistralai \\\n",
        "                llama-index-llms-mistralai \\\n",
        "                llama-index-vector-stores-mongodb \\\n",
        "                transformers==4.38.2 \\\n",
        "                torch==2.2.1"
      ]
    },
    {
      "cell_type": "markdown",
      "metadata": {
        "id": "sPAdHF6-TxB9"
      },
      "source": [
        "## Step-6: Basic Setup"
      ]
    },
    {
      "cell_type": "markdown",
      "metadata": {
        "id": "Lr7iMIRbchXG"
      },
      "source": [
        "### 6.1 - Check if we have GPU"
      ]
    },
    {
      "cell_type": "code",
      "execution_count": 4,
      "metadata": {
        "colab": {
          "base_uri": "https://localhost:8080/"
        },
        "id": "LC7YZN-6TxB9",
        "outputId": "21cf8bb0-2b40-43a2-fd06-c9c0b4f79743"
      },
      "outputs": [
        {
          "name": "stdout",
          "output_type": "stream",
          "text": [
            "using CUDA/GPU:  False\n"
          ]
        }
      ],
      "source": [
        "## Check if GPU is enabled\n",
        "import os\n",
        "import torch\n",
        "\n",
        "## To disable GPU and experiment, uncomment the following line\n",
        "## Normally, you would want to use GPU, if one is available.\n",
        "# os.environ[\"CUDA_VISIBLE_DEVICES\"]=\"\"\n",
        "\n",
        "print (\"using CUDA/GPU: \", torch.cuda.is_available())\n",
        "\n",
        "for i in range(torch.cuda.device_count()):\n",
        "   print(\"device \", i , torch.cuda.get_device_properties(i).name)"
      ]
    },
    {
      "cell_type": "markdown",
      "metadata": {
        "id": "wzVQ6O5qclhV"
      },
      "source": [
        "### 6.2 - Logging"
      ]
    },
    {
      "cell_type": "code",
      "execution_count": 5,
      "metadata": {
        "id": "GNfn9TeHTxB_"
      },
      "outputs": [],
      "source": [
        "## Setup logging.  To see more loging set the level to DEBUG\n",
        "\n",
        "import sys\n",
        "import logging\n",
        "\n",
        "# logging.basicConfig(stream=sys.stdout, level=logging.DEBUG)\n",
        "logging.basicConfig(stream=sys.stdout, level=logging.WARNING)\n",
        "logging.getLogger().addHandler(logging.StreamHandler(stream=sys.stdout))"
      ]
    },
    {
      "cell_type": "markdown",
      "metadata": {
        "id": "4Mgy9rGaTxB_"
      },
      "source": [
        "## Step-7: Load Configurations"
      ]
    },
    {
      "cell_type": "code",
      "execution_count": 6,
      "metadata": {
        "colab": {
          "base_uri": "https://localhost:8080/"
        },
        "id": "bo7jEvBfTxB_",
        "outputId": "4773b051-05a7-4e4d-8b7a-30014a7a8c4e"
      },
      "outputs": [
        {
          "name": "stdout",
          "output_type": "stream",
          "text": [
            "✅ config ATLAS_URI found\n",
            "✅ config MISTRAL_API_KEY found\n"
          ]
        }
      ],
      "source": [
        "## Load settings based on where we are running\n",
        "##  - if runninning on google Colab, load from secrets\n",
        "##  - if running locally use dotenv\n",
        "\n",
        "if MY_CONFIG.RUNNING_IN_COLAB:\n",
        "    from google.colab import userdata\n",
        "    MY_CONFIG.ATLAS_URI = userdata.get('ATLAS_URI')\n",
        "    MY_CONFIG.MISTRAL_API_KEY = userdata.get('MISTRAL_API_KEY')\n",
        "    # MY_CONFIG.OPENAI_API_KEY = userdata.get('OPENAI_API_KEY')\n",
        "else:\n",
        "    import os, sys\n",
        "    from dotenv import find_dotenv, dotenv_values\n",
        "\n",
        "    this_dir = os.path.abspath('')\n",
        "    parent_dir = os.path.dirname(this_dir)\n",
        "    sys.path.append (os.path.abspath (parent_dir))\n",
        "\n",
        "    config = dotenv_values(find_dotenv())\n",
        "    # debug\n",
        "    # print (config)\n",
        "    MY_CONFIG.ATLAS_URI = config.get('ATLAS_URI')\n",
        "    MY_CONFIG.MISTRAL_API_KEY = config.get(\"MISTRAL_API_KEY\")\n",
        "## --- end load config\n",
        "\n",
        "## If you just want to quickly set the config manually, you can do so here.\n",
        "# MY_CONFIG.ATLAS_URI = ''\n",
        "# MY_CONFIG.MISTRAL_API_KEY = ''\n",
        "\n",
        "if  MY_CONFIG.ATLAS_URI:\n",
        "    print (\"✅ config ATLAS_URI found\")\n",
        "else:\n",
        "    raise Exception (\"'❌ ATLAS_URI' is not set.  Please set it above to continue...\")\n",
        "\n",
        "\n",
        "if MY_CONFIG.MISTRAL_API_KEY:\n",
        "   print (\"✅ config MISTRAL_API_KEY found\")\n",
        "else:\n",
        "    raise Exception (\"❌'MISTRAL_API_KEY' is not set.  Please set it above to continue...\")"
      ]
    },
    {
      "cell_type": "markdown",
      "metadata": {
        "id": "VloMT8vzd0Va"
      },
      "source": [
        "## Step-8: Initialize Atlas Client\n",
        "\n",
        "If this step fails, make sure 'connect from anywhere' is enabled on your Atlas network configuration\n",
        "\n",
        "![](https://raw.githubusercontent.com/sujee/mongodb-atlas-vector-search/main/images/atlas-connect-2.png)"
      ]
    },
    {
      "cell_type": "code",
      "execution_count": 7,
      "metadata": {
        "colab": {
          "base_uri": "https://localhost:8080/"
        },
        "id": "AmlSpDuqTxCA",
        "outputId": "f430c62d-717c-4edb-a5f2-67d621f49797"
      },
      "outputs": [
        {
          "name": "stdout",
          "output_type": "stream",
          "text": [
            "✅ Connected to Atlas instance!\n"
          ]
        }
      ],
      "source": [
        "import pymongo\n",
        "\n",
        "mongodb_client = pymongo.MongoClient(MY_CONFIG.ATLAS_URI)\n",
        "print ('✅ Connected to Atlas instance!')"
      ]
    },
    {
      "cell_type": "markdown",
      "metadata": {
        "id": "DbouzkPQTxCA"
      },
      "source": [
        "## Step-9 : Setup Embeddings Model\n",
        "\n",
        "We will use Mistral embedding"
      ]
    },
    {
      "cell_type": "code",
      "execution_count": 8,
      "metadata": {
        "id": "ENDJmHNATxCB"
      },
      "outputs": [],
      "source": [
        "from llama_index.embeddings.mistralai import MistralAIEmbedding\n",
        "from llama_index.core import Settings\n",
        "\n",
        "Settings.embed_model = MistralAIEmbedding(model_name='mistral-embed', api_key=MY_CONFIG.MISTRAL_API_KEY)"
      ]
    },
    {
      "cell_type": "code",
      "execution_count": 9,
      "metadata": {
        "colab": {
          "base_uri": "https://localhost:8080/"
        },
        "id": "MZbLCFdUeUoV",
        "outputId": "9d744740-ed1f-47ff-bb08-ecd83f554537"
      },
      "outputs": [
        {
          "name": "stdout",
          "output_type": "stream",
          "text": [
            "embedding len :  1024\n",
            "first few embeddings :  [-0.0299224853515625, -0.0028362274169921875, 0.0282745361328125, -0.034759521484375, -0.0017366409301757812, 0.0112762451171875, 0.0022411346435546875, -0.018829345703125, -0.0160064697265625, -0.010955810546875]\n"
          ]
        }
      ],
      "source": [
        "## testing\n",
        "embeddings = Settings.embed_model.get_text_embedding(\"La Plateforme - The Platform\")\n",
        "print ('embedding len : ', len(embeddings))\n",
        "print ('first few embeddings : ', embeddings[:10])"
      ]
    },
    {
      "cell_type": "markdown",
      "metadata": {
        "id": "vBlinZDWejzP"
      },
      "source": [
        "## Step-10: Setup LLM\n",
        "\n",
        "Our LLM of choice is Mistral"
      ]
    },
    {
      "cell_type": "code",
      "execution_count": 10,
      "metadata": {
        "id": "Uz2oD15pen21"
      },
      "outputs": [],
      "source": [
        "from llama_index.llms.mistralai import MistralAI\n",
        "from llama_index.core import Settings\n",
        "\n",
        "llm = MistralAI(model=\"mistral-large-latest\", temperature=0.1, api_key=MY_CONFIG.MISTRAL_API_KEY)\n",
        "\n",
        "Settings.llm = llm"
      ]
    },
    {
      "cell_type": "code",
      "execution_count": 11,
      "metadata": {
        "colab": {
          "base_uri": "https://localhost:8080/"
        },
        "id": "C56QJtLCfZDT",
        "outputId": "a7f90dcf-bb0f-4249-b033-8fe97bb44e01"
      },
      "outputs": [
        {
          "name": "stdout",
          "output_type": "stream",
          "text": [
            "The capital of the United States is Washington, D.C. It was founded in 1790 and is located on the east coast of the country, between the states of Maryland and Virginia. The city is named after George Washington, the first president of the United States. It is known for its iconic landmarks, such as the White House, the Capitol Building, and the Lincoln Memorial, as well as its many museums and cultural institutions.\n"
          ]
        }
      ],
      "source": [
        "## Testing\n",
        "resp = llm.complete(\"The capital of the United States is \")\n",
        "print (resp)"
      ]
    },
    {
      "cell_type": "code",
      "execution_count": 11,
      "metadata": {
        "id": "_q-paoFhfGsl"
      },
      "outputs": [],
      "source": []
    },
    {
      "cell_type": "markdown",
      "metadata": {
        "id": "ug5vwMnOTxCB"
      },
      "source": [
        "## Step-11: Connect Illama-Index and MongoDB Atlas\n",
        "\n",
        "Let's define MongoDB Atlas as our vector storage. This is critical to stored indexed data and then query"
      ]
    },
    {
      "cell_type": "code",
      "execution_count": 12,
      "metadata": {
        "id": "ard50bRGhHkW"
      },
      "outputs": [],
      "source": [
        "from llama_index.vector_stores.mongodb import MongoDBAtlasVectorSearch\n",
        "from llama_index.core import StorageContext\n",
        "from llama_index.core import VectorStoreIndex\n",
        "\n",
        "\n",
        "vector_store = MongoDBAtlasVectorSearch(mongodb_client = mongodb_client,\n",
        "                                        db_name = MY_CONFIG.DB_NAME,\n",
        "                                        collection_name = MY_CONFIG.COLLECTION_NAME,\n",
        "                                        index_name  = MY_CONFIG.INDEX_NAME,\n",
        "                                        embedding_key = MY_CONFIG.EMBEDDING_ATTRIBUTE,\n",
        "                                        ## the following columns are set to default values\n",
        "                                       # text_key = 'text', metadata_= 'metadata',\n",
        "                                 )\n",
        "storage_context = StorageContext.from_defaults(vector_store=vector_store)\n",
        "\n",
        "index = VectorStoreIndex.from_vector_store(vector_store=vector_store, storage_context=storage_context)"
      ]
    },
    {
      "cell_type": "markdown",
      "metadata": {
        "id": "UY-mzO11TxCB"
      },
      "source": [
        "## Step-12: Query Data / Ask Questions\n",
        "\n",
        "Now that we have every thing setup, let's ask some questions\n",
        "\n",
        "These are the PDF documents we have loaded into Atlas, you can download them and inspect them.\n",
        "\n",
        "- [10k/lyft_2021.pdf](https://raw.githubusercontent.com/sujee/mongodb-atlas-vector-search/main/data/10k/lyft_2021.pdf)\n",
        "- [10k/uber_2021.pdf](https://raw.githubusercontent.com/sujee/mongodb-atlas-vector-search/main/data/10k/uber_2021.pdf)"
      ]
    },
    {
      "cell_type": "code",
      "execution_count": 13,
      "metadata": {
        "colab": {
          "base_uri": "https://localhost:8080/"
        },
        "id": "kyPsv-pZTxCB",
        "outputId": "d6ea7a58-1202-47fa-eda3-58a35e0fe7fc"
      },
      "outputs": [
        {
          "name": "stdout",
          "output_type": "stream",
          "text": [
            "Uber's total revenue for the year ended December 31, 2021, was $17,455 million. This revenue is disaggregated into various offerings and geographical regions. The main components of the revenue are Mobility revenue, Delivery revenue, Freight revenue, and All Other revenue.\n",
            "\n",
            "In terms of offerings, Mobility revenue was $6,953 million, Delivery revenue was $8,362 million, Freight revenue was $2,132 million, and All Other revenue was $8 million for the year ended December 31, 2021.\n",
            "\n",
            "Geographically, the revenue for the United States and Canada was $10,094 million, Latin America (\"LatAm\") was $1,417 million, Europe, Middle East and Africa (\"EMEA\") was $3,213 million, and Asia Pacific (\"APAC\") was $2,731 million for the same period.\n",
            "\n",
            "Response(response=\"Uber's total revenue for the year ended December 31, 2021, \"\n",
            "                  'was $17,455 million. This revenue is disaggregated into '\n",
            "                  'various offerings and geographical regions. The main '\n",
            "                  'components of the revenue are Mobility revenue, Delivery '\n",
            "                  'revenue, Freight revenue, and All Other revenue.\\n'\n",
            "                  '\\n'\n",
            "                  'In terms of offerings, Mobility revenue was $6,953 million, '\n",
            "                  'Delivery revenue was $8,362 million, Freight revenue was '\n",
            "                  '$2,132 million, and All Other revenue was $8 million for '\n",
            "                  'the year ended December 31, 2021.\\n'\n",
            "                  '\\n'\n",
            "                  'Geographically, the revenue for the United States and '\n",
            "                  'Canada was $10,094 million, Latin America (\"LatAm\") was '\n",
            "                  '$1,417 million, Europe, Middle East and Africa (\"EMEA\") was '\n",
            "                  '$3,213 million, and Asia Pacific (\"APAC\") was $2,731 '\n",
            "                  'million for the same period.',\n",
            "         source_nodes=[   NodeWithScore(node=TextNode(id_='f8610cd1-91c9-46cf-ad4e-a4c10f353696', embedding=None, metadata={'page_label': '98', 'file_name': 'uber_2021.pdf', 'file_path': '/content/data/10k/uber_2021.pdf', 'file_type': 'application/pdf', 'file_size': 1880483, 'creation_date': '2024-03-20', 'last_modified_date': '2024-03-20'}, excluded_embed_metadata_keys=['file_name', 'file_type', 'file_size', 'creation_date', 'last_modified_date', 'last_accessed_date'], excluded_llm_metadata_keys=['file_name', 'file_type', 'file_size', 'creation_date', 'last_modified_date', 'last_accessed_date'], relationships={<NodeRelationship.SOURCE: '1'>: RelatedNodeInfo(node_id='48a35fd9-7c5d-4734-a3ad-fb40be0268c1', node_type=<ObjectType.DOCUMENT: '4'>, metadata={'page_label': '98', 'file_name': 'uber_2021.pdf', 'file_path': '/content/data/10k/uber_2021.pdf', 'file_type': 'application/pdf', 'file_size': 1880483, 'creation_date': '2024-03-20', 'last_modified_date': '2024-03-20'}, hash='c432e13af6e930ebe4e20b7fb8c1ce353c349ace7da76705ab506af9a42725da'), <NodeRelationship.PREVIOUS: '2'>: RelatedNodeInfo(node_id='df73ba39-2925-4a54-a4fc-bd4b59d26e1e', node_type=<ObjectType.TEXT: '1'>, metadata={'page_label': '97', 'file_name': 'uber_2021.pdf', 'file_path': '/content/data/10k/uber_2021.pdf', 'file_type': 'application/pdf', 'file_size': 1880483, 'creation_date': '2024-03-20', 'last_modified_date': '2024-03-20'}, hash='49de120a67903632be130755d42056b689199718fe0334307d5564d26de1511b'), <NodeRelationship.NEXT: '3'>: RelatedNodeInfo(node_id='64629683-157a-477f-91a9-3230e73b9695', node_type=<ObjectType.TEXT: '1'>, metadata={}, hash='dcd587e68cf25c5aea109c9985a341f6800db75fac8ff3f6629e3b6fb21d848c')}, text='Note 2 – RevenueThe\\n following  tables  present  our  revenues  disaggregated  by  offering  and  geographical  region.  Revenue  by  geographical  region  is  based  on  where  thetransaction\\n occurred. This level of disaggregation takes into consideration how the nature, amount, timing, and uncertainty of revenue and cash flows are affectedby economic factors. Revenue \\nis presented in the following tables for the years ended December 31, 2019, 2020 and 2021, respectively (in millions):Year Ended December 31,\\n2019\\n2020 2021 Mobility revenue \\n$ 10,707 $ 6,089 $ 6,953 Delivery revenue \\n1,401 3,904 8,362 Freight revenue\\n731 1,011 2,132 All Other revenue\\n161 135 8 Total revenue\\n$ 13,000 $ 11,139 $ 17,455  We\\n offer subscription memberships to end-users including Uber One, Uber Pass, Rides Pass, and Eats Pass (“Subscription”). We recognize Subscriptionfees\\n ratably over the life of the pass. We allocate Subscription fees earned to Mobility and Delivery revenue on a proportional basis, based on usage for eachoffering during the respe\\nctive period.Year Ended December 31,\\n2019\\n2020 2021 United States and Canada\\n$ 8,465 $ 6,611 $ 10,094 Latin America (\"LatAm\")\\n1,862 1,295 1,417 Europe, Middle East and Africa \\n(\"EMEA\")1,852 2,086 3,213 Asia Pacific (\"APAC\")\\n821 1,147 2,731 Total revenue\\n$ 13,000 $ 11,139 $ 17,455 Revenue\\nMobility Revenue\\nWe derive\\n revenue primarily from fees paid by Mobility Drivers for the use of our platform(s) and related services to facilitate and complete Mobility servicesand,\\n in certain markets, revenue from fees paid by end-users for connection services obtained via the platform. Mobility revenue also includes immaterial revenuestreams\\n such as our financial partnerships products and Vehicle Solutions. Vehicle Solutions revenue is accounted for as an operating lease as defined under ASC842.\\nDelivery Revenue\\nWe\\n derive  revenue  for  Delivery  from  Merchants’  and  Couriers’  use  of  the  Delivery  platform  and  related  service  to  facilitate  and  complete  Deliverytransactions. Additionally,\\n in certain markets where we are responsible for delivery services, delivery fees charged to end-users are also included in revenue, whilepayments\\n to Couriers in exchange for delivery services are recognized in cost of revenue. Delivery also includes advertising revenue from sponsored listing feespaid by merchants and brands in \\nexchange for advertising services.Freight Revenue\\nFreight\\n revenue consists of revenue from freight transportation services provided to shippers. During the fourth quarter of 2021, we completed the acquisitionof\\n Transplace, and our Freight revenue also includes revenue from transportation management. Refer to Note 18 – Business Combinations for further informationon the Transplace acquisi\\ntion.All Other Revenue\\nAll Other revenue primar\\nily includes collaboration revenue related to our ATG business and revenue from our New Mobility offerings and products.ATG\\n collaboration revenue was related to a three-year joint collaboration agreement we entered into in 2019. During the first quarter of 2021, we completedthe sale of Apparate USA LLC (“Apparate\\n” or the “ATG Business”) to Aurora Innovation, Inc. (“Aurora”). Refer to Note 19 – Divestitures for further information.New\\n Mobility offerings and products provided users access to rides through a variety of modes, including dockless e-bikes and e-scooters (“New Mobility”),platform\\n incubator group offerings and other immaterial revenue streams. New Mobility revenue is accounted for as an operating lease as defined under ASC 842.After the JUMP divestiture during \\nthe second quarter of 2020, revenue from New Mobility products, including dockless e-bikes, was no longer material.(1)(1)\\n(1)\\n96', start_char_idx=0, end_char_idx=3736, text_template='{metadata_str}\\n\\n{content}', metadata_template='{key}: {value}', metadata_seperator='\\n'), score=0.9177227020263672)],\n",
            "         metadata={   'f8610cd1-91c9-46cf-ad4e-a4c10f353696': {   'creation_date': '2024-03-20',\n",
            "                                                                  'file_name': 'uber_2021.pdf',\n",
            "                                                                  'file_path': '/content/data/10k/uber_2021.pdf',\n",
            "                                                                  'file_size': 1880483,\n",
            "                                                                  'file_type': 'application/pdf',\n",
            "                                                                  'last_modified_date': '2024-03-20',\n",
            "                                                                  'page_label': '98'}})\n",
            "CPU times: user 198 ms, sys: 12.6 ms, total: 211 ms\n",
            "Wall time: 7.44 s\n"
          ]
        }
      ],
      "source": [
        "%%time\n",
        "\n",
        "from IPython.display import Markdown\n",
        "from pprint import pprint\n",
        "\n",
        "response = index.as_query_engine().query(\"What was Uber's revenue?\")\n",
        "print (response)\n",
        "print()\n",
        "pprint(response, indent=4)"
      ]
    },
    {
      "cell_type": "code",
      "execution_count": 15,
      "metadata": {
        "colab": {
          "base_uri": "https://localhost:8080/"
        },
        "id": "2MbPbmegTxCC",
        "outputId": "6748da2b-e442-4d34-b362-b22b35bde466"
      },
      "outputs": [
        {
          "name": "stdout",
          "output_type": "stream",
          "text": [
            "In the year 2020, Lyft generated a revenue of $2,364,681 (in thousands).\n",
            "\n",
            "Response(response='In the year 2020, Lyft generated a revenue of $2,364,681 '\n",
            "                  '(in thousands).',\n",
            "         source_nodes=[   NodeWithScore(node=TextNode(id_='15a3c247-8174-4299-baf6-c11e580ad963', embedding=None, metadata={'page_label': '79', 'file_name': 'lyft_2021.pdf', 'file_path': '/content/data/10k/lyft_2021.pdf', 'file_type': 'application/pdf', 'file_size': 1440303, 'creation_date': '2024-03-20', 'last_modified_date': '2024-03-20'}, excluded_embed_metadata_keys=['file_name', 'file_type', 'file_size', 'creation_date', 'last_modified_date', 'last_accessed_date'], excluded_llm_metadata_keys=['file_name', 'file_type', 'file_size', 'creation_date', 'last_modified_date', 'last_accessed_date'], relationships={<NodeRelationship.SOURCE: '1'>: RelatedNodeInfo(node_id='912b063e-206e-40e6-9f72-81d784462822', node_type=<ObjectType.DOCUMENT: '4'>, metadata={'page_label': '79', 'file_name': 'lyft_2021.pdf', 'file_path': '/content/data/10k/lyft_2021.pdf', 'file_type': 'application/pdf', 'file_size': 1440303, 'creation_date': '2024-03-20', 'last_modified_date': '2024-03-20'}, hash='e3453254f713bb967fb0df5c8568992a83d1757990632751573ae5cff064a8f9'), <NodeRelationship.PREVIOUS: '2'>: RelatedNodeInfo(node_id='88d1d9a4-b0fe-4617-9021-d50ac6129428', node_type=<ObjectType.TEXT: '1'>, metadata={'page_label': '78', 'file_name': 'lyft_2021.pdf', 'file_path': '/content/data/10k/lyft_2021.pdf', 'file_type': 'application/pdf', 'file_size': 1440303, 'creation_date': '2024-03-20', 'last_modified_date': '2024-03-20'}, hash='df30404511e126035c15746ee07d8f5c4ca4ac299cbad271f5636d26f6269de2'), <NodeRelationship.NEXT: '3'>: RelatedNodeInfo(node_id='fa769943-42a6-4369-98cd-8cf1071c5139', node_type=<ObjectType.TEXT: '1'>, metadata={}, hash='8949c39ee85f566ef2203d53cc8e9708d1f4650ef0b85f9b0e1588938150f3ab')}, text='Lyft, Inc.Consolidated Statements of Operations\\n(in thousands, except for per share data\\n) Year Ended December 31,\\n2021\\n2020 2019 Revenue\\n$ 3,208,323 $ 2,364,681 $ 3,615,960 Costs and expenses\\nCost of revenue\\n1,649,532 1,447,516 2,176,469 Operations and support\\n402,233 453,963 636,116 Research and development\\n911,946 909,126 1,505,640 Sales and marketing\\n411,406 416,331 814,122 General and administrative\\n915,638 946,127 1,186,093 Total costs and expenses\\n4,290,755 4,173,063 6,318,440 Loss from operations\\n(1,082,432) (1,808,382) (2,702,480) Interest expense\\n(51,635) (32,678) — Other income, net\\n135,933 43,669 102,595 Loss before income taxes\\n(998,134) (1,797,391) (2,599,885) Provision for (benefit fro\\nm) income taxes11,225 (44,534) 2,356 Net loss\\n$ (1,009,359) $ (1,752,857) $ (2,602,241) Net loss per share, basic and di\\nluted$ (3.02) $ (5.61) $ (11.44) Weighted-average numb\\ner of shares outstanding used to compute net loss per share, basic and diluted334,724 312,175 227,498 Stock-based compensation included in costs and expenses:\\nCost of revenue\\n$ 39,491 $ 28,743 $ 81,321 Operations and support\\n24,083 15,829 75,212 Research and development\\n414,324 325,624 971,941 Sales and marketing\\n38,243 23,385 72,046 General and administrative\\n208,419 172,226 398,791 The accompanying notes are \\nan integral part of these consolidated financial statements.79', start_char_idx=0, end_char_idx=1363, text_template='{metadata_str}\\n\\n{content}', metadata_template='{key}: {value}', metadata_seperator='\\n'), score=0.9037483334541321)],\n",
            "         metadata={   '15a3c247-8174-4299-baf6-c11e580ad963': {   'creation_date': '2024-03-20',\n",
            "                                                                  'file_name': 'lyft_2021.pdf',\n",
            "                                                                  'file_path': '/content/data/10k/lyft_2021.pdf',\n",
            "                                                                  'file_size': 1440303,\n",
            "                                                                  'file_type': 'application/pdf',\n",
            "                                                                  'last_modified_date': '2024-03-20',\n",
            "                                                                  'page_label': '79'}})\n",
            "CPU times: user 53.5 ms, sys: 5.08 ms, total: 58.6 ms\n",
            "Wall time: 1.37 s\n"
          ]
        }
      ],
      "source": [
        "%%time\n",
        "\n",
        "response = index.as_query_engine().query(\"How much money did Lyft make in 2020?\")\n",
        "print (response)\n",
        "print()\n",
        "pprint(response, indent=4)"
      ]
    },
    {
      "cell_type": "code",
      "execution_count": 16,
      "metadata": {
        "colab": {
          "base_uri": "https://localhost:8080/"
        },
        "id": "rrv_m45gTxCC",
        "outputId": "fe3b9b78-3933-4da0-df13-e06f026ceb71"
      },
      "outputs": [
        {
          "name": "stdout",
          "output_type": "stream",
          "text": [
            "The provided context does not include information about Lyft's revenue for the year 2018.\n",
            "\n",
            "Response(response='The provided context does not include information about '\n",
            "                  \"Lyft's revenue for the year 2018.\",\n",
            "         source_nodes=[   NodeWithScore(node=TextNode(id_='f6666ca9-c32f-4bd3-874e-fa36d2b689c6', embedding=None, metadata={'page_label': '58', 'file_name': 'lyft_2021.pdf', 'file_path': '/content/data/10k/lyft_2021.pdf', 'file_type': 'application/pdf', 'file_size': 1440303, 'creation_date': '2024-03-20', 'last_modified_date': '2024-03-20'}, excluded_embed_metadata_keys=['file_name', 'file_type', 'file_size', 'creation_date', 'last_modified_date', 'last_accessed_date'], excluded_llm_metadata_keys=['file_name', 'file_type', 'file_size', 'creation_date', 'last_modified_date', 'last_accessed_date'], relationships={<NodeRelationship.SOURCE: '1'>: RelatedNodeInfo(node_id='d0e48136-308d-4d77-a2b0-47981e5ad086', node_type=<ObjectType.DOCUMENT: '4'>, metadata={'page_label': '58', 'file_name': 'lyft_2021.pdf', 'file_path': '/content/data/10k/lyft_2021.pdf', 'file_type': 'application/pdf', 'file_size': 1440303, 'creation_date': '2024-03-20', 'last_modified_date': '2024-03-20'}, hash='8725970bd39053847b11f0d8daae0238ddd3b8c0bd249020cbe2cdf3c91444db'), <NodeRelationship.PREVIOUS: '2'>: RelatedNodeInfo(node_id='93877f05-d46b-46bf-8402-7c6459792d4e', node_type=<ObjectType.TEXT: '1'>, metadata={'page_label': '57', 'file_name': 'lyft_2021.pdf', 'file_path': '/content/data/10k/lyft_2021.pdf', 'file_type': 'application/pdf', 'file_size': 1440303, 'creation_date': '2024-03-20', 'last_modified_date': '2024-03-20'}, hash='6b648ef0454c2c2617dd5b3e84cd16cc86eaa5e443c305dfc05240d98aa21d9a'), <NodeRelationship.NEXT: '3'>: RelatedNodeInfo(node_id='c15255a1-34f3-4a43-9108-fe4ea6b8e2b4', node_type=<ObjectType.TEXT: '1'>, metadata={}, hash='5d039a8bdbb492ba8cdfaead89eccd791262e9ee34818fc07833fa938b408704')}, text=\"Revenue per Active Rider2021\\n2020 2019 2020 to 2021 %Change\\n2019 to 2020 %Change\\nThree Months Ended March 31\\n$45.13 $45.06 $37.86 0.2% 19.0% Three Months Ended June 30\\n$44.63 $39.06 $39.77 14.3% (1.8)% Three Months Ended September 30\\n$45.63 $39.94 $42.82 14.2% (6.7)% Three Months Ended December 31\\n$51.79 $45.40 $44.40 14.1% 2.3% We define Active Riders as \\nall riders who take at least one ride during a quarter where the Lyft Platform processes the transaction. An Active Rider is identified bya\\n unique phone number. If a rider has two mobile phone numbers or changed their phone number and such rider took rides using both phone numbers during the quarter,that person would count\\n as two Active Riders. If a rider has a personal and business profile tied to the same mobile phone number, that person would be considered a singleActive Rider. If a ride has been requested by an\\n organization using our Concierge offering for the benefit of a rider, we exclude this rider in the calculation of Active Ridersunless the ride is access\\nible in the Lyft App. Revenue per Active Rider is calculated by dividing revenue for a period by Active Riders for the same period.Beginning\\n in the fourth quarter of 2020, some riders were able to access their Concierge rides in the Lyft App if they already had a Lyft account. Accordingly,Lyft\\n updated the definition of Active Riders to include Concierge riders if the rider’s phone number matches that of a verified Lyft account, allowing the rider to accesstheir\\n ride in the Lyft App. This update resulted in a 0.01% increase, or an additional 927 Active Riders in the fourth quarter of 2020. Prior to the fourth quarter of 2020, allConcierge riders were exc\\nluded from the calculation of Active Riders as Concierge rides could not be matched with verified rider accounts.With\\n the exception of the three months ended March 31, 2021 as compared to the three months ended March 31, 2020, Active Riders in each of the three monthperiods\\n ended  June  30,  September  30,  and  December  31,  2021  increased  compared  to  the  same  period  in  2020  as  vaccines  were  more  widely  distributed  and  morecommunities\\n fully reopened. Active Riders in the three months periods ended June 30, September 30, and December 31, 2020 represented significantly lower Active Ridercounts\\n since shelter-in-place orders and other travel restrictions were first implemented across North America in response to the COVID-19 pandemic in March 2020. Theslight decrease in the number of Active Riders in the three months ended \\nDecember 31, 2021 as compared to the three months ended September 30, 2021 was due primarilyto the increasing COVID-19 case counts \\nfrom COVID-19 variants and their impact on demand as well as the seasonality we typically experience in the winter months.Revenue per Active Rider increased in each of the three months period\\ns ended March 31, June 30, September 30, and December 31, 2021 as compared to the sameperiods\\n in  2020,  primarily  reflecting  the  improvement  in  demand  on  our  platform  compared  to  earlier  periods  during  the  COVID-19  pandemic,  which  had  materiallylimited\\n people's mobility and severely reduced Active Riders. Revenue per Active Rider reached an all-time high in the three months ended December 31, 2021, increasingcompared\\n to the three months ended September 30, 2021. This was driven by an increase in ride frequency as well as a shift toward higher revenue rides such as airportrides,\\n reflecting the increased travel experienced in the fourth quarter in 2021 nationwide. Revenue per Active Rider also benefited from revenues from licensing and dataaccess agreements, beg\\ninning in the second quarter of 2021.Critical Accounting Policies and Estimates\\nOur\\n consolidated  financial  statements  and  the  related  notes  thereto  included  elsewhere  in  this  Annual  Report  on  Form  10-K  are  prepared  in  accordance  withGAAP.\", start_char_idx=0, end_char_idx=3934, text_template='{metadata_str}\\n\\n{content}', metadata_template='{key}: {value}', metadata_seperator='\\n'), score=0.8988603353500366)],\n",
            "         metadata={   'f6666ca9-c32f-4bd3-874e-fa36d2b689c6': {   'creation_date': '2024-03-20',\n",
            "                                                                  'file_name': 'lyft_2021.pdf',\n",
            "                                                                  'file_path': '/content/data/10k/lyft_2021.pdf',\n",
            "                                                                  'file_size': 1440303,\n",
            "                                                                  'file_type': 'application/pdf',\n",
            "                                                                  'last_modified_date': '2024-03-20',\n",
            "                                                                  'page_label': '58'}})\n",
            "CPU times: user 44.5 ms, sys: 2.82 ms, total: 47.3 ms\n",
            "Wall time: 1.22 s\n"
          ]
        }
      ],
      "source": [
        "%%time\n",
        "\n",
        "## The answer to this question doesn't exist in the Lyft_10k filing!\n",
        "## Let's see what we get back\n",
        "response = index.as_query_engine().query(\"How much money did Lyft make in 2018?\")\n",
        "print (response)\n",
        "print()\n",
        "pprint(response, indent=4)"
      ]
    },
    {
      "cell_type": "code",
      "execution_count": 17,
      "metadata": {
        "colab": {
          "base_uri": "https://localhost:8080/"
        },
        "id": "JJz4thgWTxCC",
        "outputId": "0227d2de-b5e8-48e1-e211-ca7ec235c935"
      },
      "outputs": [
        {
          "name": "stdout",
          "output_type": "stream",
          "text": [
            "The provided context does not include information about when Uber went IPO.\n",
            "\n",
            "Response(response='The provided context does not include information about '\n",
            "                  'when Uber went IPO.',\n",
            "         source_nodes=[   NodeWithScore(node=TextNode(id_='ff322bb3-f8e8-4c45-b4bd-11c9dc94db51', embedding=None, metadata={'page_label': '6', 'file_name': 'uber_2021.pdf', 'file_path': '/content/data/10k/uber_2021.pdf', 'file_type': 'application/pdf', 'file_size': 1880483, 'creation_date': '2024-03-20', 'last_modified_date': '2024-03-20'}, excluded_embed_metadata_keys=['file_name', 'file_type', 'file_size', 'creation_date', 'last_modified_date', 'last_accessed_date'], excluded_llm_metadata_keys=['file_name', 'file_type', 'file_size', 'creation_date', 'last_modified_date', 'last_accessed_date'], relationships={<NodeRelationship.SOURCE: '1'>: RelatedNodeInfo(node_id='df798d7f-c02f-4782-a1fa-2bad9226597f', node_type=<ObjectType.DOCUMENT: '4'>, metadata={'page_label': '6', 'file_name': 'uber_2021.pdf', 'file_path': '/content/data/10k/uber_2021.pdf', 'file_type': 'application/pdf', 'file_size': 1880483, 'creation_date': '2024-03-20', 'last_modified_date': '2024-03-20'}, hash='837e2a12555c3c18b7f28899ab995f4f8ae3908cf0ca2d3d4313039cac379edd'), <NodeRelationship.PREVIOUS: '2'>: RelatedNodeInfo(node_id='ed0b684f-6d10-413f-af27-999b9f7ee617', node_type=<ObjectType.TEXT: '1'>, metadata={'page_label': '5', 'file_name': 'uber_2021.pdf', 'file_path': '/content/data/10k/uber_2021.pdf', 'file_type': 'application/pdf', 'file_size': 1880483, 'creation_date': '2024-03-20', 'last_modified_date': '2024-03-20'}, hash='4b667ddf1e61e8b01d3b700250253197c30810f84817413c303610318353c578'), <NodeRelationship.NEXT: '3'>: RelatedNodeInfo(node_id='d3546375-7780-43a1-85e2-b57da9ea544e', node_type=<ObjectType.TEXT: '1'>, metadata={}, hash='5c001d1dcf1c152a03b46ee8237e26acfdf7dcdbc20666e3d7201a1b9621bb93')}, text='PART IITEM 1. BUSINESS\\nOverview\\nUber\\n Technologies, Inc. (“Uber,” “we,” “our,” or “us”) is a technology platform that uses a massive network, leading technology, operational excellence andproduct\\n expertise to power movement from point A to point B. We develop and operate proprietary technology applications supporting a variety of offerings onour\\n platform  (“platform(s)”  or  “Platform(s)”).  We  connect  consumers  (“Rider(s)”)  with  independent  providers  of  ride  services  (“Mobility  Driver(s)”)  forridesharing\\n services,  and  connect  Riders  and  other  consumers  (“Eater(s)”)  with  restaurants,  grocers  and  other  stores  (collectively,  “Merchants”)  with  deliveryservice\\n providers  (“Couriers”)  for  meal  preparation,  grocery  and  other  delivery  services.  Riders  and  Eaters  are  collectively  referred  to  as  “end-user(s)”  or“consumer(s).”\\n Mobility Drivers and Couriers are collectively referred to as “Driver(s).” We also connect consumers with public transportation networks. We usethis same network, technology, ope\\nrational excellence and product expertise to connect shippers with carriers in the freight industry.Our\\n technology is available in approximately 72 countries around the world, principally in the United States (“U.S.”) and Canada, Latin America, Europe, theMiddle East, Africa, and Asia (\\nexcluding China and Southeast Asia).Our Segments\\nAs\\n of December 31, 2021, we had three operating and reportable segments: Mobility, Delivery and Freight. Mobility, Delivery and Freight platform offeringseach address large, fr\\nagmented markets.Mobility\\nMobility\\n refers to products that connect consumers with Mobility Drivers who provide rides in a variety of vehicles, such as cars, auto rickshaws, motorbikes,minibuses, or taxis. Mobility \\nalso includes activity related to our financial partnerships offerings.We\\n believe that our ridesharing category position is a key indicator of our progress towards our massive market opportunity. We calculate our ridesharingcategory\\n position based on the best available data within a given region. For example, in most cases we divide our Mobility Gross Bookings by our estimates oftotal\\n ridesharing Gross Bookings generated by us and other companies with similar ridesharing products. We estimate our total ridesharing Gross Bookings in agiven\\n region by utilizing internal source data, including historical trip, bookings, product mix, and fare information, and external source data provided by publiclyavailable information and marketing analytics\\n firms. Based on these estimates, we believe we have a leading ridesharing category position in every major region ofthe\\n world  where  we  operate.  We  also  participate  in  certain  regions  through  our  minority-owned  affiliates.  At  the  time  of  entering  into  such  transactions,  webelieved\\n based on our internal estimates using the information then available to us that each of Didi, Grab and Yandex.Taxi, on a pro forma basis, had the leadingridesharing category po\\nsition in its respective market.Delivery\\nOur\\n Delivery  offering  allows  consumers  to  search  for  and  discover  local  restaurants,  order  a  meal,  and  either  pick-up  at  the  restaurant  or  have  the  mealdelivered\\n and, in certain markets, Delivery also includes offerings for grocery, alcohol and convenience store delivery as well as select other goods. We launchedour\\n Delivery app over six years ago. We believe that Delivery not only leverages, but also increases, the supply of Drivers on our network. For example, Deliveryenables\\n Mobility Drivers to increase their utilization and earnings by accessing additional demand for trips during non-peak Mobility times. Delivery also expandsthe\\n pool of Drivers by enabling people who are not Mobility Drivers or who do not have access to Mobility-qualified vehicles to provide delivery services on ourplatform. In addition to b\\nenefiting Drivers and consumers, Delivery provides Merchants with an instant mobile presence and efficient delivery capability, which webelieve\\n generates incremental demand and improves margins for Merchants by enabling them to serve more consumers without increasing their existing front-of-house expenses.\\nDuring\\n 2021, we completed the acquisition of the remaining 45% ownership interest in Cornershop Cayman (“Cornershop”) in an all-stock transaction. Theacquisition\\n was accounted for as an equity transaction, as we previously controlled and consolidated Cornershop.', start_char_idx=0, end_char_idx=4495, text_template='{metadata_str}\\n\\n{content}', metadata_template='{key}: {value}', metadata_seperator='\\n'), score=0.8916090130805969)],\n",
            "         metadata={   'ff322bb3-f8e8-4c45-b4bd-11c9dc94db51': {   'creation_date': '2024-03-20',\n",
            "                                                                  'file_name': 'uber_2021.pdf',\n",
            "                                                                  'file_path': '/content/data/10k/uber_2021.pdf',\n",
            "                                                                  'file_size': 1880483,\n",
            "                                                                  'file_type': 'application/pdf',\n",
            "                                                                  'last_modified_date': '2024-03-20',\n",
            "                                                                  'page_label': '6'}})\n",
            "CPU times: user 62.3 ms, sys: 2.67 ms, total: 65 ms\n",
            "Wall time: 1.37 s\n"
          ]
        }
      ],
      "source": [
        "%%time\n",
        "\n",
        "response = index.as_query_engine().query(\"When did Uber go IPO?\")\n",
        "print (response)\n",
        "print()\n",
        "pprint(response, indent=4)"
      ]
    },
    {
      "cell_type": "code",
      "execution_count": 18,
      "metadata": {
        "colab": {
          "base_uri": "https://localhost:8080/"
        },
        "id": "5b6ezv1QTxCC",
        "outputId": "20beefea-59f7-4741-a04b-a31ecfc30c18"
      },
      "outputs": [
        {
          "name": "stdout",
          "output_type": "stream",
          "text": [
            "The provided context does not specify the exact amount or details of the stock-based compensation for Lyft. However, it does mention that Lyft incurs stock-based compensation expenses primarily from Restricted Stock Units (RSUs), Performance Stock Units (PSUs), stock options, and Employee Stock Purchase Plan (ESPP) purchase rights. The company estimates the fair value of these stock options and ESPP purchase rights using the Black-Scholes option-pricing model, which considers several variables, including the per-share fair value of the underlying common stock.\n",
            "\n",
            "Response(response='The provided context does not specify the exact amount or '\n",
            "                  'details of the stock-based compensation for Lyft. However, '\n",
            "                  'it does mention that Lyft incurs stock-based compensation '\n",
            "                  'expenses primarily from Restricted Stock Units (RSUs), '\n",
            "                  'Performance Stock Units (PSUs), stock options, and Employee '\n",
            "                  'Stock Purchase Plan (ESPP) purchase rights. The company '\n",
            "                  'estimates the fair value of these stock options and ESPP '\n",
            "                  'purchase rights using the Black-Scholes option-pricing '\n",
            "                  'model, which considers several variables, including the '\n",
            "                  'per-share fair value of the underlying common stock.',\n",
            "         source_nodes=[   NodeWithScore(node=TextNode(id_='1252917f-5282-4a44-9ad3-fba1bfc73c88', embedding=None, metadata={'page_label': '89', 'file_name': 'lyft_2021.pdf', 'file_path': '/content/data/10k/lyft_2021.pdf', 'file_type': 'application/pdf', 'file_size': 1440303, 'creation_date': '2024-03-20', 'last_modified_date': '2024-03-20'}, excluded_embed_metadata_keys=['file_name', 'file_type', 'file_size', 'creation_date', 'last_modified_date', 'last_accessed_date'], excluded_llm_metadata_keys=['file_name', 'file_type', 'file_size', 'creation_date', 'last_modified_date', 'last_accessed_date'], relationships={<NodeRelationship.SOURCE: '1'>: RelatedNodeInfo(node_id='edd7c063-2082-4f86-8462-7a4e4d77716a', node_type=<ObjectType.DOCUMENT: '4'>, metadata={'page_label': '89', 'file_name': 'lyft_2021.pdf', 'file_path': '/content/data/10k/lyft_2021.pdf', 'file_type': 'application/pdf', 'file_size': 1440303, 'creation_date': '2024-03-20', 'last_modified_date': '2024-03-20'}, hash='21a7536cd4bb1e04151eba1a596e9162b3b23fa327ecd4e0e00ccfbe524b3d4c'), <NodeRelationship.PREVIOUS: '2'>: RelatedNodeInfo(node_id='a3afe5ee-7c4a-425c-835a-53c51eb9ea92', node_type=<ObjectType.TEXT: '1'>, metadata={'page_label': '89', 'file_name': 'lyft_2021.pdf', 'file_path': '/content/data/10k/lyft_2021.pdf', 'file_type': 'application/pdf', 'file_size': 1440303, 'creation_date': '2024-03-20', 'last_modified_date': '2024-03-20'}, hash='92e01bae796b7f01cab21a46f91b848cd4e308a3b3897a21efb015634ca3b59f'), <NodeRelationship.NEXT: '3'>: RelatedNodeInfo(node_id='3c32236b-aa46-4066-aef6-c61eb1fc6f55', node_type=<ObjectType.TEXT: '1'>, metadata={}, hash='6e91895e4d20528051c417a964c42d32a414cce88ff962b65356eb8aaeeec80e')}, text='General and administrative expenses are expensed as incurred.Stock-Based Compensation\\nThe Company incurs stock-based comp\\nensation expense primarily from RSUs, PSUs, stock options, and ESPP purchase rights.The\\n Company estimates the fair value of stock options granted to employees, directors, and consultants and ESPP purchase rights using the Black-Scholes option-pricing model. The Black-Schol\\nes model considers several variables and assumptions in estimating the fair value of stock-based awards. These variables include:•\\nper share fair value o f the underlying common stock;89', start_char_idx=4066, end_char_idx=4649, text_template='{metadata_str}\\n\\n{content}', metadata_template='{key}: {value}', metadata_seperator='\\n'), score=0.9202749133110046)],\n",
            "         metadata={   '1252917f-5282-4a44-9ad3-fba1bfc73c88': {   'creation_date': '2024-03-20',\n",
            "                                                                  'file_name': 'lyft_2021.pdf',\n",
            "                                                                  'file_path': '/content/data/10k/lyft_2021.pdf',\n",
            "                                                                  'file_size': 1440303,\n",
            "                                                                  'file_type': 'application/pdf',\n",
            "                                                                  'last_modified_date': '2024-03-20',\n",
            "                                                                  'page_label': '89'}})\n",
            "CPU times: user 93.5 ms, sys: 11.3 ms, total: 105 ms\n",
            "Wall time: 5.98 s\n"
          ]
        }
      ],
      "source": [
        "%%time\n",
        "\n",
        "response = index.as_query_engine().query(\"What were the Stock-based compensation for Lyft?\")\n",
        "print (response)\n",
        "print()\n",
        "pprint(response, indent=4)"
      ]
    },
    {
      "cell_type": "markdown",
      "metadata": {
        "id": "FtCYYaPYlYls"
      },
      "source": [
        "## Try your own queries\n",
        "\n",
        "Inspect the PDFs, and ask away.\n",
        "\n",
        "Here are few things to try\n",
        "\n",
        "- ask question about data in tables.  Are we getting accurate answers?\n",
        "- Ask vague questions, e.g \"which company is more environmentally friendly\".  What do we get back?"
      ]
    },
    {
      "cell_type": "code",
      "execution_count": 19,
      "metadata": {
        "colab": {
          "base_uri": "https://localhost:8080/"
        },
        "id": "ozjgTko9kIOI",
        "outputId": "9f93a95e-f358-4f2b-a213-ed4ae643b8ab"
      },
      "outputs": [
        {
          "name": "stdout",
          "output_type": "stream",
          "text": [
            "CPU times: user 0 ns, sys: 3 µs, total: 3 µs\n",
            "Wall time: 5.96 µs\n"
          ]
        }
      ],
      "source": [
        "\n",
        "\n",
        "%%time\n",
        "\n",
        "# response = index.as_query_engine().query(\"YOUR QUERY GOES HERE\")\n",
        "# print (response)\n",
        "# print()\n",
        "# pprint(response, indent=4)"
      ]
    }
  ],
  "metadata": {
    "colab": {
      "provenance": []
    },
    "kernelspec": {
      "display_name": "atlas-2",
      "language": "python",
      "name": "python3"
    },
    "language_info": {
      "codemirror_mode": {
        "name": "ipython",
        "version": 3
      },
      "file_extension": ".py",
      "mimetype": "text/x-python",
      "name": "python",
      "nbconvert_exporter": "python",
      "pygments_lexer": "ipython3",
      "version": "3.11.7"
    }
  },
  "nbformat": 4,
  "nbformat_minor": 0
}
