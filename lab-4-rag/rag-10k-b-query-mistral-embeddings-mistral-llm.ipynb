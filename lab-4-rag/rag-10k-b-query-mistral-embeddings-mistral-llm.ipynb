{
  "cells": [
    {
      "cell_type": "markdown",
      "metadata": {
        "id": "ZGW_52CMTxB7"
      },
      "source": [
        "[![Open In Colab](https://colab.research.google.com/assets/colab-badge.svg)](https://colab.research.google.com/github/sujee/mongodb-atlas-vector-search/blob/main/lab-4-rag/rag-10k-b-query-mistral-embeddings-mistral-llm.ipynb)\n",
        "\n",
        "#  RAG 10k Query: Mistral Embeddings with Mistral LLM\n",
        "\n",
        "Here is the overall RAG pipeline.   In this notebook, we will do steps  (3), (4), (5), (6) and (7)\n",
        "- Steps 1 & 2: populating embeddings.  It is already done in this notebook [rag-10k-a-populate-embeddings-mistral.ipynb](https://github.com/sujee/mongodb-atlas-vector-search/blob/main/lab-4-rag/rag-10k-a-populate-embeddings-mistral.ipynb)\n",
        "- 👉 Step 3: Calculate embedding for user query\n",
        "- 👉 Steps 4 & 5: Send the query to Atlas to retrieve relevant documents\n",
        "- 👉 Steps 6 & 7 : Send the query and relevant documents (returned above step) to LLM and get answers to our query\n",
        "\n",
        "![image missing](https://raw.githubusercontent.com/sujee/mongodb-atlas-vector-search/main/images/rag-overview-3-mistral.png)\n",
        "\n",
        "### What you need to run this notebook\n",
        "\n",
        "- a (free) MongoDB Atlas Account\n",
        "- and connection credentials\n",
        "- a Mistral API Key\n",
        "\n",
        "### This lab depends on:\n",
        "\n",
        "- We assume we have processed PDF documents, calculated embeddings and loaded them into Atlas.  Refer to this notebook : [rag-10k-a-populate-embeddings-mistral.ipynb](https://github.com/sujee/mongodb-atlas-vector-search/blob/main/lab-4-rag/rag-10k-a-populate-embeddings-mistral.ipynb)\n",
        "\n",
        "### The Stack\n",
        "\n",
        "- Langugage : Python\n",
        "- Vector database: Atlas\n",
        "- Embedding Model: Mistral embedding model\n",
        "\n",
        "\n",
        "### How to run\n",
        "\n",
        "This notebook can be run on Google Colab and stand alone python development environments.  Click here to run on colab.\n",
        "\n",
        "[![Open In Colab](https://colab.research.google.com/assets/colab-badge.svg)](https://colab.research.google.com/github/sujee/mongodb-atlas-vector-search/blob/main/lab-4-rag/rag-10k-b-query-mistral-embeddings-mistral-llm.ipynb)\n",
        "\n"
      ]
    },
    {
      "cell_type": "markdown",
      "metadata": {
        "id": "WSyvFqhAbvHQ"
      },
      "source": [
        "## Step-1: Make sure documents is loaded in Atlas\n",
        "\n",
        "This is done in this notebook: [rag-10k-a-populate-embeddings-mistral.ipynb](https://github.com/sujee/mongodb-atlas-vector-search/blob/main/lab-4-rag/rag-10k-a-populate-embeddings-mistral.ipynb)\n",
        "\n",
        "Please complete this first."
      ]
    },
    {
      "cell_type": "markdown",
      "metadata": {
        "id": "q4lWoy_5cEA-"
      },
      "source": [
        "## Step-2: Configuration\n",
        "\n",
        "We will setup some common configurations here"
      ]
    },
    {
      "cell_type": "code",
      "execution_count": 1,
      "metadata": {
        "id": "XudGfn_YcGTX"
      },
      "outputs": [],
      "source": [
        "# We will keep all global variables in an object to not pollute the global namespace.\n",
        "class MyConfig(object):\n",
        "    pass\n",
        "\n",
        "MY_CONFIG = MyConfig()\n",
        "\n",
        "MY_CONFIG.DB_NAME = 'rag1'\n",
        "MY_CONFIG.COLLECTION_NAME = '10k_mistral'\n",
        "MY_CONFIG.EMBEDDING_ATTRIBUTE = 'embedding_mistral'\n",
        "MY_CONFIG.INDEX_NAME = 'idx_embedding_mistral'\n"
      ]
    },
    {
      "cell_type": "markdown",
      "metadata": {
        "id": "7_OK9xk-cKbF"
      },
      "source": [
        "## Step-3: Load Configuration\n",
        "\n",
        "We need to configure the following\n",
        "- Atlas connection credentials\n",
        "\n",
        "### Option 3A - If running on Colab\n",
        "\n",
        "- Click on 'Colab secrets' icon (🔑) on left pane, and crate the following secrets.\n",
        "   - `ATLAS_URI`\n",
        "   - `MISTRAL_API_KEY`\n",
        "-  Make sure the `notebook access` button is checked on for all\n",
        "- See screenshot below for example\n",
        "\n",
        "<!-- ![](../images/colab-secret-2.png) -->\n",
        "\n",
        "![](https://raw.githubusercontent.com/sujee/mongodb-atlas-vector-search/main/images/colab-secret-3.png)\n",
        "\n",
        "\n",
        "### Option 3B - If running on local python environment\n",
        "\n",
        "- setup your local python env following this [setup guide](https://github.com/sujee/mongodb-atlas-vector-search/blob/main/setup-python-env.md)\n",
        "- Create a file named `.env` in the same location as notebook\n",
        "- And add the following settings\n",
        "\n",
        "```text\n",
        "ATLAS_URI=mongodb+srv://<username>:<password>@sandbox.....\n",
        "MISTRAL_API_KEY=xyz\n",
        "```\n"
      ]
    },
    {
      "cell_type": "markdown",
      "metadata": {
        "id": "EzjYHYgNcRda"
      },
      "source": [
        "## Step-4: Determine Runtime Environment\n",
        "\n",
        "This code will figure out if we are running on Google Colab environment or local environment.  We use it to install relevant packages later."
      ]
    },
    {
      "cell_type": "code",
      "execution_count": 2,
      "metadata": {
        "colab": {
          "base_uri": "https://localhost:8080/"
        },
        "id": "tBbQhBKYcS2_",
        "outputId": "59638835-d4ad-4662-a489-f50a2117f842"
      },
      "outputs": [
        {
          "name": "stdout",
          "output_type": "stream",
          "text": [
            "Running in Colab\n"
          ]
        }
      ],
      "source": [
        "# are we running in Colab?\n",
        "import os\n",
        "\n",
        "if os.getenv(\"COLAB_RELEASE_TAG\"):\n",
        "    print(\"Running in Colab\")\n",
        "    MY_CONFIG.RUNNING_IN_COLAB = True\n",
        "else:\n",
        "    print(\"NOT running in Colab\")\n",
        "    MY_CONFIG.RUNNING_IN_COLAB = False"
      ]
    },
    {
      "cell_type": "markdown",
      "metadata": {
        "id": "Jn_sqd1KcWbu"
      },
      "source": [
        "## Step-5: Install dependencies (if necessary)\n",
        "\n",
        "We will install required libraries in cloud environments like Google Colab.  For local environments, we assume the dependencies are already setup."
      ]
    },
    {
      "cell_type": "code",
      "execution_count": 3,
      "metadata": {
        "colab": {
          "base_uri": "https://localhost:8080/"
        },
        "id": "A16KpOc8cYCI",
        "outputId": "158851bd-ba68-41e9-922a-e7f1f0f70062"
      },
      "outputs": [
        {
          "name": "stdout",
          "output_type": "stream",
          "text": [
            "Collecting pymongo==4.6.2\n",
            "  Downloading pymongo-4.6.2-cp310-cp310-manylinux_2_17_x86_64.manylinux2014_x86_64.whl (677 kB)\n",
            "\u001b[2K     \u001b[90m━━━━━━━━━━━━━━━━━━━━━━━━━━━━━━━━━━━━━━━━\u001b[0m \u001b[32m677.2/677.2 kB\u001b[0m \u001b[31m4.4 MB/s\u001b[0m eta \u001b[36m0:00:00\u001b[0m\n",
            "\u001b[?25hCollecting llama-index\n",
            "  Downloading llama_index-0.10.22-py3-none-any.whl (6.9 kB)\n",
            "Collecting llama-index-embeddings-mistralai\n",
            "  Downloading llama_index_embeddings_mistralai-0.1.4-py3-none-any.whl (2.6 kB)\n",
            "Collecting llama-index-llms-mistralai\n",
            "  Downloading llama_index_llms_mistralai-0.1.7-py3-none-any.whl (4.2 kB)\n",
            "Collecting llama-index-vector-stores-mongodb\n",
            "  Downloading llama_index_vector_stores_mongodb-0.1.4-py3-none-any.whl (4.0 kB)\n",
            "Requirement already satisfied: transformers==4.38.2 in /usr/local/lib/python3.10/dist-packages (4.38.2)\n",
            "Requirement already satisfied: torch==2.2.1 in /usr/local/lib/python3.10/dist-packages (2.2.1+cu121)\n",
            "Collecting dnspython<3.0.0,>=1.16.0 (from pymongo==4.6.2)\n",
            "  Downloading dnspython-2.6.1-py3-none-any.whl (307 kB)\n",
            "\u001b[2K     \u001b[90m━━━━━━━━━━━━━━━━━━━━━━━━━━━━━━━━━━━━━━━━\u001b[0m \u001b[32m307.7/307.7 kB\u001b[0m \u001b[31m10.3 MB/s\u001b[0m eta \u001b[36m0:00:00\u001b[0m\n",
            "\u001b[?25hRequirement already satisfied: filelock in /usr/local/lib/python3.10/dist-packages (from transformers==4.38.2) (3.13.1)\n",
            "Requirement already satisfied: huggingface-hub<1.0,>=0.19.3 in /usr/local/lib/python3.10/dist-packages (from transformers==4.38.2) (0.20.3)\n",
            "Requirement already satisfied: numpy>=1.17 in /usr/local/lib/python3.10/dist-packages (from transformers==4.38.2) (1.25.2)\n",
            "Requirement already satisfied: packaging>=20.0 in /usr/local/lib/python3.10/dist-packages (from transformers==4.38.2) (24.0)\n",
            "Requirement already satisfied: pyyaml>=5.1 in /usr/local/lib/python3.10/dist-packages (from transformers==4.38.2) (6.0.1)\n",
            "Requirement already satisfied: regex!=2019.12.17 in /usr/local/lib/python3.10/dist-packages (from transformers==4.38.2) (2023.12.25)\n",
            "Requirement already satisfied: requests in /usr/local/lib/python3.10/dist-packages (from transformers==4.38.2) (2.31.0)\n",
            "Requirement already satisfied: tokenizers<0.19,>=0.14 in /usr/local/lib/python3.10/dist-packages (from transformers==4.38.2) (0.15.2)\n",
            "Requirement already satisfied: safetensors>=0.4.1 in /usr/local/lib/python3.10/dist-packages (from transformers==4.38.2) (0.4.2)\n",
            "Requirement already satisfied: tqdm>=4.27 in /usr/local/lib/python3.10/dist-packages (from transformers==4.38.2) (4.66.2)\n",
            "Requirement already satisfied: typing-extensions>=4.8.0 in /usr/local/lib/python3.10/dist-packages (from torch==2.2.1) (4.10.0)\n",
            "Requirement already satisfied: sympy in /usr/local/lib/python3.10/dist-packages (from torch==2.2.1) (1.12)\n",
            "Requirement already satisfied: networkx in /usr/local/lib/python3.10/dist-packages (from torch==2.2.1) (3.2.1)\n",
            "Requirement already satisfied: jinja2 in /usr/local/lib/python3.10/dist-packages (from torch==2.2.1) (3.1.3)\n",
            "Requirement already satisfied: fsspec in /usr/local/lib/python3.10/dist-packages (from torch==2.2.1) (2023.6.0)\n",
            "Collecting nvidia-cuda-nvrtc-cu12==12.1.105 (from torch==2.2.1)\n",
            "  Downloading nvidia_cuda_nvrtc_cu12-12.1.105-py3-none-manylinux1_x86_64.whl (23.7 MB)\n",
            "\u001b[2K     \u001b[90m━━━━━━━━━━━━━━━━━━━━━━━━━━━━━━━━━━━━━━━━\u001b[0m \u001b[32m23.7/23.7 MB\u001b[0m \u001b[31m13.1 MB/s\u001b[0m eta \u001b[36m0:00:00\u001b[0m\n",
            "\u001b[?25hCollecting nvidia-cuda-runtime-cu12==12.1.105 (from torch==2.2.1)\n",
            "  Downloading nvidia_cuda_runtime_cu12-12.1.105-py3-none-manylinux1_x86_64.whl (823 kB)\n",
            "\u001b[2K     \u001b[90m━━━━━━━━━━━━━━━━━━━━━━━━━━━━━━━━━━━━━━━━\u001b[0m \u001b[32m823.6/823.6 kB\u001b[0m \u001b[31m37.3 MB/s\u001b[0m eta \u001b[36m0:00:00\u001b[0m\n",
            "\u001b[?25hCollecting nvidia-cuda-cupti-cu12==12.1.105 (from torch==2.2.1)\n",
            "  Downloading nvidia_cuda_cupti_cu12-12.1.105-py3-none-manylinux1_x86_64.whl (14.1 MB)\n",
            "\u001b[2K     \u001b[90m━━━━━━━━━━━━━━━━━━━━━━━━━━━━━━━━━━━━━━━━\u001b[0m \u001b[32m14.1/14.1 MB\u001b[0m \u001b[31m30.9 MB/s\u001b[0m eta \u001b[36m0:00:00\u001b[0m\n",
            "\u001b[?25hCollecting nvidia-cudnn-cu12==8.9.2.26 (from torch==2.2.1)\n",
            "  Downloading nvidia_cudnn_cu12-8.9.2.26-py3-none-manylinux1_x86_64.whl (731.7 MB)\n",
            "\u001b[2K     \u001b[90m━━━━━━━━━━━━━━━━━━━━━━━━━━━━━━━━━━━━━━━━\u001b[0m \u001b[32m731.7/731.7 MB\u001b[0m \u001b[31m1.4 MB/s\u001b[0m eta \u001b[36m0:00:00\u001b[0m\n",
            "\u001b[?25hCollecting nvidia-cublas-cu12==12.1.3.1 (from torch==2.2.1)\n",
            "  Downloading nvidia_cublas_cu12-12.1.3.1-py3-none-manylinux1_x86_64.whl (410.6 MB)\n",
            "\u001b[2K     \u001b[90m━━━━━━━━━━━━━━━━━━━━━━━━━━━━━━━━━━━━━━━━\u001b[0m \u001b[32m410.6/410.6 MB\u001b[0m \u001b[31m3.5 MB/s\u001b[0m eta \u001b[36m0:00:00\u001b[0m\n",
            "\u001b[?25hCollecting nvidia-cufft-cu12==11.0.2.54 (from torch==2.2.1)\n",
            "  Downloading nvidia_cufft_cu12-11.0.2.54-py3-none-manylinux1_x86_64.whl (121.6 MB)\n",
            "\u001b[2K     \u001b[90m━━━━━━━━━━━━━━━━━━━━━━━━━━━━━━━━━━━━━━━━\u001b[0m \u001b[32m121.6/121.6 MB\u001b[0m \u001b[31m8.6 MB/s\u001b[0m eta \u001b[36m0:00:00\u001b[0m\n",
            "\u001b[?25hCollecting nvidia-curand-cu12==10.3.2.106 (from torch==2.2.1)\n",
            "  Downloading nvidia_curand_cu12-10.3.2.106-py3-none-manylinux1_x86_64.whl (56.5 MB)\n",
            "\u001b[2K     \u001b[90m━━━━━━━━━━━━━━━━━━━━━━━━━━━━━━━━━━━━━━━━\u001b[0m \u001b[32m56.5/56.5 MB\u001b[0m \u001b[31m10.1 MB/s\u001b[0m eta \u001b[36m0:00:00\u001b[0m\n",
            "\u001b[?25hCollecting nvidia-cusolver-cu12==11.4.5.107 (from torch==2.2.1)\n",
            "  Downloading nvidia_cusolver_cu12-11.4.5.107-py3-none-manylinux1_x86_64.whl (124.2 MB)\n",
            "\u001b[2K     \u001b[90m━━━━━━━━━━━━━━━━━━━━━━━━━━━━━━━━━━━━━━━━\u001b[0m \u001b[32m124.2/124.2 MB\u001b[0m \u001b[31m8.2 MB/s\u001b[0m eta \u001b[36m0:00:00\u001b[0m\n",
            "\u001b[?25hCollecting nvidia-cusparse-cu12==12.1.0.106 (from torch==2.2.1)\n",
            "  Downloading nvidia_cusparse_cu12-12.1.0.106-py3-none-manylinux1_x86_64.whl (196.0 MB)\n",
            "\u001b[2K     \u001b[90m━━━━━━━━━━━━━━━━━━━━━━━━━━━━━━━━━━━━━━━━\u001b[0m \u001b[32m196.0/196.0 MB\u001b[0m \u001b[31m2.5 MB/s\u001b[0m eta \u001b[36m0:00:00\u001b[0m\n",
            "\u001b[?25hCollecting nvidia-nccl-cu12==2.19.3 (from torch==2.2.1)\n",
            "  Downloading nvidia_nccl_cu12-2.19.3-py3-none-manylinux1_x86_64.whl (166.0 MB)\n",
            "\u001b[2K     \u001b[90m━━━━━━━━━━━━━━━━━━━━━━━━━━━━━━━━━━━━━━━━\u001b[0m \u001b[32m166.0/166.0 MB\u001b[0m \u001b[31m6.6 MB/s\u001b[0m eta \u001b[36m0:00:00\u001b[0m\n",
            "\u001b[?25hCollecting nvidia-nvtx-cu12==12.1.105 (from torch==2.2.1)\n",
            "  Downloading nvidia_nvtx_cu12-12.1.105-py3-none-manylinux1_x86_64.whl (99 kB)\n",
            "\u001b[2K     \u001b[90m━━━━━━━━━━━━━━━━━━━━━━━━━━━━━━━━━━━━━━━━\u001b[0m \u001b[32m99.1/99.1 kB\u001b[0m \u001b[31m13.2 MB/s\u001b[0m eta \u001b[36m0:00:00\u001b[0m\n",
            "\u001b[?25hRequirement already satisfied: triton==2.2.0 in /usr/local/lib/python3.10/dist-packages (from torch==2.2.1) (2.2.0)\n",
            "Collecting nvidia-nvjitlink-cu12 (from nvidia-cusolver-cu12==11.4.5.107->torch==2.2.1)\n",
            "  Downloading nvidia_nvjitlink_cu12-12.4.99-py3-none-manylinux2014_x86_64.whl (21.1 MB)\n",
            "\u001b[2K     \u001b[90m━━━━━━━━━━━━━━━━━━━━━━━━━━━━━━━━━━━━━━━━\u001b[0m \u001b[32m21.1/21.1 MB\u001b[0m \u001b[31m62.4 MB/s\u001b[0m eta \u001b[36m0:00:00\u001b[0m\n",
            "\u001b[?25hCollecting llama-index-agent-openai<0.2.0,>=0.1.4 (from llama-index)\n",
            "  Downloading llama_index_agent_openai-0.1.6-py3-none-any.whl (12 kB)\n",
            "Collecting llama-index-cli<0.2.0,>=0.1.2 (from llama-index)\n",
            "  Downloading llama_index_cli-0.1.11-py3-none-any.whl (26 kB)\n",
            "Collecting llama-index-core<0.11.0,>=0.10.22 (from llama-index)\n",
            "  Downloading llama_index_core-0.10.22-py3-none-any.whl (15.4 MB)\n",
            "\u001b[2K     \u001b[90m━━━━━━━━━━━━━━━━━━━━━━━━━━━━━━━━━━━━━━━━\u001b[0m \u001b[32m15.4/15.4 MB\u001b[0m \u001b[31m58.1 MB/s\u001b[0m eta \u001b[36m0:00:00\u001b[0m\n",
            "\u001b[?25hCollecting llama-index-embeddings-openai<0.2.0,>=0.1.5 (from llama-index)\n",
            "  Downloading llama_index_embeddings_openai-0.1.7-py3-none-any.whl (6.0 kB)\n",
            "Collecting llama-index-indices-managed-llama-cloud<0.2.0,>=0.1.2 (from llama-index)\n",
            "  Downloading llama_index_indices_managed_llama_cloud-0.1.4-py3-none-any.whl (6.6 kB)\n",
            "Collecting llama-index-legacy<0.10.0,>=0.9.48 (from llama-index)\n",
            "  Downloading llama_index_legacy-0.9.48-py3-none-any.whl (2.0 MB)\n",
            "\u001b[2K     \u001b[90m━━━━━━━━━━━━━━━━━━━━━━━━━━━━━━━━━━━━━━━━\u001b[0m \u001b[32m2.0/2.0 MB\u001b[0m \u001b[31m58.3 MB/s\u001b[0m eta \u001b[36m0:00:00\u001b[0m\n",
            "\u001b[?25hCollecting llama-index-llms-openai<0.2.0,>=0.1.5 (from llama-index)\n",
            "  Downloading llama_index_llms_openai-0.1.12-py3-none-any.whl (10 kB)\n",
            "Collecting llama-index-multi-modal-llms-openai<0.2.0,>=0.1.3 (from llama-index)\n",
            "  Downloading llama_index_multi_modal_llms_openai-0.1.4-py3-none-any.whl (5.8 kB)\n",
            "Collecting llama-index-program-openai<0.2.0,>=0.1.3 (from llama-index)\n",
            "  Downloading llama_index_program_openai-0.1.4-py3-none-any.whl (4.1 kB)\n",
            "Collecting llama-index-question-gen-openai<0.2.0,>=0.1.2 (from llama-index)\n",
            "  Downloading llama_index_question_gen_openai-0.1.3-py3-none-any.whl (2.9 kB)\n",
            "Collecting llama-index-readers-file<0.2.0,>=0.1.4 (from llama-index)\n",
            "  Downloading llama_index_readers_file-0.1.11-py3-none-any.whl (36 kB)\n",
            "Collecting llama-index-readers-llama-parse<0.2.0,>=0.1.2 (from llama-index)\n",
            "  Downloading llama_index_readers_llama_parse-0.1.3-py3-none-any.whl (2.5 kB)\n",
            "Collecting mistralai>=0.1.3 (from llama-index-embeddings-mistralai)\n",
            "  Downloading mistralai-0.1.6-py3-none-any.whl (15 kB)\n",
            "Requirement already satisfied: SQLAlchemy[asyncio]>=1.4.49 in /usr/local/lib/python3.10/dist-packages (from llama-index-core<0.11.0,>=0.10.22->llama-index) (2.0.28)\n",
            "Requirement already satisfied: aiohttp<4.0.0,>=3.8.6 in /usr/local/lib/python3.10/dist-packages (from llama-index-core<0.11.0,>=0.10.22->llama-index) (3.9.3)\n",
            "Collecting dataclasses-json (from llama-index-core<0.11.0,>=0.10.22->llama-index)\n",
            "  Downloading dataclasses_json-0.6.4-py3-none-any.whl (28 kB)\n",
            "Collecting deprecated>=1.2.9.3 (from llama-index-core<0.11.0,>=0.10.22->llama-index)\n",
            "  Downloading Deprecated-1.2.14-py2.py3-none-any.whl (9.6 kB)\n",
            "Collecting dirtyjson<2.0.0,>=1.0.8 (from llama-index-core<0.11.0,>=0.10.22->llama-index)\n",
            "  Downloading dirtyjson-1.0.8-py3-none-any.whl (25 kB)\n",
            "Collecting httpx (from llama-index-core<0.11.0,>=0.10.22->llama-index)\n",
            "  Downloading httpx-0.27.0-py3-none-any.whl (75 kB)\n",
            "\u001b[2K     \u001b[90m━━━━━━━━━━━━━━━━━━━━━━━━━━━━━━━━━━━━━━━━\u001b[0m \u001b[32m75.6/75.6 kB\u001b[0m \u001b[31m6.7 MB/s\u001b[0m eta \u001b[36m0:00:00\u001b[0m\n",
            "\u001b[?25hCollecting llamaindex-py-client<0.2.0,>=0.1.13 (from llama-index-core<0.11.0,>=0.10.22->llama-index)\n",
            "  Downloading llamaindex_py_client-0.1.13-py3-none-any.whl (107 kB)\n",
            "\u001b[2K     \u001b[90m━━━━━━━━━━━━━━━━━━━━━━━━━━━━━━━━━━━━━━━━\u001b[0m \u001b[32m108.0/108.0 kB\u001b[0m \u001b[31m11.6 MB/s\u001b[0m eta \u001b[36m0:00:00\u001b[0m\n",
            "\u001b[?25hRequirement already satisfied: nest-asyncio<2.0.0,>=1.5.8 in /usr/local/lib/python3.10/dist-packages (from llama-index-core<0.11.0,>=0.10.22->llama-index) (1.6.0)\n",
            "Requirement already satisfied: nltk<4.0.0,>=3.8.1 in /usr/local/lib/python3.10/dist-packages (from llama-index-core<0.11.0,>=0.10.22->llama-index) (3.8.1)\n",
            "Collecting openai>=1.1.0 (from llama-index-core<0.11.0,>=0.10.22->llama-index)\n",
            "  Downloading openai-1.14.2-py3-none-any.whl (262 kB)\n",
            "\u001b[2K     \u001b[90m━━━━━━━━━━━━━━━━━━━━━━━━━━━━━━━━━━━━━━━━\u001b[0m \u001b[32m262.4/262.4 kB\u001b[0m \u001b[31m24.5 MB/s\u001b[0m eta \u001b[36m0:00:00\u001b[0m\n",
            "\u001b[?25hRequirement already satisfied: pandas in /usr/local/lib/python3.10/dist-packages (from llama-index-core<0.11.0,>=0.10.22->llama-index) (1.5.3)\n",
            "Requirement already satisfied: pillow>=9.0.0 in /usr/local/lib/python3.10/dist-packages (from llama-index-core<0.11.0,>=0.10.22->llama-index) (9.4.0)\n",
            "Requirement already satisfied: tenacity<9.0.0,>=8.2.0 in /usr/local/lib/python3.10/dist-packages (from llama-index-core<0.11.0,>=0.10.22->llama-index) (8.2.3)\n",
            "Collecting tiktoken>=0.3.3 (from llama-index-core<0.11.0,>=0.10.22->llama-index)\n",
            "  Downloading tiktoken-0.6.0-cp310-cp310-manylinux_2_17_x86_64.manylinux2014_x86_64.whl (1.8 MB)\n",
            "\u001b[2K     \u001b[90m━━━━━━━━━━━━━━━━━━━━━━━━━━━━━━━━━━━━━━━━\u001b[0m \u001b[32m1.8/1.8 MB\u001b[0m \u001b[31m56.1 MB/s\u001b[0m eta \u001b[36m0:00:00\u001b[0m\n",
            "\u001b[?25hCollecting typing-inspect>=0.8.0 (from llama-index-core<0.11.0,>=0.10.22->llama-index)\n",
            "  Downloading typing_inspect-0.9.0-py3-none-any.whl (8.8 kB)\n",
            "Requirement already satisfied: beautifulsoup4<5.0.0,>=4.12.3 in /usr/local/lib/python3.10/dist-packages (from llama-index-readers-file<0.2.0,>=0.1.4->llama-index) (4.12.3)\n",
            "Collecting bs4<0.0.3,>=0.0.2 (from llama-index-readers-file<0.2.0,>=0.1.4->llama-index)\n",
            "  Downloading bs4-0.0.2-py2.py3-none-any.whl (1.2 kB)\n",
            "Collecting pymupdf<2.0.0,>=1.23.21 (from llama-index-readers-file<0.2.0,>=0.1.4->llama-index)\n",
            "  Downloading PyMuPDF-1.24.0-cp310-none-manylinux2014_x86_64.whl (3.9 MB)\n",
            "\u001b[2K     \u001b[90m━━━━━━━━━━━━━━━━━━━━━━━━━━━━━━━━━━━━━━━━\u001b[0m \u001b[32m3.9/3.9 MB\u001b[0m \u001b[31m67.7 MB/s\u001b[0m eta \u001b[36m0:00:00\u001b[0m\n",
            "\u001b[?25hCollecting pypdf<5.0.0,>=4.0.1 (from llama-index-readers-file<0.2.0,>=0.1.4->llama-index)\n",
            "  Downloading pypdf-4.1.0-py3-none-any.whl (286 kB)\n",
            "\u001b[2K     \u001b[90m━━━━━━━━━━━━━━━━━━━━━━━━━━━━━━━━━━━━━━━━\u001b[0m \u001b[32m286.1/286.1 kB\u001b[0m \u001b[31m28.5 MB/s\u001b[0m eta \u001b[36m0:00:00\u001b[0m\n",
            "\u001b[?25hCollecting striprtf<0.0.27,>=0.0.26 (from llama-index-readers-file<0.2.0,>=0.1.4->llama-index)\n",
            "  Downloading striprtf-0.0.26-py3-none-any.whl (6.9 kB)\n",
            "Collecting llama-parse<0.4.0,>=0.3.3 (from llama-index-readers-llama-parse<0.2.0,>=0.1.2->llama-index)\n",
            "  Downloading llama_parse-0.3.9-py3-none-any.whl (6.8 kB)\n",
            "Collecting httpx (from llama-index-core<0.11.0,>=0.10.22->llama-index)\n",
            "  Downloading httpx-0.25.2-py3-none-any.whl (74 kB)\n",
            "\u001b[2K     \u001b[90m━━━━━━━━━━━━━━━━━━━━━━━━━━━━━━━━━━━━━━━━\u001b[0m \u001b[32m75.0/75.0 kB\u001b[0m \u001b[31m9.8 MB/s\u001b[0m eta \u001b[36m0:00:00\u001b[0m\n",
            "\u001b[?25hCollecting orjson<4.0.0,>=3.9.10 (from mistralai>=0.1.3->llama-index-embeddings-mistralai)\n",
            "  Downloading orjson-3.9.15-cp310-cp310-manylinux_2_17_x86_64.manylinux2014_x86_64.whl (138 kB)\n",
            "\u001b[2K     \u001b[90m━━━━━━━━━━━━━━━━━━━━━━━━━━━━━━━━━━━━━━━━\u001b[0m \u001b[32m138.5/138.5 kB\u001b[0m \u001b[31m16.4 MB/s\u001b[0m eta \u001b[36m0:00:00\u001b[0m\n",
            "\u001b[?25hCollecting pandas (from llama-index-core<0.11.0,>=0.10.22->llama-index)\n",
            "  Downloading pandas-2.2.1-cp310-cp310-manylinux_2_17_x86_64.manylinux2014_x86_64.whl (13.0 MB)\n",
            "\u001b[2K     \u001b[90m━━━━━━━━━━━━━━━━━━━━━━━━━━━━━━━━━━━━━━━━\u001b[0m \u001b[32m13.0/13.0 MB\u001b[0m \u001b[31m83.2 MB/s\u001b[0m eta \u001b[36m0:00:00\u001b[0m\n",
            "\u001b[?25hCollecting pyarrow<16.0.0,>=15.0.0 (from mistralai>=0.1.3->llama-index-embeddings-mistralai)\n",
            "  Downloading pyarrow-15.0.2-cp310-cp310-manylinux_2_28_x86_64.whl (38.3 MB)\n",
            "\u001b[2K     \u001b[90m━━━━━━━━━━━━━━━━━━━━━━━━━━━━━━━━━━━━━━━━\u001b[0m \u001b[32m38.3/38.3 MB\u001b[0m \u001b[31m12.0 MB/s\u001b[0m eta \u001b[36m0:00:00\u001b[0m\n",
            "\u001b[?25hRequirement already satisfied: pydantic<3.0.0,>=2.5.2 in /usr/local/lib/python3.10/dist-packages (from mistralai>=0.1.3->llama-index-embeddings-mistralai) (2.6.4)\n",
            "Requirement already satisfied: charset-normalizer<4,>=2 in /usr/local/lib/python3.10/dist-packages (from requests->transformers==4.38.2) (3.3.2)\n",
            "Requirement already satisfied: idna<4,>=2.5 in /usr/local/lib/python3.10/dist-packages (from requests->transformers==4.38.2) (3.6)\n",
            "Requirement already satisfied: urllib3<3,>=1.21.1 in /usr/local/lib/python3.10/dist-packages (from requests->transformers==4.38.2) (2.0.7)\n",
            "Requirement already satisfied: certifi>=2017.4.17 in /usr/local/lib/python3.10/dist-packages (from requests->transformers==4.38.2) (2024.2.2)\n",
            "Requirement already satisfied: MarkupSafe>=2.0 in /usr/local/lib/python3.10/dist-packages (from jinja2->torch==2.2.1) (2.1.5)\n",
            "Requirement already satisfied: mpmath>=0.19 in /usr/local/lib/python3.10/dist-packages (from sympy->torch==2.2.1) (1.3.0)\n",
            "Requirement already satisfied: aiosignal>=1.1.2 in /usr/local/lib/python3.10/dist-packages (from aiohttp<4.0.0,>=3.8.6->llama-index-core<0.11.0,>=0.10.22->llama-index) (1.3.1)\n",
            "Requirement already satisfied: attrs>=17.3.0 in /usr/local/lib/python3.10/dist-packages (from aiohttp<4.0.0,>=3.8.6->llama-index-core<0.11.0,>=0.10.22->llama-index) (23.2.0)\n",
            "Requirement already satisfied: frozenlist>=1.1.1 in /usr/local/lib/python3.10/dist-packages (from aiohttp<4.0.0,>=3.8.6->llama-index-core<0.11.0,>=0.10.22->llama-index) (1.4.1)\n",
            "Requirement already satisfied: multidict<7.0,>=4.5 in /usr/local/lib/python3.10/dist-packages (from aiohttp<4.0.0,>=3.8.6->llama-index-core<0.11.0,>=0.10.22->llama-index) (6.0.5)\n",
            "Requirement already satisfied: yarl<2.0,>=1.0 in /usr/local/lib/python3.10/dist-packages (from aiohttp<4.0.0,>=3.8.6->llama-index-core<0.11.0,>=0.10.22->llama-index) (1.9.4)\n",
            "Requirement already satisfied: async-timeout<5.0,>=4.0 in /usr/local/lib/python3.10/dist-packages (from aiohttp<4.0.0,>=3.8.6->llama-index-core<0.11.0,>=0.10.22->llama-index) (4.0.3)\n",
            "Requirement already satisfied: soupsieve>1.2 in /usr/local/lib/python3.10/dist-packages (from beautifulsoup4<5.0.0,>=4.12.3->llama-index-readers-file<0.2.0,>=0.1.4->llama-index) (2.5)\n",
            "Requirement already satisfied: wrapt<2,>=1.10 in /usr/local/lib/python3.10/dist-packages (from deprecated>=1.2.9.3->llama-index-core<0.11.0,>=0.10.22->llama-index) (1.14.1)\n",
            "Requirement already satisfied: anyio in /usr/local/lib/python3.10/dist-packages (from httpx->llama-index-core<0.11.0,>=0.10.22->llama-index) (3.7.1)\n",
            "Collecting httpcore==1.* (from httpx->llama-index-core<0.11.0,>=0.10.22->llama-index)\n",
            "  Downloading httpcore-1.0.4-py3-none-any.whl (77 kB)\n",
            "\u001b[2K     \u001b[90m━━━━━━━━━━━━━━━━━━━━━━━━━━━━━━━━━━━━━━━━\u001b[0m \u001b[32m77.8/77.8 kB\u001b[0m \u001b[31m10.2 MB/s\u001b[0m eta \u001b[36m0:00:00\u001b[0m\n",
            "\u001b[?25hRequirement already satisfied: sniffio in /usr/local/lib/python3.10/dist-packages (from httpx->llama-index-core<0.11.0,>=0.10.22->llama-index) (1.3.1)\n",
            "Collecting h11<0.15,>=0.13 (from httpcore==1.*->httpx->llama-index-core<0.11.0,>=0.10.22->llama-index)\n",
            "  Downloading h11-0.14.0-py3-none-any.whl (58 kB)\n",
            "\u001b[2K     \u001b[90m━━━━━━━━━━━━━━━━━━━━━━━━━━━━━━━━━━━━━━━━\u001b[0m \u001b[32m58.3/58.3 kB\u001b[0m \u001b[31m8.1 MB/s\u001b[0m eta \u001b[36m0:00:00\u001b[0m\n",
            "\u001b[?25hRequirement already satisfied: click in /usr/local/lib/python3.10/dist-packages (from nltk<4.0.0,>=3.8.1->llama-index-core<0.11.0,>=0.10.22->llama-index) (8.1.7)\n",
            "Requirement already satisfied: joblib in /usr/local/lib/python3.10/dist-packages (from nltk<4.0.0,>=3.8.1->llama-index-core<0.11.0,>=0.10.22->llama-index) (1.3.2)\n",
            "Requirement already satisfied: distro<2,>=1.7.0 in /usr/lib/python3/dist-packages (from openai>=1.1.0->llama-index-core<0.11.0,>=0.10.22->llama-index) (1.7.0)\n",
            "Requirement already satisfied: python-dateutil>=2.8.2 in /usr/local/lib/python3.10/dist-packages (from pandas->llama-index-core<0.11.0,>=0.10.22->llama-index) (2.8.2)\n",
            "Requirement already satisfied: pytz>=2020.1 in /usr/local/lib/python3.10/dist-packages (from pandas->llama-index-core<0.11.0,>=0.10.22->llama-index) (2023.4)\n",
            "Collecting tzdata>=2022.7 (from pandas->llama-index-core<0.11.0,>=0.10.22->llama-index)\n",
            "  Downloading tzdata-2024.1-py2.py3-none-any.whl (345 kB)\n",
            "\u001b[2K     \u001b[90m━━━━━━━━━━━━━━━━━━━━━━━━━━━━━━━━━━━━━━━━\u001b[0m \u001b[32m345.4/345.4 kB\u001b[0m \u001b[31m36.4 MB/s\u001b[0m eta \u001b[36m0:00:00\u001b[0m\n",
            "\u001b[?25hRequirement already satisfied: annotated-types>=0.4.0 in /usr/local/lib/python3.10/dist-packages (from pydantic<3.0.0,>=2.5.2->mistralai>=0.1.3->llama-index-embeddings-mistralai) (0.6.0)\n",
            "Requirement already satisfied: pydantic-core==2.16.3 in /usr/local/lib/python3.10/dist-packages (from pydantic<3.0.0,>=2.5.2->mistralai>=0.1.3->llama-index-embeddings-mistralai) (2.16.3)\n",
            "Collecting PyMuPDFb==1.24.0 (from pymupdf<2.0.0,>=1.23.21->llama-index-readers-file<0.2.0,>=0.1.4->llama-index)\n",
            "  Downloading PyMuPDFb-1.24.0-py3-none-manylinux2014_x86_64.manylinux_2_17_x86_64.whl (30.8 MB)\n",
            "\u001b[2K     \u001b[90m━━━━━━━━━━━━━━━━━━━━━━━━━━━━━━━━━━━━━━━━\u001b[0m \u001b[32m30.8/30.8 MB\u001b[0m \u001b[31m44.6 MB/s\u001b[0m eta \u001b[36m0:00:00\u001b[0m\n",
            "\u001b[?25hRequirement already satisfied: greenlet!=0.4.17 in /usr/local/lib/python3.10/dist-packages (from SQLAlchemy[asyncio]>=1.4.49->llama-index-core<0.11.0,>=0.10.22->llama-index) (3.0.3)\n",
            "Collecting mypy-extensions>=0.3.0 (from typing-inspect>=0.8.0->llama-index-core<0.11.0,>=0.10.22->llama-index)\n",
            "  Downloading mypy_extensions-1.0.0-py3-none-any.whl (4.7 kB)\n",
            "Collecting marshmallow<4.0.0,>=3.18.0 (from dataclasses-json->llama-index-core<0.11.0,>=0.10.22->llama-index)\n",
            "  Downloading marshmallow-3.21.1-py3-none-any.whl (49 kB)\n",
            "\u001b[2K     \u001b[90m━━━━━━━━━━━━━━━━━━━━━━━━━━━━━━━━━━━━━━━━\u001b[0m \u001b[32m49.4/49.4 kB\u001b[0m \u001b[31m4.8 MB/s\u001b[0m eta \u001b[36m0:00:00\u001b[0m\n",
            "\u001b[?25hRequirement already satisfied: exceptiongroup in /usr/local/lib/python3.10/dist-packages (from anyio->httpx->llama-index-core<0.11.0,>=0.10.22->llama-index) (1.2.0)\n",
            "Requirement already satisfied: six>=1.5 in /usr/local/lib/python3.10/dist-packages (from python-dateutil>=2.8.2->pandas->llama-index-core<0.11.0,>=0.10.22->llama-index) (1.16.0)\n",
            "Installing collected packages: striprtf, dirtyjson, tzdata, pypdf, PyMuPDFb, pyarrow, orjson, nvidia-nvtx-cu12, nvidia-nvjitlink-cu12, nvidia-nccl-cu12, nvidia-curand-cu12, nvidia-cufft-cu12, nvidia-cuda-runtime-cu12, nvidia-cuda-nvrtc-cu12, nvidia-cuda-cupti-cu12, nvidia-cublas-cu12, mypy-extensions, marshmallow, h11, dnspython, deprecated, typing-inspect, tiktoken, pymupdf, pymongo, pandas, nvidia-cusparse-cu12, nvidia-cudnn-cu12, httpcore, bs4, nvidia-cusolver-cu12, httpx, dataclasses-json, openai, mistralai, llamaindex-py-client, llama-index-legacy, llama-index-core, llama-parse, llama-index-vector-stores-mongodb, llama-index-readers-file, llama-index-llms-openai, llama-index-llms-mistralai, llama-index-indices-managed-llama-cloud, llama-index-embeddings-openai, llama-index-embeddings-mistralai, llama-index-readers-llama-parse, llama-index-multi-modal-llms-openai, llama-index-cli, llama-index-agent-openai, llama-index-program-openai, llama-index-question-gen-openai, llama-index\n",
            "  Attempting uninstall: pyarrow\n",
            "    Found existing installation: pyarrow 14.0.2\n",
            "    Uninstalling pyarrow-14.0.2:\n",
            "      Successfully uninstalled pyarrow-14.0.2\n",
            "  Attempting uninstall: pandas\n",
            "    Found existing installation: pandas 1.5.3\n",
            "    Uninstalling pandas-1.5.3:\n",
            "      Successfully uninstalled pandas-1.5.3\n",
            "\u001b[31mERROR: pip's dependency resolver does not currently take into account all the packages that are installed. This behaviour is the source of the following dependency conflicts.\n",
            "bigframes 0.26.0 requires pandas<2.1.4,>=1.5.0, but you have pandas 2.2.1 which is incompatible.\n",
            "google-colab 1.0.0 requires pandas==1.5.3, but you have pandas 2.2.1 which is incompatible.\u001b[0m\u001b[31m\n",
            "\u001b[0mSuccessfully installed PyMuPDFb-1.24.0 bs4-0.0.2 dataclasses-json-0.6.4 deprecated-1.2.14 dirtyjson-1.0.8 dnspython-2.6.1 h11-0.14.0 httpcore-1.0.4 httpx-0.25.2 llama-index-0.10.22 llama-index-agent-openai-0.1.6 llama-index-cli-0.1.11 llama-index-core-0.10.22 llama-index-embeddings-mistralai-0.1.4 llama-index-embeddings-openai-0.1.7 llama-index-indices-managed-llama-cloud-0.1.4 llama-index-legacy-0.9.48 llama-index-llms-mistralai-0.1.7 llama-index-llms-openai-0.1.12 llama-index-multi-modal-llms-openai-0.1.4 llama-index-program-openai-0.1.4 llama-index-question-gen-openai-0.1.3 llama-index-readers-file-0.1.11 llama-index-readers-llama-parse-0.1.3 llama-index-vector-stores-mongodb-0.1.4 llama-parse-0.3.9 llamaindex-py-client-0.1.13 marshmallow-3.21.1 mistralai-0.1.6 mypy-extensions-1.0.0 nvidia-cublas-cu12-12.1.3.1 nvidia-cuda-cupti-cu12-12.1.105 nvidia-cuda-nvrtc-cu12-12.1.105 nvidia-cuda-runtime-cu12-12.1.105 nvidia-cudnn-cu12-8.9.2.26 nvidia-cufft-cu12-11.0.2.54 nvidia-curand-cu12-10.3.2.106 nvidia-cusolver-cu12-11.4.5.107 nvidia-cusparse-cu12-12.1.0.106 nvidia-nccl-cu12-2.19.3 nvidia-nvjitlink-cu12-12.4.99 nvidia-nvtx-cu12-12.1.105 openai-1.14.2 orjson-3.9.15 pandas-2.2.1 pyarrow-15.0.2 pymongo-4.6.2 pymupdf-1.24.0 pypdf-4.1.0 striprtf-0.0.26 tiktoken-0.6.0 typing-inspect-0.9.0 tzdata-2024.1\n"
          ]
        }
      ],
      "source": [
        "if MY_CONFIG.RUNNING_IN_COLAB:\n",
        "    !pip install \\\n",
        "                pymongo==4.6.2 \\\n",
        "                llama-index \\\n",
        "                llama-index-embeddings-mistralai \\\n",
        "                llama-index-llms-mistralai \\\n",
        "                llama-index-vector-stores-mongodb \\\n",
        "                transformers==4.38.2 \\\n",
        "                torch==2.2.1"
      ]
    },
    {
      "cell_type": "markdown",
      "metadata": {
        "id": "sPAdHF6-TxB9"
      },
      "source": [
        "## Step-6: Basic Setup"
      ]
    },
    {
      "cell_type": "markdown",
      "metadata": {
        "id": "Lr7iMIRbchXG"
      },
      "source": [
        "### 6.1 - Check if we have GPU"
      ]
    },
    {
      "cell_type": "code",
      "execution_count": 4,
      "metadata": {
        "colab": {
          "base_uri": "https://localhost:8080/"
        },
        "id": "LC7YZN-6TxB9",
        "outputId": "339534bd-61cc-4652-c2ec-98761e773c32"
      },
      "outputs": [
        {
          "name": "stdout",
          "output_type": "stream",
          "text": [
            "using CUDA/GPU:  False\n"
          ]
        }
      ],
      "source": [
        "## Check if GPU is enabled\n",
        "import os\n",
        "import torch\n",
        "\n",
        "## To disable GPU and experiment, uncomment the following line\n",
        "## Normally, you would want to use GPU, if one is available.\n",
        "# os.environ[\"CUDA_VISIBLE_DEVICES\"]=\"\"\n",
        "\n",
        "print (\"using CUDA/GPU: \", torch.cuda.is_available())\n",
        "\n",
        "for i in range(torch.cuda.device_count()):\n",
        "   print(\"device \", i , torch.cuda.get_device_properties(i).name)"
      ]
    },
    {
      "cell_type": "markdown",
      "metadata": {
        "id": "wzVQ6O5qclhV"
      },
      "source": [
        "### 6.2 - Logging"
      ]
    },
    {
      "cell_type": "code",
      "execution_count": 5,
      "metadata": {
        "id": "GNfn9TeHTxB_"
      },
      "outputs": [],
      "source": [
        "## Setup logging.  To see more loging set the level to DEBUG\n",
        "\n",
        "import sys\n",
        "import logging\n",
        "\n",
        "# logging.basicConfig(stream=sys.stdout, level=logging.DEBUG)\n",
        "logging.basicConfig(stream=sys.stdout, level=logging.WARNING)\n",
        "logging.getLogger().addHandler(logging.StreamHandler(stream=sys.stdout))"
      ]
    },
    {
      "cell_type": "markdown",
      "metadata": {
        "id": "4Mgy9rGaTxB_"
      },
      "source": [
        "## Step-7: Load Configurations"
      ]
    },
    {
      "cell_type": "code",
      "execution_count": 6,
      "metadata": {
        "colab": {
          "base_uri": "https://localhost:8080/"
        },
        "id": "bo7jEvBfTxB_",
        "outputId": "06a45baa-8efa-4046-d10e-f57d5c120617"
      },
      "outputs": [
        {
          "name": "stdout",
          "output_type": "stream",
          "text": [
            "✅ config ATLAS_URI found\n",
            "✅ config MISTRAL_API_KEY found\n"
          ]
        }
      ],
      "source": [
        "## Load settings based on where we are running\n",
        "##  - if runninning on google Colab, load from secrets\n",
        "##  - if running locally use dotenv\n",
        "\n",
        "if MY_CONFIG.RUNNING_IN_COLAB:\n",
        "    from google.colab import userdata\n",
        "    MY_CONFIG.ATLAS_URI = userdata.get('ATLAS_URI')\n",
        "    MY_CONFIG.MISTRAL_API_KEY = userdata.get('MISTRAL_API_KEY')\n",
        "    # MY_CONFIG.OPENAI_API_KEY = userdata.get('OPENAI_API_KEY')\n",
        "else:\n",
        "    import os, sys\n",
        "    from dotenv import find_dotenv, dotenv_values\n",
        "\n",
        "    this_dir = os.path.abspath('')\n",
        "    parent_dir = os.path.dirname(this_dir)\n",
        "    sys.path.append (os.path.abspath (parent_dir))\n",
        "\n",
        "    config = dotenv_values(find_dotenv())\n",
        "    # debug\n",
        "    # print (config)\n",
        "    MY_CONFIG.ATLAS_URI = config.get('ATLAS_URI')\n",
        "    MY_CONFIG.MISTRAL_API_KEY = config.get(\"MISTRAL_API_KEY\")\n",
        "## --- end load config\n",
        "\n",
        "## If you just want to quickly set the config manually, you can do so here.\n",
        "# MY_CONFIG.ATLAS_URI = ''\n",
        "# MY_CONFIG.MISTRAL_API_KEY = ''\n",
        "\n",
        "if  MY_CONFIG.ATLAS_URI:\n",
        "    print (\"✅ config ATLAS_URI found\")\n",
        "else:\n",
        "    raise Exception (\"'❌ ATLAS_URI' is not set.  Please set it above to continue...\")\n",
        "\n",
        "\n",
        "if MY_CONFIG.MISTRAL_API_KEY:\n",
        "   print (\"✅ config MISTRAL_API_KEY found\")\n",
        "else:\n",
        "    raise Exception (\"❌'MISTRAL_API_KEY' is not set.  Please set it above to continue...\")"
      ]
    },
    {
      "cell_type": "markdown",
      "metadata": {
        "id": "VloMT8vzd0Va"
      },
      "source": [
        "## Step-8: Initialize Atlas Client\n",
        "\n",
        "If this step fails, make sure 'connect from anywhere' is enabled on your Atlas network configuration\n",
        "\n",
        "![](https://raw.githubusercontent.com/sujee/mongodb-atlas-vector-search/main/images/atlas-connect-2.png)"
      ]
    },
    {
      "cell_type": "code",
      "execution_count": 7,
      "metadata": {
        "colab": {
          "base_uri": "https://localhost:8080/"
        },
        "id": "AmlSpDuqTxCA",
        "outputId": "748fd3e9-0585-44c4-d4df-dd07320df2c4"
      },
      "outputs": [
        {
          "name": "stdout",
          "output_type": "stream",
          "text": [
            "✅ Connected to Atlas instance!\n"
          ]
        }
      ],
      "source": [
        "import pymongo\n",
        "\n",
        "mongodb_client = pymongo.MongoClient(MY_CONFIG.ATLAS_URI)\n",
        "print ('✅ Connected to Atlas instance!')"
      ]
    },
    {
      "cell_type": "markdown",
      "metadata": {
        "id": "DbouzkPQTxCA"
      },
      "source": [
        "## Step-9 : Setup Embeddings Model\n",
        "\n",
        "We will use Mistral embedding"
      ]
    },
    {
      "cell_type": "code",
      "execution_count": 8,
      "metadata": {
        "id": "ENDJmHNATxCB"
      },
      "outputs": [],
      "source": [
        "from llama_index.embeddings.mistralai import MistralAIEmbedding\n",
        "from llama_index.core import Settings\n",
        "\n",
        "Settings.embed_model = MistralAIEmbedding(model_name='mistral-embed', api_key=MY_CONFIG.MISTRAL_API_KEY)"
      ]
    },
    {
      "cell_type": "code",
      "execution_count": 9,
      "metadata": {
        "colab": {
          "base_uri": "https://localhost:8080/"
        },
        "id": "MZbLCFdUeUoV",
        "outputId": "37632748-0a74-4b8e-a7be-9d8be5da6494"
      },
      "outputs": [
        {
          "name": "stdout",
          "output_type": "stream",
          "text": [
            "embedding len :  1024\n",
            "first few embeddings :  [-0.0299224853515625, -0.0028362274169921875, 0.0282745361328125, -0.034759521484375, -0.0017366409301757812, 0.0112762451171875, 0.0022411346435546875, -0.018829345703125, -0.0160064697265625, -0.010955810546875]\n"
          ]
        }
      ],
      "source": [
        "## testing\n",
        "embeddings = Settings.embed_model.get_text_embedding(\"La Plateforme - The Platform\")\n",
        "print ('embedding len : ', len(embeddings))\n",
        "print ('first few embeddings : ', embeddings[:10])"
      ]
    },
    {
      "cell_type": "markdown",
      "metadata": {
        "id": "vBlinZDWejzP"
      },
      "source": [
        "## Step-10: Setup LLM\n",
        "\n",
        "Our LLM of choice is Mistral\n",
        "\n",
        "Here are the available models from https://docs.mistral.ai/guides/model-selection/\n",
        "\n",
        "- open-mistral-7b (aka mistral-tiny-2312)\n",
        "- open-mixtral-8x7b (aka mistral-small-2312)\n",
        "- mistral-small-latest (aka mistral-small-2402)\n",
        "- mistral-medium-latest (aka mistral-medium-2312)\n",
        "- mistral-large-latest (aka mistral-large-2402)"
      ]
    },
    {
      "cell_type": "code",
      "execution_count": 10,
      "metadata": {
        "id": "Uz2oD15pen21"
      },
      "outputs": [],
      "source": [
        "from llama_index.llms.mistralai import MistralAI\n",
        "from llama_index.core import Settings\n",
        "\n",
        "llm = MistralAI(model=\"mistral-large-latest\", temperature=0.1, api_key=MY_CONFIG.MISTRAL_API_KEY)\n",
        "\n",
        "Settings.llm = llm"
      ]
    },
    {
      "cell_type": "markdown",
      "metadata": {
        "id": "GWecjR-E9GqY"
      },
      "source": [
        "## Step-11: Setup Tokenizers\n",
        "\n",
        "Setup tokenizers to match LLM for best results"
      ]
    },
    {
      "cell_type": "code",
      "execution_count": 11,
      "metadata": {
        "colab": {
          "base_uri": "https://localhost:8080/",
          "height": 269,
          "referenced_widgets": [
            "eb43e6ec221545618fcaaa91a58bc39c",
            "dc8c045e0b294088bc970a4fa1942028",
            "585372cd2a5c4ba49b0f2dfae6600b2b",
            "56919b40d69f4608ab79274d24e25cdc",
            "a1b84ab6befa42ab85cd841d1f20d4f9",
            "7323368e884e41e98fa19cc9938dcac2",
            "92c0aff43e1148eaa50dd7f42102d5df",
            "38b1b56820e9486da230143f79717d53",
            "6af79ecbd9ba47fc86413cb1e90c1e9c",
            "70106d6e114243358e3c926c94759780",
            "02951c0e4e9f4948b58988ee3ec0e855",
            "9755dbd41e854caab274aaf90ccec6f1",
            "c7a40ea3c44248e6b69c9e29b02bc51d",
            "f7934c9ee1f54d4285a30a36b7f4396c",
            "8c8bb19d906148ee995871798fc2ed97",
            "c5ccefbe81f94fcdbb2492cad7cc1a41",
            "42028769cf754764b30b2b9356ebadb3",
            "ae2e66940dd24bbf84730ebc46d0d079",
            "d7aab8a173cf498ca7a6a434789c6420",
            "3e6ecfc62b454bac83fd3fc4c31a2738",
            "4b5d2735ca3444fd9c1ec4e6391edc69",
            "b7b18458afa64eddbc20e06803785005",
            "e9e0fe302b2243f1a800656134ba006e",
            "fba4590749454126b4d55379a008dc53",
            "565b3b040d274b7184044376bc55fa8b",
            "5f0ac42b629348ad8faf8549d712dbeb",
            "e66c79c846c94ffbaa62ad2750d66ca0",
            "4a90ea40124e467d848f2f8f67d50670",
            "3911b0421cd3403991f27fd8aa3e6a9f",
            "fd24490c6aeb4b6c9ae1258ca5ce3482",
            "c85db687195d4788a61da2a13c672eaf",
            "9d12948ba2cb427e82f2a244eb254ef9",
            "35aca58ea1b345f1a0580ef9bda6b17e",
            "49a1e779a5b84a3a8a95d480b68e0242",
            "c3b53a5e71b341039795b6d7726dcfe4",
            "88fe8542c0954a3abfe051f925f8be1b",
            "f03d8477603f4b06bf1f6bc9441fc86b",
            "fb12578f583a4c5595f78d5b77f18899",
            "b0e0d4d892f144448893bc9ae498cf40",
            "7e26dd5a677f4af0a39c866310abc059",
            "a931c31f17b84ec8858184a21b60655e",
            "861e5978e0a14e8bbbc688e9c3cde69f",
            "3a50d8c56bda42948327438f99dd5725",
            "abeaf12106d146989c7c650400de9bd9"
          ]
        },
        "id": "Yjsw5svb9GqY",
        "outputId": "3a8c650e-634d-443c-ae16-97f2757acca3"
      },
      "outputs": [
        {
          "name": "stderr",
          "output_type": "stream",
          "text": [
            "/usr/local/lib/python3.10/dist-packages/huggingface_hub/utils/_token.py:88: UserWarning: \n",
            "The secret `HF_TOKEN` does not exist in your Colab secrets.\n",
            "To authenticate with the Hugging Face Hub, create a token in your settings tab (https://huggingface.co/settings/tokens), set it as secret in your Google Colab and restart your session.\n",
            "You will be able to reuse this secret in all of your notebooks.\n",
            "Please note that authentication is recommended but still optional to access public models or datasets.\n",
            "  warnings.warn(\n"
          ]
        },
        {
          "data": {
            "application/vnd.jupyter.widget-view+json": {
              "model_id": "eb43e6ec221545618fcaaa91a58bc39c",
              "version_major": 2,
              "version_minor": 0
            },
            "text/plain": [
              "tokenizer_config.json:   0%|          | 0.00/1.46k [00:00<?, ?B/s]"
            ]
          },
          "metadata": {},
          "output_type": "display_data"
        },
        {
          "data": {
            "application/vnd.jupyter.widget-view+json": {
              "model_id": "9755dbd41e854caab274aaf90ccec6f1",
              "version_major": 2,
              "version_minor": 0
            },
            "text/plain": [
              "tokenizer.model:   0%|          | 0.00/493k [00:00<?, ?B/s]"
            ]
          },
          "metadata": {},
          "output_type": "display_data"
        },
        {
          "data": {
            "application/vnd.jupyter.widget-view+json": {
              "model_id": "e9e0fe302b2243f1a800656134ba006e",
              "version_major": 2,
              "version_minor": 0
            },
            "text/plain": [
              "tokenizer.json:   0%|          | 0.00/1.80M [00:00<?, ?B/s]"
            ]
          },
          "metadata": {},
          "output_type": "display_data"
        },
        {
          "data": {
            "application/vnd.jupyter.widget-view+json": {
              "model_id": "49a1e779a5b84a3a8a95d480b68e0242",
              "version_major": 2,
              "version_minor": 0
            },
            "text/plain": [
              "special_tokens_map.json:   0%|          | 0.00/72.0 [00:00<?, ?B/s]"
            ]
          },
          "metadata": {},
          "output_type": "display_data"
        }
      ],
      "source": [
        "from transformers import AutoTokenizer\n",
        "from llama_index.core import Settings\n",
        "\n",
        "tokenizer = AutoTokenizer.from_pretrained(\n",
        "    \"mistralai/Mistral-7B-Instruct-v0.2\"\n",
        ")\n",
        "\n",
        "# set tokienizer for llama-index : https://docs.llamaindex.ai/en/stable/module_guides/supporting_modules/settings/#tokenizer\n",
        "Settings.tokenzier = tokenizer #typo?\n",
        "Settings.tokenizer = tokenizer\n"
      ]
    },
    {
      "cell_type": "code",
      "execution_count": 12,
      "metadata": {
        "colab": {
          "base_uri": "https://localhost:8080/"
        },
        "id": "t8Tb2yVc9GqZ",
        "outputId": "5e080595-f48e-4d06-ff3b-7320418464a7"
      },
      "outputs": [
        {
          "name": "stdout",
          "output_type": "stream",
          "text": [
            "Text words count :  7\n",
            "tokens count:  9\n",
            "Tokens: ['▁Token', 'izers', '▁are', '▁essential', '▁for', '▁natural', '▁language', '▁processing', '.']\n"
          ]
        }
      ],
      "source": [
        "## test tokenizer\n",
        "text = \"Tokenizers are essential for natural language processing.\"\n",
        "tokens = tokenizer.tokenize(text)\n",
        "print (\"Text words count : \", len (text.split()))\n",
        "print ('tokens count: ', len(tokens))\n",
        "print(\"Tokens:\", tokens)"
      ]
    },
    {
      "cell_type": "markdown",
      "metadata": {
        "id": "Ojr4Ez1M9GqZ"
      },
      "source": [
        "## Step-12 - Quick testing"
      ]
    },
    {
      "cell_type": "code",
      "execution_count": 13,
      "metadata": {
        "colab": {
          "base_uri": "https://localhost:8080/"
        },
        "id": "C56QJtLCfZDT",
        "outputId": "e552aa46-e79d-4133-e010-74646bcb24b4"
      },
      "outputs": [
        {
          "name": "stdout",
          "output_type": "stream",
          "text": [
            "The capital of the United States is Washington, D.C. It was established in 1790 and is located on the east coast of the country, between the states of Maryland and Virginia. The city is named after George Washington, the first president of the United States, and the \"D.C.\" stands for District of Columbia. Washington, D.C. is known for its iconic landmarks, such as the White House, the Capitol Building, and the Lincoln Memorial, as well as its many museums and cultural institutions.\n"
          ]
        }
      ],
      "source": [
        "## Testing\n",
        "resp = llm.complete(\"The capital of the United States is \")\n",
        "print (resp)"
      ]
    },
    {
      "cell_type": "markdown",
      "metadata": {
        "id": "ug5vwMnOTxCB"
      },
      "source": [
        "## Step-13: Connect Illama-Index and MongoDB Atlas\n",
        "\n",
        "Let's define MongoDB Atlas as our vector storage. This is critical to stored indexed data and then query"
      ]
    },
    {
      "cell_type": "code",
      "execution_count": 14,
      "metadata": {
        "id": "ard50bRGhHkW"
      },
      "outputs": [],
      "source": [
        "from llama_index.vector_stores.mongodb import MongoDBAtlasVectorSearch\n",
        "from llama_index.core import StorageContext\n",
        "from llama_index.core import VectorStoreIndex\n",
        "\n",
        "\n",
        "vector_store = MongoDBAtlasVectorSearch(mongodb_client = mongodb_client,\n",
        "                                        db_name = MY_CONFIG.DB_NAME,\n",
        "                                        collection_name = MY_CONFIG.COLLECTION_NAME,\n",
        "                                        index_name  = MY_CONFIG.INDEX_NAME,\n",
        "                                        embedding_key = MY_CONFIG.EMBEDDING_ATTRIBUTE,\n",
        "                                        ## the following columns are set to default values\n",
        "                                       # text_key = 'text', metadata_= 'metadata',\n",
        "                                 )\n",
        "storage_context = StorageContext.from_defaults(vector_store=vector_store)\n",
        "\n",
        "index = VectorStoreIndex.from_vector_store(vector_store=vector_store, storage_context=storage_context)"
      ]
    },
    {
      "cell_type": "markdown",
      "metadata": {
        "id": "UY-mzO11TxCB"
      },
      "source": [
        "## Step-12: Query Data / Ask Questions\n",
        "\n",
        "Now that we have every thing setup, let's ask some questions\n",
        "\n",
        "These are the PDF documents we have loaded into Atlas, you can download them and inspect them.\n",
        "\n",
        "- [10k/lyft_2021.pdf](https://raw.githubusercontent.com/sujee/mongodb-atlas-vector-search/main/data/10k/lyft_2021.pdf)\n",
        "- [10k/uber_2021.pdf](https://raw.githubusercontent.com/sujee/mongodb-atlas-vector-search/main/data/10k/uber_2021.pdf)"
      ]
    },
    {
      "cell_type": "code",
      "execution_count": 15,
      "metadata": {
        "colab": {
          "base_uri": "https://localhost:8080/"
        },
        "id": "kyPsv-pZTxCB",
        "outputId": "3f4289f5-a22c-4519-bdbb-3114889da753"
      },
      "outputs": [
        {
          "name": "stdout",
          "output_type": "stream",
          "text": [
            "Uber's total revenue for the year ended December 31, 2021, was $17,455 million. This revenue is disaggregated into four main offerings: Mobility, Delivery, Freight, and All Other. The revenue from Mobility was $6,953 million, Delivery revenue was $8,362 million, Freight revenue was $2,132 million, and All Other revenue was $8 million for the same period.\n",
            "\n",
            "Response(response=\"Uber's total revenue for the year ended December 31, 2021, \"\n",
            "                  'was $17,455 million. This revenue is disaggregated into '\n",
            "                  'four main offerings: Mobility, Delivery, Freight, and All '\n",
            "                  'Other. The revenue from Mobility was $6,953 million, '\n",
            "                  'Delivery revenue was $8,362 million, Freight revenue was '\n",
            "                  '$2,132 million, and All Other revenue was $8 million for '\n",
            "                  'the same period.',\n",
            "         source_nodes=[   NodeWithScore(node=TextNode(id_='58549811-0cef-4f75-bef6-e10c1a14a78d', embedding=None, metadata={'page_label': '98', 'file_name': 'uber_2021.pdf', 'file_path': '/content/data/10k/uber_2021.pdf', 'file_type': 'application/pdf', 'file_size': 1880483, 'creation_date': '2024-03-22', 'last_modified_date': '2024-03-22'}, excluded_embed_metadata_keys=['file_name', 'file_type', 'file_size', 'creation_date', 'last_modified_date', 'last_accessed_date'], excluded_llm_metadata_keys=['file_name', 'file_type', 'file_size', 'creation_date', 'last_modified_date', 'last_accessed_date'], relationships={<NodeRelationship.SOURCE: '1'>: RelatedNodeInfo(node_id='5d21cf6b-1a3c-4ac9-96e1-41292d6eaa35', node_type=<ObjectType.DOCUMENT: '4'>, metadata={'page_label': '98', 'file_name': 'uber_2021.pdf', 'file_path': '/content/data/10k/uber_2021.pdf', 'file_type': 'application/pdf', 'file_size': 1880483, 'creation_date': '2024-03-22', 'last_modified_date': '2024-03-22'}, hash='49c2c624862fa9f3ca36bec2fa4dc8c63b16743b2f1225aa5d555b51653f6205'), <NodeRelationship.PREVIOUS: '2'>: RelatedNodeInfo(node_id='44e700a6-8dd8-4119-ae68-3b5fbdf3874d', node_type=<ObjectType.TEXT: '1'>, metadata={'page_label': '97', 'file_name': 'uber_2021.pdf', 'file_path': '/content/data/10k/uber_2021.pdf', 'file_type': 'application/pdf', 'file_size': 1880483, 'creation_date': '2024-03-22', 'last_modified_date': '2024-03-22'}, hash='a89dabbf2e866d128a665efe783b515dc5a1cc779e7795d32abec9f3fa0b53bd'), <NodeRelationship.NEXT: '3'>: RelatedNodeInfo(node_id='e48f85c6-6c49-4c94-a064-5e2abb99f5aa', node_type=<ObjectType.TEXT: '1'>, metadata={}, hash='dcd587e68cf25c5aea109c9985a341f6800db75fac8ff3f6629e3b6fb21d848c')}, text='Note 2 – RevenueThe\\n following  tables  present  our  revenues  disaggregated  by  offering  and  geographical  region.  Revenue  by  geographical  region  is  based  on  where  thetransaction\\n occurred. This level of disaggregation takes into consideration how the nature, amount, timing, and uncertainty of revenue and cash flows are affectedby economic factors. Revenue \\nis presented in the following tables for the years ended December 31, 2019, 2020 and 2021, respectively (in millions):Year Ended December 31,\\n2019\\n2020 2021 Mobility revenue \\n$ 10,707 $ 6,089 $ 6,953 Delivery revenue \\n1,401 3,904 8,362 Freight revenue\\n731 1,011 2,132 All Other revenue\\n161 135 8 Total revenue\\n$ 13,000 $ 11,139 $ 17,455  We\\n offer subscription memberships to end-users including Uber One, Uber Pass, Rides Pass, and Eats Pass (“Subscription”). We recognize Subscriptionfees\\n ratably over the life of the pass. We allocate Subscription fees earned to Mobility and Delivery revenue on a proportional basis, based on usage for eachoffering during the respe\\nctive period.Year Ended December 31,\\n2019\\n2020 2021 United States and Canada\\n$ 8,465 $ 6,611 $ 10,094 Latin America (\"LatAm\")\\n1,862 1,295 1,417 Europe, Middle East and Africa \\n(\"EMEA\")1,852 2,086 3,213 Asia Pacific (\"APAC\")\\n821 1,147 2,731 Total revenue\\n$ 13,000 $ 11,139 $ 17,455 Revenue\\nMobility Revenue\\nWe derive\\n revenue primarily from fees paid by Mobility Drivers for the use of our platform(s) and related services to facilitate and complete Mobility servicesand,\\n in certain markets, revenue from fees paid by end-users for connection services obtained via the platform. Mobility revenue also includes immaterial revenuestreams\\n such as our financial partnerships products and Vehicle Solutions. Vehicle Solutions revenue is accounted for as an operating lease as defined under ASC842.\\nDelivery Revenue\\nWe\\n derive  revenue  for  Delivery  from  Merchants’  and  Couriers’  use  of  the  Delivery  platform  and  related  service  to  facilitate  and  complete  Deliverytransactions. Additionally,\\n in certain markets where we are responsible for delivery services, delivery fees charged to end-users are also included in revenue, whilepayments\\n to Couriers in exchange for delivery services are recognized in cost of revenue. Delivery also includes advertising revenue from sponsored listing feespaid by merchants and brands in \\nexchange for advertising services.Freight Revenue\\nFreight\\n revenue consists of revenue from freight transportation services provided to shippers. During the fourth quarter of 2021, we completed the acquisitionof\\n Transplace, and our Freight revenue also includes revenue from transportation management. Refer to Note 18 – Business Combinations for further informationon the Transplace acquisi\\ntion.All Other Revenue\\nAll Other revenue primar\\nily includes collaboration revenue related to our ATG business and revenue from our New Mobility offerings and products.ATG\\n collaboration revenue was related to a three-year joint collaboration agreement we entered into in 2019. During the first quarter of 2021, we completedthe sale of Apparate USA LLC (“Apparate\\n” or the “ATG Business”) to Aurora Innovation, Inc. (“Aurora”). Refer to Note 19 – Divestitures for further information.New\\n Mobility offerings and products provided users access to rides through a variety of modes, including dockless e-bikes and e-scooters (“New Mobility”),platform\\n incubator group offerings and other immaterial revenue streams. New Mobility revenue is accounted for as an operating lease as defined under ASC 842.After the JUMP divestiture during \\nthe second quarter of 2020, revenue from New Mobility products, including dockless e-bikes, was no longer material.(1)(1)\\n(1)\\n96', start_char_idx=0, end_char_idx=3736, text_template='{metadata_str}\\n\\n{content}', metadata_template='{key}: {value}', metadata_seperator='\\n'), score=0.9177227020263672),\n",
            "                          NodeWithScore(node=TextNode(id_='67ee49a2-e53e-4b38-8dca-f1d20e3138b9', embedding=None, metadata={'page_label': '63', 'file_name': 'uber_2021.pdf', 'file_path': '/content/data/10k/uber_2021.pdf', 'file_type': 'application/pdf', 'file_size': 1880483, 'creation_date': '2024-03-22', 'last_modified_date': '2024-03-22'}, excluded_embed_metadata_keys=['file_name', 'file_type', 'file_size', 'creation_date', 'last_modified_date', 'last_accessed_date'], excluded_llm_metadata_keys=['file_name', 'file_type', 'file_size', 'creation_date', 'last_modified_date', 'last_accessed_date'], relationships={<NodeRelationship.SOURCE: '1'>: RelatedNodeInfo(node_id='8c2cca66-362b-4f44-8f9f-a8507c3c4f3b', node_type=<ObjectType.DOCUMENT: '4'>, metadata={'page_label': '63', 'file_name': 'uber_2021.pdf', 'file_path': '/content/data/10k/uber_2021.pdf', 'file_type': 'application/pdf', 'file_size': 1880483, 'creation_date': '2024-03-22', 'last_modified_date': '2024-03-22'}, hash='42b677ad39a21b81078853cd5939377e51b16d54f3cd6eb8ba126c46dde6d91e'), <NodeRelationship.PREVIOUS: '2'>: RelatedNodeInfo(node_id='6f791421-f553-4bab-9e8b-0c126e75fde4', node_type=<ObjectType.TEXT: '1'>, metadata={'page_label': '62', 'file_name': 'uber_2021.pdf', 'file_path': '/content/data/10k/uber_2021.pdf', 'file_type': 'application/pdf', 'file_size': 1880483, 'creation_date': '2024-03-22', 'last_modified_date': '2024-03-22'}, hash='089f161a3ab304a7ced42471547da1812cb7d7c40c3a40393f0232eb6e673b89'), <NodeRelationship.NEXT: '3'>: RelatedNodeInfo(node_id='76ba7ed2-bd28-4e39-be4d-45b0fc3efc28', node_type=<ObjectType.TEXT: '1'>, metadata={}, hash='ba56d8706956afd8c6935e4c4c8618f3d8d22c5c7111b5de8574f119be650464')}, text='Gross Bookings. We  define Gross Bookings as the total dollar value, including any applicable taxes, tolls, and fees, of: Mobility and New Mobility rides;Delivery\\n orders (in each case without any adjustment for consumer discounts and refunds); Driver and Merchant earnings; Driver incentives; and Freight revenue.Gross Bookings do not include tips earned by Driv\\ners. Gross Bookings are an indication of the scale of our current platform, which ultimately impacts revenue.\\n(In millions)\\n Q1 2020 Q2 2020 Q3 2020 Q4 2020 Q1 2021 Q2 2021 Q3 2021 Q4 2021 Mobility\\n$ 10,874 $ 3,046 $ 5,905 $ 6,789 $ 6,773 $ 8,640 $ 9,883 $ 11,340 Delivery\\n4,683 6,961 8,550 10,050 12,461 12,912 12,828 13,444 Freight\\n198 212 290 313 302 348 402 1,082 All Other\\n21 5 — — — — — — Take Rate\\n is defined as revenue as a p ercentage of Gross Bookings.Adjusted EBITDA.\\n See  the section titled “Reconciliations of Non-GAAP Financial Measures” for our definition and a reconciliation of net loss attributable toUber Technologies, Inc. to Adjusted EBITDA.\\nYear Ended December 31,\\n(In millions, except percentages)\\n2020 2021 2020 to 2021 %Change\\nAdjusted EBITDA\\n$ (2,528) $ (774) 69 %2021 Compared to 2020\\nAdjusted\\n EBITDA  loss  improved  $1.8  billion,  or  69%,  primarily  attributable  to  a  $525  million  improvement  in  Delivery  Adjusted  EBITDA  loss,  a  $427million\\n increase in Mobility Adjusted EBITDA, a $255 million decrease in Corporate G&A and Platform R&D costs as well as the favorable impact of $450million\\n in our other business offerings driven by the sale of our ATG Business in the first quarter of 2021 and the JUMP Divestiture that occurred in the secondquarter of 2020.\\nReconciliations of Non-GAAP Financial Measures\\nWe\\n collect and analyze operating and financial data to evaluate the health of our business and assess our performance. In addition to revenue, net income(loss),\\n income  (loss)  from  operations,  and  other  results  under  GAAP,  we  use  Adjusted  EBITDA  and  revenue  growth  rates  in  constant  currency,  which  aredescribed\\n below, to evaluate our business. We have included these non-GAAP financial measures because they are key measures used by our management toevaluate\\n our  operating  performance.  Accordingly,  we  believe  that  these  non-GAAP  financial  measures  provide  useful  information  to  investors  and  others  inunderstanding\\n and  evaluating  our  operating  results  in  the  same  manner  as  our  management  team  and  board  of  directors.  Our  calculation  of  these  non-GAAP\\n financial measures may differ from similarly-titled non-GAAP measures, if any, reported by our peer companies. These non-GAAP financial measuresshould not be considered in isola\\ntion from, or as substitutes for, financial information prepared in accordance with GAAP.Adjusted EBITDA\\nWe\\n define  Adjusted  EBITDA  as  net  income  (loss),  excluding  (i)  income  (loss)  from  discontinued  operations,  net  of  income  taxes,  (ii)  net  income  (loss)attributable\\n to non-controlling interests, net of tax, (iii) provision for (benefit from) income taxes, (iv) income (loss) from equity method investments, (v) interestexpense,\\n (vi)  other  income  (expense),  net,  (vii)  depreciation  and  amortization,  (viii)  stock-based  compensation  expense,  (ix)  certain  legal,  tax,  and  regulatoryreserve changes and sett\\nlements, (x) goodwill and asset61', start_char_idx=0, end_char_idx=3397, text_template='{metadata_str}\\n\\n{content}', metadata_template='{key}: {value}', metadata_seperator='\\n'), score=0.9126865863800049)],\n",
            "         metadata={   '58549811-0cef-4f75-bef6-e10c1a14a78d': {   'creation_date': '2024-03-22',\n",
            "                                                                  'file_name': 'uber_2021.pdf',\n",
            "                                                                  'file_path': '/content/data/10k/uber_2021.pdf',\n",
            "                                                                  'file_size': 1880483,\n",
            "                                                                  'file_type': 'application/pdf',\n",
            "                                                                  'last_modified_date': '2024-03-22',\n",
            "                                                                  'page_label': '98'},\n",
            "                      '67ee49a2-e53e-4b38-8dca-f1d20e3138b9': {   'creation_date': '2024-03-22',\n",
            "                                                                  'file_name': 'uber_2021.pdf',\n",
            "                                                                  'file_path': '/content/data/10k/uber_2021.pdf',\n",
            "                                                                  'file_size': 1880483,\n",
            "                                                                  'file_type': 'application/pdf',\n",
            "                                                                  'last_modified_date': '2024-03-22',\n",
            "                                                                  'page_label': '63'}})\n",
            "CPU times: user 209 ms, sys: 23.8 ms, total: 233 ms\n",
            "Wall time: 5.03 s\n"
          ]
        }
      ],
      "source": [
        "%%time\n",
        "\n",
        "from IPython.display import Markdown\n",
        "from pprint import pprint\n",
        "\n",
        "response = index.as_query_engine().query(\"What was Uber's revenue?\")\n",
        "print (response)\n",
        "print()\n",
        "pprint(response, indent=4)"
      ]
    },
    {
      "cell_type": "code",
      "execution_count": 16,
      "metadata": {
        "colab": {
          "base_uri": "https://localhost:8080/"
        },
        "id": "2MbPbmegTxCC",
        "outputId": "4400d10d-f970-4e0f-cdd3-71644f9085dd"
      },
      "outputs": [
        {
          "name": "stdout",
          "output_type": "stream",
          "text": [
            "In 2020, Lyft's revenue was $2,364,681 thousand. However, it's important to note that the company had a net loss of $1,752,857 thousand that year. This means that while they generated over $2 billion in revenue, their expenses exceeded their income, resulting in a net loss.\n",
            "\n",
            "Response(response=\"In 2020, Lyft's revenue was $2,364,681 thousand. However, \"\n",
            "                  \"it's important to note that the company had a net loss of \"\n",
            "                  '$1,752,857 thousand that year. This means that while they '\n",
            "                  'generated over $2 billion in revenue, their expenses '\n",
            "                  'exceeded their income, resulting in a net loss.',\n",
            "         source_nodes=[   NodeWithScore(node=TextNode(id_='51ee5bff-1ac3-4688-b69c-5fa342ba7642', embedding=None, metadata={'page_label': '79', 'file_name': 'lyft_2021.pdf', 'file_path': '/content/data/10k/lyft_2021.pdf', 'file_type': 'application/pdf', 'file_size': 1440303, 'creation_date': '2024-03-22', 'last_modified_date': '2024-03-22'}, excluded_embed_metadata_keys=['file_name', 'file_type', 'file_size', 'creation_date', 'last_modified_date', 'last_accessed_date'], excluded_llm_metadata_keys=['file_name', 'file_type', 'file_size', 'creation_date', 'last_modified_date', 'last_accessed_date'], relationships={<NodeRelationship.SOURCE: '1'>: RelatedNodeInfo(node_id='0575878e-9af8-45e1-a2bc-e64e6a62a102', node_type=<ObjectType.DOCUMENT: '4'>, metadata={'page_label': '79', 'file_name': 'lyft_2021.pdf', 'file_path': '/content/data/10k/lyft_2021.pdf', 'file_type': 'application/pdf', 'file_size': 1440303, 'creation_date': '2024-03-22', 'last_modified_date': '2024-03-22'}, hash='3f72ccfafccd54332b69dfe84e161a9f8ef43cac5d8b4cca974a862406284acd'), <NodeRelationship.PREVIOUS: '2'>: RelatedNodeInfo(node_id='fa6daeeb-5bf4-428c-9e2b-80d66387cc08', node_type=<ObjectType.TEXT: '1'>, metadata={'page_label': '78', 'file_name': 'lyft_2021.pdf', 'file_path': '/content/data/10k/lyft_2021.pdf', 'file_type': 'application/pdf', 'file_size': 1440303, 'creation_date': '2024-03-22', 'last_modified_date': '2024-03-22'}, hash='f6f112173523527749c0a860e644ad06cc87375b67c25487914f941fa61da294'), <NodeRelationship.NEXT: '3'>: RelatedNodeInfo(node_id='4f8d49c1-b8cd-4d5e-a972-2366a76da94d', node_type=<ObjectType.TEXT: '1'>, metadata={}, hash='8949c39ee85f566ef2203d53cc8e9708d1f4650ef0b85f9b0e1588938150f3ab')}, text='Lyft, Inc.Consolidated Statements of Operations\\n(in thousands, except for per share data\\n) Year Ended December 31,\\n2021\\n2020 2019 Revenue\\n$ 3,208,323 $ 2,364,681 $ 3,615,960 Costs and expenses\\nCost of revenue\\n1,649,532 1,447,516 2,176,469 Operations and support\\n402,233 453,963 636,116 Research and development\\n911,946 909,126 1,505,640 Sales and marketing\\n411,406 416,331 814,122 General and administrative\\n915,638 946,127 1,186,093 Total costs and expenses\\n4,290,755 4,173,063 6,318,440 Loss from operations\\n(1,082,432) (1,808,382) (2,702,480) Interest expense\\n(51,635) (32,678) — Other income, net\\n135,933 43,669 102,595 Loss before income taxes\\n(998,134) (1,797,391) (2,599,885) Provision for (benefit fro\\nm) income taxes11,225 (44,534) 2,356 Net loss\\n$ (1,009,359) $ (1,752,857) $ (2,602,241) Net loss per share, basic and di\\nluted$ (3.02) $ (5.61) $ (11.44) Weighted-average numb\\ner of shares outstanding used to compute net loss per share, basic and diluted334,724 312,175 227,498 Stock-based compensation included in costs and expenses:\\nCost of revenue\\n$ 39,491 $ 28,743 $ 81,321 Operations and support\\n24,083 15,829 75,212 Research and development\\n414,324 325,624 971,941 Sales and marketing\\n38,243 23,385 72,046 General and administrative\\n208,419 172,226 398,791 The accompanying notes are \\nan integral part of these consolidated financial statements.79', start_char_idx=0, end_char_idx=1363, text_template='{metadata_str}\\n\\n{content}', metadata_template='{key}: {value}', metadata_seperator='\\n'), score=0.9037483334541321),\n",
            "                          NodeWithScore(node=TextNode(id_='0ab99f73-80fd-4f9e-9c14-9092d7f23b11', embedding=None, metadata={'page_label': '57', 'file_name': 'lyft_2021.pdf', 'file_path': '/content/data/10k/lyft_2021.pdf', 'file_type': 'application/pdf', 'file_size': 1440303, 'creation_date': '2024-03-22', 'last_modified_date': '2024-03-22'}, excluded_embed_metadata_keys=['file_name', 'file_type', 'file_size', 'creation_date', 'last_modified_date', 'last_accessed_date'], excluded_llm_metadata_keys=['file_name', 'file_type', 'file_size', 'creation_date', 'last_modified_date', 'last_accessed_date'], relationships={<NodeRelationship.SOURCE: '1'>: RelatedNodeInfo(node_id='aa3b873c-aaf1-4a84-af88-4550a78be484', node_type=<ObjectType.DOCUMENT: '4'>, metadata={'page_label': '57', 'file_name': 'lyft_2021.pdf', 'file_path': '/content/data/10k/lyft_2021.pdf', 'file_type': 'application/pdf', 'file_size': 1440303, 'creation_date': '2024-03-22', 'last_modified_date': '2024-03-22'}, hash='62f1b128c1066b21296cc040d324adcd42f880e793cde37648ba910efba7658d'), <NodeRelationship.PREVIOUS: '2'>: RelatedNodeInfo(node_id='7509038c-3897-4053-aff2-2cd3e4da1828', node_type=<ObjectType.TEXT: '1'>, metadata={'page_label': '56', 'file_name': 'lyft_2021.pdf', 'file_path': '/content/data/10k/lyft_2021.pdf', 'file_type': 'application/pdf', 'file_size': 1440303, 'creation_date': '2024-03-22', 'last_modified_date': '2024-03-22'}, hash='a78d781855dde8089eb8b4330f31665d0d5e4d8f708f804986820b1ffa12dea2'), <NodeRelationship.NEXT: '3'>: RelatedNodeInfo(node_id='c6031653-06e3-4c7d-945c-db2ec530a6ba', node_type=<ObjectType.TEXT: '1'>, metadata={}, hash='dd00756ddd7c3e3495014a0bf546c99ccc630fc346a1d155a9b1f254c80e2be0')}, text='We have strengthened our business over the last year and we are confident in our ability to continue to navigate this challenging period. In 2021, we saw continuedrecovery\\n as vaccines were more widely distributed and more communities fully reopened, which resulted in revenue increasing 36% in 2021 compared to the prior year,and\\n the number of Active Riders increasing 49.2% in the fourth quarter of 2021 compared to the fourth quarter of 2020. Net loss decreased $743.5 million, or 42%, from$1.8\\n billion in 2020 to $1.0 billion in 2021, which included a benefit from a pre-tax gain of $119.3 million from the transaction with Woven Planet. Adjusted EBITDA in2021\\n was  $92.9  million,  marking  our  first  annual  Adjusted  EBITDA  profitability.  We  remain  focused  on  our  long-term  growth  opportunities.  With  $2.3  billion  inunrestricted\\n cash and cash equivalents and short-term investments as of December 31, 2021, we believe we have sufficient liquidity to continue business operations and totake\\n action we determine to be in the best interests of our employees, stockholders, stakeholders and of drivers and riders on the Lyft Platform. For more information onrisks associated with the COVID-19 pandem\\nic, see the section titled “Risk Factors” in Item 1A of Part I.Recent Developments\\nTransaction with Woven Planet Holdings, Inc. \\n(“Woven Planet”)On\\n July 13, 2021, we completed a multi-element transaction with Woven Planet, a subsidiary of Toyota Motor Corporation, for the divestiture of certain assetsrelated\\n to  our  self-driving  vehicle  division,  Level  5,  as  well  as  commercial  agreements  for  the  utilization  of  Lyft  rideshare  and  fleet  data  to  accelerate  the  safety  andcommercialization of\\n the automated-driving vehicles that Woven Planet is developing. We will receive, in total, approximately $515 million in cash in connection with thistransaction, with $165 mill\\nion paid upfront and $350 million to be paid over a five-year period.The\\n divestiture did not represent a strategic shift with a major effect on our operations and financial results, and therefore does not qualify for reporting as adiscontinued\\n operation. We recognized a pre-tax gain of $119.3 million as a result of our transaction with Woven Planet, which was included in other income, net on theconsolidated\\n statement of operations for the quarter ended September 30, 2021. Refer to Note 4 \"Divestitures\" to the consolidated financial statements for informationregarding the divestitu\\nre of certain assets related to our self-driving vehicles division, Level 5.Reinsurance of Certain Legacy Auto Liabil\\nity InsuranceOn\\n April 22, 2021, our wholly-owned subsidiary, Pacific Valley Insurance Company, Inc. (“PVIC”), entered into a Quota Share Reinsurance Agreement (the“Reinsurance\\n Agreement”) with DARAG Bermuda LTD (“DARAG”), under which DARAG reinsured a legacy portfolio of auto insurance policies, based on reserves inplace\\n as of March 31, 2021, for $183.2 million of coverage above the liabilities recorded as of that date. Under the terms of the Reinsurance Agreement, PVIC ceded toDARAG\\n approximately $251.3 million of certain legacy insurance liabilities for policies underwritten during the period of October 1, 2018 to October 1, 2020, with anaggregate\\n limit of $434.5 million, for a premium of $271.5 million (“the Reinsurance Transaction”). The Reinsurance Agreement arrangement does not discharge PVIC ofits\\n obligations to the policyholder. A loss of approximately $20.4 million for the net cost of the Reinsurance Transaction was recognized on the consolidated statement ofoperations for the nine mon\\nths ended September 30, 2021, with $20.2 million in cost of revenue and $0.2 million in general and administrative expenses.Active Riders and Revenue per Active Rider\\nThe\\n COVID-19  pandemic  caused  a  significant  decrease  in  Active  Riders  and  in  revenue  per  Active  Rider  beginning  March  2020.  Though  we  experienced  arecovery in\\n revenue per Active Rider and the number of Active Riders in 2021, the number of Active Rider levels have not reached levels we experienced prior to the onsetof\\n the pandemic in March 2020.', start_char_idx=0, end_char_idx=4181, text_template='{metadata_str}\\n\\n{content}', metadata_template='{key}: {value}', metadata_seperator='\\n'), score=0.903551459312439)],\n",
            "         metadata={   '0ab99f73-80fd-4f9e-9c14-9092d7f23b11': {   'creation_date': '2024-03-22',\n",
            "                                                                  'file_name': 'lyft_2021.pdf',\n",
            "                                                                  'file_path': '/content/data/10k/lyft_2021.pdf',\n",
            "                                                                  'file_size': 1440303,\n",
            "                                                                  'file_type': 'application/pdf',\n",
            "                                                                  'last_modified_date': '2024-03-22',\n",
            "                                                                  'page_label': '57'},\n",
            "                      '51ee5bff-1ac3-4688-b69c-5fa342ba7642': {   'creation_date': '2024-03-22',\n",
            "                                                                  'file_name': 'lyft_2021.pdf',\n",
            "                                                                  'file_path': '/content/data/10k/lyft_2021.pdf',\n",
            "                                                                  'file_size': 1440303,\n",
            "                                                                  'file_type': 'application/pdf',\n",
            "                                                                  'last_modified_date': '2024-03-22',\n",
            "                                                                  'page_label': '79'}})\n",
            "CPU times: user 67.7 ms, sys: 8.16 ms, total: 75.9 ms\n",
            "Wall time: 2.79 s\n"
          ]
        }
      ],
      "source": [
        "%%time\n",
        "\n",
        "response = index.as_query_engine().query(\"How much money did Lyft make in 2020?\")\n",
        "print (response)\n",
        "print()\n",
        "pprint(response, indent=4)"
      ]
    },
    {
      "cell_type": "code",
      "execution_count": 17,
      "metadata": {
        "colab": {
          "base_uri": "https://localhost:8080/"
        },
        "id": "rrv_m45gTxCC",
        "outputId": "cc0fc91c-3c6f-4657-901e-91e57055eb8b"
      },
      "outputs": [
        {
          "name": "stdout",
          "output_type": "stream",
          "text": [
            "The provided context does not include information about Lyft's revenue for the year 2018.\n",
            "\n",
            "Response(response='The provided context does not include information about '\n",
            "                  \"Lyft's revenue for the year 2018.\",\n",
            "         source_nodes=[   NodeWithScore(node=TextNode(id_='596f6360-8592-4b1a-b3ce-b9d42f4c6545', embedding=None, metadata={'page_label': '58', 'file_name': 'lyft_2021.pdf', 'file_path': '/content/data/10k/lyft_2021.pdf', 'file_type': 'application/pdf', 'file_size': 1440303, 'creation_date': '2024-03-22', 'last_modified_date': '2024-03-22'}, excluded_embed_metadata_keys=['file_name', 'file_type', 'file_size', 'creation_date', 'last_modified_date', 'last_accessed_date'], excluded_llm_metadata_keys=['file_name', 'file_type', 'file_size', 'creation_date', 'last_modified_date', 'last_accessed_date'], relationships={<NodeRelationship.SOURCE: '1'>: RelatedNodeInfo(node_id='176d2716-4db6-4091-877f-de73603ac9f7', node_type=<ObjectType.DOCUMENT: '4'>, metadata={'page_label': '58', 'file_name': 'lyft_2021.pdf', 'file_path': '/content/data/10k/lyft_2021.pdf', 'file_type': 'application/pdf', 'file_size': 1440303, 'creation_date': '2024-03-22', 'last_modified_date': '2024-03-22'}, hash='357c0eb1b5e90ee2aae621350ebd22b8bbee6e36c1df7b64c0a5c59f3936f186'), <NodeRelationship.PREVIOUS: '2'>: RelatedNodeInfo(node_id='c6031653-06e3-4c7d-945c-db2ec530a6ba', node_type=<ObjectType.TEXT: '1'>, metadata={'page_label': '57', 'file_name': 'lyft_2021.pdf', 'file_path': '/content/data/10k/lyft_2021.pdf', 'file_type': 'application/pdf', 'file_size': 1440303, 'creation_date': '2024-03-22', 'last_modified_date': '2024-03-22'}, hash='85d04b2b62b6ea19102e9bf2840b6fc750c0a207f782bf456efddf21a7451f43'), <NodeRelationship.NEXT: '3'>: RelatedNodeInfo(node_id='845aefb1-6d99-4df1-a1aa-9270d2a7ca43', node_type=<ObjectType.TEXT: '1'>, metadata={}, hash='5d039a8bdbb492ba8cdfaead89eccd791262e9ee34818fc07833fa938b408704')}, text=\"Revenue per Active Rider2021\\n2020 2019 2020 to 2021 %Change\\n2019 to 2020 %Change\\nThree Months Ended March 31\\n$45.13 $45.06 $37.86 0.2% 19.0% Three Months Ended June 30\\n$44.63 $39.06 $39.77 14.3% (1.8)% Three Months Ended September 30\\n$45.63 $39.94 $42.82 14.2% (6.7)% Three Months Ended December 31\\n$51.79 $45.40 $44.40 14.1% 2.3% We define Active Riders as \\nall riders who take at least one ride during a quarter where the Lyft Platform processes the transaction. An Active Rider is identified bya\\n unique phone number. If a rider has two mobile phone numbers or changed their phone number and such rider took rides using both phone numbers during the quarter,that person would count\\n as two Active Riders. If a rider has a personal and business profile tied to the same mobile phone number, that person would be considered a singleActive Rider. If a ride has been requested by an\\n organization using our Concierge offering for the benefit of a rider, we exclude this rider in the calculation of Active Ridersunless the ride is access\\nible in the Lyft App. Revenue per Active Rider is calculated by dividing revenue for a period by Active Riders for the same period.Beginning\\n in the fourth quarter of 2020, some riders were able to access their Concierge rides in the Lyft App if they already had a Lyft account. Accordingly,Lyft\\n updated the definition of Active Riders to include Concierge riders if the rider’s phone number matches that of a verified Lyft account, allowing the rider to accesstheir\\n ride in the Lyft App. This update resulted in a 0.01% increase, or an additional 927 Active Riders in the fourth quarter of 2020. Prior to the fourth quarter of 2020, allConcierge riders were exc\\nluded from the calculation of Active Riders as Concierge rides could not be matched with verified rider accounts.With\\n the exception of the three months ended March 31, 2021 as compared to the three months ended March 31, 2020, Active Riders in each of the three monthperiods\\n ended  June  30,  September  30,  and  December  31,  2021  increased  compared  to  the  same  period  in  2020  as  vaccines  were  more  widely  distributed  and  morecommunities\\n fully reopened. Active Riders in the three months periods ended June 30, September 30, and December 31, 2020 represented significantly lower Active Ridercounts\\n since shelter-in-place orders and other travel restrictions were first implemented across North America in response to the COVID-19 pandemic in March 2020. Theslight decrease in the number of Active Riders in the three months ended \\nDecember 31, 2021 as compared to the three months ended September 30, 2021 was due primarilyto the increasing COVID-19 case counts \\nfrom COVID-19 variants and their impact on demand as well as the seasonality we typically experience in the winter months.Revenue per Active Rider increased in each of the three months period\\ns ended March 31, June 30, September 30, and December 31, 2021 as compared to the sameperiods\\n in  2020,  primarily  reflecting  the  improvement  in  demand  on  our  platform  compared  to  earlier  periods  during  the  COVID-19  pandemic,  which  had  materiallylimited\\n people's mobility and severely reduced Active Riders. Revenue per Active Rider reached an all-time high in the three months ended December 31, 2021, increasingcompared\\n to the three months ended September 30, 2021. This was driven by an increase in ride frequency as well as a shift toward higher revenue rides such as airportrides,\\n reflecting the increased travel experienced in the fourth quarter in 2021 nationwide. Revenue per Active Rider also benefited from revenues from licensing and dataaccess agreements, beg\\ninning in the second quarter of 2021.Critical Accounting Policies and Estimates\\nOur\\n consolidated  financial  statements  and  the  related  notes  thereto  included  elsewhere  in  this  Annual  Report  on  Form  10-K  are  prepared  in  accordance  withGAAP.\", start_char_idx=0, end_char_idx=3934, text_template='{metadata_str}\\n\\n{content}', metadata_template='{key}: {value}', metadata_seperator='\\n'), score=0.8988603353500366),\n",
            "                          NodeWithScore(node=TextNode(id_='51ee5bff-1ac3-4688-b69c-5fa342ba7642', embedding=None, metadata={'page_label': '79', 'file_name': 'lyft_2021.pdf', 'file_path': '/content/data/10k/lyft_2021.pdf', 'file_type': 'application/pdf', 'file_size': 1440303, 'creation_date': '2024-03-22', 'last_modified_date': '2024-03-22'}, excluded_embed_metadata_keys=['file_name', 'file_type', 'file_size', 'creation_date', 'last_modified_date', 'last_accessed_date'], excluded_llm_metadata_keys=['file_name', 'file_type', 'file_size', 'creation_date', 'last_modified_date', 'last_accessed_date'], relationships={<NodeRelationship.SOURCE: '1'>: RelatedNodeInfo(node_id='0575878e-9af8-45e1-a2bc-e64e6a62a102', node_type=<ObjectType.DOCUMENT: '4'>, metadata={'page_label': '79', 'file_name': 'lyft_2021.pdf', 'file_path': '/content/data/10k/lyft_2021.pdf', 'file_type': 'application/pdf', 'file_size': 1440303, 'creation_date': '2024-03-22', 'last_modified_date': '2024-03-22'}, hash='3f72ccfafccd54332b69dfe84e161a9f8ef43cac5d8b4cca974a862406284acd'), <NodeRelationship.PREVIOUS: '2'>: RelatedNodeInfo(node_id='fa6daeeb-5bf4-428c-9e2b-80d66387cc08', node_type=<ObjectType.TEXT: '1'>, metadata={'page_label': '78', 'file_name': 'lyft_2021.pdf', 'file_path': '/content/data/10k/lyft_2021.pdf', 'file_type': 'application/pdf', 'file_size': 1440303, 'creation_date': '2024-03-22', 'last_modified_date': '2024-03-22'}, hash='f6f112173523527749c0a860e644ad06cc87375b67c25487914f941fa61da294'), <NodeRelationship.NEXT: '3'>: RelatedNodeInfo(node_id='4f8d49c1-b8cd-4d5e-a972-2366a76da94d', node_type=<ObjectType.TEXT: '1'>, metadata={}, hash='8949c39ee85f566ef2203d53cc8e9708d1f4650ef0b85f9b0e1588938150f3ab')}, text='Lyft, Inc.Consolidated Statements of Operations\\n(in thousands, except for per share data\\n) Year Ended December 31,\\n2021\\n2020 2019 Revenue\\n$ 3,208,323 $ 2,364,681 $ 3,615,960 Costs and expenses\\nCost of revenue\\n1,649,532 1,447,516 2,176,469 Operations and support\\n402,233 453,963 636,116 Research and development\\n911,946 909,126 1,505,640 Sales and marketing\\n411,406 416,331 814,122 General and administrative\\n915,638 946,127 1,186,093 Total costs and expenses\\n4,290,755 4,173,063 6,318,440 Loss from operations\\n(1,082,432) (1,808,382) (2,702,480) Interest expense\\n(51,635) (32,678) — Other income, net\\n135,933 43,669 102,595 Loss before income taxes\\n(998,134) (1,797,391) (2,599,885) Provision for (benefit fro\\nm) income taxes11,225 (44,534) 2,356 Net loss\\n$ (1,009,359) $ (1,752,857) $ (2,602,241) Net loss per share, basic and di\\nluted$ (3.02) $ (5.61) $ (11.44) Weighted-average numb\\ner of shares outstanding used to compute net loss per share, basic and diluted334,724 312,175 227,498 Stock-based compensation included in costs and expenses:\\nCost of revenue\\n$ 39,491 $ 28,743 $ 81,321 Operations and support\\n24,083 15,829 75,212 Research and development\\n414,324 325,624 971,941 Sales and marketing\\n38,243 23,385 72,046 General and administrative\\n208,419 172,226 398,791 The accompanying notes are \\nan integral part of these consolidated financial statements.79', start_char_idx=0, end_char_idx=1363, text_template='{metadata_str}\\n\\n{content}', metadata_template='{key}: {value}', metadata_seperator='\\n'), score=0.8974058628082275)],\n",
            "         metadata={   '51ee5bff-1ac3-4688-b69c-5fa342ba7642': {   'creation_date': '2024-03-22',\n",
            "                                                                  'file_name': 'lyft_2021.pdf',\n",
            "                                                                  'file_path': '/content/data/10k/lyft_2021.pdf',\n",
            "                                                                  'file_size': 1440303,\n",
            "                                                                  'file_type': 'application/pdf',\n",
            "                                                                  'last_modified_date': '2024-03-22',\n",
            "                                                                  'page_label': '79'},\n",
            "                      '596f6360-8592-4b1a-b3ce-b9d42f4c6545': {   'creation_date': '2024-03-22',\n",
            "                                                                  'file_name': 'lyft_2021.pdf',\n",
            "                                                                  'file_path': '/content/data/10k/lyft_2021.pdf',\n",
            "                                                                  'file_size': 1440303,\n",
            "                                                                  'file_type': 'application/pdf',\n",
            "                                                                  'last_modified_date': '2024-03-22',\n",
            "                                                                  'page_label': '58'}})\n",
            "CPU times: user 45.9 ms, sys: 2.28 ms, total: 48.2 ms\n",
            "Wall time: 1.47 s\n"
          ]
        }
      ],
      "source": [
        "%%time\n",
        "\n",
        "## The answer to this question doesn't exist in the Lyft_10k filing!\n",
        "## Let's see what we get back\n",
        "response = index.as_query_engine().query(\"How much money did Lyft make in 2018?\")\n",
        "print (response)\n",
        "print()\n",
        "pprint(response, indent=4)"
      ]
    },
    {
      "cell_type": "code",
      "execution_count": 18,
      "metadata": {
        "colab": {
          "base_uri": "https://localhost:8080/"
        },
        "id": "JJz4thgWTxCC",
        "outputId": "cfb80cbc-4ec2-4883-d1db-224b0a157dc1"
      },
      "outputs": [
        {
          "name": "stdout",
          "output_type": "stream",
          "text": [
            "Uber went public on May 14, 2019.\n",
            "\n",
            "Response(response='Uber went public on May 14, 2019.',\n",
            "         source_nodes=[   NodeWithScore(node=TextNode(id_='a0f7944e-c16b-41c0-8654-6e6a27ed9fa8', embedding=None, metadata={'page_label': '119', 'file_name': 'uber_2021.pdf', 'file_path': '/content/data/10k/uber_2021.pdf', 'file_type': 'application/pdf', 'file_size': 1880483, 'creation_date': '2024-03-22', 'last_modified_date': '2024-03-22'}, excluded_embed_metadata_keys=['file_name', 'file_type', 'file_size', 'creation_date', 'last_modified_date', 'last_accessed_date'], excluded_llm_metadata_keys=['file_name', 'file_type', 'file_size', 'creation_date', 'last_modified_date', 'last_accessed_date'], relationships={<NodeRelationship.SOURCE: '1'>: RelatedNodeInfo(node_id='69426eee-69ea-41f6-98a6-5581ca76e066', node_type=<ObjectType.DOCUMENT: '4'>, metadata={'page_label': '119', 'file_name': 'uber_2021.pdf', 'file_path': '/content/data/10k/uber_2021.pdf', 'file_type': 'application/pdf', 'file_size': 1880483, 'creation_date': '2024-03-22', 'last_modified_date': '2024-03-22'}, hash='e08881bd16e58b688a1d9d3810e0658891d9685893245428382fd772fb92c97a'), <NodeRelationship.PREVIOUS: '2'>: RelatedNodeInfo(node_id='befa8196-1850-48e3-af4f-ddd74921a667', node_type=<ObjectType.TEXT: '1'>, metadata={'page_label': '118', 'file_name': 'uber_2021.pdf', 'file_path': '/content/data/10k/uber_2021.pdf', 'file_type': 'application/pdf', 'file_size': 1880483, 'creation_date': '2024-03-22', 'last_modified_date': '2024-03-22'}, hash='b9498a70535e17a46435906465d06862f2865605ec4f1c5e8bd9ea90db984a7c'), <NodeRelationship.NEXT: '3'>: RelatedNodeInfo(node_id='c3f4380a-2733-4c62-9cab-03f7ce012480', node_type=<ObjectType.TEXT: '1'>, metadata={}, hash='c0eb60fc678612f883149c9effb1bd9d21228259e6d93bffc0824cea289c8270')}, text=\"Note 11 – Stockholders' EquityInitial Public Offering\\nOn\\n May 14, 2019, we closed our IPO, in which we issued and sold 180 million shares of our common stock. The price was $45.00 per share. We received netproceeds of\\n approximately $8.0 billion from the IPO after deducting underwriting discounts and commissions of $106 million and offering expenses. Upon closingof\\n the IPO: (i) all shares of our outstanding redeemable convertible preferred stock automatically converted into 905 million shares of common stock; (ii) holdersof\\n the 2021 and 2022 Convertible Notes elected to convert all outstanding notes into 94 million shares of common stock; and, (iii) an outstanding warrant whichbecame\\n exercisable upon the closing of the IPO was exercised to purchase 0.2 million shares of common stock. In addition, we recognized a net gain of $327million\\n in other income (expense), net in the consolidated statement of operations upon conversion of the 2021 and 2022 Convertible Notes during the secondquarter\\n of  2019,  which  consisted  of  $444  million  gain  on  extinguishment  of  debt  and  settlement  of  derivatives,  partially  offset  by  $117  million  loss  from  thechange in\\n fair value of embedded derivatives prior to settlement. The extinguishment of debt resulted in the derecognition of the carrying value of the debt balanceand settlement of emb\\nedded derivatives.We\\n had granted RSAs, RSUs, SARs, and stock options that vest only upon the satisfaction of both time-based service and performance-based conditions.Through\\n May 9, 2019, no stock-based compensation expense had been recognized for such awards with a performance condition based on the occurrence of aqualifying\\n event (such as an IPO), as such qualifying event was not probable. Upon our IPO, we recognized $3.6 billion of stock-based compensation expense.Upon\\n the IPO, shares were issued to satisfy the vesting of RSUs with a performance condition. To meet the related tax withholding requirements, we withheld 29million\\n of the 76 million shares of common stock issued. Based on the IPO public offering price of $45.00 per share, the tax withholding obligation was $1.3billion.\\nAs\\n a  result  of  stock-based  compensation  expense  for  vested  and  unvested  RSUs  upon  the  IPO,  we  recorded  an  additional  deferred  tax  assetof approximately $1.1 bill\\nion that was offset by a full valuation allowance.PayPal, Inc. (“PayPal”) Private Plac\\nementOn\\n May 16, 2019, we closed a private placement by PayPal, Inc. in which we issued and sold 11 million shares of our common stock at a purchase price of$45.00 per share and received \\naggregate proceeds of $500 million.Redeemable Convertible Preferr\\ned StockUpon\\n closing of the IPO, all shares of our outstanding redeemable convertible preferred stock automatically converted into 905 million shares of commonstock.\\nDuring\\n 2019, the warrant to purchase 922,655 Series G redeemable convertible preferred stock was exercised in full and the fair value of the warrant wasreclassified\\n to redeemable convertible preferred stock. Also during 2019, the warrant to purchase 150,071 Series E redeemable convertible preferred stock wasexercised. As a\\n result of the IPO, both the Series G and Series E warrants automatically converted to shares of common stock. For additional information related toour IPO, refer to section above \\ntitled “Initial Public Offering.”Preferred Stock\\nAfter\\n conversion of the above mentioned redeemable convertible preferred stock into common stock upon closing of our IPO, our board of directors wasgranted\\n the authority to issue up to 10 million shares of preferred stock and to determine the price, rights, preferences, privileges and restrictions, including votingrights,\\n of  those  shares  without  any  further  vote  or  action  by  the  stockholders.  As  of  December  31,  2020  and  2021,  there  was  no  preferred  stock  issued  andoutstanding.\\nCommon Stock\\nAs of December 31, 2021, we have the authority to\\n issue 5.0 billion shares of common stock with a par value of $0.00001 per share. Holders of common stockare\\n entitled to dividends when and if declared by the board of directors, subject to the rights of the holders of all classes of stock outstanding having priority rightsto dividends.\", start_char_idx=0, end_char_idx=4275, text_template='{metadata_str}\\n\\n{content}', metadata_template='{key}: {value}', metadata_seperator='\\n'), score=0.8996177315711975),\n",
            "                          NodeWithScore(node=TextNode(id_='2e0c8b9d-e856-414f-a372-12475c1ea478', embedding=None, metadata={'page_label': '6', 'file_name': 'uber_2021.pdf', 'file_path': '/content/data/10k/uber_2021.pdf', 'file_type': 'application/pdf', 'file_size': 1880483, 'creation_date': '2024-03-22', 'last_modified_date': '2024-03-22'}, excluded_embed_metadata_keys=['file_name', 'file_type', 'file_size', 'creation_date', 'last_modified_date', 'last_accessed_date'], excluded_llm_metadata_keys=['file_name', 'file_type', 'file_size', 'creation_date', 'last_modified_date', 'last_accessed_date'], relationships={<NodeRelationship.SOURCE: '1'>: RelatedNodeInfo(node_id='3142033d-2aa7-4494-8be8-b37462cef4e2', node_type=<ObjectType.DOCUMENT: '4'>, metadata={'page_label': '6', 'file_name': 'uber_2021.pdf', 'file_path': '/content/data/10k/uber_2021.pdf', 'file_type': 'application/pdf', 'file_size': 1880483, 'creation_date': '2024-03-22', 'last_modified_date': '2024-03-22'}, hash='b70328c9da8cb3f23e76987f2a6e4935bc05524f283342007291d410c829a931'), <NodeRelationship.PREVIOUS: '2'>: RelatedNodeInfo(node_id='0510bc31-8da1-431c-8c56-942bd8070000', node_type=<ObjectType.TEXT: '1'>, metadata={'page_label': '5', 'file_name': 'uber_2021.pdf', 'file_path': '/content/data/10k/uber_2021.pdf', 'file_type': 'application/pdf', 'file_size': 1880483, 'creation_date': '2024-03-22', 'last_modified_date': '2024-03-22'}, hash='56f90b81ad239448117ee74ae2edc86ad4e0bae6c4bba5228e46f49eb7346e55'), <NodeRelationship.NEXT: '3'>: RelatedNodeInfo(node_id='642a5fa6-5c03-4901-a8a3-af0c852b80f9', node_type=<ObjectType.TEXT: '1'>, metadata={}, hash='5c001d1dcf1c152a03b46ee8237e26acfdf7dcdbc20666e3d7201a1b9621bb93')}, text='PART IITEM 1. BUSINESS\\nOverview\\nUber\\n Technologies, Inc. (“Uber,” “we,” “our,” or “us”) is a technology platform that uses a massive network, leading technology, operational excellence andproduct\\n expertise to power movement from point A to point B. We develop and operate proprietary technology applications supporting a variety of offerings onour\\n platform  (“platform(s)”  or  “Platform(s)”).  We  connect  consumers  (“Rider(s)”)  with  independent  providers  of  ride  services  (“Mobility  Driver(s)”)  forridesharing\\n services,  and  connect  Riders  and  other  consumers  (“Eater(s)”)  with  restaurants,  grocers  and  other  stores  (collectively,  “Merchants”)  with  deliveryservice\\n providers  (“Couriers”)  for  meal  preparation,  grocery  and  other  delivery  services.  Riders  and  Eaters  are  collectively  referred  to  as  “end-user(s)”  or“consumer(s).”\\n Mobility Drivers and Couriers are collectively referred to as “Driver(s).” We also connect consumers with public transportation networks. We usethis same network, technology, ope\\nrational excellence and product expertise to connect shippers with carriers in the freight industry.Our\\n technology is available in approximately 72 countries around the world, principally in the United States (“U.S.”) and Canada, Latin America, Europe, theMiddle East, Africa, and Asia (\\nexcluding China and Southeast Asia).Our Segments\\nAs\\n of December 31, 2021, we had three operating and reportable segments: Mobility, Delivery and Freight. Mobility, Delivery and Freight platform offeringseach address large, fr\\nagmented markets.Mobility\\nMobility\\n refers to products that connect consumers with Mobility Drivers who provide rides in a variety of vehicles, such as cars, auto rickshaws, motorbikes,minibuses, or taxis. Mobility \\nalso includes activity related to our financial partnerships offerings.We\\n believe that our ridesharing category position is a key indicator of our progress towards our massive market opportunity. We calculate our ridesharingcategory\\n position based on the best available data within a given region. For example, in most cases we divide our Mobility Gross Bookings by our estimates oftotal\\n ridesharing Gross Bookings generated by us and other companies with similar ridesharing products. We estimate our total ridesharing Gross Bookings in agiven\\n region by utilizing internal source data, including historical trip, bookings, product mix, and fare information, and external source data provided by publiclyavailable information and marketing analytics\\n firms. Based on these estimates, we believe we have a leading ridesharing category position in every major region ofthe\\n world  where  we  operate.  We  also  participate  in  certain  regions  through  our  minority-owned  affiliates.  At  the  time  of  entering  into  such  transactions,  webelieved\\n based on our internal estimates using the information then available to us that each of Didi, Grab and Yandex.Taxi, on a pro forma basis, had the leadingridesharing category po\\nsition in its respective market.Delivery\\nOur\\n Delivery  offering  allows  consumers  to  search  for  and  discover  local  restaurants,  order  a  meal,  and  either  pick-up  at  the  restaurant  or  have  the  mealdelivered\\n and, in certain markets, Delivery also includes offerings for grocery, alcohol and convenience store delivery as well as select other goods. We launchedour\\n Delivery app over six years ago. We believe that Delivery not only leverages, but also increases, the supply of Drivers on our network. For example, Deliveryenables\\n Mobility Drivers to increase their utilization and earnings by accessing additional demand for trips during non-peak Mobility times. Delivery also expandsthe\\n pool of Drivers by enabling people who are not Mobility Drivers or who do not have access to Mobility-qualified vehicles to provide delivery services on ourplatform. In addition to b\\nenefiting Drivers and consumers, Delivery provides Merchants with an instant mobile presence and efficient delivery capability, which webelieve\\n generates incremental demand and improves margins for Merchants by enabling them to serve more consumers without increasing their existing front-of-house expenses.\\nDuring\\n 2021, we completed the acquisition of the remaining 45% ownership interest in Cornershop Cayman (“Cornershop”) in an all-stock transaction. Theacquisition\\n was accounted for as an equity transaction, as we previously controlled and consolidated Cornershop.', start_char_idx=0, end_char_idx=4495, text_template='{metadata_str}\\n\\n{content}', metadata_template='{key}: {value}', metadata_seperator='\\n'), score=0.8916090130805969)],\n",
            "         metadata={   '2e0c8b9d-e856-414f-a372-12475c1ea478': {   'creation_date': '2024-03-22',\n",
            "                                                                  'file_name': 'uber_2021.pdf',\n",
            "                                                                  'file_path': '/content/data/10k/uber_2021.pdf',\n",
            "                                                                  'file_size': 1880483,\n",
            "                                                                  'file_type': 'application/pdf',\n",
            "                                                                  'last_modified_date': '2024-03-22',\n",
            "                                                                  'page_label': '6'},\n",
            "                      'a0f7944e-c16b-41c0-8654-6e6a27ed9fa8': {   'creation_date': '2024-03-22',\n",
            "                                                                  'file_name': 'uber_2021.pdf',\n",
            "                                                                  'file_path': '/content/data/10k/uber_2021.pdf',\n",
            "                                                                  'file_size': 1880483,\n",
            "                                                                  'file_type': 'application/pdf',\n",
            "                                                                  'last_modified_date': '2024-03-22',\n",
            "                                                                  'page_label': '119'}})\n",
            "CPU times: user 62 ms, sys: 2.74 ms, total: 64.7 ms\n",
            "Wall time: 1.39 s\n"
          ]
        }
      ],
      "source": [
        "%%time\n",
        "\n",
        "response = index.as_query_engine().query(\"When did Uber go IPO?\")\n",
        "print (response)\n",
        "print()\n",
        "pprint(response, indent=4)"
      ]
    },
    {
      "cell_type": "code",
      "execution_count": 19,
      "metadata": {
        "colab": {
          "base_uri": "https://localhost:8080/"
        },
        "id": "5b6ezv1QTxCC",
        "outputId": "156f79d7-7d0f-4050-bd7f-aaac42db4146"
      },
      "outputs": [
        {
          "name": "stdout",
          "output_type": "stream",
          "text": [
            "The stock-based compensation expense for Lyft was recorded on the consolidated statements of operations for the years ended December 31, 2021, 2020, and 2019. The total stock-based compensation expense for these years was $724,560, $565,807, and $1,599,311 respectively. These figures are distributed across different sectors such as cost of revenue, operations and support, research and development, sales and marketing, and general and administrative expenses.\n",
            "\n",
            "In addition, in conjunction with one of the acquisitions in 2018, the company issued 241,390 shares of restricted stock awards to executives of an acquired company with an aggregate grant-date fair value of $11.4 million. These restricted stock awards are fully vested as of the year ended December 31, 2020. The company recorded $4.2 million and $6.0 million as compensation related to these vested restricted stock awards, which is included in research and development expense on the consolidated statement of operations for the years ended December 31, 2020 and 2019, respectively.\n",
            "\n",
            "As of December 31, 2021, there was a $2.9 million stock-based compensation liability associated with performance awards that have not yet been issued.\n",
            "\n",
            "Response(response='The stock-based compensation expense for Lyft was recorded '\n",
            "                  'on the consolidated statements of operations for the years '\n",
            "                  'ended December 31, 2021, 2020, and 2019. The total '\n",
            "                  'stock-based compensation expense for these years was '\n",
            "                  '$724,560, $565,807, and $1,599,311 respectively. These '\n",
            "                  'figures are distributed across different sectors such as '\n",
            "                  'cost of revenue, operations and support, research and '\n",
            "                  'development, sales and marketing, and general and '\n",
            "                  'administrative expenses.\\n'\n",
            "                  '\\n'\n",
            "                  'In addition, in conjunction with one of the acquisitions in '\n",
            "                  '2018, the company issued 241,390 shares of restricted stock '\n",
            "                  'awards to executives of an acquired company with an '\n",
            "                  'aggregate grant-date fair value of $11.4 million. These '\n",
            "                  'restricted stock awards are fully vested as of the year '\n",
            "                  'ended December 31, 2020. The company recorded $4.2 million '\n",
            "                  'and $6.0 million as compensation related to these vested '\n",
            "                  'restricted stock awards, which is included in research and '\n",
            "                  'development expense on the consolidated statement of '\n",
            "                  'operations for the years ended December 31, 2020 and 2019, '\n",
            "                  'respectively.\\n'\n",
            "                  '\\n'\n",
            "                  'As of December 31, 2021, there was a $2.9 million '\n",
            "                  'stock-based compensation liability associated with '\n",
            "                  'performance awards that have not yet been issued.',\n",
            "         source_nodes=[   NodeWithScore(node=TextNode(id_='3b0dd0ed-8914-4091-9bfb-564653e03545', embedding=None, metadata={'page_label': '89', 'file_name': 'lyft_2021.pdf', 'file_path': '/content/data/10k/lyft_2021.pdf', 'file_type': 'application/pdf', 'file_size': 1440303, 'creation_date': '2024-03-22', 'last_modified_date': '2024-03-22'}, excluded_embed_metadata_keys=['file_name', 'file_type', 'file_size', 'creation_date', 'last_modified_date', 'last_accessed_date'], excluded_llm_metadata_keys=['file_name', 'file_type', 'file_size', 'creation_date', 'last_modified_date', 'last_accessed_date'], relationships={<NodeRelationship.SOURCE: '1'>: RelatedNodeInfo(node_id='fe9ba39f-0a26-4b9c-9764-36d6d03153e2', node_type=<ObjectType.DOCUMENT: '4'>, metadata={'page_label': '89', 'file_name': 'lyft_2021.pdf', 'file_path': '/content/data/10k/lyft_2021.pdf', 'file_type': 'application/pdf', 'file_size': 1440303, 'creation_date': '2024-03-22', 'last_modified_date': '2024-03-22'}, hash='b95fb3f385a746ea874150c0ee7b74f5a29d62e23b5c3217a4d3cb8d82924ed9'), <NodeRelationship.PREVIOUS: '2'>: RelatedNodeInfo(node_id='c65e0b3f-9ba4-4323-bed4-b410276ea8f2', node_type=<ObjectType.TEXT: '1'>, metadata={'page_label': '89', 'file_name': 'lyft_2021.pdf', 'file_path': '/content/data/10k/lyft_2021.pdf', 'file_type': 'application/pdf', 'file_size': 1440303, 'creation_date': '2024-03-22', 'last_modified_date': '2024-03-22'}, hash='121423ede608290107443ed3935f87e77cfac670083cc5ecf44d5b42a8eafa8e'), <NodeRelationship.NEXT: '3'>: RelatedNodeInfo(node_id='8749347c-6ca5-4088-b29b-007cf451cf09', node_type=<ObjectType.TEXT: '1'>, metadata={}, hash='6e91895e4d20528051c417a964c42d32a414cce88ff962b65356eb8aaeeec80e')}, text='General and administrative expenses are expensed as incurred.Stock-Based Compensation\\nThe Company incurs stock-based comp\\nensation expense primarily from RSUs, PSUs, stock options, and ESPP purchase rights.The\\n Company estimates the fair value of stock options granted to employees, directors, and consultants and ESPP purchase rights using the Black-Scholes option-pricing model. The Black-Schol\\nes model considers several variables and assumptions in estimating the fair value of stock-based awards. These variables include:•\\nper share fair value o f the underlying common stock;89', start_char_idx=4066, end_char_idx=4649, text_template='{metadata_str}\\n\\n{content}', metadata_template='{key}: {value}', metadata_seperator='\\n'), score=0.9202749133110046),\n",
            "                          NodeWithScore(node=TextNode(id_='1038357e-0e2f-48b9-a58b-204ee74dd761', embedding=None, metadata={'page_label': '118', 'file_name': 'lyft_2021.pdf', 'file_path': '/content/data/10k/lyft_2021.pdf', 'file_type': 'application/pdf', 'file_size': 1440303, 'creation_date': '2024-03-22', 'last_modified_date': '2024-03-22'}, excluded_embed_metadata_keys=['file_name', 'file_type', 'file_size', 'creation_date', 'last_modified_date', 'last_accessed_date'], excluded_llm_metadata_keys=['file_name', 'file_type', 'file_size', 'creation_date', 'last_modified_date', 'last_accessed_date'], relationships={<NodeRelationship.SOURCE: '1'>: RelatedNodeInfo(node_id='e6e2d4f6-c777-4136-9011-80a5852809ef', node_type=<ObjectType.DOCUMENT: '4'>, metadata={'page_label': '118', 'file_name': 'lyft_2021.pdf', 'file_path': '/content/data/10k/lyft_2021.pdf', 'file_type': 'application/pdf', 'file_size': 1440303, 'creation_date': '2024-03-22', 'last_modified_date': '2024-03-22'}, hash='c92309a785638f79a9c098d2a9c65aae489a12d207a8f5dbae91fa3044d35107'), <NodeRelationship.PREVIOUS: '2'>: RelatedNodeInfo(node_id='36aaccd4-d472-427f-ba4b-cabd47b6e81e', node_type=<ObjectType.TEXT: '1'>, metadata={'page_label': '118', 'file_name': 'lyft_2021.pdf', 'file_path': '/content/data/10k/lyft_2021.pdf', 'file_type': 'application/pdf', 'file_size': 1440303, 'creation_date': '2024-03-22', 'last_modified_date': '2024-03-22'}, hash='a318cd49ca251ac8e66e6747413908da3079d614ea40616c3ae1477b51caaac4'), <NodeRelationship.NEXT: '3'>: RelatedNodeInfo(node_id='d664ea61-d8c2-430a-977b-871575712238', node_type=<ObjectType.TEXT: '1'>, metadata={}, hash='0ce720a785c881543efdca357c499e644e90fd617bcd858378629211bbfe7442')}, text='The initial offering period ran from March28, 2019 through June 30, 2020.\\nA\\n total of 6,000,000 shares of Class A common stock were initially reserved for issuance under the ESPP. On January 1, 2020, an additional 3,025,957 shares ofClass\\n A  common  stock  were  reserved  for  issuance  under  the  ESPP.  On  January  1,  2021,  an  additional  3,237,371  shares  of  Class  A  common  stock  were  reserved  forissuance under the\\n ESPP. As of December 31, 2021, 2,267,947 shares of Class A common stock have been purchased under the 2019 ESPP. The number of shares reservedunder\\n the  2019  ESPP  will  automatically  increase  on  the  first  day  of  each  calendar  year  beginning  on  January  1,  2020  in  a  number  of  shares  equal  to  the  least  of  (i)7,000,000\\n shares of Class A common stock, (ii) one percent of the outstanding shares of all classes of the Company’s common stock on the last day of the immediatelypreceding fiscal yea\\nr, or (iii) an amount determined by the administrator of the 2019 ESPP.Stock-Based Compensation\\nThe Company recorded stock-based \\ncompensation expense on the consolidated statements of operations for the periods indicated as follows (in thousands):Year Ended December 31,\\n2021\\n2020 2019 Cost of revenue\\n$ 39,491 $ 28,743 $ 81,321 Operations and support\\n24,083 15,829 75,212 Research and development\\n414,324 325,624 971,941 Sales and marketing\\n38,243 23,385 72,046 General and administrative\\n208,419 172,226 398,791 Total stock-based compensa\\ntion expense$ 724,560 $ 565,807 $ 1,599,311 In\\n conjunction with one of the acquisitions in 2018, the Company issued 241,390 shares of restricted stock awards to executives of an acquired company with anaggregate\\n grant-date  fair value of $11.4 million. These restricted  stock awards are fully vested as of the year ended December  31, 2020. The Company recorded  $4.2million\\n and  $6.0  million  as  compensation  related  to  these  vested  restricted  stock  awards  which  is  included  in  research  and  development  expense  on  the  consolidatedstatement of operat\\nions for the years ended December 31, 2020 and 2019, respectively.As\\n of December 31, 2021 and 2020 there are no remaining unrecognized compensation costs related to unvested stock options and restricted stock awards. As ofDecember\\n 31, 2019, there was $3.9 million of unrecognized compensation cost related to unvested stock options and restricted stock awards, which was recognized over aweighted-average period\\n of 0.7 years. As of December 31, 2021, there was a $2.9 million stock-based compensation liability associated with performance awards that havenot yet been issued.\\n118', start_char_idx=2168, end_char_idx=4823, text_template='{metadata_str}\\n\\n{content}', metadata_template='{key}: {value}', metadata_seperator='\\n'), score=0.91959547996521)],\n",
            "         metadata={   '1038357e-0e2f-48b9-a58b-204ee74dd761': {   'creation_date': '2024-03-22',\n",
            "                                                                  'file_name': 'lyft_2021.pdf',\n",
            "                                                                  'file_path': '/content/data/10k/lyft_2021.pdf',\n",
            "                                                                  'file_size': 1440303,\n",
            "                                                                  'file_type': 'application/pdf',\n",
            "                                                                  'last_modified_date': '2024-03-22',\n",
            "                                                                  'page_label': '118'},\n",
            "                      '3b0dd0ed-8914-4091-9bfb-564653e03545': {   'creation_date': '2024-03-22',\n",
            "                                                                  'file_name': 'lyft_2021.pdf',\n",
            "                                                                  'file_path': '/content/data/10k/lyft_2021.pdf',\n",
            "                                                                  'file_size': 1440303,\n",
            "                                                                  'file_type': 'application/pdf',\n",
            "                                                                  'last_modified_date': '2024-03-22',\n",
            "                                                                  'page_label': '89'}})\n",
            "CPU times: user 118 ms, sys: 9.05 ms, total: 127 ms\n",
            "Wall time: 7.83 s\n"
          ]
        }
      ],
      "source": [
        "%%time\n",
        "\n",
        "response = index.as_query_engine().query(\"What were the Stock-based compensation for Lyft?\")\n",
        "print (response)\n",
        "print()\n",
        "pprint(response, indent=4)"
      ]
    },
    {
      "cell_type": "markdown",
      "metadata": {
        "id": "FtCYYaPYlYls"
      },
      "source": [
        "## Try your own queries\n",
        "\n",
        "Inspect the PDFs, and ask away.\n",
        "\n",
        "Here are few things to try\n",
        "\n",
        "- ask question about data in tables.  Are we getting accurate answers?\n",
        "- Ask vague questions, e.g \"which company is more environmentally friendly\".  What do we get back?"
      ]
    },
    {
      "cell_type": "code",
      "execution_count": 20,
      "metadata": {
        "colab": {
          "base_uri": "https://localhost:8080/"
        },
        "id": "ozjgTko9kIOI",
        "outputId": "de35ed45-f3f8-4a37-8dba-298b990c7199"
      },
      "outputs": [
        {
          "name": "stdout",
          "output_type": "stream",
          "text": [
            "CPU times: user 3 µs, sys: 1e+03 ns, total: 4 µs\n",
            "Wall time: 7.39 µs\n"
          ]
        }
      ],
      "source": [
        "\n",
        "\n",
        "%%time\n",
        "\n",
        "# response = index.as_query_engine().query(\"YOUR QUERY GOES HERE\")\n",
        "# print (response)\n",
        "# print()\n",
        "# pprint(response, indent=4)"
      ]
    }
  ],
  "metadata": {
    "colab": {
      "provenance": []
    },
    "kernelspec": {
      "display_name": "atlas-2",
      "language": "python",
      "name": "python3"
    },
    "language_info": {
      "codemirror_mode": {
        "name": "ipython",
        "version": 3
      },
      "file_extension": ".py",
      "mimetype": "text/x-python",
      "name": "python",
      "nbconvert_exporter": "python",
      "pygments_lexer": "ipython3",
      "version": "3.11.8"
    },
    "widgets": {
      "application/vnd.jupyter.widget-state+json": {
        "02951c0e4e9f4948b58988ee3ec0e855": {
          "model_module": "@jupyter-widgets/controls",
          "model_module_version": "1.5.0",
          "model_name": "DescriptionStyleModel",
          "state": {
            "_model_module": "@jupyter-widgets/controls",
            "_model_module_version": "1.5.0",
            "_model_name": "DescriptionStyleModel",
            "_view_count": null,
            "_view_module": "@jupyter-widgets/base",
            "_view_module_version": "1.2.0",
            "_view_name": "StyleView",
            "description_width": ""
          }
        },
        "35aca58ea1b345f1a0580ef9bda6b17e": {
          "model_module": "@jupyter-widgets/controls",
          "model_module_version": "1.5.0",
          "model_name": "DescriptionStyleModel",
          "state": {
            "_model_module": "@jupyter-widgets/controls",
            "_model_module_version": "1.5.0",
            "_model_name": "DescriptionStyleModel",
            "_view_count": null,
            "_view_module": "@jupyter-widgets/base",
            "_view_module_version": "1.2.0",
            "_view_name": "StyleView",
            "description_width": ""
          }
        },
        "38b1b56820e9486da230143f79717d53": {
          "model_module": "@jupyter-widgets/base",
          "model_module_version": "1.2.0",
          "model_name": "LayoutModel",
          "state": {
            "_model_module": "@jupyter-widgets/base",
            "_model_module_version": "1.2.0",
            "_model_name": "LayoutModel",
            "_view_count": null,
            "_view_module": "@jupyter-widgets/base",
            "_view_module_version": "1.2.0",
            "_view_name": "LayoutView",
            "align_content": null,
            "align_items": null,
            "align_self": null,
            "border": null,
            "bottom": null,
            "display": null,
            "flex": null,
            "flex_flow": null,
            "grid_area": null,
            "grid_auto_columns": null,
            "grid_auto_flow": null,
            "grid_auto_rows": null,
            "grid_column": null,
            "grid_gap": null,
            "grid_row": null,
            "grid_template_areas": null,
            "grid_template_columns": null,
            "grid_template_rows": null,
            "height": null,
            "justify_content": null,
            "justify_items": null,
            "left": null,
            "margin": null,
            "max_height": null,
            "max_width": null,
            "min_height": null,
            "min_width": null,
            "object_fit": null,
            "object_position": null,
            "order": null,
            "overflow": null,
            "overflow_x": null,
            "overflow_y": null,
            "padding": null,
            "right": null,
            "top": null,
            "visibility": null,
            "width": null
          }
        },
        "3911b0421cd3403991f27fd8aa3e6a9f": {
          "model_module": "@jupyter-widgets/controls",
          "model_module_version": "1.5.0",
          "model_name": "DescriptionStyleModel",
          "state": {
            "_model_module": "@jupyter-widgets/controls",
            "_model_module_version": "1.5.0",
            "_model_name": "DescriptionStyleModel",
            "_view_count": null,
            "_view_module": "@jupyter-widgets/base",
            "_view_module_version": "1.2.0",
            "_view_name": "StyleView",
            "description_width": ""
          }
        },
        "3a50d8c56bda42948327438f99dd5725": {
          "model_module": "@jupyter-widgets/base",
          "model_module_version": "1.2.0",
          "model_name": "LayoutModel",
          "state": {
            "_model_module": "@jupyter-widgets/base",
            "_model_module_version": "1.2.0",
            "_model_name": "LayoutModel",
            "_view_count": null,
            "_view_module": "@jupyter-widgets/base",
            "_view_module_version": "1.2.0",
            "_view_name": "LayoutView",
            "align_content": null,
            "align_items": null,
            "align_self": null,
            "border": null,
            "bottom": null,
            "display": null,
            "flex": null,
            "flex_flow": null,
            "grid_area": null,
            "grid_auto_columns": null,
            "grid_auto_flow": null,
            "grid_auto_rows": null,
            "grid_column": null,
            "grid_gap": null,
            "grid_row": null,
            "grid_template_areas": null,
            "grid_template_columns": null,
            "grid_template_rows": null,
            "height": null,
            "justify_content": null,
            "justify_items": null,
            "left": null,
            "margin": null,
            "max_height": null,
            "max_width": null,
            "min_height": null,
            "min_width": null,
            "object_fit": null,
            "object_position": null,
            "order": null,
            "overflow": null,
            "overflow_x": null,
            "overflow_y": null,
            "padding": null,
            "right": null,
            "top": null,
            "visibility": null,
            "width": null
          }
        },
        "3e6ecfc62b454bac83fd3fc4c31a2738": {
          "model_module": "@jupyter-widgets/controls",
          "model_module_version": "1.5.0",
          "model_name": "ProgressStyleModel",
          "state": {
            "_model_module": "@jupyter-widgets/controls",
            "_model_module_version": "1.5.0",
            "_model_name": "ProgressStyleModel",
            "_view_count": null,
            "_view_module": "@jupyter-widgets/base",
            "_view_module_version": "1.2.0",
            "_view_name": "StyleView",
            "bar_color": null,
            "description_width": ""
          }
        },
        "42028769cf754764b30b2b9356ebadb3": {
          "model_module": "@jupyter-widgets/base",
          "model_module_version": "1.2.0",
          "model_name": "LayoutModel",
          "state": {
            "_model_module": "@jupyter-widgets/base",
            "_model_module_version": "1.2.0",
            "_model_name": "LayoutModel",
            "_view_count": null,
            "_view_module": "@jupyter-widgets/base",
            "_view_module_version": "1.2.0",
            "_view_name": "LayoutView",
            "align_content": null,
            "align_items": null,
            "align_self": null,
            "border": null,
            "bottom": null,
            "display": null,
            "flex": null,
            "flex_flow": null,
            "grid_area": null,
            "grid_auto_columns": null,
            "grid_auto_flow": null,
            "grid_auto_rows": null,
            "grid_column": null,
            "grid_gap": null,
            "grid_row": null,
            "grid_template_areas": null,
            "grid_template_columns": null,
            "grid_template_rows": null,
            "height": null,
            "justify_content": null,
            "justify_items": null,
            "left": null,
            "margin": null,
            "max_height": null,
            "max_width": null,
            "min_height": null,
            "min_width": null,
            "object_fit": null,
            "object_position": null,
            "order": null,
            "overflow": null,
            "overflow_x": null,
            "overflow_y": null,
            "padding": null,
            "right": null,
            "top": null,
            "visibility": null,
            "width": null
          }
        },
        "49a1e779a5b84a3a8a95d480b68e0242": {
          "model_module": "@jupyter-widgets/controls",
          "model_module_version": "1.5.0",
          "model_name": "HBoxModel",
          "state": {
            "_dom_classes": [],
            "_model_module": "@jupyter-widgets/controls",
            "_model_module_version": "1.5.0",
            "_model_name": "HBoxModel",
            "_view_count": null,
            "_view_module": "@jupyter-widgets/controls",
            "_view_module_version": "1.5.0",
            "_view_name": "HBoxView",
            "box_style": "",
            "children": [
              "IPY_MODEL_c3b53a5e71b341039795b6d7726dcfe4",
              "IPY_MODEL_88fe8542c0954a3abfe051f925f8be1b",
              "IPY_MODEL_f03d8477603f4b06bf1f6bc9441fc86b"
            ],
            "layout": "IPY_MODEL_fb12578f583a4c5595f78d5b77f18899"
          }
        },
        "4a90ea40124e467d848f2f8f67d50670": {
          "model_module": "@jupyter-widgets/base",
          "model_module_version": "1.2.0",
          "model_name": "LayoutModel",
          "state": {
            "_model_module": "@jupyter-widgets/base",
            "_model_module_version": "1.2.0",
            "_model_name": "LayoutModel",
            "_view_count": null,
            "_view_module": "@jupyter-widgets/base",
            "_view_module_version": "1.2.0",
            "_view_name": "LayoutView",
            "align_content": null,
            "align_items": null,
            "align_self": null,
            "border": null,
            "bottom": null,
            "display": null,
            "flex": null,
            "flex_flow": null,
            "grid_area": null,
            "grid_auto_columns": null,
            "grid_auto_flow": null,
            "grid_auto_rows": null,
            "grid_column": null,
            "grid_gap": null,
            "grid_row": null,
            "grid_template_areas": null,
            "grid_template_columns": null,
            "grid_template_rows": null,
            "height": null,
            "justify_content": null,
            "justify_items": null,
            "left": null,
            "margin": null,
            "max_height": null,
            "max_width": null,
            "min_height": null,
            "min_width": null,
            "object_fit": null,
            "object_position": null,
            "order": null,
            "overflow": null,
            "overflow_x": null,
            "overflow_y": null,
            "padding": null,
            "right": null,
            "top": null,
            "visibility": null,
            "width": null
          }
        },
        "4b5d2735ca3444fd9c1ec4e6391edc69": {
          "model_module": "@jupyter-widgets/base",
          "model_module_version": "1.2.0",
          "model_name": "LayoutModel",
          "state": {
            "_model_module": "@jupyter-widgets/base",
            "_model_module_version": "1.2.0",
            "_model_name": "LayoutModel",
            "_view_count": null,
            "_view_module": "@jupyter-widgets/base",
            "_view_module_version": "1.2.0",
            "_view_name": "LayoutView",
            "align_content": null,
            "align_items": null,
            "align_self": null,
            "border": null,
            "bottom": null,
            "display": null,
            "flex": null,
            "flex_flow": null,
            "grid_area": null,
            "grid_auto_columns": null,
            "grid_auto_flow": null,
            "grid_auto_rows": null,
            "grid_column": null,
            "grid_gap": null,
            "grid_row": null,
            "grid_template_areas": null,
            "grid_template_columns": null,
            "grid_template_rows": null,
            "height": null,
            "justify_content": null,
            "justify_items": null,
            "left": null,
            "margin": null,
            "max_height": null,
            "max_width": null,
            "min_height": null,
            "min_width": null,
            "object_fit": null,
            "object_position": null,
            "order": null,
            "overflow": null,
            "overflow_x": null,
            "overflow_y": null,
            "padding": null,
            "right": null,
            "top": null,
            "visibility": null,
            "width": null
          }
        },
        "565b3b040d274b7184044376bc55fa8b": {
          "model_module": "@jupyter-widgets/controls",
          "model_module_version": "1.5.0",
          "model_name": "FloatProgressModel",
          "state": {
            "_dom_classes": [],
            "_model_module": "@jupyter-widgets/controls",
            "_model_module_version": "1.5.0",
            "_model_name": "FloatProgressModel",
            "_view_count": null,
            "_view_module": "@jupyter-widgets/controls",
            "_view_module_version": "1.5.0",
            "_view_name": "ProgressView",
            "bar_style": "success",
            "description": "",
            "description_tooltip": null,
            "layout": "IPY_MODEL_fd24490c6aeb4b6c9ae1258ca5ce3482",
            "max": 1795303,
            "min": 0,
            "orientation": "horizontal",
            "style": "IPY_MODEL_c85db687195d4788a61da2a13c672eaf",
            "value": 1795303
          }
        },
        "56919b40d69f4608ab79274d24e25cdc": {
          "model_module": "@jupyter-widgets/controls",
          "model_module_version": "1.5.0",
          "model_name": "HTMLModel",
          "state": {
            "_dom_classes": [],
            "_model_module": "@jupyter-widgets/controls",
            "_model_module_version": "1.5.0",
            "_model_name": "HTMLModel",
            "_view_count": null,
            "_view_module": "@jupyter-widgets/controls",
            "_view_module_version": "1.5.0",
            "_view_name": "HTMLView",
            "description": "",
            "description_tooltip": null,
            "layout": "IPY_MODEL_70106d6e114243358e3c926c94759780",
            "placeholder": "​",
            "style": "IPY_MODEL_02951c0e4e9f4948b58988ee3ec0e855",
            "value": " 1.46k/1.46k [00:00&lt;00:00, 57.9kB/s]"
          }
        },
        "585372cd2a5c4ba49b0f2dfae6600b2b": {
          "model_module": "@jupyter-widgets/controls",
          "model_module_version": "1.5.0",
          "model_name": "FloatProgressModel",
          "state": {
            "_dom_classes": [],
            "_model_module": "@jupyter-widgets/controls",
            "_model_module_version": "1.5.0",
            "_model_name": "FloatProgressModel",
            "_view_count": null,
            "_view_module": "@jupyter-widgets/controls",
            "_view_module_version": "1.5.0",
            "_view_name": "ProgressView",
            "bar_style": "success",
            "description": "",
            "description_tooltip": null,
            "layout": "IPY_MODEL_38b1b56820e9486da230143f79717d53",
            "max": 1460,
            "min": 0,
            "orientation": "horizontal",
            "style": "IPY_MODEL_6af79ecbd9ba47fc86413cb1e90c1e9c",
            "value": 1460
          }
        },
        "5f0ac42b629348ad8faf8549d712dbeb": {
          "model_module": "@jupyter-widgets/controls",
          "model_module_version": "1.5.0",
          "model_name": "HTMLModel",
          "state": {
            "_dom_classes": [],
            "_model_module": "@jupyter-widgets/controls",
            "_model_module_version": "1.5.0",
            "_model_name": "HTMLModel",
            "_view_count": null,
            "_view_module": "@jupyter-widgets/controls",
            "_view_module_version": "1.5.0",
            "_view_name": "HTMLView",
            "description": "",
            "description_tooltip": null,
            "layout": "IPY_MODEL_9d12948ba2cb427e82f2a244eb254ef9",
            "placeholder": "​",
            "style": "IPY_MODEL_35aca58ea1b345f1a0580ef9bda6b17e",
            "value": " 1.80M/1.80M [00:00&lt;00:00, 8.68MB/s]"
          }
        },
        "6af79ecbd9ba47fc86413cb1e90c1e9c": {
          "model_module": "@jupyter-widgets/controls",
          "model_module_version": "1.5.0",
          "model_name": "ProgressStyleModel",
          "state": {
            "_model_module": "@jupyter-widgets/controls",
            "_model_module_version": "1.5.0",
            "_model_name": "ProgressStyleModel",
            "_view_count": null,
            "_view_module": "@jupyter-widgets/base",
            "_view_module_version": "1.2.0",
            "_view_name": "StyleView",
            "bar_color": null,
            "description_width": ""
          }
        },
        "70106d6e114243358e3c926c94759780": {
          "model_module": "@jupyter-widgets/base",
          "model_module_version": "1.2.0",
          "model_name": "LayoutModel",
          "state": {
            "_model_module": "@jupyter-widgets/base",
            "_model_module_version": "1.2.0",
            "_model_name": "LayoutModel",
            "_view_count": null,
            "_view_module": "@jupyter-widgets/base",
            "_view_module_version": "1.2.0",
            "_view_name": "LayoutView",
            "align_content": null,
            "align_items": null,
            "align_self": null,
            "border": null,
            "bottom": null,
            "display": null,
            "flex": null,
            "flex_flow": null,
            "grid_area": null,
            "grid_auto_columns": null,
            "grid_auto_flow": null,
            "grid_auto_rows": null,
            "grid_column": null,
            "grid_gap": null,
            "grid_row": null,
            "grid_template_areas": null,
            "grid_template_columns": null,
            "grid_template_rows": null,
            "height": null,
            "justify_content": null,
            "justify_items": null,
            "left": null,
            "margin": null,
            "max_height": null,
            "max_width": null,
            "min_height": null,
            "min_width": null,
            "object_fit": null,
            "object_position": null,
            "order": null,
            "overflow": null,
            "overflow_x": null,
            "overflow_y": null,
            "padding": null,
            "right": null,
            "top": null,
            "visibility": null,
            "width": null
          }
        },
        "7323368e884e41e98fa19cc9938dcac2": {
          "model_module": "@jupyter-widgets/base",
          "model_module_version": "1.2.0",
          "model_name": "LayoutModel",
          "state": {
            "_model_module": "@jupyter-widgets/base",
            "_model_module_version": "1.2.0",
            "_model_name": "LayoutModel",
            "_view_count": null,
            "_view_module": "@jupyter-widgets/base",
            "_view_module_version": "1.2.0",
            "_view_name": "LayoutView",
            "align_content": null,
            "align_items": null,
            "align_self": null,
            "border": null,
            "bottom": null,
            "display": null,
            "flex": null,
            "flex_flow": null,
            "grid_area": null,
            "grid_auto_columns": null,
            "grid_auto_flow": null,
            "grid_auto_rows": null,
            "grid_column": null,
            "grid_gap": null,
            "grid_row": null,
            "grid_template_areas": null,
            "grid_template_columns": null,
            "grid_template_rows": null,
            "height": null,
            "justify_content": null,
            "justify_items": null,
            "left": null,
            "margin": null,
            "max_height": null,
            "max_width": null,
            "min_height": null,
            "min_width": null,
            "object_fit": null,
            "object_position": null,
            "order": null,
            "overflow": null,
            "overflow_x": null,
            "overflow_y": null,
            "padding": null,
            "right": null,
            "top": null,
            "visibility": null,
            "width": null
          }
        },
        "7e26dd5a677f4af0a39c866310abc059": {
          "model_module": "@jupyter-widgets/controls",
          "model_module_version": "1.5.0",
          "model_name": "DescriptionStyleModel",
          "state": {
            "_model_module": "@jupyter-widgets/controls",
            "_model_module_version": "1.5.0",
            "_model_name": "DescriptionStyleModel",
            "_view_count": null,
            "_view_module": "@jupyter-widgets/base",
            "_view_module_version": "1.2.0",
            "_view_name": "StyleView",
            "description_width": ""
          }
        },
        "861e5978e0a14e8bbbc688e9c3cde69f": {
          "model_module": "@jupyter-widgets/controls",
          "model_module_version": "1.5.0",
          "model_name": "ProgressStyleModel",
          "state": {
            "_model_module": "@jupyter-widgets/controls",
            "_model_module_version": "1.5.0",
            "_model_name": "ProgressStyleModel",
            "_view_count": null,
            "_view_module": "@jupyter-widgets/base",
            "_view_module_version": "1.2.0",
            "_view_name": "StyleView",
            "bar_color": null,
            "description_width": ""
          }
        },
        "88fe8542c0954a3abfe051f925f8be1b": {
          "model_module": "@jupyter-widgets/controls",
          "model_module_version": "1.5.0",
          "model_name": "FloatProgressModel",
          "state": {
            "_dom_classes": [],
            "_model_module": "@jupyter-widgets/controls",
            "_model_module_version": "1.5.0",
            "_model_name": "FloatProgressModel",
            "_view_count": null,
            "_view_module": "@jupyter-widgets/controls",
            "_view_module_version": "1.5.0",
            "_view_name": "ProgressView",
            "bar_style": "success",
            "description": "",
            "description_tooltip": null,
            "layout": "IPY_MODEL_a931c31f17b84ec8858184a21b60655e",
            "max": 72,
            "min": 0,
            "orientation": "horizontal",
            "style": "IPY_MODEL_861e5978e0a14e8bbbc688e9c3cde69f",
            "value": 72
          }
        },
        "8c8bb19d906148ee995871798fc2ed97": {
          "model_module": "@jupyter-widgets/controls",
          "model_module_version": "1.5.0",
          "model_name": "HTMLModel",
          "state": {
            "_dom_classes": [],
            "_model_module": "@jupyter-widgets/controls",
            "_model_module_version": "1.5.0",
            "_model_name": "HTMLModel",
            "_view_count": null,
            "_view_module": "@jupyter-widgets/controls",
            "_view_module_version": "1.5.0",
            "_view_name": "HTMLView",
            "description": "",
            "description_tooltip": null,
            "layout": "IPY_MODEL_4b5d2735ca3444fd9c1ec4e6391edc69",
            "placeholder": "​",
            "style": "IPY_MODEL_b7b18458afa64eddbc20e06803785005",
            "value": " 493k/493k [00:00&lt;00:00, 5.46MB/s]"
          }
        },
        "92c0aff43e1148eaa50dd7f42102d5df": {
          "model_module": "@jupyter-widgets/controls",
          "model_module_version": "1.5.0",
          "model_name": "DescriptionStyleModel",
          "state": {
            "_model_module": "@jupyter-widgets/controls",
            "_model_module_version": "1.5.0",
            "_model_name": "DescriptionStyleModel",
            "_view_count": null,
            "_view_module": "@jupyter-widgets/base",
            "_view_module_version": "1.2.0",
            "_view_name": "StyleView",
            "description_width": ""
          }
        },
        "9755dbd41e854caab274aaf90ccec6f1": {
          "model_module": "@jupyter-widgets/controls",
          "model_module_version": "1.5.0",
          "model_name": "HBoxModel",
          "state": {
            "_dom_classes": [],
            "_model_module": "@jupyter-widgets/controls",
            "_model_module_version": "1.5.0",
            "_model_name": "HBoxModel",
            "_view_count": null,
            "_view_module": "@jupyter-widgets/controls",
            "_view_module_version": "1.5.0",
            "_view_name": "HBoxView",
            "box_style": "",
            "children": [
              "IPY_MODEL_c7a40ea3c44248e6b69c9e29b02bc51d",
              "IPY_MODEL_f7934c9ee1f54d4285a30a36b7f4396c",
              "IPY_MODEL_8c8bb19d906148ee995871798fc2ed97"
            ],
            "layout": "IPY_MODEL_c5ccefbe81f94fcdbb2492cad7cc1a41"
          }
        },
        "9d12948ba2cb427e82f2a244eb254ef9": {
          "model_module": "@jupyter-widgets/base",
          "model_module_version": "1.2.0",
          "model_name": "LayoutModel",
          "state": {
            "_model_module": "@jupyter-widgets/base",
            "_model_module_version": "1.2.0",
            "_model_name": "LayoutModel",
            "_view_count": null,
            "_view_module": "@jupyter-widgets/base",
            "_view_module_version": "1.2.0",
            "_view_name": "LayoutView",
            "align_content": null,
            "align_items": null,
            "align_self": null,
            "border": null,
            "bottom": null,
            "display": null,
            "flex": null,
            "flex_flow": null,
            "grid_area": null,
            "grid_auto_columns": null,
            "grid_auto_flow": null,
            "grid_auto_rows": null,
            "grid_column": null,
            "grid_gap": null,
            "grid_row": null,
            "grid_template_areas": null,
            "grid_template_columns": null,
            "grid_template_rows": null,
            "height": null,
            "justify_content": null,
            "justify_items": null,
            "left": null,
            "margin": null,
            "max_height": null,
            "max_width": null,
            "min_height": null,
            "min_width": null,
            "object_fit": null,
            "object_position": null,
            "order": null,
            "overflow": null,
            "overflow_x": null,
            "overflow_y": null,
            "padding": null,
            "right": null,
            "top": null,
            "visibility": null,
            "width": null
          }
        },
        "a1b84ab6befa42ab85cd841d1f20d4f9": {
          "model_module": "@jupyter-widgets/base",
          "model_module_version": "1.2.0",
          "model_name": "LayoutModel",
          "state": {
            "_model_module": "@jupyter-widgets/base",
            "_model_module_version": "1.2.0",
            "_model_name": "LayoutModel",
            "_view_count": null,
            "_view_module": "@jupyter-widgets/base",
            "_view_module_version": "1.2.0",
            "_view_name": "LayoutView",
            "align_content": null,
            "align_items": null,
            "align_self": null,
            "border": null,
            "bottom": null,
            "display": null,
            "flex": null,
            "flex_flow": null,
            "grid_area": null,
            "grid_auto_columns": null,
            "grid_auto_flow": null,
            "grid_auto_rows": null,
            "grid_column": null,
            "grid_gap": null,
            "grid_row": null,
            "grid_template_areas": null,
            "grid_template_columns": null,
            "grid_template_rows": null,
            "height": null,
            "justify_content": null,
            "justify_items": null,
            "left": null,
            "margin": null,
            "max_height": null,
            "max_width": null,
            "min_height": null,
            "min_width": null,
            "object_fit": null,
            "object_position": null,
            "order": null,
            "overflow": null,
            "overflow_x": null,
            "overflow_y": null,
            "padding": null,
            "right": null,
            "top": null,
            "visibility": null,
            "width": null
          }
        },
        "a931c31f17b84ec8858184a21b60655e": {
          "model_module": "@jupyter-widgets/base",
          "model_module_version": "1.2.0",
          "model_name": "LayoutModel",
          "state": {
            "_model_module": "@jupyter-widgets/base",
            "_model_module_version": "1.2.0",
            "_model_name": "LayoutModel",
            "_view_count": null,
            "_view_module": "@jupyter-widgets/base",
            "_view_module_version": "1.2.0",
            "_view_name": "LayoutView",
            "align_content": null,
            "align_items": null,
            "align_self": null,
            "border": null,
            "bottom": null,
            "display": null,
            "flex": null,
            "flex_flow": null,
            "grid_area": null,
            "grid_auto_columns": null,
            "grid_auto_flow": null,
            "grid_auto_rows": null,
            "grid_column": null,
            "grid_gap": null,
            "grid_row": null,
            "grid_template_areas": null,
            "grid_template_columns": null,
            "grid_template_rows": null,
            "height": null,
            "justify_content": null,
            "justify_items": null,
            "left": null,
            "margin": null,
            "max_height": null,
            "max_width": null,
            "min_height": null,
            "min_width": null,
            "object_fit": null,
            "object_position": null,
            "order": null,
            "overflow": null,
            "overflow_x": null,
            "overflow_y": null,
            "padding": null,
            "right": null,
            "top": null,
            "visibility": null,
            "width": null
          }
        },
        "abeaf12106d146989c7c650400de9bd9": {
          "model_module": "@jupyter-widgets/controls",
          "model_module_version": "1.5.0",
          "model_name": "DescriptionStyleModel",
          "state": {
            "_model_module": "@jupyter-widgets/controls",
            "_model_module_version": "1.5.0",
            "_model_name": "DescriptionStyleModel",
            "_view_count": null,
            "_view_module": "@jupyter-widgets/base",
            "_view_module_version": "1.2.0",
            "_view_name": "StyleView",
            "description_width": ""
          }
        },
        "ae2e66940dd24bbf84730ebc46d0d079": {
          "model_module": "@jupyter-widgets/controls",
          "model_module_version": "1.5.0",
          "model_name": "DescriptionStyleModel",
          "state": {
            "_model_module": "@jupyter-widgets/controls",
            "_model_module_version": "1.5.0",
            "_model_name": "DescriptionStyleModel",
            "_view_count": null,
            "_view_module": "@jupyter-widgets/base",
            "_view_module_version": "1.2.0",
            "_view_name": "StyleView",
            "description_width": ""
          }
        },
        "b0e0d4d892f144448893bc9ae498cf40": {
          "model_module": "@jupyter-widgets/base",
          "model_module_version": "1.2.0",
          "model_name": "LayoutModel",
          "state": {
            "_model_module": "@jupyter-widgets/base",
            "_model_module_version": "1.2.0",
            "_model_name": "LayoutModel",
            "_view_count": null,
            "_view_module": "@jupyter-widgets/base",
            "_view_module_version": "1.2.0",
            "_view_name": "LayoutView",
            "align_content": null,
            "align_items": null,
            "align_self": null,
            "border": null,
            "bottom": null,
            "display": null,
            "flex": null,
            "flex_flow": null,
            "grid_area": null,
            "grid_auto_columns": null,
            "grid_auto_flow": null,
            "grid_auto_rows": null,
            "grid_column": null,
            "grid_gap": null,
            "grid_row": null,
            "grid_template_areas": null,
            "grid_template_columns": null,
            "grid_template_rows": null,
            "height": null,
            "justify_content": null,
            "justify_items": null,
            "left": null,
            "margin": null,
            "max_height": null,
            "max_width": null,
            "min_height": null,
            "min_width": null,
            "object_fit": null,
            "object_position": null,
            "order": null,
            "overflow": null,
            "overflow_x": null,
            "overflow_y": null,
            "padding": null,
            "right": null,
            "top": null,
            "visibility": null,
            "width": null
          }
        },
        "b7b18458afa64eddbc20e06803785005": {
          "model_module": "@jupyter-widgets/controls",
          "model_module_version": "1.5.0",
          "model_name": "DescriptionStyleModel",
          "state": {
            "_model_module": "@jupyter-widgets/controls",
            "_model_module_version": "1.5.0",
            "_model_name": "DescriptionStyleModel",
            "_view_count": null,
            "_view_module": "@jupyter-widgets/base",
            "_view_module_version": "1.2.0",
            "_view_name": "StyleView",
            "description_width": ""
          }
        },
        "c3b53a5e71b341039795b6d7726dcfe4": {
          "model_module": "@jupyter-widgets/controls",
          "model_module_version": "1.5.0",
          "model_name": "HTMLModel",
          "state": {
            "_dom_classes": [],
            "_model_module": "@jupyter-widgets/controls",
            "_model_module_version": "1.5.0",
            "_model_name": "HTMLModel",
            "_view_count": null,
            "_view_module": "@jupyter-widgets/controls",
            "_view_module_version": "1.5.0",
            "_view_name": "HTMLView",
            "description": "",
            "description_tooltip": null,
            "layout": "IPY_MODEL_b0e0d4d892f144448893bc9ae498cf40",
            "placeholder": "​",
            "style": "IPY_MODEL_7e26dd5a677f4af0a39c866310abc059",
            "value": "special_tokens_map.json: 100%"
          }
        },
        "c5ccefbe81f94fcdbb2492cad7cc1a41": {
          "model_module": "@jupyter-widgets/base",
          "model_module_version": "1.2.0",
          "model_name": "LayoutModel",
          "state": {
            "_model_module": "@jupyter-widgets/base",
            "_model_module_version": "1.2.0",
            "_model_name": "LayoutModel",
            "_view_count": null,
            "_view_module": "@jupyter-widgets/base",
            "_view_module_version": "1.2.0",
            "_view_name": "LayoutView",
            "align_content": null,
            "align_items": null,
            "align_self": null,
            "border": null,
            "bottom": null,
            "display": null,
            "flex": null,
            "flex_flow": null,
            "grid_area": null,
            "grid_auto_columns": null,
            "grid_auto_flow": null,
            "grid_auto_rows": null,
            "grid_column": null,
            "grid_gap": null,
            "grid_row": null,
            "grid_template_areas": null,
            "grid_template_columns": null,
            "grid_template_rows": null,
            "height": null,
            "justify_content": null,
            "justify_items": null,
            "left": null,
            "margin": null,
            "max_height": null,
            "max_width": null,
            "min_height": null,
            "min_width": null,
            "object_fit": null,
            "object_position": null,
            "order": null,
            "overflow": null,
            "overflow_x": null,
            "overflow_y": null,
            "padding": null,
            "right": null,
            "top": null,
            "visibility": null,
            "width": null
          }
        },
        "c7a40ea3c44248e6b69c9e29b02bc51d": {
          "model_module": "@jupyter-widgets/controls",
          "model_module_version": "1.5.0",
          "model_name": "HTMLModel",
          "state": {
            "_dom_classes": [],
            "_model_module": "@jupyter-widgets/controls",
            "_model_module_version": "1.5.0",
            "_model_name": "HTMLModel",
            "_view_count": null,
            "_view_module": "@jupyter-widgets/controls",
            "_view_module_version": "1.5.0",
            "_view_name": "HTMLView",
            "description": "",
            "description_tooltip": null,
            "layout": "IPY_MODEL_42028769cf754764b30b2b9356ebadb3",
            "placeholder": "​",
            "style": "IPY_MODEL_ae2e66940dd24bbf84730ebc46d0d079",
            "value": "tokenizer.model: 100%"
          }
        },
        "c85db687195d4788a61da2a13c672eaf": {
          "model_module": "@jupyter-widgets/controls",
          "model_module_version": "1.5.0",
          "model_name": "ProgressStyleModel",
          "state": {
            "_model_module": "@jupyter-widgets/controls",
            "_model_module_version": "1.5.0",
            "_model_name": "ProgressStyleModel",
            "_view_count": null,
            "_view_module": "@jupyter-widgets/base",
            "_view_module_version": "1.2.0",
            "_view_name": "StyleView",
            "bar_color": null,
            "description_width": ""
          }
        },
        "d7aab8a173cf498ca7a6a434789c6420": {
          "model_module": "@jupyter-widgets/base",
          "model_module_version": "1.2.0",
          "model_name": "LayoutModel",
          "state": {
            "_model_module": "@jupyter-widgets/base",
            "_model_module_version": "1.2.0",
            "_model_name": "LayoutModel",
            "_view_count": null,
            "_view_module": "@jupyter-widgets/base",
            "_view_module_version": "1.2.0",
            "_view_name": "LayoutView",
            "align_content": null,
            "align_items": null,
            "align_self": null,
            "border": null,
            "bottom": null,
            "display": null,
            "flex": null,
            "flex_flow": null,
            "grid_area": null,
            "grid_auto_columns": null,
            "grid_auto_flow": null,
            "grid_auto_rows": null,
            "grid_column": null,
            "grid_gap": null,
            "grid_row": null,
            "grid_template_areas": null,
            "grid_template_columns": null,
            "grid_template_rows": null,
            "height": null,
            "justify_content": null,
            "justify_items": null,
            "left": null,
            "margin": null,
            "max_height": null,
            "max_width": null,
            "min_height": null,
            "min_width": null,
            "object_fit": null,
            "object_position": null,
            "order": null,
            "overflow": null,
            "overflow_x": null,
            "overflow_y": null,
            "padding": null,
            "right": null,
            "top": null,
            "visibility": null,
            "width": null
          }
        },
        "dc8c045e0b294088bc970a4fa1942028": {
          "model_module": "@jupyter-widgets/controls",
          "model_module_version": "1.5.0",
          "model_name": "HTMLModel",
          "state": {
            "_dom_classes": [],
            "_model_module": "@jupyter-widgets/controls",
            "_model_module_version": "1.5.0",
            "_model_name": "HTMLModel",
            "_view_count": null,
            "_view_module": "@jupyter-widgets/controls",
            "_view_module_version": "1.5.0",
            "_view_name": "HTMLView",
            "description": "",
            "description_tooltip": null,
            "layout": "IPY_MODEL_7323368e884e41e98fa19cc9938dcac2",
            "placeholder": "​",
            "style": "IPY_MODEL_92c0aff43e1148eaa50dd7f42102d5df",
            "value": "tokenizer_config.json: 100%"
          }
        },
        "e66c79c846c94ffbaa62ad2750d66ca0": {
          "model_module": "@jupyter-widgets/base",
          "model_module_version": "1.2.0",
          "model_name": "LayoutModel",
          "state": {
            "_model_module": "@jupyter-widgets/base",
            "_model_module_version": "1.2.0",
            "_model_name": "LayoutModel",
            "_view_count": null,
            "_view_module": "@jupyter-widgets/base",
            "_view_module_version": "1.2.0",
            "_view_name": "LayoutView",
            "align_content": null,
            "align_items": null,
            "align_self": null,
            "border": null,
            "bottom": null,
            "display": null,
            "flex": null,
            "flex_flow": null,
            "grid_area": null,
            "grid_auto_columns": null,
            "grid_auto_flow": null,
            "grid_auto_rows": null,
            "grid_column": null,
            "grid_gap": null,
            "grid_row": null,
            "grid_template_areas": null,
            "grid_template_columns": null,
            "grid_template_rows": null,
            "height": null,
            "justify_content": null,
            "justify_items": null,
            "left": null,
            "margin": null,
            "max_height": null,
            "max_width": null,
            "min_height": null,
            "min_width": null,
            "object_fit": null,
            "object_position": null,
            "order": null,
            "overflow": null,
            "overflow_x": null,
            "overflow_y": null,
            "padding": null,
            "right": null,
            "top": null,
            "visibility": null,
            "width": null
          }
        },
        "e9e0fe302b2243f1a800656134ba006e": {
          "model_module": "@jupyter-widgets/controls",
          "model_module_version": "1.5.0",
          "model_name": "HBoxModel",
          "state": {
            "_dom_classes": [],
            "_model_module": "@jupyter-widgets/controls",
            "_model_module_version": "1.5.0",
            "_model_name": "HBoxModel",
            "_view_count": null,
            "_view_module": "@jupyter-widgets/controls",
            "_view_module_version": "1.5.0",
            "_view_name": "HBoxView",
            "box_style": "",
            "children": [
              "IPY_MODEL_fba4590749454126b4d55379a008dc53",
              "IPY_MODEL_565b3b040d274b7184044376bc55fa8b",
              "IPY_MODEL_5f0ac42b629348ad8faf8549d712dbeb"
            ],
            "layout": "IPY_MODEL_e66c79c846c94ffbaa62ad2750d66ca0"
          }
        },
        "eb43e6ec221545618fcaaa91a58bc39c": {
          "model_module": "@jupyter-widgets/controls",
          "model_module_version": "1.5.0",
          "model_name": "HBoxModel",
          "state": {
            "_dom_classes": [],
            "_model_module": "@jupyter-widgets/controls",
            "_model_module_version": "1.5.0",
            "_model_name": "HBoxModel",
            "_view_count": null,
            "_view_module": "@jupyter-widgets/controls",
            "_view_module_version": "1.5.0",
            "_view_name": "HBoxView",
            "box_style": "",
            "children": [
              "IPY_MODEL_dc8c045e0b294088bc970a4fa1942028",
              "IPY_MODEL_585372cd2a5c4ba49b0f2dfae6600b2b",
              "IPY_MODEL_56919b40d69f4608ab79274d24e25cdc"
            ],
            "layout": "IPY_MODEL_a1b84ab6befa42ab85cd841d1f20d4f9"
          }
        },
        "f03d8477603f4b06bf1f6bc9441fc86b": {
          "model_module": "@jupyter-widgets/controls",
          "model_module_version": "1.5.0",
          "model_name": "HTMLModel",
          "state": {
            "_dom_classes": [],
            "_model_module": "@jupyter-widgets/controls",
            "_model_module_version": "1.5.0",
            "_model_name": "HTMLModel",
            "_view_count": null,
            "_view_module": "@jupyter-widgets/controls",
            "_view_module_version": "1.5.0",
            "_view_name": "HTMLView",
            "description": "",
            "description_tooltip": null,
            "layout": "IPY_MODEL_3a50d8c56bda42948327438f99dd5725",
            "placeholder": "​",
            "style": "IPY_MODEL_abeaf12106d146989c7c650400de9bd9",
            "value": " 72.0/72.0 [00:00&lt;00:00, 3.09kB/s]"
          }
        },
        "f7934c9ee1f54d4285a30a36b7f4396c": {
          "model_module": "@jupyter-widgets/controls",
          "model_module_version": "1.5.0",
          "model_name": "FloatProgressModel",
          "state": {
            "_dom_classes": [],
            "_model_module": "@jupyter-widgets/controls",
            "_model_module_version": "1.5.0",
            "_model_name": "FloatProgressModel",
            "_view_count": null,
            "_view_module": "@jupyter-widgets/controls",
            "_view_module_version": "1.5.0",
            "_view_name": "ProgressView",
            "bar_style": "success",
            "description": "",
            "description_tooltip": null,
            "layout": "IPY_MODEL_d7aab8a173cf498ca7a6a434789c6420",
            "max": 493443,
            "min": 0,
            "orientation": "horizontal",
            "style": "IPY_MODEL_3e6ecfc62b454bac83fd3fc4c31a2738",
            "value": 493443
          }
        },
        "fb12578f583a4c5595f78d5b77f18899": {
          "model_module": "@jupyter-widgets/base",
          "model_module_version": "1.2.0",
          "model_name": "LayoutModel",
          "state": {
            "_model_module": "@jupyter-widgets/base",
            "_model_module_version": "1.2.0",
            "_model_name": "LayoutModel",
            "_view_count": null,
            "_view_module": "@jupyter-widgets/base",
            "_view_module_version": "1.2.0",
            "_view_name": "LayoutView",
            "align_content": null,
            "align_items": null,
            "align_self": null,
            "border": null,
            "bottom": null,
            "display": null,
            "flex": null,
            "flex_flow": null,
            "grid_area": null,
            "grid_auto_columns": null,
            "grid_auto_flow": null,
            "grid_auto_rows": null,
            "grid_column": null,
            "grid_gap": null,
            "grid_row": null,
            "grid_template_areas": null,
            "grid_template_columns": null,
            "grid_template_rows": null,
            "height": null,
            "justify_content": null,
            "justify_items": null,
            "left": null,
            "margin": null,
            "max_height": null,
            "max_width": null,
            "min_height": null,
            "min_width": null,
            "object_fit": null,
            "object_position": null,
            "order": null,
            "overflow": null,
            "overflow_x": null,
            "overflow_y": null,
            "padding": null,
            "right": null,
            "top": null,
            "visibility": null,
            "width": null
          }
        },
        "fba4590749454126b4d55379a008dc53": {
          "model_module": "@jupyter-widgets/controls",
          "model_module_version": "1.5.0",
          "model_name": "HTMLModel",
          "state": {
            "_dom_classes": [],
            "_model_module": "@jupyter-widgets/controls",
            "_model_module_version": "1.5.0",
            "_model_name": "HTMLModel",
            "_view_count": null,
            "_view_module": "@jupyter-widgets/controls",
            "_view_module_version": "1.5.0",
            "_view_name": "HTMLView",
            "description": "",
            "description_tooltip": null,
            "layout": "IPY_MODEL_4a90ea40124e467d848f2f8f67d50670",
            "placeholder": "​",
            "style": "IPY_MODEL_3911b0421cd3403991f27fd8aa3e6a9f",
            "value": "tokenizer.json: 100%"
          }
        },
        "fd24490c6aeb4b6c9ae1258ca5ce3482": {
          "model_module": "@jupyter-widgets/base",
          "model_module_version": "1.2.0",
          "model_name": "LayoutModel",
          "state": {
            "_model_module": "@jupyter-widgets/base",
            "_model_module_version": "1.2.0",
            "_model_name": "LayoutModel",
            "_view_count": null,
            "_view_module": "@jupyter-widgets/base",
            "_view_module_version": "1.2.0",
            "_view_name": "LayoutView",
            "align_content": null,
            "align_items": null,
            "align_self": null,
            "border": null,
            "bottom": null,
            "display": null,
            "flex": null,
            "flex_flow": null,
            "grid_area": null,
            "grid_auto_columns": null,
            "grid_auto_flow": null,
            "grid_auto_rows": null,
            "grid_column": null,
            "grid_gap": null,
            "grid_row": null,
            "grid_template_areas": null,
            "grid_template_columns": null,
            "grid_template_rows": null,
            "height": null,
            "justify_content": null,
            "justify_items": null,
            "left": null,
            "margin": null,
            "max_height": null,
            "max_width": null,
            "min_height": null,
            "min_width": null,
            "object_fit": null,
            "object_position": null,
            "order": null,
            "overflow": null,
            "overflow_x": null,
            "overflow_y": null,
            "padding": null,
            "right": null,
            "top": null,
            "visibility": null,
            "width": null
          }
        }
      }
    }
  },
  "nbformat": 4,
  "nbformat_minor": 0
}
