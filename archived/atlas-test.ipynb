{
 "cells": [
  {
   "cell_type": "markdown",
   "metadata": {},
   "source": [
    "# Lab - Query Atlas\n",
    "\n",
    "In this lab we will do the following:\n",
    "\n",
    "- 👉 Connect to Atlas instance\n",
    "- 👉 Run a few sample \n",
    "\n",
    "This lab depends on:\n",
    "\n",
    "- [setup-python-env.md](setup-python-env.md)\n",
    "- [setup-atlas.md](setup-atlas.md)\n",
    "\n",
    "References:\n",
    "\n",
    "- https://www.mongodb.com/developer/products/atlas/semantic-search-mongodb-atlas-vector-search/\n",
    "- https://www.mongodb.com/languages/python/pymongo-tutorial"
   ]
  },
  {
   "cell_type": "markdown",
   "metadata": {},
   "source": [
    "## Step-1: Setup `.env` file\n",
    "\n",
    "Create an `.env` file with the following content:\n",
    "\n",
    "Replace `ATLAS_URI` with your own\n",
    "\n",
    "```text\n",
    "ATLAS_URI=mongodb+srv://<username>:<password>@sandbox.lqlql.mongodb.net/?retryWrites=true&w=majority\n",
    "```"
   ]
  },
  {
   "cell_type": "markdown",
   "metadata": {},
   "source": [
    "## Step-2: Inspect `AtlasClient.py`\n",
    "\n",
    "We have a class implementing Atlas query functionality.\n",
    "\n",
    "Please inspect : [AtlasClient.py](../AtlasClient.py) "
   ]
  },
  {
   "cell_type": "markdown",
   "metadata": {},
   "source": [
    "## Step-3: Load Settings from `.env` file"
   ]
  },
  {
   "cell_type": "code",
   "execution_count": 1,
   "metadata": {},
   "outputs": [],
   "source": [
    "import os, sys\n",
    "\n",
    "this_dir = os.path.abspath('')\n",
    "parent_dir = os.path.dirname(this_dir)\n",
    "sys.path.append (os.path.abspath (parent_dir))"
   ]
  },
  {
   "cell_type": "code",
   "execution_count": 2,
   "metadata": {},
   "outputs": [],
   "source": [
    "## Load Settings from .env file\n",
    "from dotenv import find_dotenv, dotenv_values\n",
    "\n",
    "# _ = load_dotenv(find_dotenv()) # read local .env file\n",
    "config = dotenv_values(find_dotenv())\n",
    "\n",
    "# debug\n",
    "# print (config)\n",
    "\n",
    "ATLAS_URI = config.get('ATLAS_URI')\n",
    "\n",
    "if not ATLAS_URI:\n",
    "    raise Exception (\"'ATLAS_URI' is not set.  Please set it above to continue...\")"
   ]
  },
  {
   "cell_type": "code",
   "execution_count": 3,
   "metadata": {},
   "outputs": [],
   "source": [
    "# Our variables\n",
    "\n",
    "DB_NAME = 'sample_mflix'\n",
    "COLLECTION_NAME = 'embedded_movies'"
   ]
  },
  {
   "cell_type": "markdown",
   "metadata": {},
   "source": [
    "## Step-4: Find Our Public IP\n",
    "\n",
    "This IP address should be added to Atlas's 'access list' for the connection to work"
   ]
  },
  {
   "cell_type": "code",
   "execution_count": 4,
   "metadata": {},
   "outputs": [
    {
     "name": "stdout",
     "output_type": "stream",
     "text": [
      "My public IP is 'b'67.160.193.201'.   Make sure this IP is allowed to connect to cloud Atlas\n"
     ]
    }
   ],
   "source": [
    "# import requests\n",
    "# ip = requests.get('https://api.ipify.org').text()\n",
    "\n",
    "from urllib.request import urlopen\n",
    "ip = urlopen('https://api.ipify.org').read()\n",
    "print (f\"My public IP is '{ip}.   Make sure this IP is allowed to connect to cloud Atlas\")"
   ]
  },
  {
   "cell_type": "markdown",
   "metadata": {},
   "source": [
    "## Step-5: Initialize Mongo Atlas Client"
   ]
  },
  {
   "cell_type": "code",
   "execution_count": 5,
   "metadata": {},
   "outputs": [
    {
     "name": "stdout",
     "output_type": "stream",
     "text": [
      "Connected to the Mongo Atlas database!\n"
     ]
    }
   ],
   "source": [
    "from AtlasClient import AtlasClient\n",
    "\n",
    "atlas_client = AtlasClient (ATLAS_URI, DB_NAME)\n",
    "print(\"Connected to the Mongo Atlas database!\")"
   ]
  },
  {
   "cell_type": "markdown",
   "metadata": {},
   "source": [
    "## Step-6: Do Some Sample Queries"
   ]
  },
  {
   "cell_type": "code",
   "execution_count": 6,
   "metadata": {},
   "outputs": [
    {
     "name": "stdout",
     "output_type": "stream",
     "text": [
      "======== Finding some sample movies ========================\n",
      "Found 5 movies\n",
      "1\n",
      "id: 573a1391f29313caabcd68d0\n",
      "title: From Hand to Mouth,\n",
      "year: 1919\n",
      "plot: A penniless young man tries to save an heiress from kidnappers and help her secure her inheritance.\n",
      "\n",
      "2\n",
      "id: 573a1391f29313caabcd8268\n",
      "title: The Black Pirate,\n",
      "year: 1926\n",
      "plot: Seeking revenge, an athletic young man joins the pirate band responsible for his father's death.\n",
      "\n",
      "3\n",
      "id: 573a1391f29313caabcd93a3\n",
      "title: Men Without Women,\n",
      "year: 1930\n",
      "plot: Navy divers clear the torpedo tube of a sunken submarine.\n",
      "\n",
      "4\n",
      "id: 573a1391f29313caabcd820b\n",
      "title: Beau Geste,\n",
      "year: 1926\n",
      "plot: Michael \"Beau\" Geste leaves England in disgrace and joins the infamous French Foreign Legion. He is reunited with his two brothers in North Africa, where they face greater danger from their...\n",
      "\n",
      "5\n",
      "id: 573a1390f29313caabcd5293\n",
      "title: The Perils of Pauline,\n",
      "year: 1914\n",
      "plot: Young Pauline is left a lot of money when her wealthy uncle dies. However, her uncle's secretary has been named as her guardian until she marries, at which time she will officially take ...\n",
      "\n",
      "================================\n"
     ]
    }
   ],
   "source": [
    "## first find some movies\n",
    "print ('======== Finding some sample movies ========================')\n",
    "movies = atlas_client.find (collection_name=COLLECTION_NAME, limit=5)\n",
    "print (f\"Found {len (movies)} movies\")\n",
    "for idx, movie in enumerate (movies):\n",
    "    print(f'{idx+1}\\nid: {movie[\"_id\"]}\\ntitle: {movie[\"title\"]},\\nyear: {movie[\"year\"]}\\nplot: {movie[\"plot\"]}\\n')\n",
    "print ('================================')"
   ]
  },
  {
   "cell_type": "code",
   "execution_count": 7,
   "metadata": {},
   "outputs": [
    {
     "name": "stdout",
     "output_type": "stream",
     "text": [
      "=======  Finding movies from year 1999 =========================\n",
      "Found 5 movies from year 1999\n",
      "1\n",
      "id: 573a139af29313caabcf0cfd\n",
      "title: Three Kings,\n",
      "year: 1999\n",
      "plot: In the aftermath of the Persian Gulf War, 4 soldiers set out to steal gold that was stolen from Kuwait, but they discover people who desperately need their help.\n",
      "\n",
      "2\n",
      "id: 573a139af29313caabcf0e6c\n",
      "title: The Mummy,\n",
      "year: 1999\n",
      "plot: An American serving in the French Foreign Legion on an archaeological dig at the ancient city of Hamunaptra accidentally awakens a Mummy.\n",
      "\n",
      "3\n",
      "id: 573a139af29313caabcf0e61\n",
      "title: Beowulf,\n",
      "year: 1999\n",
      "plot: A sci-fi update of the famous 6th Century poem. In a beseiged land, Beowulf must battle against the hideous creature Grendel and his vengeance seeking mother.\n",
      "\n",
      "4\n",
      "id: 573a139af29313caabcf0e95\n",
      "title: The 13th Warrior,\n",
      "year: 1999\n",
      "plot: A man, having fallen in love with the wrong woman, is sent by the sultan himself on a diplomatic mission to a distant land as an ambassador. Stopping at a Viking village port to restock on supplies, he finds himself unwittingly embroiled on a quest to banish a mysterious threat in a distant Viking land.\n",
      "\n",
      "5\n",
      "id: 573a139af29313caabcf0edf\n",
      "title: The Mod Squad,\n",
      "year: 1999\n",
      "plot: Three minor delinquints (Danes, Ribisi, and Epps) are recruited by a cop (Farina) working undercover to bust a cop/drug ring. When the officer who recruited them is killed, they go above ...\n",
      "\n"
     ]
    }
   ],
   "source": [
    "print ('=======  Finding movies from year 1999 =========================')\n",
    "movies_1999 = atlas_client.find(collection_name=COLLECTION_NAME, filter={\"year\": 1999}, limit=5)\n",
    "print (f\"Found {len (movies_1999)} movies from year 1999\")\n",
    "for idx, movie in enumerate (movies_1999):\n",
    "    print(f'{idx+1}\\nid: {movie[\"_id\"]}\\ntitle: {movie[\"title\"]},\\nyear: {movie[\"year\"]}\\nplot: {movie[\"plot\"]}\\n')"
   ]
  },
  {
   "cell_type": "markdown",
   "metadata": {},
   "source": [
    "## Congrats!  Lab Complete ! 👏"
   ]
  },
  {
   "cell_type": "markdown",
   "metadata": {},
   "source": []
  }
 ],
 "metadata": {
  "kernelspec": {
   "display_name": "atlas-2",
   "language": "python",
   "name": "python3"
  },
  "language_info": {
   "codemirror_mode": {
    "name": "ipython",
    "version": 3
   },
   "file_extension": ".py",
   "mimetype": "text/x-python",
   "name": "python",
   "nbconvert_exporter": "python",
   "pygments_lexer": "ipython3",
   "version": "3.11.7"
  }
 },
 "nbformat": 4,
 "nbformat_minor": 2
}
